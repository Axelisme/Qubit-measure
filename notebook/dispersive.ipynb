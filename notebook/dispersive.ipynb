{
 "cells": [
  {
   "cell_type": "code",
   "execution_count": null,
   "metadata": {},
   "outputs": [],
   "source": [
    "import scqubits as scq\n",
    "import numpy as np\n",
    "import plotly.graph_objects as go\n",
    "import pandas as pd"
   ]
  },
  {
   "cell_type": "code",
   "execution_count": null,
   "metadata": {},
   "outputs": [],
   "source": [
    "qub_name = \"S001\"\n",
    "\n",
    "loadpath = f\"../result/{qub_name}/params.csv\"\n",
    "df = pd.read_csv(loadpath)\n",
    "cflx, period = df.loc[0, [\"Half flux\", \"Period\"]]\n",
    "EJ, EC, EL = df.loc[0, [\"EJ\", \"EC\", \"EL\"]]\n",
    "df.head()"
   ]
  },
  {
   "cell_type": "code",
   "execution_count": null,
   "metadata": {},
   "outputs": [],
   "source": [
    "r_f = 7.48675\n",
    "g = 0.034\n"
   ]
  },
  {
   "cell_type": "code",
   "execution_count": null,
   "metadata": {},
   "outputs": [],
   "source": [
    "flxs = np.linspace(0, 0.51, 1001)\n",
    "\n",
    "fluxonium = scq.Fluxonium(EJ, EC, EL, flux=0.5, cutoff=30, truncated_dim=5)\n",
    "resonator = scq.Oscillator(r_f, truncated_dim=5)\n",
    "hilbertspace = scq.HilbertSpace([fluxonium, resonator])\n",
    "hilbertspace.add_interaction(\n",
    "    g=g, op1=fluxonium.n_operator, op2=resonator.creation_operator, add_hc=True\n",
    ")\n",
    "\n",
    "\n",
    "def update_hilbertspace(flux):\n",
    "    fluxonium.flux = flux\n",
    "\n",
    "\n",
    "param_name = r\"$Φ_{ext}/Φ_0$\"\n",
    "sweep = scq.ParameterSweep(\n",
    "    hilbertspace,\n",
    "    {param_name: flxs},\n",
    "    update_hilbertspace=update_hilbertspace,\n",
    "    evals_count=20,\n",
    "    subsys_update_info={param_name: [fluxonium]},\n",
    ")\n",
    "dispersives = sweep[\"chi\"][\"subsys1\":0, \"subsys2\":1][:, 1].toarray() * 1e3"
   ]
  },
  {
   "cell_type": "code",
   "execution_count": null,
   "metadata": {},
   "outputs": [],
   "source": [
    "fig = go.Figure()\n",
    "fig.add_trace(\n",
    "    go.Scatter(\n",
    "        x=flxs,\n",
    "        y=dispersives,\n",
    "        mode=\"lines\",\n",
    "        line=dict(color=\"blue\"),\n",
    "        name=r\"$\\chi_{01}$\",\n",
    "    )\n",
    ")\n",
    "fig.add_hline(y=0, line_dash=\"dash\", line_color=\"black\")\n",
    "\n",
    "fig.update_layout(\n",
    "    xaxis_title=param_name,\n",
    "    yaxis_title=r\"$\\chi_{01} (MHz)$\",\n",
    "    title=r\"$\\chi_{01} vs. \\Phi_{ext}/\\Phi_0$\",\n",
    "    title_x=0.5,\n",
    ")\n",
    "fig.write_html(f\"../result/{qub_name}/web/dispersive_01.html\", include_plotlyjs=\"cdn\")\n",
    "fig.show()"
   ]
  },
  {
   "cell_type": "code",
   "execution_count": null,
   "metadata": {},
   "outputs": [],
   "source": []
  }
 ],
 "metadata": {
  "kernelspec": {
   "display_name": "Python 3",
   "language": "python",
   "name": "python3"
  },
  "language_info": {
   "codemirror_mode": {
    "name": "ipython",
    "version": 3
   },
   "file_extension": ".py",
   "mimetype": "text/x-python",
   "name": "python",
   "nbconvert_exporter": "python",
   "pygments_lexer": "ipython3",
   "version": "3.13.2"
  },
  "orig_nbformat": 4
 },
 "nbformat": 4,
 "nbformat_minor": 2
}
