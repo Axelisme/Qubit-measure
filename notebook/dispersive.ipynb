{
 "cells": [
  {
   "cell_type": "code",
   "execution_count": null,
   "metadata": {},
   "outputs": [],
   "source": [
    "import scqubits as scq\n",
    "import numpy as np\n",
    "import plotly.graph_objects as go\n",
    "import pandas as pd"
   ]
  },
  {
   "cell_type": "code",
   "execution_count": null,
   "metadata": {},
   "outputs": [],
   "source": [
    "qub_name = \"S001\"\n",
    "\n",
    "loadpath = f\"../result/{qub_name}/params.csv\"\n",
    "df = pd.read_csv(loadpath)\n",
    "params = df.loc[0, [\"EJ\", \"EC\", \"EL\"]]\n",
    "cflx, period = df.loc[0, [\"Half flux\", \"Period\"]]\n",
    "\n",
    "\n",
    "def phi2mA(ratio):\n",
    "    return (period * (ratio - 0.5) + cflx) * 1e3\n",
    "\n",
    "\n",
    "df.head()"
   ]
  },
  {
   "cell_type": "code",
   "execution_count": null,
   "metadata": {},
   "outputs": [],
   "source": [
    "r_f = 7.48675\n",
    "g = 0.034"
   ]
  },
  {
   "cell_type": "code",
   "execution_count": null,
   "metadata": {},
   "outputs": [],
   "source": [
    "flxs = np.linspace(0, 0.51, 1001)\n",
    "mAs = phi2mA(flxs)\n",
    "\n",
    "fluxonium = scq.Fluxonium(\n",
    "    *params, flux=0.5, cutoff=40, truncated_dim=15, id_str=\"qubit\"\n",
    ")\n",
    "resonator = scq.Oscillator(r_f, truncated_dim=10, id_str=\"resonator\")\n",
    "hilbertspace = scq.HilbertSpace([fluxonium, resonator])\n",
    "hilbertspace.add_interaction(\n",
    "    g=g,\n",
    "    op1=fluxonium.n_operator,\n",
    "    op2=resonator.creation_operator,\n",
    "    add_hc=True,\n",
    "    id_str=\"q-r coupling\",\n",
    ")\n",
    "\n",
    "\n",
    "def update_hilbertspace(flux):\n",
    "    fluxonium.flux = flux\n",
    "\n",
    "\n",
    "sweep = scq.ParameterSweep(\n",
    "    hilbertspace,\n",
    "    {\"flxs\": flxs},\n",
    "    update_hilbertspace=update_hilbertspace,\n",
    "    evals_count=20,\n",
    "    subsys_update_info={\"flxs\": [fluxonium]},\n",
    ")"
   ]
  },
  {
   "cell_type": "code",
   "execution_count": null,
   "metadata": {},
   "outputs": [],
   "source": [
    "predict_chi = sweep[\"chi\"][\"subsys1\":0, \"subsys2\":1].toarray()\n",
    "dispersives_01 = predict_chi[:, 1] * 1e3\n",
    "dispersives_02 = predict_chi[:, 2] * 1e3"
   ]
  },
  {
   "cell_type": "code",
   "execution_count": null,
   "metadata": {},
   "outputs": [],
   "source": [
    "fig = go.Figure()\n",
    "fig.add_scatter(\n",
    "    x=flxs,\n",
    "    y=dispersives_01,\n",
    "    mode=\"lines\",\n",
    "    line=dict(color=\"blue\"),\n",
    "    name=r\"$\\chi_{01}$\",\n",
    ")\n",
    "fig.add_scatter(\n",
    "    x=flxs,\n",
    "    y=dispersives_02,\n",
    "    mode=\"lines\",\n",
    "    line=dict(color=\"red\"),\n",
    "    name=r\"$\\chi_{02}$\",\n",
    ")\n",
    "\n",
    "# plot a dash hline to indicate the 0 point, also add a xaxis2 to show mA\n",
    "fig.add_scatter(\n",
    "    x=mAs, y=np.zeros_like(mAs), xaxis=\"x2\", line=dict(color=\"black\", dash=\"dash\")\n",
    ")\n",
    "mAs_ticks = mAs[:: len(mAs) // 10]\n",
    "fig.update_layout(\n",
    "    xaxis2=dict(\n",
    "        tickvals=mAs_ticks,\n",
    "        ticktext=[f\"{mA:.2f}\" for mA in mAs_ticks],\n",
    "        overlaying=\"x\",\n",
    "        side=\"top\",\n",
    "        title_text=\"mA\",\n",
    "    )\n",
    ")\n",
    "\n",
    "fig.update_layout(\n",
    "    xaxis_title=r\"$Φ_{ext}/Φ_0$\",\n",
    "    yaxis_title=r\"$\\chi (MHz)$\",\n",
    "    legend_title=\"Dispersive\",\n",
    "    margin=dict(l=0, r=0, t=0, b=0),\n",
    ")\n",
    "fig.update_yaxes(range=[-2, 2])\n",
    "\n",
    "fig.show()"
   ]
  },
  {
   "cell_type": "code",
   "execution_count": null,
   "metadata": {},
   "outputs": [],
   "source": [
    "fig.write_html(f\"../result/{qub_name}/web/dispersive.html\", include_plotlyjs=\"cdn\")\n",
    "fig.write_image(\n",
    "    f\"../result/{qub_name}/image/dispersive.png\", format=\"png\", width=800, height=400\n",
    ")"
   ]
  },
  {
   "cell_type": "code",
   "execution_count": null,
   "metadata": {},
   "outputs": [],
   "source": []
  }
 ],
 "metadata": {
  "kernelspec": {
   "display_name": "Python 3",
   "language": "python",
   "name": "python3"
  },
  "language_info": {
   "codemirror_mode": {
    "name": "ipython",
    "version": 3
   },
   "file_extension": ".py",
   "mimetype": "text/x-python",
   "name": "python",
   "nbconvert_exporter": "python",
   "pygments_lexer": "ipython3",
   "version": "3.13.2"
  },
  "orig_nbformat": 4
 },
 "nbformat": 4,
 "nbformat_minor": 2
}
