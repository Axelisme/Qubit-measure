{
 "cells": [
  {
   "cell_type": "code",
   "execution_count": null,
   "metadata": {},
   "outputs": [],
   "source": [
    "import scqubits as scq\n",
    "import numpy as np\n",
    "import plotly.graph_objects as go\n",
    "import matplotlib.pyplot as plt\n",
    "\n",
    "from zcu_tools.analysis.fluxdep import load_result\n",
    "from zcu_tools.datasaver import load_data"
   ]
  },
  {
   "cell_type": "code",
   "execution_count": null,
   "metadata": {},
   "outputs": [],
   "source": [
    "qub_name = \"S001\""
   ]
  },
  {
   "cell_type": "code",
   "execution_count": null,
   "metadata": {},
   "outputs": [],
   "source": [
    "loadpath = f\"../result/{qub_name}/params.json\"\n",
    "_, params, cflx, period, allows = load_result(loadpath)\n",
    "\n",
    "if \"r_f\" in allows:\n",
    "    r_f = allows[\"r_f\"]\n",
    "    print(f\"r_f = {r_f}\")\n",
    "\n",
    "\n",
    "def phi2mA(ratio):\n",
    "    return (period * (ratio - 0.5) + cflx) * 1e3\n",
    "\n",
    "\n",
    "def mA2phi(mA):\n",
    "    return (mA / 1e3 - cflx) / period + 0.5"
   ]
  },
  {
   "cell_type": "code",
   "execution_count": null,
   "metadata": {},
   "outputs": [],
   "source": [
    "def calculate_dispersive(flxs, r_f, g):\n",
    "    fluxonium = scq.Fluxonium(\n",
    "        *params, flux=0.5, cutoff=50, truncated_dim=15, id_str=\"qubit\"\n",
    "    )\n",
    "    resonator = scq.Oscillator(r_f, truncated_dim=10, id_str=\"resonator\")\n",
    "    hilbertspace = scq.HilbertSpace([fluxonium, resonator])\n",
    "    hilbertspace.add_interaction(\n",
    "        g=g,\n",
    "        op1=fluxonium.n_operator,\n",
    "        op2=resonator.creation_operator,\n",
    "        add_hc=True,\n",
    "        id_str=\"q-r coupling\",\n",
    "    )\n",
    "\n",
    "    def update_hilbertspace(flux):\n",
    "        fluxonium.flux = flux\n",
    "\n",
    "    sweep = scq.ParameterSweep(\n",
    "        hilbertspace,\n",
    "        {\"flxs\": flxs},\n",
    "        update_hilbertspace=update_hilbertspace,\n",
    "        evals_count=20,\n",
    "        subsys_update_info={\"flxs\": [fluxonium]},\n",
    "    )\n",
    "\n",
    "    return sweep[\"chi\"][\"subsys1\":0, \"subsys2\":1].toarray()"
   ]
  },
  {
   "cell_type": "markdown",
   "metadata": {},
   "source": [
    "# Plot Prediction"
   ]
  },
  {
   "cell_type": "code",
   "execution_count": null,
   "metadata": {},
   "outputs": [],
   "source": [
    "# r_f = 5.000\n",
    "\n",
    "flxs = np.linspace(0, 0.51, 501)\n",
    "mAs = phi2mA(flxs)"
   ]
  },
  {
   "cell_type": "code",
   "execution_count": null,
   "metadata": {},
   "outputs": [],
   "source": [
    "predict_chi = calculate_dispersive(flxs, r_f, 0.1)"
   ]
  },
  {
   "cell_type": "code",
   "execution_count": null,
   "metadata": {},
   "outputs": [],
   "source": [
    "fig = go.Figure()\n",
    "\n",
    "valid_num = np.sum(np.all(~np.isnan(predict_chi), axis=0))\n",
    "\n",
    "for i in range(1, valid_num):\n",
    "    fig.add_scatter(\n",
    "        x=flxs,\n",
    "        y=predict_chi[:, i] * 1e3,\n",
    "        mode=\"lines\",\n",
    "        name=f\"$\\\\chi_0{i}$\",\n",
    "    )\n",
    "\n",
    "# plot a dash hline to indicate the 0 point, also add a xaxis2 to show mA\n",
    "fig.add_scatter(\n",
    "    x=mAs, y=np.zeros_like(mAs), xaxis=\"x2\", line=dict(color=\"black\", dash=\"dash\")\n",
    ")\n",
    "mAs_ticks = mAs[:: len(mAs) // 10]\n",
    "fig.update_layout(\n",
    "    xaxis2=dict(\n",
    "        tickvals=mAs_ticks,\n",
    "        ticktext=[f\"{mA:.2f}\" for mA in mAs_ticks],\n",
    "        overlaying=\"x\",\n",
    "        side=\"top\",\n",
    "        title_text=\"mA\",\n",
    "    )\n",
    ")\n",
    "\n",
    "fig.update_layout(\n",
    "    xaxis_title=r\"$Φ_{ext}/Φ_0$\",\n",
    "    yaxis_title=r\"$\\chi (MHz)$\",\n",
    "    legend_title=\"Dispersive\",\n",
    "    margin=dict(l=0, r=0, t=0, b=0),\n",
    ")\n",
    "fig.update_yaxes(range=[-2, 2])\n",
    "\n",
    "fig.show()"
   ]
  },
  {
   "cell_type": "code",
   "execution_count": null,
   "metadata": {},
   "outputs": [],
   "source": [
    "fig.write_html(f\"../result/{qub_name}/web/dispersive.html\", include_plotlyjs=\"cdn\")\n",
    "fig.write_image(\n",
    "    f\"../result/{qub_name}/image/dispersive.png\", format=\"png\", width=800, height=400\n",
    ")"
   ]
  },
  {
   "cell_type": "markdown",
   "metadata": {},
   "source": [
    "# Plot with Onetone"
   ]
  },
  {
   "cell_type": "code",
   "execution_count": null,
   "metadata": {},
   "outputs": [],
   "source": [
    "onetone_path = \"../Database/S001/2025/03/Data_0311/S001_OneTone_flux_003.hdf5\"\n",
    "\n",
    "signals, sp_fpts, sp_mAs = load_data(\n",
    "    onetone_path, server_ip=\"005-writeboard\", port=4999\n",
    ")\n",
    "sp_fpts = sp_fpts * 1e-9  # to GHz\n",
    "sp_mAs = sp_mAs * 1e3  # to mA"
   ]
  },
  {
   "cell_type": "code",
   "execution_count": null,
   "metadata": {},
   "outputs": [],
   "source": [
    "sp_flxs = mA2phi(sp_mAs)\n",
    "\n",
    "predict_chi = calculate_dispersive(sp_flxs, r_f, 0.02)"
   ]
  },
  {
   "cell_type": "code",
   "execution_count": null,
   "metadata": {},
   "outputs": [],
   "source": [
    "fig, ax = plt.subplots()\n",
    "\n",
    "\n",
    "ax.imshow(\n",
    "    np.abs(signals),\n",
    "    extent=[sp_mAs[0], sp_mAs[-1], sp_fpts[0], sp_fpts[-1]],\n",
    "    aspect=\"auto\",\n",
    "    interpolation=\"none\",\n",
    "    origin=\"lower\",\n",
    ")\n",
    "ax.plot(sp_mAs, r_f + predict_chi[:, 1], color=\"blue\", lw=2)\n",
    "\n",
    "ax.set_xlabel(\"mA\")\n",
    "ax.set_ylabel(\"Frequency (GHz)\")\n",
    "\n",
    "plt.show()"
   ]
  },
  {
   "cell_type": "code",
   "execution_count": null,
   "metadata": {},
   "outputs": [],
   "source": []
  }
 ],
 "metadata": {
  "kernelspec": {
   "display_name": "Python 3",
   "language": "python",
   "name": "python3"
  },
  "language_info": {
   "codemirror_mode": {
    "name": "ipython",
    "version": 3
   },
   "file_extension": ".py",
   "mimetype": "text/x-python",
   "name": "python",
   "nbconvert_exporter": "python",
   "pygments_lexer": "ipython3",
   "version": "3.13.2"
  },
  "orig_nbformat": 4
 },
 "nbformat": 4,
 "nbformat_minor": 2
}
