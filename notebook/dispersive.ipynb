{
 "cells": [
  {
   "cell_type": "code",
   "execution_count": null,
   "metadata": {},
   "outputs": [],
   "source": [
    "import scqubits as scq\n",
    "import numpy as np\n",
    "import plotly.graph_objects as go\n",
    "\n",
    "from zcu_tools.analysis.fluxdep import load_result, mA2flx, flx2mA\n",
    "from zcu_tools.datasaver import load_data"
   ]
  },
  {
   "cell_type": "code",
   "execution_count": null,
   "metadata": {},
   "outputs": [],
   "source": [
    "qub_name = \"Test096\""
   ]
  },
  {
   "cell_type": "code",
   "execution_count": null,
   "metadata": {},
   "outputs": [],
   "source": [
    "loadpath = f\"../result/{qub_name}/params.json\"\n",
    "_, params, mA_c, period, allows = load_result(loadpath)\n",
    "\n",
    "if \"r_f\" in allows:\n",
    "    r_f = allows[\"r_f\"]\n",
    "    print(f\"r_f = {r_f}\")"
   ]
  },
  {
   "cell_type": "code",
   "execution_count": null,
   "metadata": {},
   "outputs": [],
   "source": [
    "def calculate_dispersive(flxs, r_f, g):\n",
    "    resonator = scq.Oscillator(r_f, truncated_dim=2, id_str=\"resonator\")\n",
    "    fluxonium = scq.Fluxonium(\n",
    "        *params, flux=0.5, cutoff=50, truncated_dim=20, id_str=\"qubit\"\n",
    "    )\n",
    "    hilbertspace = scq.HilbertSpace([resonator, fluxonium])\n",
    "    hilbertspace.add_interaction(\n",
    "        g=g,\n",
    "        op1=resonator.creation_operator,\n",
    "        op2=fluxonium.n_operator,\n",
    "        add_hc=True,\n",
    "        id_str=\"q-r coupling\",\n",
    "    )\n",
    "\n",
    "    def update_hilbertspace(flux):\n",
    "        fluxonium.flux = flux\n",
    "\n",
    "    sweep = scq.ParameterSweep(\n",
    "        hilbertspace,\n",
    "        {\"flxs\": flxs},\n",
    "        update_hilbertspace=update_hilbertspace,\n",
    "        evals_count=40,\n",
    "        subsys_update_info={\"flxs\": [fluxonium]},\n",
    "        labeling_scheme=\"LX\",\n",
    "    )\n",
    "\n",
    "    return sweep"
   ]
  },
  {
   "cell_type": "markdown",
   "metadata": {},
   "source": [
    "# Plot with Onetone"
   ]
  },
  {
   "cell_type": "code",
   "execution_count": null,
   "metadata": {},
   "outputs": [],
   "source": [
    "onetone_path = \"../Database/S001/2025/03/Data_0327/Test096_OneTone_flux_020.hdf5\"\n",
    "\n",
    "signals, sp_fpts, sp_mAs = load_data(\n",
    "    onetone_path, server_ip=\"005-writeboard\", port=4999\n",
    ")\n",
    "sp_fpts = sp_fpts * 1e-9  # to GHz\n",
    "sp_mAs = sp_mAs * 1e3  # to mA"
   ]
  },
  {
   "cell_type": "code",
   "execution_count": null,
   "metadata": {},
   "outputs": [],
   "source": [
    "r_f = 7.52994\n",
    "sp_flxs = mA2flx(sp_mAs, mA_c, period)"
   ]
  },
  {
   "cell_type": "code",
   "execution_count": null,
   "metadata": {},
   "outputs": [],
   "source": [
    "flxs = np.linspace(sp_flxs.min(), sp_flxs.max(), 501)\n",
    "mAs = flx2mA(flxs, mA_c, period)\n",
    "\n",
    "g = 0.085\n",
    "sweep = calculate_dispersive(flxs, r_f, g)"
   ]
  },
  {
   "cell_type": "code",
   "execution_count": null,
   "metadata": {},
   "outputs": [],
   "source": [
    "evals = sweep[\"evals\"].toarray()\n",
    "\n",
    "flx_idxs = np.arange(len(flxs))\n",
    "idx_00 = sweep.dressed_index((0, 0)).toarray()\n",
    "idx_10 = sweep.dressed_index((1, 0)).toarray()\n",
    "idx_01 = sweep.dressed_index((0, 1)).toarray()\n",
    "idx_11 = sweep.dressed_index((1, 1)).toarray()\n",
    "\n",
    "rf_0 = evals[flx_idxs, idx_10] - evals[flx_idxs, idx_00]\n",
    "rf_1 = evals[flx_idxs, idx_11] - evals[flx_idxs, idx_01]"
   ]
  },
  {
   "cell_type": "code",
   "execution_count": null,
   "metadata": {},
   "outputs": [],
   "source": [
    "fig = go.Figure()\n",
    "\n",
    "# Add the signal as a heatmap\n",
    "fig.add_trace(\n",
    "    go.Heatmap(\n",
    "        z=np.abs(signals),\n",
    "        x=sp_mAs,\n",
    "        y=sp_fpts,\n",
    "        colorscale=\"Viridis\",\n",
    "        showscale=False,  # Disable the color bar\n",
    "    )\n",
    ")\n",
    "\n",
    "# Add the qubit at 0 and 1 as line plots\n",
    "fig.add_trace(\n",
    "    go.Scatter(\n",
    "        x=mAs,\n",
    "        y=rf_0,\n",
    "        mode=\"lines\",\n",
    "        line=dict(color=\"blue\"),\n",
    "        name=\"ground\",\n",
    "    )\n",
    ")\n",
    "fig.add_trace(\n",
    "    go.Scatter(\n",
    "        x=mAs,\n",
    "        y=rf_1,\n",
    "        mode=\"lines\",\n",
    "        line=dict(color=\"red\"),\n",
    "        name=\"excited\",\n",
    "    )\n",
    ")\n",
    "\n",
    "# plot a dash hline to indicate the 0 point, also add a xaxis2 to show mA\n",
    "fig.add_scatter(\n",
    "    x=sp_mAs,\n",
    "    y=np.full_like(sp_mAs, r_f),\n",
    "    xaxis=\"x2\",\n",
    "    line=dict(color=\"black\", dash=\"dash\"),\n",
    "    name=\"origin\",\n",
    ")\n",
    "mAs_ticks = sp_mAs[:: max(1, len(sp_mAs) // 20)]\n",
    "flxs_ticks = sp_flxs[:: max(1, len(sp_flxs) // 20)]\n",
    "fig.update_layout(\n",
    "    xaxis2=dict(\n",
    "        tickvals=mAs_ticks,\n",
    "        ticktext=[f\"{flx:.2f}\" for flx in flxs_ticks],\n",
    "        matches=\"x1\",\n",
    "        overlaying=\"x1\",\n",
    "        side=\"top\",\n",
    "        title_text=\"$Φ_{ext}/Φ_0$\",\n",
    "    )\n",
    ")\n",
    "\n",
    "# Update layout\n",
    "fig.update_layout(\n",
    "    xaxis_title=\"mA\",\n",
    "    yaxis_title=\"Frequency (GHz)\",\n",
    "    legend_title=f\"g = {g:.3f} GHz\",\n",
    "    margin=dict(l=0, r=0, t=30, b=0),\n",
    ")\n",
    "\n",
    "fig.update_yaxes(range=[sp_fpts.min(), sp_fpts.max()])\n",
    "\n",
    "fig.show()"
   ]
  },
  {
   "cell_type": "code",
   "execution_count": null,
   "metadata": {},
   "outputs": [],
   "source": [
    "fig.write_html(f\"../result/{qub_name}/web/dispersive.html\", include_plotlyjs=\"cdn\")\n",
    "fig.write_image(\n",
    "    f\"../result/{qub_name}/image/dispersive.png\", format=\"png\", width=800, height=400\n",
    ")"
   ]
  },
  {
   "cell_type": "code",
   "execution_count": null,
   "metadata": {},
   "outputs": [],
   "source": []
  }
 ],
 "metadata": {
  "kernelspec": {
   "display_name": "Python 3",
   "language": "python",
   "name": "python3"
  },
  "language_info": {
   "codemirror_mode": {
    "name": "ipython",
    "version": 3
   },
   "file_extension": ".py",
   "mimetype": "text/x-python",
   "name": "python",
   "nbconvert_exporter": "python",
   "pygments_lexer": "ipython3",
   "version": "3.13.2"
  },
  "orig_nbformat": 4
 },
 "nbformat": 4,
 "nbformat_minor": 2
}
