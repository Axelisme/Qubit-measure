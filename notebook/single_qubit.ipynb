{
    "cells": [
        {
            "cell_type": "markdown",
            "id": "8fad438b",
            "metadata": {},
            "source": [
                "# Import Module"
            ]
        },
        {
            "cell_type": "code",
            "execution_count": null,
            "id": "2fd246a1",
            "metadata": {},
            "outputs": [],
            "source": [
                "%load_ext autoreload\n",
                "import os\n",
                "\n",
                "import numpy as np\n",
                "\n",
                "%autoreload 2\n",
                "import zcu_tools.notebook.single_qubit as zf  # noqa: E402\n",
                "import zcu_tools.notebook.schedule.v2 as zs  # noqa: E402\n",
                "from zcu_tools.simulate.fluxonium import FluxoniumPredictor\n",
                "from zcu_tools.program.v2 import visualize_pulse\n",
                "\n",
                "# ruff: noqa: I001\n",
                "from zcu_tools import (  # noqa: E402\n",
                "    DefaultCfg,\n",
                "    create_datafolder,\n",
                "    make_cfg,\n",
                "    make_sweep,\n",
                "    save_data,\n",
                "    make_comment,\n",
                ")"
            ]
        },
        {
            "cell_type": "code",
            "execution_count": null,
            "id": "6a497f43",
            "metadata": {},
            "outputs": [],
            "source": [
                "import zcu_tools.config as zc\n",
                "\n",
                "# zc.config.DATA_DRY_RUN = True  # don't save data\n",
                "# zc.config.YOKO_DRY_RUN = True  # don't run yoko"
            ]
        },
        {
            "cell_type": "markdown",
            "id": "d981dee0",
            "metadata": {},
            "source": [
                "# Create data folder"
            ]
        },
        {
            "cell_type": "code",
            "execution_count": null,
            "id": "026fba75",
            "metadata": {},
            "outputs": [],
            "source": [
                "chip_name = r\"Q12_2D[2]/Q4\"\n",
                "\n",
                "data_host = None\n",
                "# data_host = \"005-writeboard\"\n",
                "\n",
                "database_path = create_datafolder(os.path.join(os.getcwd(), \"..\"), prefix=chip_name)"
            ]
        },
        {
            "cell_type": "markdown",
            "id": "3d69e251",
            "metadata": {
                "lines_to_next_cell": 0
            },
            "source": [
                "# Connect to zcu216"
            ]
        },
        {
            "cell_type": "code",
            "execution_count": null,
            "id": "f9e2ce79",
            "metadata": {
                "lines_to_next_cell": 2
            },
            "outputs": [],
            "source": [
                "from zcu_tools.remote import make_proxy\n",
                "from zcu_tools.program.base import MyProgram  # noqa: F401\n",
                "from zcu_tools.tools import get_ip_address  # noqa: F401\n",
                "\n",
                "zc.config.LOCAL_IP = get_ip_address(\"Tailscale\")\n",
                "# zc.config.LOCAL_IP = \"192.168.10.232\"\n",
                "zc.config.LOCAL_PORT = 8887\n",
                "\n",
                "soc, soccfg, rm_prog = make_proxy(\"zcu216-1\", 8887, proxy_prog=True)\n",
                "MyProgram.init_proxy(rm_prog, test=True)\n",
                "print(soccfg)"
            ]
        },
        {
            "cell_type": "code",
            "execution_count": null,
            "id": "adc66be2",
            "metadata": {},
            "outputs": [],
            "source": [
                "# from myqick import QickSoc  # noqa: E402\n",
                "# from zcu_tools.tools import get_bitfile\n",
                "\n",
                "# soc = QickSoc(bitfile=get_bitfile(\"v2\"))\n",
                "# soccfg = soc\n",
                "# print(soc)"
            ]
        },
        {
            "cell_type": "markdown",
            "id": "c4a3937a",
            "metadata": {},
            "source": [
                "# Predefine parameters"
            ]
        },
        {
            "cell_type": "code",
            "execution_count": null,
            "id": "092aa996",
            "metadata": {},
            "outputs": [],
            "source": [
                "# timeFly = 0.45\n",
                "res_ch = 0\n",
                "qub_ch = 11\n",
                "reset_ch = 5\n",
                "reset_ch2 = 2\n",
                "\n",
                "DefaultCfg.set_adc(ro_chs=[0])\n",
                "# DefaultCfg.set_dev(flux_dev=\"none\", flux=0.0)"
            ]
        },
        {
            "cell_type": "markdown",
            "id": "8942ea79",
            "metadata": {},
            "source": [
                "# Initialize the flux"
            ]
        },
        {
            "cell_type": "code",
            "execution_count": null,
            "id": "d117b457",
            "metadata": {},
            "outputs": [],
            "source": [
                "from zcu_tools.device import YokoDevControl  # noqa: E402\n",
                "\n",
                "YokoDevControl.connect_server(\n",
                "    {\n",
                "        # \"host_ip\": data_host,\n",
                "        \"host_ip\": \"127.0.0.1\",\n",
                "        \"dComCfg\": {\"address\": \"0x0B21::0x0039::91T810992\", \"interface\": \"USB\"},\n",
                "        \"outputCfg\": {\"Current - Sweep rate\": 10e-6},\n",
                "    },\n",
                "    reinit=True,\n",
                ")\n",
                "DefaultCfg.set_dev(flux_dev=\"yoko\")\n",
                "cur_A = YokoDevControl.get_current()\n",
                "cur_A"
            ]
        },
        {
            "cell_type": "code",
            "execution_count": null,
            "id": "ba7aaab8",
            "metadata": {
                "lines_to_next_cell": 2
            },
            "outputs": [],
            "source": [
                "# cur_A = 0.0e-3\n",
                "YokoDevControl.set_current(cur_A)\n",
                "DefaultCfg.set_dev(flux=cur_A)"
            ]
        },
        {
            "cell_type": "markdown",
            "id": "607bfdf8",
            "metadata": {},
            "source": [
                "# Lookback"
            ]
        },
        {
            "cell_type": "code",
            "execution_count": null,
            "id": "8b331512",
            "metadata": {
                "lines_to_next_cell": 2
            },
            "outputs": [],
            "source": [
                "exp_cfg = {\n",
                "    \"dac\": {\n",
                "        \"res_pulse\": {\n",
                "            \"ch\": res_ch,\n",
                "            \"nqz\": 2,\n",
                "            # \"style\": \"const\",\n",
                "            # \"style\": \"cosine\",\n",
                "            # \"style\": \"gauss\",\n",
                "            # \"sigma\": 9.5/4,  # us\n",
                "            \"style\": \"flat_top\",\n",
                "            \"length\": 0.65,  # us\n",
                "            # \"raise_pulse\": {\"style\": \"gauss\", \"length\": 5.0, \"sigma\": 0.2},\n",
                "            \"raise_pulse\": {\"style\": \"cosine\", \"length\": 0.1},\n",
                "            \"gain\": 1.0,\n",
                "            \"freq\": 5795.62,\n",
                "            # \"trig_offset\": timeFly + 0.05,\n",
                "            \"ro_length\": 0.5,  # us\n",
                "        },\n",
                "    },\n",
                "    \"adc\": {\n",
                "        \"ro_length\": 1.5,  # us\n",
                "        \"trig_offset\": 0.0,  # us\n",
                "        # \"trig_offset\": 0.4,  # us\n",
                "        \"relax_delay\": 0.0,  # us\n",
                "    },\n",
                "}"
            ]
        },
        {
            "cell_type": "code",
            "execution_count": null,
            "id": "8374c6fc",
            "metadata": {},
            "outputs": [],
            "source": [
                "cfg = make_cfg(exp_cfg, rounds=10000)\n",
                "\n",
                "Ts, signals = zs.measure_lookback(soc, soccfg, cfg, progress=True)"
            ]
        },
        {
            "cell_type": "code",
            "execution_count": null,
            "id": "a282b98c",
            "metadata": {
                "lines_to_next_cell": 2
            },
            "outputs": [],
            "source": [
                "predict_offset = zf.lookback_show(\n",
                "    Ts, signals, ratio=0.1, smooth=1.0, pulse_cfg=cfg[\"dac\"][\"res_pulse\"]\n",
                ")\n",
                "predict_offset"
            ]
        },
        {
            "cell_type": "code",
            "execution_count": null,
            "id": "b0702559",
            "metadata": {},
            "outputs": [],
            "source": [
                "timeFly = float(predict_offset)\n",
                "timeFly"
            ]
        },
        {
            "cell_type": "code",
            "execution_count": null,
            "id": "e716bccf",
            "metadata": {},
            "outputs": [],
            "source": [
                "filename = \"lookback\"\n",
                "save_data(\n",
                "    filepath=os.path.join(database_path, filename),\n",
                "    x_info={\"name\": \"Time\", \"unit\": \"s\", \"values\": Ts * 1e-6},\n",
                "    z_info={\"name\": \"Signal\", \"unit\": \"a.u.\", \"values\": signals},\n",
                "    comment=make_comment(cfg, f\"adc_trig_offset = {timeFly}us\"),\n",
                "    tag=\"Lookback\",\n",
                "    server_ip=data_host,\n",
                ")"
            ]
        },
        {
            "cell_type": "markdown",
            "id": "94981bf9",
            "metadata": {},
            "source": [
                "# OneTone"
            ]
        },
        {
            "cell_type": "code",
            "execution_count": null,
            "id": "84d9199a",
            "metadata": {},
            "outputs": [],
            "source": [
                "res_name = \"R4\""
            ]
        },
        {
            "cell_type": "code",
            "execution_count": null,
            "id": "d01364c5",
            "metadata": {},
            "outputs": [],
            "source": [
                "DefaultCfg.set_pulse(\n",
                "    probe_rf={\n",
                "        **exp_cfg[\"dac\"][\"res_pulse\"],\n",
                "        \"length\": 5.1,  # us\n",
                "        # \"trig_offset\": 0.0,  # us\n",
                "        \"trig_offset\": timeFly + 0.05,\n",
                "        \"ro_length\": 5.0,  # us\n",
                "    }\n",
                ")\n",
                "# visualize_pulse(DefaultCfg.get_pulse(\"probe_rf\"), time_fly=timeFly)"
            ]
        },
        {
            "cell_type": "markdown",
            "id": "488452ce",
            "metadata": {},
            "source": [
                "## Resonator Frequency"
            ]
        },
        {
            "cell_type": "code",
            "execution_count": null,
            "id": "6843ccf4",
            "metadata": {},
            "outputs": [],
            "source": [
                "exp_cfg = {\n",
                "    \"dac\": {\n",
                "        # \"res_pulse\": \"readout_rf\",\n",
                "        \"res_pulse\": {\n",
                "            **DefaultCfg.get_pulse(\"probe_rf\"),\n",
                "            \"ch\": res_ch,\n",
                "            \"nqz\": 2,\n",
                "            \"gain\": 0.2,\n",
                "        },\n",
                "        # \"reset\": \"pulse\",\n",
                "        # \"reset_pulse\": \"reset_red\",\n",
                "        # \"reset_pulse\": \"pi_amp\"\n",
                "        \"reset\": \"mux_dual_pulse\",\n",
                "        \"reset_pulse1\": \"mux_reset1\",\n",
                "        \"reset_pulse2\": \"mux_reset2\",\n",
                "        \"reset_pi_pulse\": \"pi_amp\",\n",
                "    },\n",
                "    \"adc\": {\n",
                "        \"relax_delay\": 0.0,  # us\n",
                "        # \"relax_delay\": 5*t1,  # us\n",
                "    },\n",
                "}"
            ]
        },
        {
            "cell_type": "code",
            "execution_count": null,
            "id": "f3f06609",
            "metadata": {},
            "outputs": [],
            "source": [
                "# exp_cfg[\"sweep\"] = make_sweep(5770, 5820, 101)\n",
                "exp_cfg[\"sweep\"] = make_sweep(r_f-3, r_f+3, 31)\n",
                "cfg = make_cfg(exp_cfg, reps=1000, rounds=10)\n",
                "\n",
                "fpts, signals = zs.measure_res_freq(soc, soccfg, cfg)"
            ]
        },
        {
            "cell_type": "code",
            "execution_count": null,
            "id": "7ccf10ca",
            "metadata": {},
            "outputs": [],
            "source": [
                "f, kappa = zf.freq_analyze(fpts, signals, asym=True)\n",
                "f"
            ]
        },
        {
            "cell_type": "code",
            "execution_count": null,
            "id": "1d9ba242",
            "metadata": {},
            "outputs": [],
            "source": [
                "r_f = f\n",
                "rf_w = kappa"
            ]
        },
        {
            "cell_type": "code",
            "execution_count": null,
            "id": "0f9e562e",
            "metadata": {},
            "outputs": [],
            "source": [
                "filename = f\"{res_name}_freq@{cur_A * 1e3:.3f}mA\"\n",
                "save_data(\n",
                "    filepath=os.path.join(database_path, filename),\n",
                "    x_info={\"name\": \"Frequency\", \"unit\": \"Hz\", \"values\": fpts * 1e6},\n",
                "    z_info={\"name\": \"Signal\", \"unit\": \"a.u.\", \"values\": signals},\n",
                "    comment=make_comment(cfg, f\"resonator frequency = {r_f}MHz\"),\n",
                "    # comment=make_comment(cfg),\n",
                "    tag=\"OneTone/single\",\n",
                "    server_ip=data_host,\n",
                ")"
            ]
        },
        {
            "cell_type": "code",
            "execution_count": null,
            "id": "c6540ed1",
            "metadata": {},
            "outputs": [],
            "source": [
                "# r_f =  6026.1\n",
                "r_f"
            ]
        },
        {
            "cell_type": "markdown",
            "id": "9fcd1788",
            "metadata": {},
            "source": [
                "## Onetone Dependences"
            ]
        },
        {
            "cell_type": "markdown",
            "id": "c4b214ce",
            "metadata": {},
            "source": [
                "### Power Dependence"
            ]
        },
        {
            "cell_type": "code",
            "execution_count": null,
            "id": "072b2cf3",
            "metadata": {},
            "outputs": [],
            "source": [
                "exp_cfg = {\n",
                "    \"dac\": {\n",
                "        \"res_pulse\": {\n",
                "            **DefaultCfg.get_pulse(\"probe_rf\"),\n",
                "            \"ch\": res_ch,\n",
                "            \"nqz\": 2,\n",
                "            \"length\": 5.1,\n",
                "            \"ro_length\": 5.0,\n",
                "        },\n",
                "        # \"reset\": \"pulse\",\n",
                "        # \"reset_pulse\": \"reset_red\",\n",
                "        # \"reset\": \"mux_dual_pulse\",\n",
                "        # \"reset_pulse1\": \"mux_reset1\",\n",
                "        # \"reset_pulse2\": \"mux_reset2\",\n",
                "    },\n",
                "    \"adc\": {\n",
                "        \"relax_delay\": 1.0,  # us\n",
                "    },\n",
                "}"
            ]
        },
        {
            "cell_type": "code",
            "execution_count": null,
            "id": "8b74c9c9",
            "metadata": {
                "lines_to_next_cell": 2
            },
            "outputs": [],
            "source": [
                "exp_cfg[\"sweep\"] = {\n",
                "    \"gain\": make_sweep(0.01, 0.5, 51),\n",
                "    # \"gain\": make_sweep(10, 30000, 30, force_int=True),\n",
                "    # \"freq\": make_sweep(7522.5, 7535, 100),\n",
                "    \"freq\": make_sweep(r_f - 7, r_f + 7, 51),\n",
                "    # \"freq\": make_sweep(7510, 7528, 101)\n",
                "}\n",
                "cfg = make_cfg(exp_cfg, reps=1000, rounds=100)\n",
                "\n",
                "pdrs, fpts, signals2D = zs.measure_res_pdr_dep(\n",
                "    soc, soccfg, cfg, dynamic_avg=True, gain_ref=0.05\n",
                ")"
            ]
        },
        {
            "cell_type": "code",
            "execution_count": null,
            "id": "ef5ad515",
            "metadata": {},
            "outputs": [],
            "source": [
                "filename = f\"{res_name}_pdr@{cur_A * 1e3:.3f}mA\"\n",
                "save_data(\n",
                "    filepath=os.path.join(database_path, filename),\n",
                "    x_info={\"name\": \"Frequency\", \"unit\": \"Hz\", \"values\": fpts * 1e6},\n",
                "    y_info={\"name\": \"Power\", \"unit\": \"a.u.\", \"values\": pdrs},\n",
                "    z_info={\"name\": \"Signal\", \"unit\": \"a.u.\", \"values\": signals2D},\n",
                "    comment=make_comment(cfg),\n",
                "    tag=\"OneTone/pdr\",\n",
                "    server_ip=data_host,\n",
                ")"
            ]
        },
        {
            "cell_type": "markdown",
            "id": "72076eaf",
            "metadata": {},
            "source": [
                "### Flux dependence"
            ]
        },
        {
            "cell_type": "code",
            "execution_count": null,
            "id": "6b4c1893",
            "metadata": {},
            "outputs": [],
            "source": [
                "cur_A = -1.5e-3\n",
                "YokoDevControl.set_current(cur_A)\n",
                "DefaultCfg.set_dev(flux=cur_A)\n",
                "cur_A * 1e3"
            ]
        },
        {
            "cell_type": "code",
            "execution_count": null,
            "id": "3810fe6f",
            "metadata": {},
            "outputs": [],
            "source": [
                "exp_cfg = {\n",
                "    \"dac\": {\n",
                "        \"res_pulse\": {\n",
                "            **DefaultCfg.get_pulse(\"probe_rf\"),\n",
                "            \"ch\": res_ch,\n",
                "            \"nqz\": 2,\n",
                "            \"gain\": 0.3,\n",
                "            # \"gain\": 30000,\n",
                "            \"length\": 5.1,\n",
                "            \"ro_length\": 5.0,\n",
                "        },\n",
                "    },\n",
                "    \"adc\": {\n",
                "        \"relax_delay\": 0.0,  # us\n",
                "    },\n",
                "}"
            ]
        },
        {
            "cell_type": "code",
            "execution_count": null,
            "id": "781548c7",
            "metadata": {},
            "outputs": [],
            "source": [
                "exp_cfg[\"sweep\"] = {\n",
                "    \"flux\": make_sweep(-1.5e-3, 3.5e-3, 151),\n",
                "    \"freq\": make_sweep(r_f - 7, r_f + 7, 101),\n",
                "    # \"freq\": make_sweep(7518.0, 7525.0, 101),\n",
                "}\n",
                "cfg = make_cfg(exp_cfg, reps=100, rounds=10)\n",
                "\n",
                "As, fpts, signals2D = zs.measure_res_flux_dep(soc, soccfg, cfg)"
            ]
        },
        {
            "cell_type": "code",
            "execution_count": null,
            "id": "51ef59d9",
            "metadata": {},
            "outputs": [],
            "source": [
                "filename = f\"{res_name}_flux\"\n",
                "save_data(\n",
                "    filepath=os.path.join(database_path, filename),\n",
                "    x_info={\"name\": \"Frequency\", \"unit\": \"Hz\", \"values\": fpts * 1e6},\n",
                "    y_info={\"name\": \"Current\", \"unit\": \"A\", \"values\": As},\n",
                "    z_info={\"name\": \"Signal\", \"unit\": \"a.u.\", \"values\": signals2D},\n",
                "    comment=make_comment(cfg),\n",
                "    tag=\"OneTone/flux\",\n",
                "    server_ip=data_host,\n",
                ")"
            ]
        },
        {
            "cell_type": "code",
            "execution_count": null,
            "id": "b14908a5",
            "metadata": {},
            "outputs": [],
            "source": [
                "cur_A = 2.184e-3\n",
                "YokoDevControl.set_current(cur_A)\n",
                "DefaultCfg.set_dev(flux=cur_A)"
            ]
        },
        {
            "cell_type": "markdown",
            "id": "5aa14204",
            "metadata": {},
            "source": [
                "## Set readout pulse"
            ]
        },
        {
            "cell_type": "code",
            "execution_count": null,
            "id": "f66969bb",
            "metadata": {},
            "outputs": [],
            "source": [
                "# r_f = 7000.0\n",
                "DefaultCfg.set_pulse(\n",
                "    readout_rf={\n",
                "        **DefaultCfg.get_pulse(\"probe_rf\"),\n",
                "        \"ch\": res_ch,\n",
                "        \"nqz\": 2,\n",
                "        \"freq\": r_f,  # MHz\n",
                "        \"gain\": 0.2,\n",
                "        \"length\": 2.6,\n",
                "        \"ro_length\": 2.5,\n",
                "        \"pre_delay\": 0.0,\n",
                "        \"desc\": \"lower power readout with exact resonator frequency\",\n",
                "    },\n",
                ")\n",
                "# visualize_pulse(DefaultCfg.get_pulse(\"readout_rf\"), time_fly=timeFly)"
            ]
        },
        {
            "cell_type": "markdown",
            "id": "0b94ccf0",
            "metadata": {},
            "source": [
                "# TwoTone"
            ]
        },
        {
            "cell_type": "code",
            "execution_count": null,
            "id": "1650450f",
            "metadata": {},
            "outputs": [],
            "source": [
                "qub_name = \"Q4\""
            ]
        },
        {
            "cell_type": "code",
            "execution_count": null,
            "id": "1e5f62bb",
            "metadata": {},
            "outputs": [],
            "source": [
                "preditor = FluxoniumPredictor(f\"../result/{chip_name}/params.json\")"
            ]
        },
        {
            "cell_type": "code",
            "execution_count": null,
            "id": "f85f7f5e",
            "metadata": {},
            "outputs": [],
            "source": [
                "DefaultCfg.set_pulse(\n",
                "    probe_qf={\n",
                "        \"style\": \"flat_top\",\n",
                "        \"length\": 2.0,\n",
                "        # \"raise_pulse\": {\"style\": \"gauss\", \"length\": 0.02, \"sigma\": 0.003},\n",
                "        \"raise_pulse\": {\"style\": \"cosine\", \"length\": 0.02},\n",
                "    },\n",
                ")\n",
                "# visualize_pulse(DefaultCfg.get_pulse(\"probe_qf\"))"
            ]
        },
        {
            "cell_type": "markdown",
            "id": "3731b330",
            "metadata": {},
            "source": [
                "## Twotone Frequency"
            ]
        },
        {
            "cell_type": "code",
            "execution_count": null,
            "id": "82b01497",
            "metadata": {},
            "outputs": [],
            "source": [
                "# cur_A = -0.4145e-3\n",
                "YokoDevControl.set_current(cur_A)\n",
                "DefaultCfg.set_dev(flux=cur_A)\n",
                "cur_A * 1e3"
            ]
        },
        {
            "cell_type": "code",
            "execution_count": null,
            "id": "c4ec29df",
            "metadata": {},
            "outputs": [],
            "source": [
                "q_f = preditor.predict_freq(cur_A, transition=(0, 1))\n",
                "q_f"
            ]
        },
        {
            "cell_type": "code",
            "execution_count": null,
            "id": "7d306fd1",
            "metadata": {},
            "outputs": [],
            "source": [
                "exp_cfg = {\n",
                "    \"dac\": {\n",
                "        \"res_pulse\": \"readout_rf\",\n",
                "        # \"res_pulse\": \"readout_dpm\",\n",
                "        \"qub_pulse\": {\n",
                "            **DefaultCfg.get_pulse(\"probe_qf\"),\n",
                "            \"ch\": qub_ch,\n",
                "            \"nqz\": 1,\n",
                "            \"gain\": 0.1,\n",
                "            \"length\": 0.5,  # us\n",
                "            \"mixer_freq\": q_f,\n",
                "        },\n",
                "        # \"qub_pulse\": \"pi_amp\",\n",
                "        # \"reset\": \"pulse\",\n",
                "        # \"reset_pulse\": \"reset_red\",\n",
                "        \"reset\": \"mux_dual_pulse\",\n",
                "        \"reset_pulse1\": \"mux_reset1\",\n",
                "        \"reset_pulse2\": \"mux_reset2\",\n",
                "    },\n",
                "    \"adc\": {\n",
                "        \"relax_delay\": 0.0,  # us\n",
                "        # \"relax_delay\": 5*t1,  # us\n",
                "    },\n",
                "}"
            ]
        },
        {
            "cell_type": "code",
            "execution_count": null,
            "id": "40a2062a",
            "metadata": {},
            "outputs": [],
            "source": [
                "# exp_cfg[\"sweep\"] = make_sweep(q_f - 20, q_f + 20, 101)\n",
                "exp_cfg[\"sweep\"] = make_sweep(325, 375, 101)\n",
                "cfg = make_cfg(exp_cfg, reps=1000, rounds=10)\n",
                "\n",
                "# zs.visualize_qub_freq(soccfg, cfg, time_fly=timeFly)\n",
                "fpts, signals = zs.measure_qub_freq(soc, soccfg, cfg, remove_bg=True)"
            ]
        },
        {
            "cell_type": "code",
            "execution_count": null,
            "id": "351377e6",
            "metadata": {},
            "outputs": [],
            "source": [
                "%matplotlib inline\n",
                "f, kappa = zf.freq_analyze(fpts, signals, max_contrast=True)\n",
                "f"
            ]
        },
        {
            "cell_type": "code",
            "execution_count": null,
            "id": "7c62ecc0",
            "metadata": {},
            "outputs": [],
            "source": [
                "q_f = f\n",
                "qf_w = kappa"
            ]
        },
        {
            "cell_type": "code",
            "execution_count": null,
            "id": "46b90397",
            "metadata": {},
            "outputs": [],
            "source": [
                "filename = f\"{qub_name}_freq@{cur_A * 1e3:.3f}mA\"\n",
                "save_data(\n",
                "    filepath=os.path.join(database_path, filename),\n",
                "    x_info={\"name\": \"Frequency\", \"unit\": \"Hz\", \"values\": fpts * 1e6},\n",
                "    z_info={\"name\": \"Signal\", \"unit\": \"a.u.\", \"values\": signals},\n",
                "    comment=make_comment(cfg, f\"frequency = {f}MHz\"),\n",
                "    tag=\"TwoTone/single\",\n",
                "    server_ip=data_host,\n",
                ")"
            ]
        },
        {
            "cell_type": "code",
            "execution_count": null,
            "id": "8b18cc4f",
            "metadata": {},
            "outputs": [],
            "source": [
                "bias = preditor.calculate_bias(cur_A, q_f)\n",
                "bias * 1e3"
            ]
        },
        {
            "cell_type": "code",
            "execution_count": null,
            "id": "dddb3b8c",
            "metadata": {},
            "outputs": [],
            "source": [
                "preditor.update_bias(bias)"
            ]
        },
        {
            "attachments": {},
            "cell_type": "markdown",
            "id": "b2a00af4",
            "metadata": {},
            "source": [
                "## Reset"
            ]
        },
        {
            "attachments": {},
            "cell_type": "markdown",
            "id": "156b917a",
            "metadata": {},
            "source": [
                "### One Pulse"
            ]
        },
        {
            "cell_type": "code",
            "execution_count": null,
            "id": "71a70f0f",
            "metadata": {},
            "outputs": [],
            "source": [
                "reset_f = r_f - q_f\n",
                "reset_f"
            ]
        },
        {
            "cell_type": "code",
            "execution_count": null,
            "id": "df4fb9f1",
            "metadata": {},
            "outputs": [],
            "source": [
                "exp_cfg = {\n",
                "    \"dac\": {\n",
                "        # \"res_pulse\": \"readout_rf\",\n",
                "        \"res_pulse\": \"readout_dpm\",\n",
                "        \"qub_pulse\": {\n",
                "            **DefaultCfg.get_pulse(\"probe_qf\"),\n",
                "            \"ch\": reset_ch,\n",
                "            \"nqz\": 2,\n",
                "            \"gain\": 0.5,\n",
                "            \"length\": 5,  # us\n",
                "            \"mixer_freq\": reset_f,\n",
                "        },\n",
                "        # \"reset\": \"pulse\",\n",
                "        # \"reset_pulse\": {\n",
                "        #     **DefaultCfg.get_pulse(\"probe_qf\"),\n",
                "        #     \"ch\": qub_ch,\n",
                "        #     \"nqz\": 1,\n",
                "        #     \"gain\": 0.07,\n",
                "        #     \"length\": 2,  # us\n",
                "        #     \"freq\": q_f,\n",
                "        #     \"mixer_freq\": q_f,\n",
                "        # },\n",
                "    },\n",
                "    \"adc\": {\n",
                "        \"relax_delay\": 0.0,  # us\n",
                "        # \"relax_delay\": 5*t1\n",
                "    },\n",
                "}"
            ]
        },
        {
            "cell_type": "code",
            "execution_count": null,
            "id": "9c27211a",
            "metadata": {},
            "outputs": [],
            "source": [
                "exp_cfg[\"sweep\"] = make_sweep(reset_f - 150, reset_f + 150, 101)\n",
                "# exp_cfg[\"sweep\"] = make_sweep(5360, 5450, 101)\n",
                "cfg = make_cfg(exp_cfg, reps=1000, rounds=10)\n",
                "\n",
                "fpts, signals = zs.measure_qub_freq(soc, soccfg, cfg, remove_bg=True)"
            ]
        },
        {
            "cell_type": "code",
            "execution_count": null,
            "id": "c90d50db",
            "metadata": {},
            "outputs": [],
            "source": [
                "f, kappa = zf.freq_analyze(fpts, signals, max_contrast=True)\n",
                "f"
            ]
        },
        {
            "cell_type": "code",
            "execution_count": null,
            "id": "576890d8",
            "metadata": {},
            "outputs": [],
            "source": [
                "reset_f = f"
            ]
        },
        {
            "cell_type": "code",
            "execution_count": null,
            "id": "93966c08",
            "metadata": {},
            "outputs": [],
            "source": [
                "filename = f\"{qub_name}_freq@{cur_A * 1e3:.3f}mA\"\n",
                "save_data(\n",
                "    filepath=os.path.join(database_path, filename),\n",
                "    x_info={\"name\": \"Frequency\", \"unit\": \"Hz\", \"values\": fpts * 1e6},\n",
                "    z_info={\"name\": \"Signal\", \"unit\": \"a.u.\", \"values\": signals},\n",
                "    comment=make_comment(cfg, f\"frequency = {f}MHz\"),\n",
                "    tag=\"TwoTone/single\",\n",
                "    server_ip=data_host,\n",
                ")"
            ]
        },
        {
            "cell_type": "markdown",
            "id": "6e921cbf",
            "metadata": {},
            "source": [
                "#### Reset Time"
            ]
        },
        {
            "cell_type": "code",
            "execution_count": null,
            "id": "227a0a68",
            "metadata": {},
            "outputs": [],
            "source": [
                "exp_cfg = {\n",
                "    \"dac\": {\n",
                "        # \"res_pulse\": \"readout_rf\",\n",
                "        \"res_pulse\": \"readout_dpm\",\n",
                "        \"qub_pulse\": {\n",
                "            **DefaultCfg.get_pulse(\"pi_amp\"),\n",
                "        },\n",
                "        \"reset\": \"pulse\",\n",
                "        \"reset_pulse\": {\n",
                "            **DefaultCfg.get_pulse(\"probe_qf\"),\n",
                "            \"ch\": reset_ch,\n",
                "            \"nqz\": 2,\n",
                "            \"gain\": 0.5,\n",
                "            \"freq\": reset_f,\n",
                "            \"mixer_freq\": reset_f,\n",
                "        },\n",
                "    },\n",
                "    \"adc\": {\n",
                "        \"relax_delay\": 0.0,  # us\n",
                "    },\n",
                "}"
            ]
        },
        {
            "cell_type": "code",
            "execution_count": null,
            "id": "a428fc9b",
            "metadata": {},
            "outputs": [],
            "source": [
                "exp_cfg[\"sweep\"] = make_sweep(0.03, 5.0, 51)\n",
                "cfg = make_cfg(exp_cfg, reps=1000, rounds=100)\n",
                "\n",
                "# zs.visualize_reset_time(soccfg, cfg, time_fly=timeFly)\n",
                "Ts, signals = zs.measure_reset_time(soc, soccfg, cfg)"
            ]
        },
        {
            "cell_type": "code",
            "execution_count": null,
            "id": "594fe243",
            "metadata": {},
            "outputs": [],
            "source": [
                "filename = f\"{qub_name}_reset_time@{cur_A * 1e3:.3f}mA\"\n",
                "save_data(\n",
                "    filepath=os.path.join(database_path, filename),\n",
                "    x_info={\"name\": \"Length\", \"unit\": \"s\", \"values\": Ts * 1e-6},\n",
                "    z_info={\"name\": \"Signal\", \"unit\": \"a.u.\", \"values\": signals},\n",
                "    comment=make_comment(cfg),\n",
                "    tag=\"TwoTone/reset/time\",\n",
                "    server_ip=data_host,\n",
                ")"
            ]
        },
        {
            "cell_type": "markdown",
            "id": "f73cf9b3",
            "metadata": {},
            "source": [
                "#### Set Reset Pulse"
            ]
        },
        {
            "cell_type": "code",
            "execution_count": null,
            "id": "27e85923",
            "metadata": {},
            "outputs": [],
            "source": [
                "DefaultCfg.set_pulse(\n",
                "    reset_red={\n",
                "        **exp_cfg[\"dac\"][\"reset_pulse\"],\n",
                "        \"length\": 0.4,  # us\n",
                "        \"post_delay\": 5.0 / rf_w,  # 5 times the resonator linewidth\n",
                "        \"desc\": \"Reset pulse by red sideband\",\n",
                "    },\n",
                ")\n",
                "visualize_pulse(DefaultCfg.get_pulse(\"reset_red\"))"
            ]
        },
        {
            "attachments": {},
            "cell_type": "markdown",
            "id": "e61ba763",
            "metadata": {},
            "source": [
                "### Two pulse"
            ]
        },
        {
            "cell_type": "code",
            "execution_count": null,
            "id": "26b60833",
            "metadata": {},
            "outputs": [],
            "source": [
                "reset1_trans = (1, 2)\n",
                "reset_f1 = preditor.predict_freq(cur_A, transition=reset1_trans)\n",
                "reset_f1"
            ]
        },
        {
            "cell_type": "code",
            "execution_count": null,
            "id": "3de0801f",
            "metadata": {},
            "outputs": [],
            "source": [
                "reset2_trans = (2, 0)\n",
                "reset_f2 = abs(r_f + preditor.predict_freq(cur_A, transition=reset2_trans))\n",
                "reset_f2"
            ]
        },
        {
            "cell_type": "code",
            "execution_count": null,
            "id": "b757a855",
            "metadata": {},
            "outputs": [],
            "source": [
                "exp_cfg = {\n",
                "    \"dac\": {\n",
                "        \"res_pulse\": \"readout_rf\",\n",
                "        # \"res_pulse\": \"readout_dpm\",\n",
                "        \"reset\": \"mux_dual_pulse\",\n",
                "        \"reset_pulse1\": {\n",
                "            **DefaultCfg.get_pulse(\"probe_qf\"),\n",
                "            \"ch\": reset_ch,\n",
                "            \"nqz\": 2,\n",
                "            \"gain\": 1.0,\n",
                "            \"length\": 5,  # us\n",
                "            \"mixer_freq\": reset_f1,\n",
                "        },\n",
                "        \"reset_pulse2\": {\n",
                "            **DefaultCfg.get_pulse(\"probe_qf\"),\n",
                "            \"ch\": reset_ch2,\n",
                "            \"nqz\": 1,\n",
                "            \"gain\": 1.0,\n",
                "            \"length\": 5,  # us\n",
                "            # \"mixer_freq\": reset_f2,\n",
                "        },\n",
                "    },\n",
                "    \"adc\": {\n",
                "        \"relax_delay\": 0.0,  # us\n",
                "        # \"relax_delay\": t1,  # us\n",
                "    },\n",
                "}"
            ]
        },
        {
            "cell_type": "code",
            "execution_count": null,
            "id": "c6db2e24",
            "metadata": {},
            "outputs": [],
            "source": [
                "exp_cfg[\"sweep\"] = {\n",
                "    # \"freq1\": make_sweep(reset_f1 - 100, reset_f1 + 100, 51),\n",
                "    # \"freq2\": make_sweep(reset_f2 - 400, reset_f2 + 100, 151),\n",
                "    \"freq1\": make_sweep(3150, 3270, 51),\n",
                "    \"freq2\": make_sweep(1900, 2050, 51),\n",
                "}\n",
                "cfg = make_cfg(exp_cfg, reps=100, rounds=100)\n",
                "\n",
                "fpts1, fpts2, signals = zs.measure_mux_reset_freq(soc, soccfg, cfg)"
            ]
        },
        {
            "cell_type": "code",
            "execution_count": null,
            "id": "3030319d",
            "metadata": {},
            "outputs": [],
            "source": [
                "%matplotlib inline\n",
                "xlabal = f\"|{reset1_trans[0]}, 0> - |{reset1_trans[1]}, 0>\"\n",
                "ylabal = f\"|{reset2_trans[0]}, 0> - |{reset2_trans[1]}, 1>\"\n",
                "f1, f2 = zf.mux_reset_analyze(\n",
                "    fpts1, fpts2, signals, xlabel=xlabal, ylabel=ylabal, smooth=0.7\n",
                ")\n",
                "f1, f2"
            ]
        },
        {
            "cell_type": "code",
            "execution_count": null,
            "id": "02d9d0f7",
            "metadata": {},
            "outputs": [],
            "source": [
                "reset_f1 = f1\n",
                "reset_f2 = f2"
            ]
        },
        {
            "cell_type": "code",
            "execution_count": null,
            "id": "ee02e83a",
            "metadata": {},
            "outputs": [],
            "source": [
                "filename = f\"{qub_name}_mux_reset_freq@{cur_A * 1e3:.3f}mA\"\n",
                "save_data(\n",
                "    filepath=os.path.join(database_path, filename),\n",
                "    x_info={\"name\": xlabal, \"unit\": \"Hz\", \"values\": fpts1 * 1e6},\n",
                "    y_info={\"name\": ylabal, \"unit\": \"Hz\", \"values\": fpts2 * 1e6},\n",
                "    z_info={\"name\": \"Signal\", \"unit\": \"a.u.\", \"values\": signals.T},\n",
                "    comment=make_comment(cfg, f\"frequency = ({reset_f1:.1f}, {reset_f2:.1f})MHz\"),\n",
                "    tag=\"TwoTone/mux_reset\",\n",
                "    server_ip=data_host,\n",
                ")"
            ]
        },
        {
            "cell_type": "markdown",
            "id": "b619f5a2",
            "metadata": {},
            "source": [
                "#### Reset Time"
            ]
        },
        {
            "cell_type": "code",
            "execution_count": null,
            "id": "3feab185",
            "metadata": {},
            "outputs": [],
            "source": [
                "exp_cfg = {\n",
                "    \"dac\": {\n",
                "        \"res_pulse\": \"readout_rf\",\n",
                "        # \"res_pulse\": \"readout_dpm\",\n",
                "        \"qub_pulse\": \"pi_amp\",\n",
                "        \"reset\": \"mux_dual_pulse\",\n",
                "        \"reset_pulse1\": {\n",
                "            **DefaultCfg.get_pulse(\"probe_qf\"),\n",
                "            \"ch\": reset_ch,\n",
                "            \"nqz\": 2,\n",
                "            \"gain\": 1.0,\n",
                "            \"freq\": reset_f1,\n",
                "            \"mixer_freq\": reset_f1,\n",
                "        },\n",
                "        \"reset_pulse2\": {\n",
                "            **DefaultCfg.get_pulse(\"probe_qf\"),\n",
                "            \"ch\": reset_ch2,\n",
                "            \"nqz\": 1,\n",
                "            \"gain\": 1.0,\n",
                "            \"freq\": reset_f2,\n",
                "            # \"mixer_freq\": reset_f2,\n",
                "        },\n",
                "    },\n",
                "    \"adc\": {\n",
                "        \"relax_delay\": 2.0,  # us\n",
                "        # \"relax_delay\": t1,  # us\n",
                "    },\n",
                "}"
            ]
        },
        {
            "cell_type": "code",
            "execution_count": null,
            "id": "4b44aca3",
            "metadata": {},
            "outputs": [],
            "source": [
                "exp_cfg[\"sweep\"] = make_sweep(1.0, 10.0, 31)\n",
                "cfg = make_cfg(exp_cfg, reps=1000, rounds=100)\n",
                "\n",
                "# zs.visualize_reset_time(soccfg, cfg, time_fly=timeFly)\n",
                "Ts, signals = zs.measure_reset_time(soc, soccfg, cfg)"
            ]
        },
        {
            "cell_type": "code",
            "execution_count": null,
            "id": "b45a379d",
            "metadata": {},
            "outputs": [],
            "source": [
                "filename = f\"{qub_name}_mux_reset_time@{cur_A * 1e3:.3f}mA\"\n",
                "save_data(\n",
                "    filepath=os.path.join(database_path, filename),\n",
                "    x_info={\"name\": \"Length\", \"unit\": \"s\", \"values\": Ts * 1e-6},\n",
                "    z_info={\"name\": \"Signal\", \"unit\": \"a.u.\", \"values\": signals},\n",
                "    comment=make_comment(cfg),\n",
                "    tag=\"TwoTone/mux_reset/time\",\n",
                "    server_ip=data_host,\n",
                ")"
            ]
        },
        {
            "cell_type": "markdown",
            "id": "da91eeb2",
            "metadata": {},
            "source": [
                "#### Set Mux Reset Pulse"
            ]
        },
        {
            "cell_type": "code",
            "execution_count": null,
            "id": "d1e3b20a",
            "metadata": {},
            "outputs": [],
            "source": [
                "mux_reset_len = 6.0\n",
                "DefaultCfg.set_pulse(\n",
                "    mux_reset1={\n",
                "        **exp_cfg[\"dac\"][\"reset_pulse1\"],\n",
                "        \"freq\": reset_f1,\n",
                "        \"length\": mux_reset_len,  # us\n",
                "        \"desc\": \"Reset pulse by red sideband\",\n",
                "    },\n",
                "    mux_reset2={\n",
                "        **exp_cfg[\"dac\"][\"reset_pulse2\"],\n",
                "        \"freq\": reset_f2,\n",
                "        \"length\": mux_reset_len,  # us\n",
                "        \"post_delay\": 5.0 / rf_w,  # 5 times the resonator linewidth\n",
                "        \"desc\": \"Reset pulse by red sideband\",\n",
                "    },\n",
                ")"
            ]
        },
        {
            "cell_type": "markdown",
            "id": "e8d5cdc8",
            "metadata": {},
            "source": [
                "### Check Reset"
            ]
        },
        {
            "cell_type": "code",
            "execution_count": null,
            "id": "3355d680",
            "metadata": {},
            "outputs": [],
            "source": [
                "exp_cfg = {\n",
                "    \"dac\": {\n",
                "        # \"res_pulse\": \"readout_rf\",\n",
                "        \"res_pulse\": \"readout_dpm\",\n",
                "        \"qub_pulse\": \"pi_amp\",\n",
                "        # \"reset_test\": \"pulse\",\n",
                "        # \"reset_test_pulse\": \"reset_red\",\n",
                "        \"reset_test\": \"mux_dual_pulse\",\n",
                "        \"reset_test_pulse1\": \"mux_reset1\",\n",
                "        \"reset_test_pulse2\": \"mux_reset2\",\n",
                "        \"reset\": \"mux_dual_pulse\",\n",
                "        \"reset_pulse1\": \"mux_reset1\",\n",
                "        \"reset_pulse2\": \"mux_reset2\",\n",
                "    },\n",
                "    \"adc\": {\n",
                "        \"relax_delay\": 0.0,  # us\n",
                "        # \"relax_delay\": 3*t1,  # us\n",
                "    },\n",
                "}"
            ]
        },
        {
            "cell_type": "code",
            "execution_count": null,
            "id": "7caa85c1",
            "metadata": {},
            "outputs": [],
            "source": [
                "# exp_cfg[\"sweep\"] = make_sweep(0.0, 0.5, 51)\n",
                "exp_cfg[\"sweep\"] = make_sweep(0.0, max_gain, 51)\n",
                "cfg = make_cfg(exp_cfg, reps=1000, rounds=10)\n",
                "\n",
                "# zs.visualize_reset_amprabi(soccfg, cfg, time_fly=timeFly)\n",
                "pdrs, signals = zs.measure_reset_amprabi(soc, soccfg, cfg)"
            ]
        },
        {
            "cell_type": "markdown",
            "id": "e1734f07",
            "metadata": {},
            "source": [
                "## Twotone Dependences"
            ]
        },
        {
            "cell_type": "markdown",
            "id": "bac53a7c",
            "metadata": {},
            "source": [
                "### Power dependence"
            ]
        },
        {
            "cell_type": "code",
            "execution_count": null,
            "id": "9bf8cbb1",
            "metadata": {},
            "outputs": [],
            "source": [
                "exp_cfg = {\n",
                "    \"dac\": {\n",
                "        \"res_pulse\": \"readout_rf\",\n",
                "        \"qub_pulse\": {\n",
                "            **DefaultCfg.get_pulse(\"probe_qf\"),\n",
                "            \"ch\": qub_ch,\n",
                "            \"nqz\": 2,\n",
                "            \"length\": 5,  # us\n",
                "        },\n",
                "    },\n",
                "    \"adc\": {\n",
                "        \"relax_delay\": 0.0,  # us\n",
                "    },\n",
                "}"
            ]
        },
        {
            "cell_type": "code",
            "execution_count": null,
            "id": "b7e06143",
            "metadata": {},
            "outputs": [],
            "source": [
                "exp_cfg[\"sweep\"] = {\n",
                "    \"gain\": make_sweep(0.05, 1.0, 30),\n",
                "    \"freq\": make_sweep(1700, 2000, 30),\n",
                "}\n",
                "cfg = make_cfg(exp_cfg, reps=50, rounds=50)\n",
                "\n",
                "fpts, pdrs, signals2D = zs.measure_qub_pdr_dep(soc, soccfg, cfg)"
            ]
        },
        {
            "cell_type": "code",
            "execution_count": null,
            "id": "1d98e4eb",
            "metadata": {},
            "outputs": [],
            "source": [
                "filename = f\"{qub_name}_pdr@{cur_A * 1e3:.3f}mA\"\n",
                "save_data(\n",
                "    filepath=os.path.join(database_path, filename),\n",
                "    x_info={\"name\": \"Frequency\", \"unit\": \"Hz\", \"values\": fpts * 1e6},\n",
                "    y_info={\"name\": \"Power\", \"unit\": \"a.u.\", \"values\": pdrs},\n",
                "    z_info={\"name\": \"Signal\", \"unit\": \"a.u.\", \"values\": signals2D},\n",
                "    comment=make_comment(cfg),\n",
                "    tag=\"TwoTone/pdr\",\n",
                "    server_ip=data_host,\n",
                ")"
            ]
        },
        {
            "cell_type": "markdown",
            "id": "78dc5dde",
            "metadata": {},
            "source": [
                "### Flux Dependence"
            ]
        },
        {
            "cell_type": "code",
            "execution_count": null,
            "id": "7b2e4646",
            "metadata": {},
            "outputs": [],
            "source": [
                "cur_A = -1.25e-3\n",
                "YokoDevControl.set_current(cur_A)\n",
                "DefaultCfg.set_dev(flux=cur_A)"
            ]
        },
        {
            "cell_type": "code",
            "execution_count": null,
            "id": "548cf964",
            "metadata": {},
            "outputs": [],
            "source": [
                "exp_cfg = {\n",
                "    \"dac\": {\n",
                "        \"res_pulse\": {\n",
                "            **DefaultCfg.get_pulse(\"probe_rf\"),\n",
                "            \"ch\": res_ch,\n",
                "            \"nqz\": 2,\n",
                "            \"freq\": r_f,  # MHz\n",
                "            \"gain\": 0.2,\n",
                "            \"length\": 1.7,\n",
                "            \"ro_length\": 1.5,\n",
                "        },\n",
                "        # \"res_pulse\": \"readout_dpm\",\n",
                "        \"qub_pulse\": {\n",
                "            **DefaultCfg.get_pulse(\"probe_qf\"),\n",
                "            \"ch\": qub_ch,\n",
                "            \"nqz\": 1,\n",
                "            \"gain\": 0.2,\n",
                "            \"length\": 2,  # us\n",
                "        },\n",
                "        # \"reset\": \"pulse\",\n",
                "        # \"reset_pulse\": \"reset_red\",\n",
                "    },\n",
                "    \"adc\": {\n",
                "        \"relax_delay\": 0.5,  # us\n",
                "    },\n",
                "}"
            ]
        },
        {
            "cell_type": "code",
            "execution_count": null,
            "id": "3207b4f2",
            "metadata": {},
            "outputs": [],
            "source": [
                "exp_cfg[\"sweep\"] = {\n",
                "    \"flux\": make_sweep(-1.25e-3, -3e-3, 151),\n",
                "    \"freq\": make_sweep(150, 3250, 1201),\n",
                "}\n",
                "cfg = make_cfg(exp_cfg, reps=10000, rounds=10)\n",
                "\n",
                "As, fpts, signals2D = zs.measure_qub_flux_dep(soc, soccfg, cfg)"
            ]
        },
        {
            "cell_type": "code",
            "execution_count": null,
            "id": "abfa3c88",
            "metadata": {},
            "outputs": [],
            "source": [
                "filename = f\"{qub_name}_flux_dep\"\n",
                "save_data(\n",
                "    filepath=os.path.join(database_path, filename),\n",
                "    y_info={\"name\": \"Current\", \"unit\": \"A\", \"values\": As},\n",
                "    x_info={\"name\": \"Frequency\", \"unit\": \"Hz\", \"values\": fpts * 1e6},\n",
                "    z_info={\"name\": \"Signal\", \"unit\": \"a.u.\", \"values\": signals2D},\n",
                "    comment=make_comment(cfg),\n",
                "    tag=\"TwoTone/flux\",\n",
                "    server_ip=data_host,\n",
                ")"
            ]
        },
        {
            "cell_type": "code",
            "execution_count": null,
            "id": "0159562f",
            "metadata": {},
            "outputs": [],
            "source": [
                "cur_A = -3e-3\n",
                "YokoDevControl.set_current(cur_A)\n",
                "DefaultCfg.set_dev(flux=cur_A)"
            ]
        },
        {
            "cell_type": "markdown",
            "id": "2c4c02fc",
            "metadata": {},
            "source": [
                "## AC Stark Shift"
            ]
        },
        {
            "cell_type": "code",
            "execution_count": null,
            "id": "f95e4ae0",
            "metadata": {},
            "outputs": [],
            "source": [
                "exp_cfg = {\n",
                "    \"dac\": {\n",
                "        \"res_pulse\": \"readout_dpm\",\n",
                "        \"stark_res_pulse\": {\n",
                "            **DefaultCfg.get_pulse(\"readout_dpm\"),\n",
                "            \"length\": 1.1,\n",
                "            \"ro_length\": None,\n",
                "            \"trig_offset\": None,\n",
                "        },\n",
                "        \"stark_qub_pulse\": {\n",
                "            **DefaultCfg.get_pulse(\"pi_amp\"),\n",
                "            # \"length\": 3,\n",
                "        },\n",
                "        \"reset\": \"mux_dual_pulse\",\n",
                "        \"reset_pulse1\": \"mux_reset1\",\n",
                "        \"reset_pulse2\": \"mux_reset2\",\n",
                "    },\n",
                "    \"adc\": {\n",
                "        \"relax_delay\": 0.0,  # us\n",
                "    },\n",
                "}"
            ]
        },
        {
            "cell_type": "code",
            "execution_count": null,
            "id": "4d93c672",
            "metadata": {},
            "outputs": [],
            "source": [
                "exp_cfg[\"sweep\"] = {\n",
                "    \"gain\": make_sweep(0.00, 0.05, 51),\n",
                "    # \"freq\": make_sweep(q_f - 100, q_f + 100, 101),\n",
                "    \"freq\": make_sweep(q_f - 20, q_f + 20, 101),\n",
                "}\n",
                "cfg = make_cfg(exp_cfg, reps=100, rounds=100)\n",
                "\n",
                "# zs.visualize_ac_stark(soccfg, cfg, time_fly=timeFly)\n",
                "pdrs, fpts, signals2D = zs.measure_ac_stark(soc, soccfg, cfg)"
            ]
        },
        {
            "cell_type": "code",
            "execution_count": null,
            "id": "ffbe59d0",
            "metadata": {},
            "outputs": [],
            "source": [
                "filename = f\"{qub_name}_ac_stark@{cur_A * 1e3:.3f}mA\"\n",
                "save_data(\n",
                "    filepath=os.path.join(database_path, filename),\n",
                "    x_info={\"name\": \"Power\", \"unit\": \"a.u.\", \"values\": pdrs},\n",
                "    y_info={\"name\": \"Frequency\", \"unit\": \"Hz\", \"values\": fpts * 1e6},\n",
                "    z_info={\"name\": \"Signal\", \"unit\": \"a.u.\", \"values\": signals2D},\n",
                "    comment=make_comment(cfg),\n",
                "    tag=\"TwoTone/ac_stark\",\n",
                "    server_ip=data_host,\n",
                ")"
            ]
        },
        {
            "cell_type": "markdown",
            "id": "3c951d26",
            "metadata": {},
            "source": [
                "# Rabi"
            ]
        },
        {
            "cell_type": "markdown",
            "id": "be96f191",
            "metadata": {},
            "source": [
                "## Length Rabi"
            ]
        },
        {
            "cell_type": "code",
            "execution_count": null,
            "id": "06ee4fb8",
            "metadata": {},
            "outputs": [],
            "source": [
                "exp_cfg = {\n",
                "    \"dac\": {\n",
                "        # \"res_pulse\": \"readout_rf\",\n",
                "        \"res_pulse\": \"readout_dpm\",\n",
                "        \"qub_pulse\": {\n",
                "            **DefaultCfg.get_pulse(\"probe_qf\"),\n",
                "            \"ch\": qub_ch,\n",
                "            \"nqz\": 1,\n",
                "            \"freq\": q_f,\n",
                "            \"gain\": 0.3,\n",
                "            # \"gain\": pi_gain,\n",
                "            \"mixer_freq\": q_f,\n",
                "        },\n",
                "        # \"reset\": \"pulse\",\n",
                "        # \"reset_pulse\": \"reset_red\",\n",
                "        \"reset\": \"mux_dual_pulse\",\n",
                "        \"reset_pulse1\": \"mux_reset1\",\n",
                "        \"reset_pulse2\": \"mux_reset2\",\n",
                "    },\n",
                "    \"adc\": {\n",
                "        \"relax_delay\": 0.0,  # us\n",
                "        # \"relax_delay\": 3*t1,  # us\n",
                "    },\n",
                "}"
            ]
        },
        {
            "cell_type": "code",
            "execution_count": null,
            "id": "482dba7e",
            "metadata": {},
            "outputs": [],
            "source": [
                "exp_cfg[\"sweep\"] = make_sweep(0.03, 0.3, 101)\n",
                "# exp_cfg[\"sweep\"] = make_sweep(0.06, 5 * pi_len, 101)\n",
                "cfg = make_cfg(exp_cfg, reps=1000, rounds=20)\n",
                "\n",
                "# zs.visualize_lenrabi(soccfg, cfg, force_align=False, time_fly=timeFly)\n",
                "Ts, signals = zs.measure_lenrabi(soc, soccfg, cfg, force_align=False)"
            ]
        },
        {
            "cell_type": "code",
            "execution_count": null,
            "id": "b4c22ec5",
            "metadata": {},
            "outputs": [],
            "source": [
                "%matplotlib inline\n",
                "pi_len, pi2_len = zf.rabi_analyze(\n",
                "    Ts, signals, decay=False, max_contrast=True, xlabel=\"Time (us)\"\n",
                ")\n",
                "pi_len, pi2_len"
            ]
        },
        {
            "cell_type": "code",
            "execution_count": null,
            "id": "e9479424",
            "metadata": {},
            "outputs": [],
            "source": [
                "filename = f\"{qub_name}_len_rabi@{cur_A * 1e3:.3f}mA\"\n",
                "save_data(\n",
                "    filepath=os.path.join(database_path, filename),\n",
                "    x_info={\"name\": \"Pulse Length\", \"unit\": \"s\", \"values\": Ts * 1e-6},\n",
                "    z_info={\"name\": \"Signal\", \"unit\": \"a.u.\", \"values\": signals},\n",
                "    comment=make_comment(cfg, f\"pi len = {pi_len}us\\npi/2 len = {pi2_len}us\"),\n",
                "    tag=\"TimeDomain/len_rabi\",\n",
                "    server_ip=data_host,\n",
                ")"
            ]
        },
        {
            "cell_type": "markdown",
            "id": "1312ff1a",
            "metadata": {},
            "source": [
                "### Set Pi Pulse"
            ]
        },
        {
            "cell_type": "code",
            "execution_count": null,
            "id": "ab98fb45",
            "metadata": {},
            "outputs": [],
            "source": [
                "# pi_len = 1.0\n",
                "# pi2_len = 0.5"
            ]
        },
        {
            "cell_type": "code",
            "execution_count": null,
            "id": "aafbdc58",
            "metadata": {},
            "outputs": [],
            "source": [
                "DefaultCfg.set_pulse(\n",
                "    pi_len={\n",
                "        **cfg[\"dac\"][\"qub_pulse\"],\n",
                "        \"length\": pi_len,\n",
                "        \"desc\": \"len pi pulse\",\n",
                "    },\n",
                "    pi2_len={\n",
                "        **cfg[\"dac\"][\"qub_pulse\"],\n",
                "        \"length\": pi2_len,\n",
                "        \"desc\": \"len pi/2 pulse\",\n",
                "    },\n",
                ")\n",
                "visualize_pulse([DefaultCfg.get_pulse(\"pi_len\"), DefaultCfg.get_pulse(\"pi2_len\")])"
            ]
        },
        {
            "cell_type": "markdown",
            "id": "e3f9fb13",
            "metadata": {},
            "source": [
                "## Amplitude Rabi"
            ]
        },
        {
            "cell_type": "code",
            "execution_count": null,
            "id": "cfbef5ed",
            "metadata": {},
            "outputs": [],
            "source": [
                "# pi_gain = 0.1\n",
                "max_gain = min(5 * pi_gain, 1.0)\n",
                "exp_cfg = {\n",
                "    \"dac\": {\n",
                "        # \"res_pulse\": \"readout_rf\",\n",
                "        \"res_pulse\": \"readout_dpm\",\n",
                "        \"qub_pulse\": {\n",
                "            **DefaultCfg.get_pulse(\"probe_qf\"),\n",
                "            \"ch\": qub_ch,\n",
                "            \"nqz\": 1,\n",
                "            \"freq\": q_f,\n",
                "            # \"length\": 5.0,\n",
                "            # \"length\": 3 * pi_len,\n",
                "            \"length\": 5 * pi_len * pi_gain / max_gain,\n",
                "            \"mixer_freq\": q_f,\n",
                "        },\n",
                "        # \"reset\": \"pulse\",\n",
                "        # \"reset_pulse\": \"reset_red\",\n",
                "        \"reset\": \"mux_dual_pulse\",\n",
                "        \"reset_pulse1\": \"mux_reset1\",\n",
                "        \"reset_pulse2\": \"mux_reset2\",\n",
                "    },\n",
                "    \"adc\": {\n",
                "        \"relax_delay\": 0.0,  # us\n",
                "        # \"relax_delay\": 3*t1,  # us\n",
                "    },\n",
                "}"
            ]
        },
        {
            "cell_type": "code",
            "execution_count": null,
            "id": "905882fa",
            "metadata": {},
            "outputs": [],
            "source": [
                "# exp_cfg[\"sweep\"] = make_sweep(0.0, 1.0, 51)\n",
                "exp_cfg[\"sweep\"] = make_sweep(0.0, max_gain, 51)\n",
                "cfg = make_cfg(exp_cfg, reps=1000, rounds=10)\n",
                "\n",
                "# zs.visualize_amprabi(soccfg, cfg, time_fly=timeFly)\n",
                "pdrs, signals = zs.measure_amprabi(soc, soccfg, cfg)"
            ]
        },
        {
            "cell_type": "code",
            "execution_count": null,
            "id": "1dc3beb0",
            "metadata": {},
            "outputs": [],
            "source": [
                "%matplotlib inline\n",
                "pi_gain, pi2_gain = zf.rabi_analyze(\n",
                "    pdrs, signals, decay=True, max_contrast=True, xlabel=\"Power (a.u.)\"\n",
                ")\n",
                "pi_gain = int(pi_gain + 0.5) if pi_gain > 1.0 else pi_gain\n",
                "pi2_gain = int(pi2_gain + 0.5) if pi2_gain > 1.0 else pi2_gain\n",
                "pi_gain, pi2_gain"
            ]
        },
        {
            "cell_type": "code",
            "execution_count": null,
            "id": "69ccc4e6",
            "metadata": {},
            "outputs": [],
            "source": [
                "filename = f\"{qub_name}_amp_rabi@{cur_A * 1e3:.3f}mA\"\n",
                "save_data(\n",
                "    filepath=os.path.join(database_path, filename),\n",
                "    x_info={\"name\": \"Amplitude\", \"unit\": \"a.u.\", \"values\": pdrs},\n",
                "    z_info={\"name\": \"Signal\", \"unit\": \"a.u.\", \"values\": signals},\n",
                "    comment=make_comment(cfg, f\"pi gain = {pi_gain}\\npi/2 gain = {pi2_gain}\"),\n",
                "    tag=\"TimeDomain/amp_rabi\",\n",
                "    server_ip=data_host,\n",
                ")"
            ]
        },
        {
            "cell_type": "markdown",
            "id": "dbc83321",
            "metadata": {},
            "source": [
                "### Set Pi Pulse"
            ]
        },
        {
            "cell_type": "code",
            "execution_count": null,
            "id": "344cf6f8",
            "metadata": {},
            "outputs": [],
            "source": [
                "# pi_gain = 1.0\n",
                "# pi2_gain = 0.5"
            ]
        },
        {
            "cell_type": "code",
            "execution_count": null,
            "id": "baf2d905",
            "metadata": {},
            "outputs": [],
            "source": [
                "DefaultCfg.set_pulse(\n",
                "    pi_amp={\n",
                "        **cfg[\"dac\"][\"qub_pulse\"],\n",
                "        \"gain\": pi_gain,\n",
                "        \"desc\": \"amp pi pulse\",\n",
                "    },\n",
                "    pi2_amp={\n",
                "        **cfg[\"dac\"][\"qub_pulse\"],\n",
                "        \"gain\": pi2_gain,\n",
                "        \"desc\": \"amp pi/2 pulse\",\n",
                "    },\n",
                ")\n",
                "visualize_pulse([DefaultCfg.get_pulse(\"pi_amp\"), DefaultCfg.get_pulse(\"pi2_amp\")])\n"
            ]
        },
        {
            "cell_type": "markdown",
            "id": "cb7cc021",
            "metadata": {},
            "source": [
                "# Optimize Readout"
            ]
        },
        {
            "attachments": {},
            "cell_type": "markdown",
            "id": "9c86245b",
            "metadata": {},
            "source": [
                "## Frequency tuning"
            ]
        },
        {
            "cell_type": "code",
            "execution_count": null,
            "id": "ac5d7421",
            "metadata": {},
            "outputs": [],
            "source": [
                "exp_cfg = {\n",
                "    \"dac\": {\n",
                "        \"res_pulse\": {\n",
                "            **DefaultCfg.get_pulse(\"readout_rf\"),\n",
                "            # \"freq\": fpt_max,\n",
                "            # \"gain\": pdr_max,\n",
                "        },\n",
                "        # \"qub_pulse\": \"pi_len\",\n",
                "        \"qub_pulse\": \"pi_amp\",\n",
                "        # \"qub_pulse\": \"reset_red\",\n",
                "        # \"qub_pulse\": {\n",
                "        #     **DefaultCfg.get_pulse('probe_qf'),\n",
                "        #     \"ch\": qub_ch,\n",
                "        #     \"nqz\": 1,\n",
                "        #     \"freq\": q_f,\n",
                "        #     \"gain\": 0.02,\n",
                "        #     \"length\": 2,  # us\n",
                "        # },\n",
                "        # \"reset\": \"pulse\",\n",
                "        # \"reset_pulse\": \"reset_red\",\n",
                "        \"reset\": \"mux_dual_pulse\",\n",
                "        \"reset_pulse1\": \"mux_reset1\",\n",
                "        \"reset_pulse2\": \"mux_reset2\",\n",
                "    },\n",
                "    \"adc\": {\n",
                "        \"relax_delay\": 0.1,  # us\n",
                "        # \"relax_delay\": t1\n",
                "    },\n",
                "}"
            ]
        },
        {
            "cell_type": "code",
            "execution_count": null,
            "id": "468724e6",
            "metadata": {},
            "outputs": [],
            "source": [
                "exp_cfg[\"sweep\"] = make_sweep(r_f - 10, r_f + 10, 51)\n",
                "cfg = make_cfg(exp_cfg, reps=1000, rounds=10)\n",
                "\n",
                "fpts, snrs = zs.qubit.measure_ge_freq_dep(soc, soccfg, cfg)"
            ]
        },
        {
            "cell_type": "code",
            "execution_count": null,
            "id": "0e496abd",
            "metadata": {},
            "outputs": [],
            "source": [
                "fpt_max = zf.dispersive1D_analyze(fpts, snrs, xlabel=\"Frequency (MHz)\")"
            ]
        },
        {
            "cell_type": "code",
            "execution_count": null,
            "id": "298baff6",
            "metadata": {},
            "outputs": [],
            "source": [
                "filename = f\"{qub_name}_ge_fpt@{cur_A * 1e3:.3f}mA\"\n",
                "save_data(\n",
                "    filepath=os.path.join(database_path, filename),\n",
                "    x_info={\"name\": \"Frequency\", \"unit\": \"Hz\", \"values\": fpts * 1e6},\n",
                "    z_info={\"name\": \"SNR\", \"unit\": \"a.u.\", \"values\": snrs},\n",
                "    comment=make_comment(cfg),\n",
                "    tag=\"TwoTone/dispersive/fpt\",\n",
                "    server_ip=data_host,\n",
                ")"
            ]
        },
        {
            "attachments": {},
            "cell_type": "markdown",
            "id": "a0abdadd",
            "metadata": {},
            "source": [
                "## Power tuning"
            ]
        },
        {
            "cell_type": "code",
            "execution_count": null,
            "id": "681efd2d",
            "metadata": {},
            "outputs": [],
            "source": [
                "exp_cfg = {\n",
                "    \"dac\": {\n",
                "        \"res_pulse\": {\n",
                "            **DefaultCfg.get_pulse(\"readout_rf\"),\n",
                "            \"freq\": fpt_max,\n",
                "            # \"gain\": pdr_max,\n",
                "        },\n",
                "        # \"qub_pulse\": \"pi_len\",\n",
                "        \"qub_pulse\": \"pi_amp\",\n",
                "        # \"qub_pulse\": \"reset_red\",\n",
                "        # \"qub_pulse\": {\n",
                "        #     **DefaultCfg.get_pulse('probe_qf'),\n",
                "        #     \"ch\": qub_ch,\n",
                "        #     \"nqz\": 1,\n",
                "        #     \"freq\": q_f,\n",
                "        #     \"gain\": 0.02,\n",
                "        #     \"length\": 2,  # us\n",
                "        # },\n",
                "        # \"reset\": \"pulse\",\n",
                "        # \"reset_pulse\": \"reset_red\",\n",
                "        \"reset\": \"mux_dual_pulse\",\n",
                "        \"reset_pulse1\": \"mux_reset1\",\n",
                "        \"reset_pulse2\": \"mux_reset2\",\n",
                "    },\n",
                "    \"adc\": {\n",
                "        \"relax_delay\": 0.0,  # us\n",
                "        # \"relax_delay\": t1\n",
                "    },\n",
                "}"
            ]
        },
        {
            "cell_type": "code",
            "execution_count": null,
            "id": "8a2c0bbe",
            "metadata": {},
            "outputs": [],
            "source": [
                "exp_cfg[\"sweep\"] = make_sweep(0.01, 1.0, 31)\n",
                "cfg = make_cfg(exp_cfg, reps=1000, rounds=10)\n",
                "\n",
                "pdrs, snrs = zs.qubit.measure_ge_pdr_dep(soc, soccfg, cfg)"
            ]
        },
        {
            "cell_type": "code",
            "execution_count": null,
            "id": "a3e9f243",
            "metadata": {},
            "outputs": [],
            "source": [
                "pdr_max = zf.dispersive1D_analyze(pdrs, snrs, xlabel=\"Probe Power (a.u)\")"
            ]
        },
        {
            "cell_type": "code",
            "execution_count": null,
            "id": "b1296874",
            "metadata": {},
            "outputs": [],
            "source": [
                "filename = f\"{qub_name}_ge_pdr@{cur_A * 1e3:.3f}mA\"\n",
                "save_data(\n",
                "    filepath=os.path.join(database_path, filename),\n",
                "    x_info={\"name\": \"Probe Power (a.u)\", \"unit\": \"s\", \"values\": pdrs},\n",
                "    z_info={\"name\": \"SNR\", \"unit\": \"a.u.\", \"values\": snrs},\n",
                "    comment=make_comment(cfg),\n",
                "    tag=\"TwoTone/dispersive/pdr\",\n",
                "    server_ip=data_host,\n",
                ")"
            ]
        },
        {
            "attachments": {},
            "cell_type": "markdown",
            "id": "e87c65d2",
            "metadata": {},
            "source": [
                "## Readout Length tuning"
            ]
        },
        {
            "cell_type": "code",
            "execution_count": null,
            "id": "b3c9145d",
            "metadata": {},
            "outputs": [],
            "source": [
                "exp_cfg = {\n",
                "    \"dac\": {\n",
                "        \"res_pulse\": {\n",
                "            **DefaultCfg.get_pulse(\"readout_rf\"),\n",
                "            \"freq\": fpt_max,\n",
                "            \"gain\": pdr_max,\n",
                "        },\n",
                "        # \"qub_pulse\": \"pi_len\",\n",
                "        \"qub_pulse\": \"pi_amp\",\n",
                "        # \"qub_pulse\": \"reset_red\",\n",
                "        # \"qub_pulse\": {\n",
                "        #     **DefaultCfg.get_pulse('probe_qf'),\n",
                "        #     \"ch\": qub_ch,\n",
                "        #     \"nqz\": 1,\n",
                "        #     \"freq\": q_f,\n",
                "        #     \"gain\": 0.02,\n",
                "        #     \"length\": 2,  # us\n",
                "        # },\n",
                "        # \"reset\": \"pulse\",\n",
                "        # \"reset_pulse\": \"reset_red\",\n",
                "        \"reset\": \"mux_dual_pulse\",\n",
                "        \"reset_pulse1\": \"mux_reset1\",\n",
                "        \"reset_pulse2\": \"mux_reset2\",\n",
                "    },\n",
                "    \"adc\": {\n",
                "        \"relax_delay\": 0.0,  # us\n",
                "        # \"relax_delay\": t1\n",
                "    },\n",
                "}"
            ]
        },
        {
            "cell_type": "code",
            "execution_count": null,
            "id": "fec11a72",
            "metadata": {},
            "outputs": [],
            "source": [
                "exp_cfg[\"sweep\"] = make_sweep(0.1, 15.0, 31)\n",
                "cfg = make_cfg(exp_cfg, reps=10000, rounds=1)\n",
                "\n",
                "ro_lens, snrs = zs.qubit.measure_ge_ro_dep(soc, soccfg, cfg)"
            ]
        },
        {
            "cell_type": "code",
            "execution_count": null,
            "id": "b70d8b99",
            "metadata": {},
            "outputs": [],
            "source": [
                "ro_max = zf.dispersive_ro_len_analyze(ro_lens, snrs, t0=30.0)\n",
                "ro_max"
            ]
        },
        {
            "cell_type": "code",
            "execution_count": null,
            "id": "7b7a90f1",
            "metadata": {},
            "outputs": [],
            "source": [
                "# ro_max = 3.0"
            ]
        },
        {
            "cell_type": "code",
            "execution_count": null,
            "id": "89ed4eff",
            "metadata": {},
            "outputs": [],
            "source": [
                "filename = f\"{qub_name}_ge_ro@{cur_A * 1e3:.3f}mA\"\n",
                "save_data(\n",
                "    filepath=os.path.join(database_path, filename),\n",
                "    x_info={\"name\": \"Readout length\", \"unit\": \"s\", \"values\": ro_lens * 1e-6},\n",
                "    z_info={\"name\": \"SNR\", \"unit\": \"a.u.\", \"values\": snrs},\n",
                "    comment=make_comment(cfg),\n",
                "    tag=\"TwoTone/dispersive/ro_len\",\n",
                "    server_ip=data_host,\n",
                ")"
            ]
        },
        {
            "cell_type": "code",
            "execution_count": null,
            "id": "0d0879d3",
            "metadata": {},
            "outputs": [],
            "source": [
                "DefaultCfg.set_pulse(\n",
                "    readout_dpm={\n",
                "        **DefaultCfg.get_pulse(\"readout_rf\"),\n",
                "        \"freq\": fpt_max,\n",
                "        \"gain\": pdr_max,\n",
                "        \"length\": ro_max + 0.2,\n",
                "        \"ro_length\": ro_max,\n",
                "        \"pre_delay\": 0.0,\n",
                "        \"desc\": \"Readout with largest dispersive shift\",\n",
                "    },\n",
                ")\n",
                "visualize_pulse(DefaultCfg.get_pulse(\"readout_dpm\"), time_fly=timeFly)"
            ]
        },
        {
            "cell_type": "markdown",
            "id": "8e5b85dc",
            "metadata": {},
            "source": [
                "# T1 & T2"
            ]
        },
        {
            "cell_type": "markdown",
            "id": "77872439",
            "metadata": {},
            "source": [
                "## T2Ramsey"
            ]
        },
        {
            "cell_type": "code",
            "execution_count": null,
            "id": "e43e8b47",
            "metadata": {},
            "outputs": [],
            "source": [
                "orig_qf = DefaultCfg.get_pulse(\"pi_amp\")[\"freq\"]\n",
                "orig_qf"
            ]
        },
        {
            "cell_type": "code",
            "execution_count": null,
            "id": "d99b6b5c",
            "metadata": {},
            "outputs": [],
            "source": [
                "exp_cfg = {\n",
                "    \"dac\": {\n",
                "        \"res_pulse\": \"readout_dpm\",\n",
                "        \"qub_pulse\": \"pi2_amp\",\n",
                "        # \"reset\": \"pulse\",\n",
                "        # \"reset_pulse\": \"reset_red\",\n",
                "        \"reset\": \"mux_dual_pulse\",\n",
                "        \"reset_pulse1\": \"mux_reset1\",\n",
                "        \"reset_pulse2\": \"mux_reset2\",\n",
                "    },\n",
                "    \"adc\": {\n",
                "        \"relax_delay\": 0.5,  # us\n",
                "        # \"relax_delay\": 3*t1,  # us\n",
                "    },\n",
                "}"
            ]
        },
        {
            "cell_type": "code",
            "execution_count": null,
            "id": "a7570f91",
            "metadata": {},
            "outputs": [],
            "source": [
                "# exp_cfg[\"sweep\"] = make_sweep(0, 15.0, 101)  # us\n",
                "exp_cfg[\"sweep\"] = make_sweep(0, 3 * t2r, 101)  # us\n",
                "cfg = make_cfg(exp_cfg, reps=1000, rounds=10)\n",
                "\n",
                "activate_detune = 20.0 / (cfg[\"sweep\"][\"stop\"] - cfg[\"sweep\"][\"start\"])\n",
                "print(f\"activate_detune: {activate_detune:.2f}\")\n",
                "# zs.visualize_t2ramsey(soccfg, cfg, detune=activate_detune, time_fly=timeFly)\n",
                "Ts, signals = zs.measure_t2ramsey(soc, soccfg, cfg, detune=activate_detune)"
            ]
        },
        {
            "cell_type": "code",
            "execution_count": null,
            "id": "e236299f",
            "metadata": {},
            "outputs": [],
            "source": [
                "%matplotlib inline\n",
                "t2r, detune, _, _ = zf.T2fringe_analyze(Ts, signals, max_contrast=True)\n",
                "# t2d, _ = zf.T2decay_analyze(Ts, signals, max_contrast=True)\n",
                "print(f\"real detune: {(detune-activate_detune)*1e3:.1f}kHz\")"
            ]
        },
        {
            "cell_type": "code",
            "execution_count": null,
            "id": "6e3efcba",
            "metadata": {},
            "outputs": [],
            "source": [
                "filename = f\"{qub_name}_t2ramsey@{cur_A * 1e3:.3f}mA\"\n",
                "save_data(\n",
                "    filepath=os.path.join(database_path, filename),\n",
                "    x_info={\"name\": \"Time\", \"unit\": \"s\", \"values\": Ts * 1e-6},\n",
                "    z_info={\"name\": \"Signal\", \"unit\": \"a.u.\", \"values\": signals},\n",
                "    comment=make_comment(cfg, f\"detune = {detune}MHz\\nt2r = {t2r}us\"),\n",
                "    tag=\"TimeDomain/t2ramsey\",\n",
                "    server_ip=data_host,\n",
                ")"
            ]
        },
        {
            "cell_type": "code",
            "execution_count": null,
            "id": "b446eabe",
            "metadata": {},
            "outputs": [],
            "source": [
                "q_f = orig_qf + activate_detune - detune\n",
                "q_f"
            ]
        },
        {
            "cell_type": "markdown",
            "id": "02f0b73b",
            "metadata": {},
            "source": [
                "## T1"
            ]
        },
        {
            "cell_type": "code",
            "execution_count": null,
            "id": "25d1e94a",
            "metadata": {},
            "outputs": [],
            "source": [
                "exp_cfg = {\n",
                "    \"dac\": {\n",
                "        # \"res_pulse\": \"readout_rf\",\n",
                "        \"res_pulse\": \"readout_dpm\",\n",
                "        \"qub_pulse\": {\n",
                "            **DefaultCfg.get_pulse(\"pi_amp\"),\n",
                "            # \"gain\": 0.0,\n",
                "        },\n",
                "        # \"reset\": \"pulse\",\n",
                "        # \"reset_pulse\": \"reset_red\",\n",
                "        \"reset\": \"mux_dual_pulse\",\n",
                "        \"reset_pulse1\": \"mux_reset1\",\n",
                "        \"reset_pulse2\": \"mux_reset2\",\n",
                "    },\n",
                "    \"adc\": {\n",
                "        \"relax_delay\": 0.0,  # us\n",
                "        # \"relax_delay\": 3*t1,  # us\n",
                "    },\n",
                "}"
            ]
        },
        {
            "cell_type": "code",
            "execution_count": null,
            "id": "9aca0101",
            "metadata": {},
            "outputs": [],
            "source": [
                "# exp_cfg[\"sweep\"] = make_sweep(0.0, 50, 51)\n",
                "exp_cfg[\"sweep\"] = make_sweep(0.01, 5 * t1, 51)\n",
                "cfg = make_cfg(exp_cfg, reps=1000, rounds=10)\n",
                "\n",
                "# zs.visualize_t1(soccfg, cfg, time_fly=timeFly)\n",
                "Ts, signals = zs.measure_t1(soc, soccfg, cfg)"
            ]
        },
        {
            "cell_type": "code",
            "execution_count": null,
            "id": "5a0ffcde",
            "metadata": {},
            "outputs": [],
            "source": [
                "start = 1\n",
                "stop = -1\n",
                "\n",
                "%matplotlib inline\n",
                "t1, _ = zf.T1_analyze(\n",
                "    Ts[start:stop], signals[start:stop], max_contrast=True, dual_exp=False\n",
                ")\n",
                "t1"
            ]
        },
        {
            "cell_type": "code",
            "execution_count": null,
            "id": "4a369089",
            "metadata": {
                "lines_to_next_cell": 2
            },
            "outputs": [],
            "source": [
                "filename = f\"{qub_name}_t1@{cur_A * 1e3:.3f}mA\"\n",
                "save_data(\n",
                "    filepath=os.path.join(database_path, filename),\n",
                "    x_info={\"name\": \"Time\", \"unit\": \"s\", \"values\": Ts * 1e-6},\n",
                "    z_info={\"name\": \"Signal\", \"unit\": \"a.u.\", \"values\": signals},\n",
                "    comment=make_comment(cfg, f\"t1 = {t1}us\"),\n",
                "    tag=\"TimeDomain/t1\",\n",
                "    server_ip=data_host,\n",
                ")"
            ]
        },
        {
            "cell_type": "markdown",
            "id": "510fe3df",
            "metadata": {},
            "source": [
                "## T2Echo"
            ]
        },
        {
            "cell_type": "code",
            "execution_count": null,
            "id": "3d8ef189",
            "metadata": {},
            "outputs": [],
            "source": [
                "exp_cfg = {\n",
                "    \"dac\": {\n",
                "        \"res_pulse\": \"readout_dpm\",\n",
                "        \"pi_pulse\": \"pi_amp\",\n",
                "        \"pi2_pulse\": \"pi2_amp\",\n",
                "        # \"reset\": \"pulse\",\n",
                "        # \"reset_pulse\": \"reset_red\",\n",
                "        \"reset\": \"mux_dual_pulse\",\n",
                "        \"reset_pulse1\": \"mux_reset1\",\n",
                "        \"reset_pulse2\": \"mux_reset2\",\n",
                "    },\n",
                "    \"adc\": {\n",
                "        \"relax_delay\": 0.5,  # us\n",
                "        # \"relax_delay\": 3*t1,  # us\n",
                "    },\n",
                "}"
            ]
        },
        {
            "cell_type": "code",
            "execution_count": null,
            "id": "bf0289fc",
            "metadata": {},
            "outputs": [],
            "source": [
                "# exp_cfg[\"sweep\"] = make_sweep(0.0, 1.5 * t2r, 101)\n",
                "exp_cfg[\"sweep\"] = make_sweep(0.0, 1.5 * t2e, 101)\n",
                "cfg = make_cfg(exp_cfg, reps=1000, rounds=10)\n",
                "\n",
                "activate_detune = 5.0 / (cfg[\"sweep\"][\"stop\"] - cfg[\"sweep\"][\"start\"])\n",
                "print(f\"activate_detune: {activate_detune:.2f}\")\n",
                "# zs.visualize_t2echo(soccfg, cfg, detune=activate_detune, time_fly=timeFly)\n",
                "Ts, signals = zs.measure_t2echo(soc, soccfg, cfg, detune=activate_detune)"
            ]
        },
        {
            "cell_type": "code",
            "execution_count": null,
            "id": "2104a37d",
            "metadata": {},
            "outputs": [],
            "source": [
                "%matplotlib inline\n",
                "t2e, detune, _, _ = zf.T2fringe_analyze(Ts, signals, max_contrast=True)\n",
                "# t2e, _ = zf.T2decay_analyze(Ts, signals, max_contrast=True)"
            ]
        },
        {
            "cell_type": "code",
            "execution_count": null,
            "id": "26b5467b",
            "metadata": {},
            "outputs": [],
            "source": [
                "filename = f\"{qub_name}_t2echo@{cur_A * 1e3:.3f}mA\"\n",
                "save_data(\n",
                "    filepath=os.path.join(database_path, filename),\n",
                "    x_info={\"name\": \"Time\", \"unit\": \"s\", \"values\": Ts * 1e-6},\n",
                "    z_info={\"name\": \"Signal\", \"unit\": \"a.u.\", \"values\": signals},\n",
                "    comment=make_comment(cfg, f\"t2echo = {t2e}us\"),\n",
                "    tag=\"TimeDomain/t2echo\",\n",
                "    server_ip=data_host,\n",
                ")"
            ]
        },
        {
            "cell_type": "markdown",
            "id": "916d56c9",
            "metadata": {},
            "source": [
                "# Single shot"
            ]
        },
        {
            "cell_type": "markdown",
            "id": "e3bf66fc",
            "metadata": {},
            "source": [
                "## Ground state & Excited state"
            ]
        },
        {
            "cell_type": "code",
            "execution_count": null,
            "id": "67af73be",
            "metadata": {},
            "outputs": [],
            "source": [
                "exp_cfg = {\n",
                "    \"dac\": {\n",
                "        # \"res_pulse\": \"readout_rf\",\n",
                "        \"res_pulse\": {\n",
                "            **DefaultCfg.get_pulse(\"readout_dpm\"),\n",
                "            # \"length\": 0.2 * t1 + timeFly + 0.1,\n",
                "            # \"ro_length\": 0.2 * t1,\n",
                "        },\n",
                "        \"qub_pulse\": \"pi_amp\",\n",
                "        # \"qub_pulse\": \"reset_red\",\n",
                "        # \"qub_pulse\": {\n",
                "        #     **DefaultCfg.get_pulse(\"pi_amp\"),\n",
                "        #     # \"gain\": 0.0,\n",
                "        # },\n",
                "        # \"reset\": \"pulse\",\n",
                "        # \"reset_pulse\": \"reset_red\",\n",
                "        \"reset\": \"mux_dual_pulse\",\n",
                "        \"reset_pulse1\": \"mux_reset1\",\n",
                "        \"reset_pulse2\": \"mux_reset2\",\n",
                "    },\n",
                "    \"adc\": {\n",
                "        # \"relax_delay\": 5 * t1,  # us\n",
                "        \"relax_delay\": 0.0,  # us\n",
                "    },\n",
                "}\n",
                "exp_cfg[\"dac\"][\"res_pulse\"][\"ro_length\"]"
            ]
        },
        {
            "cell_type": "code",
            "execution_count": null,
            "id": "a9e8acc2",
            "metadata": {},
            "outputs": [],
            "source": [
                "cfg = make_cfg(exp_cfg, shots=1000000)\n",
                "\n",
                "%matplotlib widget\n",
                "signals = zs.measure_singleshot(soc, soccfg, cfg)"
            ]
        },
        {
            "cell_type": "code",
            "execution_count": null,
            "id": "57cae725",
            "metadata": {},
            "outputs": [],
            "source": [
                "%matplotlib inline\n",
                "fid, _, _, pops = zf.singleshot_ge_analysis(signals, backend=\"pca\")\n",
                "print(f\"Optimal fidelity after rotation = {fid:.1%}\")"
            ]
        },
        {
            "cell_type": "code",
            "execution_count": null,
            "id": "7ed1b663",
            "metadata": {},
            "outputs": [],
            "source": [
                "n_gg, n_ge, n_eg, n_ee = pops\n",
                "n_g = n_gg\n",
                "n_e = n_ge\n",
                "if n_e > n_g:\n",
                "    n_g, n_e = n_e, n_g\n",
                "n_g, n_e"
            ]
        },
        {
            "cell_type": "code",
            "execution_count": null,
            "id": "02842da4",
            "metadata": {},
            "outputs": [],
            "source": [
                "eff_T, err_T = zf.effective_temperature(population=[(n_g, 0.0), (n_e, q_f)], plot=False)\n",
                "eff_T, err_T"
            ]
        },
        {
            "cell_type": "code",
            "execution_count": null,
            "id": "a32f6938",
            "metadata": {},
            "outputs": [],
            "source": [
                "# filename = f\"single_shot_rf_{qub_name}\"\n",
                "filename = f\"{qub_name}_singleshot_ge@{cur_A * 1e3:.3f}mA\"\n",
                "save_data(\n",
                "    filepath=os.path.join(database_path, filename),\n",
                "    x_info={\"name\": \"shot\", \"unit\": \"point\", \"values\": np.arange(cfg[\"shots\"])},\n",
                "    z_info={\"name\": \"Signal\", \"unit\": \"a.u.\", \"values\": signals},\n",
                "    y_info={\"name\": \"ge\", \"unit\": \"\", \"values\": np.array([0, 1])},\n",
                "    comment=make_comment(\n",
                "        cfg, f\"fide: {fid:.1%}, (n_g, n_e): ({n_g:.1%}, {n_e:.1%}), eff_T: {eff_T:.1f}\"\n",
                "    ),\n",
                "    tag=\"SingleShot/ge\",\n",
                "    server_ip=data_host,\n",
                ")"
            ]
        },
        {
            "cell_type": "code",
            "execution_count": null,
            "id": "2849906a",
            "metadata": {},
            "outputs": [],
            "source": []
        }
    ],
    "metadata": {
        "jupytext": {
            "cell_metadata_filter": "-all",
            "custom_cell_magics": "kql",
            "formats": "ipynb,py:percent"
        },
        "kernelspec": {
            "display_name": "axelenv",
            "language": "python",
            "name": "python3"
        },
        "language_info": {
            "codemirror_mode": {
                "name": "ipython",
                "version": 3
            },
            "file_extension": ".py",
            "mimetype": "text/x-python",
            "name": "python",
            "nbconvert_exporter": "python",
            "pygments_lexer": "ipython3",
            "version": "3.8.20"
        }
    },
    "nbformat": 4,
    "nbformat_minor": 5
}
