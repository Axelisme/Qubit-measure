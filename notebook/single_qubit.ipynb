{
 "cells": [
  {
   "cell_type": "code",
   "execution_count": null,
   "id": "2fd246a1",
   "metadata": {},
   "outputs": [],
   "source": [
    "%load_ext autoreload\n",
    "import os\n",
    "\n",
    "import numpy as np\n",
    "from pprint import pprint\n",
    "\n",
    "%autoreload 2\n",
    "import zcu_tools.analysis as zf  # noqa: E402\n",
    "import zcu_tools.schedule.v1 as zs  # noqa: E402\n",
    "\n",
    "# ruff: noqa: I001\n",
    "from zcu_tools import (  # noqa: E402\n",
    "    DefaultCfg,\n",
    "    create_datafolder,\n",
    "    make_cfg,\n",
    "    make_sweep,\n",
    "    save_data,\n",
    "    make_comment,\n",
    ")"
   ]
  },
  {
   "cell_type": "code",
   "execution_count": null,
   "id": "6a497f43",
   "metadata": {},
   "outputs": [],
   "source": [
    "import zcu_tools.config as zc\n",
    "\n",
    "zc.config.DATA_DRY_RUN = True  # don't save data\n",
    "zc.config.YOKO_DRY_RUN = True  # don't run yoko\n",
    "# zc.config.ZCU_DRY_RUN = True  # don't run zcu"
   ]
  },
  {
   "cell_type": "markdown",
   "id": "3d69e251",
   "metadata": {
    "lines_to_next_cell": 0
   },
   "source": [
    "# Connect to zcu216"
   ]
  },
  {
   "cell_type": "code",
   "execution_count": null,
   "id": "f9e2ce79",
   "metadata": {
    "lines_to_next_cell": 2
   },
   "outputs": [],
   "source": [
    "from zcu_tools.remote import make_proxy\n",
    "from zcu_tools.program.base import MyProgram  # noqa: E402\n",
    "from zcu_tools.tools import get_ip_address\n",
    "\n",
    "ns_host = \"zcu216-2\"\n",
    "ns_port = 8887\n",
    "zc.config.LOCAL_IP = get_ip_address(\"tailscale0\")\n",
    "zc.config.LOCAL_PORT = 8887\n",
    "\n",
    "soc, soccfg, rm_prog = make_proxy(ns_host, ns_port)\n",
    "MyProgram.init_proxy(rm_prog, test=True)\n",
    "print(soccfg)"
   ]
  },
  {
   "cell_type": "code",
   "execution_count": null,
   "id": "adc66be2",
   "metadata": {},
   "outputs": [],
   "source": [
    "# from qick import QickSoc  # noqa: E402\n",
    "\n",
    "# soc = QickSoc()\n",
    "# soccfg = soc\n",
    "# print(soc)"
   ]
  },
  {
   "cell_type": "markdown",
   "id": "d981dee0",
   "metadata": {},
   "source": [
    "# Create data folder"
   ]
  },
  {
   "cell_type": "code",
   "execution_count": null,
   "id": "026fba75",
   "metadata": {},
   "outputs": [],
   "source": [
    "chip_name = \"S001\"\n",
    "\n",
    "# data_host = \"192.168.10.232\"  # cmd-> ipconfig -> ipv4 #controling computer\n",
    "# data_host = \"100.76.229.37\"  # tailscale\n",
    "data_host = None\n",
    "\n",
    "\n",
    "database_path = create_datafolder(os.getcwd(), prefix=chip_name)"
   ]
  },
  {
   "cell_type": "markdown",
   "id": "c4a3937a",
   "metadata": {},
   "source": [
    "# Predefine parameters"
   ]
  },
  {
   "cell_type": "code",
   "execution_count": null,
   "id": "092aa996",
   "metadata": {},
   "outputs": [],
   "source": [
    "DefaultCfg.set_dac(res_ch=4, qub_ch=0)\n",
    "DefaultCfg.set_adc(ro_chs=[0])\n",
    "DefaultCfg.set_dev(flux_dev=\"none\", flux=0.0)"
   ]
  },
  {
   "cell_type": "code",
   "execution_count": null,
   "id": "d4cae5d9",
   "metadata": {},
   "outputs": [],
   "source": [
    "# DefaultCfg.load(\"default_cfg.yaml\")"
   ]
  },
  {
   "cell_type": "markdown",
   "id": "8942ea79",
   "metadata": {},
   "source": [
    "# Initialize the flux"
   ]
  },
  {
   "cell_type": "code",
   "execution_count": null,
   "id": "d117b457",
   "metadata": {},
   "outputs": [],
   "source": [
    "from zcu_tools.device import YokoDevControl  # noqa: E402\n",
    "\n",
    "YokoDevControl.connect_server(\n",
    "    {\n",
    "        \"host_ip\": data_host,\n",
    "        # \"host_ip\": \"127.0.0.1\",\n",
    "        \"dComCfg\": {\"address\": \"0x0B21::0x0039::90ZB35281\", \"interface\": \"USB\"},\n",
    "        \"outputCfg\": {\"Current - Sweep rate\": 10e-6},\n",
    "    },\n",
    "    reinit=True,\n",
    ")\n",
    "DefaultCfg.set_dev(flux_dev=\"yoko\")"
   ]
  },
  {
   "cell_type": "code",
   "execution_count": null,
   "id": "ba7aaab8",
   "metadata": {
    "lines_to_next_cell": 2
   },
   "outputs": [],
   "source": [
    "cur_flux = 0.0e-3\n",
    "YokoDevControl.set_current(cur_flux)\n",
    "DefaultCfg.set_dev(flux=cur_flux)"
   ]
  },
  {
   "cell_type": "markdown",
   "id": "2ac878e7",
   "metadata": {},
   "source": [
    "# Probe pulse"
   ]
  },
  {
   "cell_type": "code",
   "execution_count": null,
   "id": "0fcbdcf5",
   "metadata": {},
   "outputs": [],
   "source": [
    "DefaultCfg.set_pulse(\n",
    "    probe_rf={\n",
    "        # \"style\": \"const\",\n",
    "        # \"style\": \"cosine\",\n",
    "        # \"style\": \"gauss\",\n",
    "        # \"sigma\": 9.5/4,  # us\n",
    "        \"style\": \"flat_top\",\n",
    "        # \"raise_pulse\": {\"style\": \"gauss\", \"length\": 5.0, \"sigma\": 0.2},\n",
    "        \"raise_pulse\": {\"style\": \"cosine\", \"length\": 0.1},\n",
    "        \"length\": 5.0,  # us\n",
    "        \"trig_offset\": 1.0,  # us\n",
    "        \"ro_length\": 4.0,  # us\n",
    "    },\n",
    ")\n",
    "pprint(DefaultCfg.dac_cfgs[\"pulses\"][\"probe_rf\"])"
   ]
  },
  {
   "cell_type": "markdown",
   "id": "2cabde2a",
   "metadata": {},
   "source": [
    "# Lookback"
   ]
  },
  {
   "cell_type": "code",
   "execution_count": null,
   "id": "8b331512",
   "metadata": {
    "lines_to_next_cell": 2
   },
   "outputs": [],
   "source": [
    "exp_cfg = {\n",
    "    \"dac\": {\n",
    "        \"res_pulse\": {\n",
    "            **DefaultCfg.get_pulse(\"probe_rf\"),\n",
    "            # **DefaultCfg.get_pulse(\"readout_dpm\"),\n",
    "            # \"gain\": 1.0,\n",
    "            \"gain\": 30000,\n",
    "            \"freq\": 2231.5,\n",
    "        },\n",
    "    },\n",
    "    \"adc\": {\n",
    "        \"ro_length\": 6.0,  # us\n",
    "        # \"trig_offset\": 0.0,  # us\n",
    "        \"trig_offset\": 0.0,  # us\n",
    "        \"relax_delay\": 0.0,  # us\n",
    "    },\n",
    "}"
   ]
  },
  {
   "cell_type": "code",
   "execution_count": null,
   "id": "8374c6fc",
   "metadata": {},
   "outputs": [],
   "source": [
    "cfg = make_cfg(exp_cfg, rounds=100)\n",
    "\n",
    "Ts, signals = zs.measure_lookback(soc, soccfg, cfg, progress=True)"
   ]
  },
  {
   "cell_type": "code",
   "execution_count": null,
   "id": "a282b98c",
   "metadata": {
    "lines_to_next_cell": 2
   },
   "outputs": [],
   "source": [
    "predict_offset = zf.lookback_show(\n",
    "    Ts, signals, ratio=0.1, pulse_cfg=cfg[\"dac\"][\"res_pulse\"]\n",
    ")\n",
    "predict_offset"
   ]
  },
  {
   "cell_type": "code",
   "execution_count": null,
   "id": "b0702559",
   "metadata": {},
   "outputs": [],
   "source": [
    "timeFly = float(predict_offset)\n",
    "# timeFly = 0.5158072916666666\n",
    "timeFly"
   ]
  },
  {
   "cell_type": "code",
   "execution_count": null,
   "id": "e716bccf",
   "metadata": {},
   "outputs": [],
   "source": [
    "filename = f\"lookback_{cur_flux * 1e3:.3f}mA\"\n",
    "save_data(\n",
    "    filepath=os.path.join(database_path, filename),\n",
    "    x_info={\"name\": \"Time\", \"unit\": \"s\", \"values\": Ts * 1e-6},\n",
    "    z_info={\"name\": \"Signal\", \"unit\": \"a.u.\", \"values\": signals},\n",
    "    comment=make_comment(cfg, f\"adc_trig_offset = {timeFly}us\"),\n",
    "    tag=\"Lookback\",\n",
    "    server_ip=data_host,\n",
    ")"
   ]
  },
  {
   "cell_type": "code",
   "execution_count": null,
   "id": "0efddb1a",
   "metadata": {
    "lines_to_next_cell": 2
   },
   "outputs": [],
   "source": [
    "DefaultCfg.set_adc(timeFly=timeFly)"
   ]
  },
  {
   "cell_type": "markdown",
   "id": "74ceba98",
   "metadata": {},
   "source": [
    "## FFT"
   ]
  },
  {
   "cell_type": "code",
   "execution_count": null,
   "id": "a1fc880f",
   "metadata": {},
   "outputs": [],
   "source": [
    "# pulse_name = \"const\"\n",
    "pulse_name = cfg[\"dac\"][\"res_pulse\"][\"style\"]\n",
    "\n",
    "signal_records = signal_records if \"signal_records\" in locals() else {}  # type: ignore  # noqa\n",
    "signal_records[pulse_name] = (Ts, signals)\n",
    "pprint(signal_records.keys())\n",
    "# del signal_records"
   ]
  },
  {
   "cell_type": "code",
   "execution_count": null,
   "id": "1e4550e1",
   "metadata": {},
   "outputs": [],
   "source": [
    "freqs, ffts = zf.lookback_fft(signal_records, xrange=(-1, 1), pad_ratio=20)"
   ]
  },
  {
   "cell_type": "markdown",
   "id": "488452ce",
   "metadata": {},
   "source": [
    "# Resonator Frequency"
   ]
  },
  {
   "cell_type": "code",
   "execution_count": null,
   "id": "9b9a78c7",
   "metadata": {},
   "outputs": [],
   "source": [
    "res_name = f\"r5_{cur_flux * 1e3:.3f}mA\"\n",
    "res_name"
   ]
  },
  {
   "cell_type": "code",
   "execution_count": null,
   "id": "6843ccf4",
   "metadata": {},
   "outputs": [],
   "source": [
    "exp_cfg = {\n",
    "    \"dac\": {\n",
    "        # \"res_pulse\": \"readout_rf\",\n",
    "        \"res_pulse\": {\n",
    "            **DefaultCfg.get_pulse(\"probe_rf\"),\n",
    "            \"nqz\": 2,\n",
    "            # \"gain\": 1.0,\n",
    "            \"gain\": 30000,\n",
    "        },\n",
    "        # \"reset\": \"pulse\",\n",
    "        # \"reset_pulse\": \"reset_red\"\n",
    "    },\n",
    "    \"adc\": {\n",
    "        \"relax_delay\": 0.0,  # us\n",
    "    },\n",
    "}"
   ]
  },
  {
   "cell_type": "code",
   "execution_count": null,
   "id": "f3f06609",
   "metadata": {},
   "outputs": [],
   "source": [
    "exp_cfg[\"sweep\"] = make_sweep(100, 5000, 101)\n",
    "cfg = make_cfg(exp_cfg, reps=100, rounds=10)\n",
    "\n",
    "fpts, signals = zs.measure_res_freq(soc, soccfg, cfg)"
   ]
  },
  {
   "cell_type": "code",
   "execution_count": null,
   "id": "7ccf10ca",
   "metadata": {},
   "outputs": [],
   "source": [
    "r_f = zf.freq_analyze(fpts, signals, asym=True)\n",
    "r_f"
   ]
  },
  {
   "cell_type": "code",
   "execution_count": null,
   "id": "0f9e562e",
   "metadata": {},
   "outputs": [],
   "source": [
    "filename = f\"res_freq_{res_name}\"\n",
    "save_data(\n",
    "    filepath=os.path.join(database_path, filename),\n",
    "    x_info={\"name\": \"Frequency\", \"unit\": \"Hz\", \"values\": fpts * 1e6},\n",
    "    z_info={\"name\": \"Signal\", \"unit\": \"a.u.\", \"values\": signals},\n",
    "    # comment=make_comment(cfg, f\"resonator frequency = {r_f}MHz\"),\n",
    "    comment=make_comment(cfg),\n",
    "    tag=\"OneTone/freq\",\n",
    "    server_ip=data_host,\n",
    ")"
   ]
  },
  {
   "cell_type": "code",
   "execution_count": null,
   "id": "c6540ed1",
   "metadata": {},
   "outputs": [],
   "source": [
    "# r_f =  6026.1\n",
    "r_f"
   ]
  },
  {
   "cell_type": "markdown",
   "id": "9fcd1788",
   "metadata": {},
   "source": [
    "# Onetone Dependences"
   ]
  },
  {
   "cell_type": "code",
   "execution_count": null,
   "id": "072b2cf3",
   "metadata": {},
   "outputs": [],
   "source": [
    "exp_cfg = {\n",
    "    \"dac\": {\n",
    "        \"res_pulse\": {\n",
    "            **DefaultCfg.get_pulse(\"probe_rf\"),\n",
    "            \"nqz\": 2,\n",
    "        },\n",
    "        # \"reset\": \"pulse\",\n",
    "        # \"reset_pulse\": \"reset_red\",\n",
    "    },\n",
    "    \"adc\": {\n",
    "        \"relax_delay\": 0.0,  # us\n",
    "    },\n",
    "}"
   ]
  },
  {
   "cell_type": "code",
   "execution_count": null,
   "id": "8b74c9c9",
   "metadata": {
    "lines_to_next_cell": 2
   },
   "outputs": [],
   "source": [
    "exp_cfg[\"sweep\"] = {\n",
    "    # \"gain\": make_sweep(0.05, 1.0, 50),\n",
    "    \"gain\": make_sweep(10, 30000, 30, force_int=True),\n",
    "    \"freq\": make_sweep(1010, 6040, 100),\n",
    "    # \"freq\": make_sweep(r_f-5, r_f+5, 51),\n",
    "}\n",
    "cfg = make_cfg(exp_cfg, reps=100, rounds=10)\n",
    "\n",
    "pdrs, fpts, signals2D = zs.measure_res_pdr_dep(\n",
    "    soc, soccfg, cfg, dynamic_reps=True, gain_ref=1000\n",
    ")"
   ]
  },
  {
   "cell_type": "code",
   "execution_count": null,
   "id": "ef5ad515",
   "metadata": {},
   "outputs": [],
   "source": [
    "filename = f\"res_pdr_dep_{res_name}\"\n",
    "save_data(\n",
    "    filepath=os.path.join(database_path, filename),\n",
    "    x_info={\"name\": \"Frequency\", \"unit\": \"Hz\", \"values\": fpts * 1e6},\n",
    "    y_info={\"name\": \"Power\", \"unit\": \"a.u.\", \"values\": pdrs},\n",
    "    z_info={\"name\": \"Signal\", \"unit\": \"a.u.\", \"values\": signals2D},\n",
    "    comment=make_comment(cfg),\n",
    "    tag=\"OneTone/pdr\",\n",
    "    server_ip=data_host,\n",
    ")"
   ]
  },
  {
   "cell_type": "markdown",
   "id": "72076eaf",
   "metadata": {},
   "source": [
    "## Flux dependence"
   ]
  },
  {
   "cell_type": "code",
   "execution_count": null,
   "id": "6b4c1893",
   "metadata": {},
   "outputs": [],
   "source": [
    "cur_flux = -3.2e-3\n",
    "YokoDevControl.set_current(cur_flux)\n",
    "DefaultCfg.set_dev(flux=cur_flux)"
   ]
  },
  {
   "cell_type": "code",
   "execution_count": null,
   "id": "3810fe6f",
   "metadata": {},
   "outputs": [],
   "source": [
    "exp_cfg = {\n",
    "    \"dac\": {\n",
    "        \"res_pulse\": {\n",
    "            **DefaultCfg.get_pulse(\"probe_rf\"),\n",
    "            \"nqz\": 2,\n",
    "            # \"gain\": 1.0,\n",
    "            \"gain\": 30000,\n",
    "        },\n",
    "    },\n",
    "    \"adc\": {\n",
    "        \"relax_delay\": 0.0,  # us\n",
    "    },\n",
    "}"
   ]
  },
  {
   "cell_type": "code",
   "execution_count": null,
   "id": "781548c7",
   "metadata": {},
   "outputs": [],
   "source": [
    "exp_cfg[\"sweep\"] = {\n",
    "    \"flux\": make_sweep(-3.2e-3, -4.3e-3, 11),\n",
    "    \"freq\": make_sweep(5020, 6030, 11),\n",
    "}\n",
    "cfg = make_cfg(exp_cfg, reps=1, rounds=1)\n",
    "\n",
    "flxs, fpts, signals2D = zs.measure_res_flux_dep(soc, soccfg, cfg)"
   ]
  },
  {
   "cell_type": "code",
   "execution_count": null,
   "id": "51ef59d9",
   "metadata": {},
   "outputs": [],
   "source": [
    "filename = \"res_flux_dep\"\n",
    "save_data(\n",
    "    filepath=os.path.join(database_path, filename),\n",
    "    x_info={\"name\": \"Frequency\", \"unit\": \"Hz\", \"values\": fpts * 1e6},\n",
    "    y_info={\"name\": \"Flux\", \"unit\": \"a.u.\", \"values\": flxs},\n",
    "    z_info={\"name\": \"Signal\", \"unit\": \"a.u.\", \"values\": signals2D},\n",
    "    comment=make_comment(cfg),\n",
    "    tag=\"OneTone/flux\",\n",
    "    server_ip=data_host,\n",
    ")"
   ]
  },
  {
   "cell_type": "code",
   "execution_count": null,
   "id": "b14908a5",
   "metadata": {},
   "outputs": [],
   "source": [
    "cur_flux = -3.8e-3\n",
    "YokoDevControl.set_current(cur_flux)\n",
    "DefaultCfg.set_dev(flux=cur_flux)"
   ]
  },
  {
   "cell_type": "markdown",
   "id": "5aa14204",
   "metadata": {},
   "source": [
    "# Set readout pulse"
   ]
  },
  {
   "cell_type": "code",
   "execution_count": null,
   "id": "f66969bb",
   "metadata": {},
   "outputs": [],
   "source": [
    "r_f = 4000\n",
    "DefaultCfg.set_pulse(\n",
    "    readout_rf={\n",
    "        **DefaultCfg.get_pulse(\"probe_rf\"),\n",
    "        \"freq\": r_f,  # MHz\n",
    "        \"gain\": 500,\n",
    "    },\n",
    ")\n",
    "pprint(DefaultCfg.get_pulse(\"readout_rf\"))"
   ]
  },
  {
   "cell_type": "markdown",
   "id": "0b94ccf0",
   "metadata": {},
   "source": [
    "# TwoTone"
   ]
  },
  {
   "cell_type": "code",
   "execution_count": null,
   "id": "f85f7f5e",
   "metadata": {},
   "outputs": [],
   "source": [
    "DefaultCfg.set_pulse(\n",
    "    probe_qf={\n",
    "        \"style\": \"flat_top\",\n",
    "        # \"raise_pulse\": {\"style\": \"gauss\", \"length\": 0.02, \"sigma\": 0.003},\n",
    "        \"raise_pulse\": {\"style\": \"cosine\", \"length\": 0.02},\n",
    "    },\n",
    ")\n",
    "pprint(DefaultCfg.get_pulse(\"probe_qf\"))"
   ]
  },
  {
   "cell_type": "markdown",
   "id": "3731b330",
   "metadata": {},
   "source": [
    "# Twotone Frequency"
   ]
  },
  {
   "cell_type": "code",
   "execution_count": null,
   "id": "cd11d8f0",
   "metadata": {},
   "outputs": [],
   "source": [
    "# cur_flux = -1.7e-3\n",
    "YokoDevControl.set_current(cur_flux)\n",
    "DefaultCfg.set_dev(flux=cur_flux)\n",
    "cur_flux"
   ]
  },
  {
   "cell_type": "code",
   "execution_count": null,
   "id": "1650450f",
   "metadata": {},
   "outputs": [],
   "source": [
    "qub_name = f\"q5_{cur_flux * 1e3:.3f}mA\""
   ]
  },
  {
   "cell_type": "code",
   "execution_count": null,
   "id": "7d306fd1",
   "metadata": {},
   "outputs": [],
   "source": [
    "exp_cfg = {\n",
    "    \"dac\": {\n",
    "        \"res_pulse\": \"readout_rf\",\n",
    "        # \"res_pulse\": \"readout_dpm\",\n",
    "        \"qub_pulse\": {\n",
    "            **DefaultCfg.get_pulse(\"probe_qf\"),\n",
    "            # \"gain\": 1.0,\n",
    "            \"nqz\": 2,\n",
    "            \"gain\": 30000,\n",
    "            \"length\": 3,  # us\n",
    "        },\n",
    "        # \"qub_pulse\": \"reset_red\",\n",
    "        # \"qub_pulse\": \"pi_len\",\n",
    "        # \"reset\": \"pulse\",\n",
    "        # \"reset_pulse\": \"reset_red\",\n",
    "        # \"reset_pulse\": {\n",
    "        #     **DefaultCfg.get_pulse('probe_qf'),\n",
    "        #     \"ch\": 2,\n",
    "        #     \"nqz\": 2,\n",
    "        #     \"gain\": 1.0,\n",
    "        #     \"length\": 4,  # us\n",
    "        # },\n",
    "    },\n",
    "    \"adc\": {\n",
    "        \"relax_delay\": 0.4,  # us\n",
    "    },\n",
    "}"
   ]
  },
  {
   "cell_type": "code",
   "execution_count": null,
   "id": "40a2062a",
   "metadata": {},
   "outputs": [],
   "source": [
    "# exp_cfg[\"sweep\"] = make_sweep(48.5, 49.5, 51)\n",
    "exp_cfg[\"sweep\"] = make_sweep(5950, 5990, 101)\n",
    "cfg = make_cfg(exp_cfg, reps=100, rounds=100)\n",
    "\n",
    "er_f = 6020.5\n",
    "fpts, signals = zs.measure_qub_freq(soc, soccfg, cfg)"
   ]
  },
  {
   "cell_type": "code",
   "execution_count": null,
   "id": "351377e6",
   "metadata": {},
   "outputs": [],
   "source": [
    "f = zf.freq_analyze(fpts, signals, max_contrast=True)\n",
    "f"
   ]
  },
  {
   "cell_type": "code",
   "execution_count": null,
   "id": "7c62ecc0",
   "metadata": {},
   "outputs": [],
   "source": [
    "q_f = f\n",
    "reset_f = f\n",
    "# reset_f = r_f - q_f"
   ]
  },
  {
   "cell_type": "code",
   "execution_count": null,
   "id": "46b90397",
   "metadata": {},
   "outputs": [],
   "source": [
    "filename = f\"qub_freq_{qub_name}\"\n",
    "save_data(\n",
    "    filepath=os.path.join(database_path, filename),\n",
    "    x_info={\"name\": \"Frequency\", \"unit\": \"Hz\", \"values\": fpts * 1e6},\n",
    "    z_info={\"name\": \"Signal\", \"unit\": \"a.u.\", \"values\": signals},\n",
    "    comment=make_comment(cfg, f\"frequency = {f}MHz\"),\n",
    "    tag=\"TwoTone/freq\",\n",
    "    server_ip=data_host,\n",
    ")"
   ]
  },
  {
   "cell_type": "markdown",
   "id": "b2a00af4",
   "metadata": {},
   "source": [
    "## reset pulse"
   ]
  },
  {
   "cell_type": "code",
   "execution_count": null,
   "id": "227a0a68",
   "metadata": {},
   "outputs": [],
   "source": [
    "exp_cfg = {\n",
    "    \"dac\": {\n",
    "        \"res_pulse\": \"readout_rf\",\n",
    "        # \"res_pulse\": \"readout_dpm\",\n",
    "        \"qub_pulse\": {\n",
    "            **DefaultCfg.get_pulse(\"probe_qf\"),\n",
    "            \"freq\": reset_f,\n",
    "            # \"gain\": 1.0,\n",
    "            \"gain\": 30000,\n",
    "        },\n",
    "        # \"reset\": \"pulse\",\n",
    "        # \"reset_pulse\": {\n",
    "        #     **DefaultCfg.get_pulse('probe_qf'),\n",
    "        #     \"nqz\": 1,\n",
    "        #     \"ch\": 6,\n",
    "        #     \"freq\": q_f,\n",
    "        #     \"gain\": 30000,\n",
    "        #     \"length\": 20,\n",
    "        # }\n",
    "    },\n",
    "    \"adc\": {\n",
    "        \"relax_delay\": 0.0,  # us\n",
    "    },\n",
    "}"
   ]
  },
  {
   "cell_type": "code",
   "execution_count": null,
   "id": "a428fc9b",
   "metadata": {},
   "outputs": [],
   "source": [
    "exp_cfg[\"sweep\"] = make_sweep(0.1, 5.0, 101)\n",
    "cfg = make_cfg(exp_cfg, reps=100, rounds=100)\n",
    "\n",
    "Ts, signals = zs.measure_lenrabi(soc, soccfg, cfg)"
   ]
  },
  {
   "cell_type": "code",
   "execution_count": null,
   "id": "4a7932b0",
   "metadata": {},
   "outputs": [],
   "source": [
    "zf.contrast_plot(Ts, signals, max_contrast=True, xlabel=\"Length (us)\")"
   ]
  },
  {
   "cell_type": "code",
   "execution_count": null,
   "id": "594fe243",
   "metadata": {},
   "outputs": [],
   "source": [
    "filename = f\"reset_time_{qub_name}\"\n",
    "save_data(\n",
    "    filepath=os.path.join(database_path, filename),\n",
    "    x_info={\"name\": \"Length\", \"unit\": \"s\", \"values\": Ts * 1e-6},\n",
    "    z_info={\"name\": \"Signal\", \"unit\": \"a.u.\", \"values\": signals},\n",
    "    comment=make_comment(cfg),\n",
    "    tag=\"TwoTone/reset\",\n",
    "    server_ip=data_host,\n",
    ")"
   ]
  },
  {
   "cell_type": "code",
   "execution_count": null,
   "id": "27e85923",
   "metadata": {},
   "outputs": [],
   "source": [
    "DefaultCfg.set_pulse(\n",
    "    reset_red={\n",
    "        **exp_cfg[\"dac\"][\"qub_pulse\"],\n",
    "        \"length\": 2.0,  # us\n",
    "    },\n",
    ")\n",
    "DefaultCfg.get_pulse(\"reset_red\")"
   ]
  },
  {
   "cell_type": "markdown",
   "id": "e1734f07",
   "metadata": {},
   "source": [
    "# Twotone Dependences"
   ]
  },
  {
   "cell_type": "markdown",
   "id": "bac53a7c",
   "metadata": {},
   "source": [
    "## Power dependence"
   ]
  },
  {
   "cell_type": "code",
   "execution_count": null,
   "id": "9bf8cbb1",
   "metadata": {},
   "outputs": [],
   "source": [
    "exp_cfg = {\n",
    "    \"dac\": {\n",
    "        \"res_pulse\": \"readout_rf\",\n",
    "        \"qub_pulse\": {\n",
    "            **DefaultCfg.get_pulse(\"probe_qf\"),\n",
    "            \"nqz\": 1,\n",
    "            \"length\": 5,  # us\n",
    "        },\n",
    "    },\n",
    "    \"adc\": {\n",
    "        \"relax_delay\": 0.0,  # us\n",
    "    },\n",
    "}"
   ]
  },
  {
   "cell_type": "code",
   "execution_count": null,
   "id": "b7e06143",
   "metadata": {},
   "outputs": [],
   "source": [
    "exp_cfg[\"sweep\"] = {\n",
    "    # \"gain\": make_sweep(0.05, 1.0, 30),\n",
    "    \"gain\": make_sweep(10, 30000, 30, force_int=True),\n",
    "    \"freq\": make_sweep(1700, 2000, 30),\n",
    "}\n",
    "cfg = make_cfg(exp_cfg, reps=50, rounds=50)\n",
    "\n",
    "fpts, pdrs, signals2D = zs.measure_qub_pdr_dep(soc, soccfg, cfg)"
   ]
  },
  {
   "cell_type": "code",
   "execution_count": null,
   "id": "1d98e4eb",
   "metadata": {},
   "outputs": [],
   "source": [
    "filename = f\"qub_pdr_dep_{qub_name}\"\n",
    "save_data(\n",
    "    filepath=os.path.join(database_path, filename),\n",
    "    x_info={\"name\": \"Frequency\", \"unit\": \"Hz\", \"values\": fpts * 1e6},\n",
    "    y_info={\"name\": \"Power\", \"unit\": \"a.u.\", \"values\": pdrs},\n",
    "    z_info={\"name\": \"Signal\", \"unit\": \"a.u.\", \"values\": signals2D},\n",
    "    comment=make_comment(cfg),\n",
    "    tag=\"TwoTone/pdr\",\n",
    "    server_ip=data_host,\n",
    ")"
   ]
  },
  {
   "cell_type": "markdown",
   "id": "78dc5dde",
   "metadata": {},
   "source": [
    "## Flux Dependence"
   ]
  },
  {
   "cell_type": "code",
   "execution_count": null,
   "id": "7b2e4646",
   "metadata": {},
   "outputs": [],
   "source": [
    "cur_flux = -4.65e-3\n",
    "YokoDevControl.set_current(cur_flux)\n",
    "DefaultCfg.set_dev(flux=cur_flux)"
   ]
  },
  {
   "cell_type": "code",
   "execution_count": null,
   "id": "548cf964",
   "metadata": {},
   "outputs": [],
   "source": [
    "exp_cfg = {\n",
    "    \"dac\": {\n",
    "        \"res_pulse\": \"readout_rf\",\n",
    "        # \"res_pulse\": \"readout_dpm\",\n",
    "        \"qub_pulse\": {\n",
    "            **DefaultCfg.get_pulse(\"probe_qf\"),\n",
    "            \"nqz\": 2,\n",
    "            \"gain\": 30000,\n",
    "            \"length\": 5,  # us\n",
    "        },\n",
    "        # \"reset\": \"pulse\",\n",
    "        # \"reset_pulse\": \"reset_red\",\n",
    "    },\n",
    "    \"adc\": {\n",
    "        \"relax_delay\": 0.0,  # us\n",
    "    },\n",
    "}"
   ]
  },
  {
   "cell_type": "code",
   "execution_count": null,
   "id": "3207b4f2",
   "metadata": {},
   "outputs": [],
   "source": [
    "exp_cfg[\"sweep\"] = {\n",
    "    \"flux\": make_sweep(-4.65e-3, -4.46e-3, 11),\n",
    "    \"freq\": make_sweep(5000, 8000, 11),\n",
    "}\n",
    "cfg = make_cfg(exp_cfg, reps=10, rounds=10)\n",
    "\n",
    "fpts, flxs, signals2D = zs.measure_qub_flux_dep(soc, soccfg, cfg, reset_rf=None)"
   ]
  },
  {
   "cell_type": "code",
   "execution_count": null,
   "id": "abfa3c88",
   "metadata": {},
   "outputs": [],
   "source": [
    "filename = \"qub_flux_dep\"\n",
    "save_data(\n",
    "    filepath=os.path.join(database_path, filename),\n",
    "    x_info={\"name\": \"Frequency\", \"unit\": \"Hz\", \"values\": fpts * 1e6},\n",
    "    y_info={\"name\": \"Flux\", \"unit\": \"a.u.\", \"values\": flxs},\n",
    "    z_info={\"name\": \"Signal\", \"unit\": \"a.u.\", \"values\": signals2D},\n",
    "    comment=make_comment(cfg),\n",
    "    tag=\"TwoTone/flux\",\n",
    "    server_ip=data_host,\n",
    ")"
   ]
  },
  {
   "cell_type": "code",
   "execution_count": null,
   "id": "0159562f",
   "metadata": {},
   "outputs": [],
   "source": [
    "cur_flux = 6.0292e-3\n",
    "# YokoDevControl.set_current(cur_flux)\n",
    "DefaultCfg.set_dev(flux=cur_flux)"
   ]
  },
  {
   "cell_type": "markdown",
   "id": "3c951d26",
   "metadata": {},
   "source": [
    "# Rabi"
   ]
  },
  {
   "cell_type": "markdown",
   "id": "be96f191",
   "metadata": {},
   "source": [
    "## Length Rabi"
   ]
  },
  {
   "cell_type": "code",
   "execution_count": null,
   "id": "06ee4fb8",
   "metadata": {},
   "outputs": [],
   "source": [
    "exp_cfg = {\n",
    "    \"dac\": {\n",
    "        \"res_pulse\": \"readout_rf\",\n",
    "        # \"res_pulse\": \"readout_dpm\",\n",
    "        \"qub_pulse\": {\n",
    "            **DefaultCfg.get_pulse(\"probe_qf\"),\n",
    "            \"freq\": q_f,\n",
    "            # \"gain\": 1.0,\n",
    "            \"gain\": 30000,\n",
    "        },\n",
    "        # \"reset\": \"pulse\",\n",
    "        # \"reset_pulse\": \"reset_red\",\n",
    "    },\n",
    "    \"adc\": {\n",
    "        \"relax_delay\": 0.0,  # us\n",
    "    },\n",
    "}"
   ]
  },
  {
   "cell_type": "code",
   "execution_count": null,
   "id": "482dba7e",
   "metadata": {},
   "outputs": [],
   "source": [
    "exp_cfg[\"sweep\"] = make_sweep(0.026, 2.0, 100)\n",
    "cfg = make_cfg(exp_cfg, reps=10, rounds=10)\n",
    "\n",
    "Ts, signals = zs.measure_lenrabi(soc, soccfg, cfg)"
   ]
  },
  {
   "cell_type": "code",
   "execution_count": null,
   "id": "b4c22ec5",
   "metadata": {},
   "outputs": [],
   "source": [
    "pi_len, pi2_len = zf.rabi_analyze(\n",
    "    Ts, signals, decay=True, max_contrast=True, xlabel=\"Time (us)\"\n",
    ")\n",
    "pi_len, pi2_len"
   ]
  },
  {
   "cell_type": "code",
   "execution_count": null,
   "id": "e9479424",
   "metadata": {},
   "outputs": [],
   "source": [
    "filename = f\"len_rabi_{qub_name}\"\n",
    "save_data(\n",
    "    filepath=os.path.join(database_path, filename),\n",
    "    x_info={\"name\": \"Pulse Length\", \"unit\": \"s\", \"values\": Ts * 1e-6},\n",
    "    z_info={\"name\": \"Signal\", \"unit\": \"a.u.\", \"values\": signals},\n",
    "    comment=make_comment(cfg, f\"pi len = {pi_len}us\\npi/2 len = {pi2_len}us\"),\n",
    "    tag=\"TimeDomain/rabi\",\n",
    "    server_ip=data_host,\n",
    ")"
   ]
  },
  {
   "cell_type": "code",
   "execution_count": null,
   "id": "ab98fb45",
   "metadata": {},
   "outputs": [],
   "source": [
    "# pi_len = 1.0\n",
    "# pi2_len = 0.5"
   ]
  },
  {
   "cell_type": "code",
   "execution_count": null,
   "id": "aafbdc58",
   "metadata": {},
   "outputs": [],
   "source": [
    "DefaultCfg.set_pulse(\n",
    "    pi_len={\n",
    "        **cfg[\"dac\"][\"qub_pulse\"],\n",
    "        \"length\": pi_len,\n",
    "        \"desc\": \"pi pulse\",\n",
    "    },\n",
    "    pi2_len={\n",
    "        **cfg[\"dac\"][\"qub_pulse\"],\n",
    "        \"length\": pi2_len,\n",
    "        \"desc\": \"pi/2 pulse\",\n",
    "    },\n",
    ")\n",
    "pprint(DefaultCfg.get_pulse(\"pi_len\"))"
   ]
  },
  {
   "cell_type": "markdown",
   "id": "e3f9fb13",
   "metadata": {},
   "source": [
    "## Amplitude Rabi"
   ]
  },
  {
   "cell_type": "code",
   "execution_count": null,
   "id": "cfbef5ed",
   "metadata": {},
   "outputs": [],
   "source": [
    "qub_len = 0.2\n",
    "# qub_len = pi_len * 5.0\n",
    "exp_cfg = {\n",
    "    \"dac\": {\n",
    "        \"res_pulse\": \"readout_rf\",\n",
    "        # \"res_pulse\": \"readout_dpm\",\n",
    "        \"qub_pulse\": {\n",
    "            **DefaultCfg.get_pulse(\"probe_qf\"),\n",
    "            \"freq\": q_f,\n",
    "            \"length\": qub_len,\n",
    "        },\n",
    "        # \"reset\": \"pulse\",\n",
    "        # \"reset_pulse\": \"reset_red\",\n",
    "    },\n",
    "    \"adc\": {\n",
    "        \"relax_delay\": 0.0,  # us\n",
    "    },\n",
    "}"
   ]
  },
  {
   "cell_type": "code",
   "execution_count": null,
   "id": "905882fa",
   "metadata": {},
   "outputs": [],
   "source": [
    "exp_cfg[\"sweep\"] = make_sweep(0, 30000, step=1000)\n",
    "cfg = make_cfg(exp_cfg, reps=100, rounds=100)\n",
    "\n",
    "pdrs, signals = zs.measure_amprabi(soc, soccfg, cfg)"
   ]
  },
  {
   "cell_type": "code",
   "execution_count": null,
   "id": "1dc3beb0",
   "metadata": {},
   "outputs": [],
   "source": [
    "pi_gain, pi2_gain = zf.rabi_analyze(\n",
    "    pdrs, signals, decay=True, max_contrast=True, xlabel=\"Power (a.u.)\"\n",
    ")\n",
    "pi_gain = int(pi_gain + 0.5)\n",
    "pi2_gain = int(pi2_gain + 0.5)\n",
    "pi_gain, pi2_gain"
   ]
  },
  {
   "cell_type": "code",
   "execution_count": null,
   "id": "69ccc4e6",
   "metadata": {},
   "outputs": [],
   "source": [
    "filename = f\"amp_rabi_{qub_name}\"\n",
    "save_data(\n",
    "    filepath=os.path.join(database_path, filename),\n",
    "    x_info={\"name\": \"Amplitude\", \"unit\": \"a.u.\", \"values\": pdrs},\n",
    "    z_info={\"name\": \"Signal\", \"unit\": \"a.u.\", \"values\": signals},\n",
    "    comment=make_comment(cfg, f\"pi gain = {pi_gain}\\npi/2 gain = {pi2_gain}\"),\n",
    "    tag=\"TimeDomain/rabi\",\n",
    "    server_ip=data_host,\n",
    ")"
   ]
  },
  {
   "cell_type": "code",
   "execution_count": null,
   "id": "344cf6f8",
   "metadata": {},
   "outputs": [],
   "source": [
    "# pi_gain = 30000\n",
    "# pi2_gain = 15000"
   ]
  },
  {
   "cell_type": "code",
   "execution_count": null,
   "id": "baf2d905",
   "metadata": {},
   "outputs": [],
   "source": [
    "DefaultCfg.set_pulse(\n",
    "    pi_amp={\n",
    "        **cfg[\"dac\"][\"qub_pulse\"],\n",
    "        \"gain\": pi_gain,\n",
    "        \"desc\": \"pi pulse\",\n",
    "    },\n",
    "    pi2_amp={\n",
    "        **cfg[\"dac\"][\"qub_pulse\"],\n",
    "        \"gain\": pi2_gain,\n",
    "        \"desc\": \"pi/2 pulse\",\n",
    "    },\n",
    ")\n",
    "pprint(DefaultCfg.get_pulse(\"pi_amp\"))"
   ]
  },
  {
   "cell_type": "markdown",
   "id": "cb7cc021",
   "metadata": {},
   "source": [
    "# Dispersive shift"
   ]
  },
  {
   "cell_type": "markdown",
   "id": "fdcb4593",
   "metadata": {},
   "source": [
    "## Power dependence"
   ]
  },
  {
   "cell_type": "code",
   "execution_count": null,
   "id": "c2bc16df",
   "metadata": {},
   "outputs": [],
   "source": [
    "exp_cfg = {\n",
    "    \"dac\": {\n",
    "        \"res_pulse\": \"readout_rf\",\n",
    "        # \"qub_pulse\": \"pi_len\",\n",
    "        \"qub_pulse\": \"pi_amp\",\n",
    "        # \"qub_pulse\": \"reset_red\",\n",
    "        # \"qub_pulse\": {\n",
    "        #     **DefaultCfg.get_pulse('probe_qf'),\n",
    "        #     \"freq\": q_f,\n",
    "        #     \"gain\": 30000,\n",
    "        #     \"length\": 5,  # us\n",
    "        # },\n",
    "        # \"reset\": \"pulse\",\n",
    "        # \"reset_pulse\": \"reset_red\",\n",
    "    },\n",
    "    \"adc\": {\n",
    "        \"relax_delay\": 0.0,  # us\n",
    "    },\n",
    "}"
   ]
  },
  {
   "cell_type": "code",
   "execution_count": null,
   "id": "8db5e07a",
   "metadata": {},
   "outputs": [],
   "source": [
    "exp_cfg[\"sweep\"] = {\n",
    "    \"gain\": make_sweep(500, 30000, 5, force_int=True),\n",
    "    # \"gain\": make_sweep(0.0, 1.0, 31),\n",
    "    \"freq\": make_sweep(6027, 6029, 5),\n",
    "}\n",
    "# cfg = make_cfg(exp_cfg, reps=5000, rounds=1)\n",
    "cfg = make_cfg(exp_cfg, reps=50, rounds=50)\n",
    "\n",
    "pdrs, fpts, snr2D = zs.qubit.measure_ge_pdr_dep(soc, soccfg, cfg)\n",
    "ret, records = zs.qubit.ge_different.measure_ge_pdr_dep_auto(\n",
    "    soc, soccfg, cfg, method=\"Nelder-Mead\"\n",
    ")"
   ]
  },
  {
   "cell_type": "code",
   "execution_count": null,
   "id": "3ae19fe2",
   "metadata": {},
   "outputs": [],
   "source": [
    "fpt_max, pdr_max = zf.dispersive2D_analyze(\n",
    "    fpts, pdrs, snr2D, xlabel=\"Frequency (MHz)\", ylabel=\"SNR (a.u.)\"\n",
    ")\n",
    "fpt_max, pdr_max"
   ]
  },
  {
   "cell_type": "code",
   "execution_count": null,
   "id": "3c787514",
   "metadata": {},
   "outputs": [],
   "source": [
    "filename = f\"qub_ge_contrast_{qub_name}\"\n",
    "save_data(\n",
    "    filepath=os.path.join(database_path, filename),\n",
    "    x_info={\"name\": \"Frequency\", \"unit\": \"Hz\", \"values\": fpts * 1e6},\n",
    "    y_info={\"name\": \"Power\", \"unit\": \"a.u.\", \"values\": pdrs},\n",
    "    z_info={\"name\": \"SNR\", \"unit\": \"a.u.\", \"values\": snr2D},\n",
    "    comment=make_comment(cfg),\n",
    "    tag=\"TwoTone/dispersive\",\n",
    "    server_ip=data_host,\n",
    ")"
   ]
  },
  {
   "cell_type": "markdown",
   "id": "e87c65d2",
   "metadata": {},
   "source": [
    "## Readout dependence"
   ]
  },
  {
   "cell_type": "code",
   "execution_count": null,
   "id": "b3c9145d",
   "metadata": {},
   "outputs": [],
   "source": [
    "exp_cfg = {\n",
    "    \"dac\": {\n",
    "        \"res_pulse\": {\n",
    "            **DefaultCfg.get_pulse(\"readout_rf\"),\n",
    "            \"freq\": fpt_max,\n",
    "            \"gain\": pdr_max,\n",
    "        },\n",
    "        # \"qub_pulse\": \"pi_len\",\n",
    "        \"qub_pulse\": \"pi_amp\",\n",
    "        # \"qub_pulse\": \"reset_red\",\n",
    "        # \"qub_pulse\": {\n",
    "        #     **DefaultCfg.get_pulse('probe_qf'),\n",
    "        #     \"freq\": q_f,\n",
    "        #     \"gain\": 30000,\n",
    "        #     \"length\": 5,  # us\n",
    "        # },\n",
    "        # \"reset\": \"pulse\",\n",
    "        # \"reset_pulse\": \"reset_red\"\n",
    "    },\n",
    "    \"adc\": {\n",
    "        \"relax_delay\": 0.0,  # us\n",
    "    },\n",
    "}"
   ]
  },
  {
   "cell_type": "code",
   "execution_count": null,
   "id": "fec11a72",
   "metadata": {},
   "outputs": [],
   "source": [
    "exp_cfg[\"sweep\"] = make_sweep(1.5, 8.0, 51)\n",
    "cfg = make_cfg(exp_cfg, reps=1000, rounds=1)\n",
    "\n",
    "ro_lens, snrs = zs.qubit.measure_ge_ro_dep(soc, soccfg, cfg)"
   ]
  },
  {
   "cell_type": "code",
   "execution_count": null,
   "id": "b70d8b99",
   "metadata": {},
   "outputs": [],
   "source": [
    "ro_max = zf.dispersive1D_analyze(ro_lens, snrs, xlabel=\"Readout Length (us)\")"
   ]
  },
  {
   "cell_type": "code",
   "execution_count": null,
   "id": "89ed4eff",
   "metadata": {},
   "outputs": [],
   "source": [
    "filename = f\"qub_ge_ro_dep_{qub_name}\"\n",
    "save_data(\n",
    "    filepath=os.path.join(database_path, filename),\n",
    "    x_info={\"name\": \"Readout length\", \"unit\": \"s\", \"values\": ro_lens * 1e-6},\n",
    "    z_info={\"name\": \"SNR\", \"unit\": \"a.u.\", \"values\": snrs},\n",
    "    comment=make_comment(cfg),\n",
    "    tag=\"TwoTone/dispersive\",\n",
    "    server_ip=data_host,\n",
    ")"
   ]
  },
  {
   "cell_type": "markdown",
   "id": "3b2a1498",
   "metadata": {},
   "source": [
    "## Trigger offset dependence"
   ]
  },
  {
   "cell_type": "code",
   "execution_count": null,
   "id": "b98d4626",
   "metadata": {},
   "outputs": [],
   "source": [
    "exp_cfg = {\n",
    "    \"dac\": {\n",
    "        \"res_pulse\": {\n",
    "            **DefaultCfg.get_pulse(\"readout_rf\"),\n",
    "            \"freq\": fpt_max,\n",
    "            \"gain\": pdr_max,\n",
    "        },\n",
    "        # \"qub_pulse\": \"pi_len\",\n",
    "        \"qub_pulse\": \"pi_amp\",\n",
    "        # \"qub_pulse\": \"reset_red\",\n",
    "        # \"qub_pulse\": {\n",
    "        #     **DefaultCfg.get_pulse('probe_qf'),\n",
    "        #     \"freq\": q_f,\n",
    "        #     \"gain\": 30000,\n",
    "        #     \"length\": 5,  # us\n",
    "        # },\n",
    "        # \"reset\": \"pulse\",\n",
    "        # \"reset_pulse\": \"reset_red\"\n",
    "    },\n",
    "    \"adc\": {\n",
    "        \"relax_delay\": 0.0,  # us\n",
    "    },\n",
    "}"
   ]
  },
  {
   "cell_type": "code",
   "execution_count": null,
   "id": "cf4809da",
   "metadata": {},
   "outputs": [],
   "source": [
    "timeFly = 0.5\n",
    "exp_cfg[\"sweep\"] = make_sweep(timeFly - 0.5, 4.0, 51)\n",
    "cfg = make_cfg(exp_cfg, reps=100, rounds=100)\n",
    "\n",
    "offsets, snrs = zs.qubit.measure_ge_trig_dep(soc, soccfg, cfg)"
   ]
  },
  {
   "cell_type": "code",
   "execution_count": null,
   "id": "47416936",
   "metadata": {},
   "outputs": [],
   "source": [
    "offset_max = zf.dispersive1D_analyze(offsets, snrs, xlabel=\"Trigger offset (us)\")"
   ]
  },
  {
   "cell_type": "code",
   "execution_count": null,
   "id": "3edfd51d",
   "metadata": {},
   "outputs": [],
   "source": [
    "filename = f\"qub_ge_trig_dep_{qub_name}\"\n",
    "save_data(\n",
    "    filepath=os.path.join(database_path, filename),\n",
    "    x_info={\"name\": \"Trigger offset\", \"unit\": \"s\", \"values\": offsets * 1e-6},\n",
    "    z_info={\"name\": \"SNR\", \"unit\": \"a.u.\", \"values\": snrs},\n",
    "    comment=make_comment(cfg),\n",
    "    tag=\"TwoTone/dispersive\",\n",
    "    server_ip=data_host,\n",
    ")"
   ]
  },
  {
   "cell_type": "code",
   "execution_count": null,
   "id": "0d0879d3",
   "metadata": {},
   "outputs": [],
   "source": [
    "DefaultCfg.set_pulse(\n",
    "    readout_dpm={\n",
    "        **DefaultCfg.get_pulse(\"readout_rf\"),\n",
    "        \"freq\": fpt_max,\n",
    "        \"gain\": pdr_max,\n",
    "        # \"length\": ro_max + cfg['adc']['trig_offset'] + 1.0,\n",
    "        # \"ro_length\": ro_max,\n",
    "        \"length\": ro_max + offset_max + 1.0,\n",
    "        \"ro_length\": ro_max,\n",
    "        \"trig_offset\": offset_max,\n",
    "        \"desc\": \"Readout with largest dispersive shift\",\n",
    "    },\n",
    ")\n",
    "pprint(DefaultCfg.get_pulse(\"readout_dpm\"))"
   ]
  },
  {
   "cell_type": "markdown",
   "id": "a8981649",
   "metadata": {},
   "source": [
    "## Readout Lookback"
   ]
  },
  {
   "cell_type": "code",
   "execution_count": null,
   "id": "f7d4ac95",
   "metadata": {},
   "outputs": [],
   "source": [
    "exp_cfg = {\n",
    "    \"dac\": {\n",
    "        \"res_pulse\": \"readout_rf\",\n",
    "        \"qub_pulse\": \"pi_amp\",\n",
    "        # \"qub_pulse\": \"pi_len\",\n",
    "    },\n",
    "    \"adc\": {\"trig_offset\": 0.4, \"ro_length\": ro_max + 5.0, \"relax_delay\": 0.0},\n",
    "}"
   ]
  },
  {
   "cell_type": "code",
   "execution_count": null,
   "id": "6c3cea4b",
   "metadata": {},
   "outputs": [],
   "source": [
    "cfg = make_cfg(exp_cfg, rounds=1000)\n",
    "\n",
    "Ts, signals_e = zs.measure_lookback(soc, soccfg, cfg, qub_pulse=True)\n",
    "\n",
    "cfg[\"dac\"][\"qub_pulse\"][\"gain\"] = 0\n",
    "Ts, signals_g = zs.measure_lookback(soc, soccfg, cfg, qub_pulse=True)"
   ]
  },
  {
   "cell_type": "code",
   "execution_count": null,
   "id": "8d99962e",
   "metadata": {},
   "outputs": [],
   "source": [
    "zf.ge_lookback_analyze(Ts, signals_g, signals_e, cfg[\"dac\"][\"res_pulse\"])"
   ]
  },
  {
   "cell_type": "code",
   "execution_count": null,
   "id": "30488801",
   "metadata": {},
   "outputs": [],
   "source": [
    "filename = f\"qub_ge_length_{qub_name}\"\n",
    "save_data(\n",
    "    filepath=os.path.join(database_path, filename),\n",
    "    x_info={\"name\": \"Time\", \"unit\": \"s\", \"values\": Ts * 1e-6},\n",
    "    z_info={\n",
    "        \"name\": \"Signal\",\n",
    "        \"unit\": \"a.u.\",\n",
    "        \"values\": np.array((signals_g, signals_e)),\n",
    "    },\n",
    "    y_info={\"name\": \"ge\", \"unit\": \"\", \"values\": np.array([0, 1])},\n",
    "    comment=make_comment(cfg),\n",
    "    tag=\"TwoTone/dispersive\",\n",
    "    server_ip=data_host,\n",
    ")"
   ]
  },
  {
   "cell_type": "markdown",
   "id": "77872439",
   "metadata": {},
   "source": [
    "# T2Ramsey"
   ]
  },
  {
   "cell_type": "code",
   "execution_count": null,
   "id": "d99b6b5c",
   "metadata": {},
   "outputs": [],
   "source": [
    "orig_qf = q_f\n",
    "exp_cfg = {\n",
    "    \"dac\": {\n",
    "        \"res_pulse\": \"readout_rf\",\n",
    "        \"qub_pulse\": \"pi2_amp\",\n",
    "        # \"reset\": \"pulse\",\n",
    "        # \"reset_pulse\": \"reset_red\",\n",
    "    },\n",
    "    \"adc\": {\n",
    "        \"relax_delay\": 0.0,  # us\n",
    "    },\n",
    "}"
   ]
  },
  {
   "cell_type": "code",
   "execution_count": null,
   "id": "a7570f91",
   "metadata": {},
   "outputs": [],
   "source": [
    "exp_cfg[\"sweep\"] = make_sweep(0, 30.0, 100)  # us\n",
    "cfg = make_cfg(exp_cfg, reps=100, rounds=100)\n",
    "\n",
    "activate_detune = 1.0\n",
    "Ts, signals = zs.measure_t2ramsey(soc, soccfg, cfg, detune=activate_detune)"
   ]
  },
  {
   "cell_type": "code",
   "execution_count": null,
   "id": "e236299f",
   "metadata": {},
   "outputs": [],
   "source": [
    "t2f, detune, _, _ = zf.T2fringe_analyze(Ts, signals, max_contrast=True)  # type: ignore\n",
    "t2d, _ = zf.T2decay_analyze(Ts, signals, max_contrast=True)\n",
    "detune, t2f, t2d"
   ]
  },
  {
   "cell_type": "code",
   "execution_count": null,
   "id": "6e3efcba",
   "metadata": {},
   "outputs": [],
   "source": [
    "filename = f\"t2ramsey_{qub_name}\"\n",
    "# filename = f\"t2decay_{qub_name}\"\n",
    "save_data(\n",
    "    filepath=os.path.join(database_path, filename),\n",
    "    x_info={\"name\": \"Time\", \"unit\": \"s\", \"values\": Ts * 1e-6},\n",
    "    z_info={\"name\": \"Signal\", \"unit\": \"a.u.\", \"values\": signals},\n",
    "    comment=make_comment(cfg, f\"detune = {detune}MHz\\nt2f = {t2f}us\\nt2d = {t2d}us\"),\n",
    "    tag=\"TimeDomain/t2ramsey\",\n",
    "    server_ip=data_host,\n",
    ")"
   ]
  },
  {
   "cell_type": "code",
   "execution_count": null,
   "id": "b446eabe",
   "metadata": {},
   "outputs": [],
   "source": [
    "q_f = orig_qf + activate_detune - detune\n",
    "q_f"
   ]
  },
  {
   "cell_type": "markdown",
   "id": "02f0b73b",
   "metadata": {},
   "source": [
    "# T1"
   ]
  },
  {
   "cell_type": "code",
   "execution_count": null,
   "id": "25d1e94a",
   "metadata": {},
   "outputs": [],
   "source": [
    "exp_cfg = {\n",
    "    \"dac\": {\n",
    "        \"res_pulse\": \"readout_rf\",\n",
    "        \"qub_pulse\": \"pi_amp\",\n",
    "        # \"qub_pulse\": \"pi_len\",\n",
    "        # \"qub_pulse\": \"reset_red\",\n",
    "        # \"qub_pulse\": {\n",
    "        #     **DefaultCfg.get_pulse('probe_qf'),\n",
    "        #     \"freq\": q_f,\n",
    "        #     \"gain\": 30000,\n",
    "        #     \"length\": 20,  # us\n",
    "        # },\n",
    "        # \"reset\": \"pulse\",\n",
    "        # \"reset_pulse\": \"reset_red\",\n",
    "    },\n",
    "    \"adc\": {\n",
    "        \"relax_delay\": 0.0,  # us\n",
    "    },\n",
    "}"
   ]
  },
  {
   "cell_type": "code",
   "execution_count": null,
   "id": "9aca0101",
   "metadata": {},
   "outputs": [],
   "source": [
    "exp_cfg[\"sweep\"] = make_sweep(0, 60, 101)\n",
    "cfg = make_cfg(exp_cfg, reps=100, rounds=100)\n",
    "\n",
    "Ts, signals = zs.measure_t1(soc, soccfg, cfg)"
   ]
  },
  {
   "cell_type": "code",
   "execution_count": null,
   "id": "5a0ffcde",
   "metadata": {},
   "outputs": [],
   "source": [
    "start = 0\n",
    "stop = -1\n",
    "\n",
    "t1, _ = zf.T1_analyze(\n",
    "    Ts[start:stop], signals[start:stop], max_contrast=True, dual_exp=False\n",
    ")\n",
    "t1"
   ]
  },
  {
   "cell_type": "code",
   "execution_count": null,
   "id": "4a369089",
   "metadata": {
    "lines_to_next_cell": 2
   },
   "outputs": [],
   "source": [
    "filename = f\"t1_{qub_name}\"\n",
    "save_data(\n",
    "    filepath=os.path.join(database_path, filename),\n",
    "    x_info={\"name\": \"Time\", \"unit\": \"s\", \"values\": Ts * 1e-6},\n",
    "    z_info={\"name\": \"Signal\", \"unit\": \"a.u.\", \"values\": signals},\n",
    "    comment=make_comment(cfg, f\"t1 = {t1}us\"),\n",
    "    tag=\"TimeDomain/t1\",\n",
    "    server_ip=data_host,\n",
    ")"
   ]
  },
  {
   "cell_type": "markdown",
   "id": "1cd8094a",
   "metadata": {},
   "source": [
    "## T1 overnight"
   ]
  },
  {
   "cell_type": "code",
   "execution_count": null,
   "id": "f686905f",
   "metadata": {},
   "outputs": [],
   "source": [
    "import time\n",
    "from tqdm.auto import trange  # noqa\n",
    "import pandas as pd  # noqa\n",
    "import matplotlib.pyplot as plt  # noqa\n",
    "from IPython.display import clear_output, display  # noqa\n",
    "\n",
    "exp_cfg = {\n",
    "    \"dac\": {\n",
    "        \"res_pulse\": \"readout_rf\",\n",
    "        \"qub_pulse\": \"pi_len\",\n",
    "    },\n",
    "    \"adc\": {\n",
    "        \"relax_delay\": 0.0,  # us\n",
    "    },\n",
    "}\n",
    "exp_cfg[\"sweep\"] = make_sweep(0, 1200, 51)\n",
    "cfg = make_cfg(exp_cfg, reps=10, rounds=10)\n",
    "\n",
    "start = 3\n",
    "stop = -1\n",
    "\n",
    "T1s = []\n",
    "errs = []\n",
    "try:\n",
    "    fig, ax = plt.subplots(1, 2, figsize=(16, 6))\n",
    "    dh = display(fig, display_id=True)\n",
    "    for i in trange(40):\n",
    "        Ts, signals = zs.measure_t1(soc, soccfg, cfg)\n",
    "        t1, err = zf.T1_analyze(\n",
    "            Ts[start:stop],\n",
    "            signals[start:stop],\n",
    "            max_contrast=True,\n",
    "            dual_exp=False,\n",
    "            plot=False,\n",
    "        )\n",
    "        T1s.append(t1)\n",
    "        errs.append(err)\n",
    "        save_data(\n",
    "            filepath=os.path.join(database_path, f\"t1_{qub_name}\"),\n",
    "            x_info={\"name\": \"Time\", \"unit\": \"s\", \"values\": Ts * 1e-6},\n",
    "            z_info={\"name\": \"Signal\", \"unit\": \"a.u.\", \"values\": signals},\n",
    "            comment=make_comment(cfg, f\"t1 = {t1}us\"),\n",
    "            tag=\"TimeDomain/t1overnight\",\n",
    "            server_ip=data_host,\n",
    "        )\n",
    "\n",
    "        xs = np.arange(len(T1s))\n",
    "        ax[0].clear()\n",
    "        ax[1].clear()\n",
    "        ax[0].errorbar(xs, T1s, errs, capsize=4, marker=\"o\", markersize=4, ls=\"none\")\n",
    "        ax[1].plot(Ts, np.abs(signals))\n",
    "        clear_output(wait=True)\n",
    "        dh.update(fig)  # type: ignore\n",
    "        time.sleep(0.1)\n",
    "    else:\n",
    "        clear_output()\n",
    "finally:\n",
    "    df = pd.DataFrame([T1s, errs])\n",
    "    # df.to_csv(\"T1s.csv\")\n",
    "    # fig.savefig(\"t1overnight\")  # type: ignore"
   ]
  },
  {
   "cell_type": "markdown",
   "id": "510fe3df",
   "metadata": {},
   "source": [
    "# T2Echo"
   ]
  },
  {
   "cell_type": "code",
   "execution_count": null,
   "id": "3d8ef189",
   "metadata": {},
   "outputs": [],
   "source": [
    "exp_cfg = {\n",
    "    \"dac\": {\n",
    "        \"res_pulse\": \"readout_rf\",\n",
    "        \"pi_pulse\": \"pi_amp\",\n",
    "        \"pi2_pulse\": \"pi2_amp\",\n",
    "        # \"reset\": \"pulse\",\n",
    "        # \"reset_pulse\": \"reset_red\",\n",
    "    },\n",
    "    \"adc\": {\n",
    "        \"relax_delay\": 0.0,  # us\n",
    "    },\n",
    "}"
   ]
  },
  {
   "cell_type": "code",
   "execution_count": null,
   "id": "bf0289fc",
   "metadata": {},
   "outputs": [],
   "source": [
    "exp_cfg[\"sweep\"] = make_sweep(0, 20, 100)\n",
    "cfg = make_cfg(exp_cfg, reps=100, rounds=100)\n",
    "\n",
    "Ts, signals = zs.measure_t2echo(soc, soccfg, cfg)"
   ]
  },
  {
   "cell_type": "code",
   "execution_count": null,
   "id": "2104a37d",
   "metadata": {},
   "outputs": [],
   "source": [
    "t2e, _ = zf.T2decay_analyze(Ts, signals)\n",
    "t2e"
   ]
  },
  {
   "cell_type": "code",
   "execution_count": null,
   "id": "26b5467b",
   "metadata": {},
   "outputs": [],
   "source": [
    "filename = f\"t2echo_{qub_name}\"\n",
    "save_data(\n",
    "    filepath=os.path.join(database_path, filename),\n",
    "    x_info={\"name\": \"Time\", \"unit\": \"s\", \"values\": Ts * 1e-6},\n",
    "    z_info={\"name\": \"Signal\", \"unit\": \"a.u.\", \"values\": signals},\n",
    "    comment=make_comment(cfg, f\"t2echo = {t2e}us\"),\n",
    "    tag=\"TimeDomain/t2echo\",\n",
    "    server_ip=data_host,\n",
    ")"
   ]
  },
  {
   "cell_type": "markdown",
   "id": "916d56c9",
   "metadata": {},
   "source": [
    "# Single shot"
   ]
  },
  {
   "cell_type": "code",
   "execution_count": null,
   "id": "67af73be",
   "metadata": {},
   "outputs": [],
   "source": [
    "exp_cfg = {\n",
    "    \"dac\": {\n",
    "        \"res_pulse\": \"readout_rf\",\n",
    "        \"qub_pulse\": \"pi_amp\",\n",
    "        # \"reset\": \"pulse\",\n",
    "        # \"reset_pulse\": \"reset_red\",\n",
    "    },\n",
    "    \"adc\": {\n",
    "        \"relax_delay\": 0.0,  # us\n",
    "    },\n",
    "}"
   ]
  },
  {
   "cell_type": "code",
   "execution_count": null,
   "id": "953bb9f3",
   "metadata": {},
   "outputs": [],
   "source": [
    "cfg = make_cfg(exp_cfg, shots=5000)\n",
    "\n",
    "fid, threshold, angle, signals = zs.measure_fid_auto(soc, soccfg, cfg, plot=True)\n",
    "print(f\"Optimal fidelity after rotation = {fid:.1%}\")"
   ]
  },
  {
   "cell_type": "code",
   "execution_count": null,
   "id": "a32f6938",
   "metadata": {},
   "outputs": [],
   "source": [
    "filename = f\"single_shot_rf_{qub_name}\"\n",
    "save_data(\n",
    "    filepath=os.path.join(database_path, filename),\n",
    "    x_info={\"name\": \"shot\", \"unit\": \"point\", \"values\": np.arange(cfg[\"shots\"])},\n",
    "    z_info={\"name\": \"Signal\", \"unit\": \"a.u.\", \"values\": signals},\n",
    "    y_info={\"name\": \"ge\", \"unit\": \"\", \"values\": np.array([0, 1])},\n",
    "    comment=make_comment(cfg, f\"fide {fid:.1%}\"),\n",
    "    tag=\"SingleShot\",\n",
    "    server_ip=data_host,\n",
    ")"
   ]
  },
  {
   "cell_type": "markdown",
   "id": "5c1629e4",
   "metadata": {},
   "source": [
    "# Dump Configurations"
   ]
  },
  {
   "cell_type": "code",
   "execution_count": null,
   "id": "26b1e4a8",
   "metadata": {},
   "outputs": [],
   "source": [
    "DefaultCfg.dump(\"default_cfg.yaml\")"
   ]
  },
  {
   "cell_type": "code",
   "execution_count": null,
   "id": "8e5e4af0",
   "metadata": {},
   "outputs": [],
   "source": []
  }
 ],
 "metadata": {
  "jupytext": {
   "cell_metadata_filter": "-all",
   "custom_cell_magics": "kql",
   "formats": "ipynb,py:percent"
  },
  "kernelspec": {
   "display_name": "Python 3",
   "language": "python",
   "name": "python3"
  },
  "language_info": {
   "codemirror_mode": {
    "name": "ipython",
    "version": 3
   },
   "file_extension": ".py",
   "mimetype": "text/x-python",
   "name": "python",
   "nbconvert_exporter": "python",
   "pygments_lexer": "ipython3",
   "version": "3.8.20"
  }
 },
 "nbformat": 4,
 "nbformat_minor": 5
}
