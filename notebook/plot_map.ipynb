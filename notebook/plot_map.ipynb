{
 "cells": [
  {
   "cell_type": "code",
   "execution_count": null,
   "metadata": {},
   "outputs": [],
   "source": [
    "%load_ext autoreload\n",
    "import numpy as np\n",
    "import h5py as h5\n",
    "import pandas as pd\n",
    "\n",
    "%autoreload 2\n",
    "from zcu_tools.analysis.fluxdep import calculate_energy, VisualizeSpet"
   ]
  },
  {
   "cell_type": "markdown",
   "metadata": {},
   "source": [
    "# Load Parameters"
   ]
  },
  {
   "cell_type": "code",
   "execution_count": null,
   "metadata": {},
   "outputs": [],
   "source": [
    "qub_name = \"S001\"\n",
    "\n",
    "loadpath = f\"../result/{qub_name}/params.csv\"\n",
    "df = pd.read_csv(loadpath)\n",
    "\n",
    "cflx, period = df.loc[0, [\"Half flux\", \"Period\"]]\n",
    "params = df.loc[0, [\"EJ\", \"EC\", \"EL\"]].values\n",
    "\n",
    "df.head()"
   ]
  },
  {
   "cell_type": "code",
   "execution_count": null,
   "metadata": {},
   "outputs": [],
   "source": [
    "def phi2mA(ratio):\n",
    "    return (period * (ratio - 0.5) + cflx) * 1e3\n",
    "\n",
    "\n",
    "flxs = np.linspace(0.0, 1.0, 2000)\n",
    "mAs = phi2mA(flxs)"
   ]
  },
  {
   "cell_type": "markdown",
   "metadata": {},
   "source": [
    "# Load Points & Spectrums"
   ]
  },
  {
   "cell_type": "code",
   "execution_count": null,
   "metadata": {},
   "outputs": [],
   "source": [
    "# loading points\n",
    "r_f = 7.48742\n",
    "\n",
    "df = pd.read_csv(\n",
    "    f\"../result/{qub_name}/freqs.csv\", usecols=[\"Current (mA)\", \"Freq (MHz)\", \"T1 (μs)\"]\n",
    ")\n",
    "s_mAs = df[\"Current (mA)\"].values  # mA\n",
    "s_freqs = df[\"Freq (MHz)\"].values * 1e-3  # GHz\n",
    "s_T1s = df[\"T1 (μs)\"].values"
   ]
  },
  {
   "cell_type": "code",
   "execution_count": null,
   "metadata": {},
   "outputs": [],
   "source": [
    "load_path = f\"../result/{qub_name}/spect.hdf5\"\n",
    "\n",
    "s_spects = {}\n",
    "with h5.File(load_path, \"r\") as f:\n",
    "    for key in f.keys():\n",
    "        grp = f[key]\n",
    "        spectrum = (\n",
    "            grp[\"spectrum\"][\"flxs\"][()],\n",
    "            grp[\"spectrum\"][\"fpts\"][()],\n",
    "            grp[\"spectrum\"][\"data\"][()],\n",
    "        )\n",
    "        points = (grp[\"points\"][\"flxs\"][()], grp[\"points\"][\"fpts\"][()])\n",
    "        s_spects.update(\n",
    "            {\n",
    "                key: {\n",
    "                    \"cflx\": grp[\"cflx\"][()] * 1e3,\n",
    "                    \"spectrum\": spectrum,\n",
    "                    \"points\": points,\n",
    "                }\n",
    "            }\n",
    "        )\n",
    "s_spects.keys()"
   ]
  },
  {
   "cell_type": "markdown",
   "metadata": {},
   "source": [
    "# Align cflx"
   ]
  },
  {
   "cell_type": "code",
   "execution_count": null,
   "metadata": {},
   "outputs": [],
   "source": [
    "t_cflx = list(s_spects.values())[-1][\"cflx\"]\n",
    "for spect in s_spects.values():\n",
    "    shift = t_cflx - spect[\"cflx\"]\n",
    "    spect[\"cflx\"] += shift\n",
    "    spect[\"spectrum\"] = (phi2mA(spect[\"spectrum\"][0] + shift), *spect[\"spectrum\"][1:])\n",
    "    spect[\"points\"] = (phi2mA(spect[\"points\"][0] + shift), *spect[\"points\"][1:])"
   ]
  },
  {
   "cell_type": "markdown",
   "metadata": {},
   "source": [
    "# Plot Map"
   ]
  },
  {
   "cell_type": "code",
   "execution_count": null,
   "metadata": {},
   "outputs": [],
   "source": [
    "energies = calculate_energy(flxs, *params, 50, 15)"
   ]
  },
  {
   "cell_type": "code",
   "execution_count": null,
   "metadata": {},
   "outputs": [],
   "source": [
    "r_f = 7.48742\n",
    "allows = {\n",
    "    # \"transitions\": [(0, 1)],\n",
    "    \"transitions\": [(0, 1), (0, 2), (0, 3), (1, 2), (1, 3)],\n",
    "    \"red side\": [(0, 4), (0, 3), (1, 5)],\n",
    "    \"r_f\": r_f,\n",
    "}"
   ]
  },
  {
   "cell_type": "code",
   "execution_count": null,
   "metadata": {},
   "outputs": [],
   "source": [
    "vs = VisualizeSpet(s_spects, s_mAs, s_freqs, mAs, energies, allows)\n",
    "vs.set_scatter_style(10, color=s_T1s)\n",
    "fig = vs.create_figure()\n",
    "fig.add_hline(y=r_f, line_dash=\"dash\", line_color=\"black\", name=\"Cavity freq\")\n",
    "fig.add_vline(x=cflx * 1e3, line_dash=\"dash\", line_color=\"black\", name=\"Cavity freq\")\n",
    "fig.update_layout(\n",
    "    title_text=f\"EJ/EC/EL = {params[0]:.2f}/{params[1]:.2f}/{params[2]:.2f}\",\n",
    "    showlegend=True,\n",
    ")\n",
    "\n",
    "fig.show()"
   ]
  },
  {
   "cell_type": "markdown",
   "metadata": {},
   "source": [
    "# save to html"
   ]
  },
  {
   "cell_type": "code",
   "execution_count": null,
   "metadata": {},
   "outputs": [],
   "source": [
    "save_path = f\"../result/{qub_name}/web/flux_dep.html\"\n",
    "fig.write_html(save_path, include_plotlyjs=\"cdn\")"
   ]
  },
  {
   "cell_type": "code",
   "execution_count": null,
   "metadata": {},
   "outputs": [],
   "source": []
  }
 ],
 "metadata": {
  "kernelspec": {
   "display_name": "Python 3",
   "language": "python",
   "name": "python3"
  },
  "language_info": {
   "codemirror_mode": {
    "name": "ipython",
    "version": 3
   },
   "file_extension": ".py",
   "mimetype": "text/x-python",
   "name": "python",
   "nbconvert_exporter": "python",
   "pygments_lexer": "ipython3",
   "version": "3.13.2"
  }
 },
 "nbformat": 4,
 "nbformat_minor": 2
}
