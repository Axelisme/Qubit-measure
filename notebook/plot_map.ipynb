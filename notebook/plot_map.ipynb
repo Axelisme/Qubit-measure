{
 "cells": [
  {
   "cell_type": "code",
   "execution_count": null,
   "metadata": {},
   "outputs": [],
   "source": [
    "import numpy as np\n",
    "import h5py as h5\n",
    "import scqubits as scq\n",
    "import pandas as pd\n",
    "import plotly.graph_objects as go"
   ]
  },
  {
   "cell_type": "markdown",
   "metadata": {},
   "source": [
    "# Load"
   ]
  },
  {
   "cell_type": "code",
   "execution_count": null,
   "metadata": {},
   "outputs": [],
   "source": [
    "qub_name = \"S001\"\n",
    "loadpath = \"../result/S001/params.csv\"\n",
    "df = pd.read_csv(loadpath)\n",
    "df = df.set_index(\"Qubit\")\n",
    "cflx = float(df.loc[qub_name, \"Half flux\"])*1e3 # mA\n",
    "period = float(df.loc[qub_name, \"Period\"])*1e3  # mA\n",
    "params = (df.loc[qub_name, \"EJ\"], df.loc[qub_name, \"EC\"], df.loc[qub_name, \"EL\"])\n",
    "\n",
    "eflx = cflx + period / 2 # mA\n",
    "\n",
    "def phi2mA(ratio):\n",
    "    return 2*(eflx - cflx)*(ratio - 0.5) + cflx\n",
    "cflx, eflx"
   ]
  },
  {
   "cell_type": "code",
   "execution_count": null,
   "metadata": {},
   "outputs": [],
   "source": [
    "flxs = np.linspace(0.4, 1.0, 1000)\n",
    "mAs = phi2mA(flxs)\n",
    "fluxonium = scq.Fluxonium(*params, flux=0.5, cutoff=40, truncated_dim=10)\n",
    "# fluxonium = scq.Fluxonium(8.51,0.91,1.07, flux=0.5, cutoff=40, truncated_dim=10)"
   ]
  },
  {
   "cell_type": "markdown",
   "metadata": {},
   "source": [
    "# Energy & Transitions"
   ]
  },
  {
   "cell_type": "code",
   "execution_count": null,
   "metadata": {},
   "outputs": [],
   "source": [
    "# loading points\n",
    "r_f = 7.4876\n",
    "\n",
    "df = pd.read_csv(\"../result/S001/freqs.csv\", usecols=['Current (mA)', 'Freq (MHz)', 'T1 (μs)'])\n",
    "s_mAs = df['Current (mA)'].values # mA\n",
    "s_freqs = df['Freq (MHz)'].values*1e-3 # GHz\n",
    "s_T1s = df['T1 (μs)'].values"
   ]
  },
  {
   "cell_type": "code",
   "execution_count": null,
   "metadata": {},
   "outputs": [],
   "source": [
    "load_path = \"../result/S001/spect.hdf5\"\n",
    "spectrums = []\n",
    "with h5.File(load_path, \"r\") as f:\n",
    "    for key in f.keys():\n",
    "        grp = f[key]\n",
    "        spectrums.append([\n",
    "            grp[\"spectrum\"][\"flxs\"][()],\n",
    "            grp[\"spectrum\"][\"fpts\"][()],\n",
    "            grp[\"spectrum\"][\"data\"][()],\n",
    "            grp[\"cflx\"][()]\n",
    "        ])\n",
    "\n",
    "target_cflx = spectrums[-1][-1]\n",
    "for spect in spectrums:\n",
    "    shift = target_cflx - spect[-1]\n",
    "    spect[0] = phi2mA(spect[0] + shift)\n",
    "    spect[-1] = target_cflx"
   ]
  },
  {
   "cell_type": "code",
   "execution_count": null,
   "metadata": {},
   "outputs": [],
   "source": [
    "spect = fluxonium.get_spectrum_vs_paramvals(\"flux\", flxs, evals_count=5)\n",
    "energies = spect.energy_table"
   ]
  },
  {
   "cell_type": "code",
   "execution_count": null,
   "metadata": {},
   "outputs": [],
   "source": [
    "fig = go.Figure()\n",
    "# spectrum\n",
    "for flxs_i, fpts_i, data, _ in spectrums:\n",
    "    data = np.abs(data - np.mean(data, axis=0, keepdims=True))\n",
    "    data /= np.std(data, axis=0, keepdims=True)\n",
    "    fig.add_trace(go.Heatmap(z=data**2, x=flxs_i, y=fpts_i, colorscale='Viridis', showscale=False))\n",
    "\n",
    "all_trans = [(0, 1), (0, 2), (0, 3), (1, 2), (1, 3)]\n",
    "\n",
    "# transition\n",
    "for i, j in [(0, 1)]:\n",
    "    fig.add_trace(go.Scatter(x=mAs, y=energies[:, j]-energies[:, i], mode='lines', name=f\"{i}-{j}\"))\n",
    "\n",
    "# 2 photon transition\n",
    "for i, j in [(0, 3)]:\n",
    "    freq = energies[:, j]-energies[:, i]\n",
    "    fig.add_trace(go.Scatter(x=mAs, y=0.5*freq, mode='lines', name=f\"{i}-{j} 2 photon\"))\n",
    "\n",
    "# 2 photon blue sideband\n",
    "for i, j in [(0, 1)]:\n",
    "    freq = energies[:, j]-energies[:, i]\n",
    "    fig.add_trace(go.Scatter(x=mAs, y=0.5*(r_f+freq), mode='lines', name=f\"{i}-{j} blue side 2 photon\"))\n",
    "\n",
    "# red sideband\n",
    "for i, j in [(0, 1)]:\n",
    "    freq = energies[:, j]-energies[:, i]\n",
    "    y = r_f-freq\n",
    "    y[y < 0] = np.nan\n",
    "    fig.add_trace(go.Scatter(x=mAs, y=y, mode='lines', name=f\"{i}-{j} red side\"))\n",
    "\n",
    "# 2 photon red sideband\n",
    "for i, j in []:\n",
    "    freq = energies[:, j]-energies[:, i]\n",
    "    y = 0.5*(r_f-freq)\n",
    "    y[y < 0] = np.nan\n",
    "    fig.add_trace(go.Scatter(x=mAs, y=y, mode='lines', name=f\"{i}-{j} red side 2 photon\"))\n",
    "\n",
    "\n",
    "# fig.add_trace(go.Scatter(x=s_mAs, y=s_freqs, mode='markers', name=\"sample\", marker=dict(color=-np.array(s_T1s), colorscale='Greys')))\n",
    "fig.add_hline(y=r_f, line_dash=\"dash\", line_color=\"black\", name=\"Cavity freq\")\n",
    "fig.add_vline(x=cflx, line_dash=\"dash\", line_color=\"black\", name=\"Cavity freq\")\n",
    "fig.update_layout(xaxis_title=\"mA\", yaxis_title=\"Frequency (GHz)\")\n",
    "fig.update_layout(title_text=f\"Near transition EJ/EC/EL = {params[0]:.2f}/{params[1]:.2f}/{params[2]:.2f}\", title_x=0.5)\n",
    "fig.update_layout(legend_title_text='Transition')\n",
    "# fig.update_yaxes(range=[0, max(s_freqs)+0.1])\n",
    "fig.show()"
   ]
  },
  {
   "cell_type": "code",
   "execution_count": null,
   "metadata": {},
   "outputs": [],
   "source": []
  }
 ],
 "metadata": {
  "kernelspec": {
   "display_name": "Python 3",
   "language": "python",
   "name": "python3"
  },
  "language_info": {
   "codemirror_mode": {
    "name": "ipython",
    "version": 3
   },
   "file_extension": ".py",
   "mimetype": "text/x-python",
   "name": "python",
   "nbconvert_exporter": "python",
   "pygments_lexer": "ipython3",
   "version": "3.12.9"
  }
 },
 "nbformat": 4,
 "nbformat_minor": 2
}
