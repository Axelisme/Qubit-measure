{
 "cells": [
  {
   "cell_type": "code",
   "execution_count": null,
   "metadata": {},
   "outputs": [],
   "source": [
    "import scqubits as scq\n",
    "import numpy as np\n",
    "\n",
    "fluxonium = scq.Fluxonium(\n",
    "    EJ=3.395,\n",
    "    EC=0.479,\n",
    "    EL=0.132,\n",
    "    flux=0.5,\n",
    "    cutoff=50,\n",
    ")\n",
    "\n",
    "w_r = 5.7\n",
    "Nr = 50\n",
    "resonator = scq.Oscillator(\n",
    "    E_osc=w_r,\n",
    "    truncated_dim=Nr,\n",
    ")\n",
    "\n",
    "hilbertspace = scq.HilbertSpace([fluxonium, resonator])\n",
    "\n",
    "g = 0.1\n",
    "n_op = fluxonium.n_operator()\n",
    "x_op = resonator.annihilation_operator() + resonator.creation_operator()\n",
    "\n",
    "hilbertspace.add_interaction(\n",
    "    g=g,\n",
    "    op1=fluxonium.n_operator,\n",
    "    op2=resonator.creation_operator,\n",
    "    add_hc=True,\n",
    ")\n"
   ]
  },
  {
   "cell_type": "code",
   "execution_count": null,
   "metadata": {},
   "outputs": [],
   "source": [
    "N = 100\n",
    "evals, evecs = hilbertspace.eigensys(evals_count=N)\n",
    "hilbertspace.generate_lookup()"
   ]
  },
  {
   "cell_type": "markdown",
   "metadata": {},
   "source": [
    "$$\n",
    "P_{res} (n) = (1 - exp(-\\beta \\hbar \\omega_r)) exp(-n \\beta \\hbar \\omega_r) \\\\\n",
    "n_{th}(\\omega_j) = \\frac{1}{exp(\\beta \\hbar \\omega_j) - 1} \\\\\n",
    "$$"
   ]
  },
  {
   "cell_type": "code",
   "execution_count": null,
   "metadata": {},
   "outputs": [],
   "source": [
    "beta_hbar = 1\n",
    "kappa = 0.1\n",
    "\n",
    "\n",
    "def P_res(n):\n",
    "    return (1 - np.exp(-beta_hbar * w_r)) * np.exp(-n * beta_hbar * w_r)\n",
    "\n",
    "\n",
    "def n_th(w_j):\n",
    "    return 1 / (np.exp(beta_hbar * w_j) - 1)"
   ]
  },
  {
   "cell_type": "code",
   "execution_count": null,
   "metadata": {},
   "outputs": [],
   "source": [
    "Nmax = Nr // 10\n",
    "ns = np.arange(0, Nmax)\n",
    "g_idxs = np.array([hilbertspace.dressed_index((0, n)) for n in ns])\n",
    "e_idxs = np.array([hilbertspace.dressed_index((1, n)) for n in ns])\n",
    "Egs, Ees = evals[g_idxs], evals[e_idxs]  # (ns,)\n",
    "Vgs, Ves = evecs[g_idxs], evecs[e_idxs]  # (ns, N)"
   ]
  },
  {
   "cell_type": "code",
   "execution_count": null,
   "metadata": {},
   "outputs": [],
   "source": [
    "P_res_ns = P_res(ns)\n",
    "E_1n0n = Egs[:, None] - Ees[None, :]  # (ns, ns), from |1, n> to |0, n'>"
   ]
  },
  {
   "cell_type": "markdown",
   "metadata": {},
   "source": [
    "$$\n",
    "\\Gamma^{up}_{l->l'} = \\sum_{n,n'} P_{res}(n)\\kappa n_{th} (\\omega_{l',n'} - \\omega_{l,n})\\left|\\langle l',n'\\left|a^\\dagger\\right|l,n \\rangle\\right|^2 \\\\\n",
    "$$"
   ]
  },
  {
   "cell_type": "code",
   "execution_count": null,
   "metadata": {},
   "outputs": [],
   "source": [
    "# calculate the transition rate of 0-1 caused by percell effect\n",
    "up_mask = E_1n0n > 0\n",
    "E_1n0n_up = E_1n0n.copy()\n",
    "E_1n0n_up[~up_mask] = np.inf\n",
    "n_ths = n_th(E_1n0n_up)  # (ns, ns)\n",
    "# calculate <0, n'|a|1, n>\n",
    "a_op = scq.identity_wrap(\n",
    "    resonator.annihilation_operator(), resonator, [fluxonium, resonator]\n",
    ")\n",
    "a_1n0n = np.zeros((Nmax, Nmax), dtype=complex)\n",
    "for ng in ns:\n",
    "    for ne in ns:\n",
    "        a_1n0n[ng, ne] = Vgs[ng].dag() * a_op * Ves[ne]\n",
    "Percell_up = np.sum(P_res_ns[:, None] * kappa * n_ths * np.abs(a_1n0n) ** 2).item()\n",
    "Percell_up"
   ]
  },
  {
   "cell_type": "markdown",
   "metadata": {},
   "source": [
    "$$\n",
    "\\Gamma^{down}_{l->l'} = \\sum_{n,n'} P_{res}(n)\\kappa (n_{th} (-\\omega_{l',n'} + \\omega_{l,n}) + 1)\\left|\\langle l',n'\\left|a\\right|l,n \\rangle\\right|^2 \\\\\n",
    "$$"
   ]
  },
  {
   "cell_type": "code",
   "execution_count": null,
   "metadata": {},
   "outputs": [],
   "source": [
    "# calculate the transition rate of 0-1 caused by percell effect\n",
    "down_mask = E_1n0n < 0\n",
    "E_1n0n_down = -E_1n0n.copy()\n",
    "E_1n0n_down[~down_mask] = np.inf\n",
    "n_ths = n_th(E_1n0n_down)  # (ns, ns)\n",
    "# calculate <0, n'|a|1, n>\n",
    "ad_op = scq.identity_wrap(\n",
    "    resonator.creation_operator(), resonator, [fluxonium, resonator]\n",
    ")\n",
    "ad_1n0n = np.zeros((Nmax, Nmax), dtype=complex)\n",
    "for ng in ns:\n",
    "    for ne in ns:\n",
    "        ad_1n0n[ng, ne] = Vgs[ng].dag() * ad_op * Ves[ne]\n",
    "Percell_down = np.sum(P_res_ns[:, None] * kappa * n_ths * np.abs(ad_1n0n) ** 2).item()\n",
    "Percell_down"
   ]
  },
  {
   "cell_type": "markdown",
   "metadata": {},
   "source": [
    "# Sweep flux"
   ]
  },
  {
   "cell_type": "code",
   "execution_count": null,
   "metadata": {},
   "outputs": [],
   "source": [
    "import scqubits as scq\n",
    "import numpy as np\n",
    "\n",
    "EJ = 3.395\n",
    "EC = 0.479\n",
    "EL = 0.132\n",
    "g = 0.1\n",
    "w_r = 5.7\n",
    "N = 100\n",
    "Nr = 100\n",
    "T = 60e-3  # K\n",
    "k = 1.380649e-23\n",
    "hbar = 1.0545718e-34\n",
    "beta_hbar = hbar / (k * T) * 1e9\n",
    "kappa = 0.001\n",
    "\n",
    "\n",
    "def P_res(n):\n",
    "    return (1 - np.exp(-beta_hbar * w_r)) * np.exp(-n * beta_hbar * w_r)\n",
    "\n",
    "\n",
    "def n_th(w_j):\n",
    "    return 1 / (np.exp(beta_hbar * w_j) - 1)\n",
    "\n",
    "\n",
    "fluxonium = scq.Fluxonium(\n",
    "    EJ=EJ,\n",
    "    EC=EC,\n",
    "    EL=EL,\n",
    "    flux=0.0,\n",
    "    cutoff=N,\n",
    ")\n",
    "\n",
    "resonator = scq.Oscillator(\n",
    "    E_osc=w_r,\n",
    "    truncated_dim=Nr,\n",
    ")\n",
    "\n",
    "hilbertspace = scq.HilbertSpace([fluxonium, resonator])\n",
    "\n",
    "hilbertspace.add_interaction(\n",
    "    g=g,\n",
    "    op1=fluxonium.n_operator,\n",
    "    op2=resonator.creation_operator,\n",
    "    add_hc=True,\n",
    ")\n",
    "\n",
    "\n",
    "def percell(flx, evals, evecs):\n",
    "    global N, Nr, beta_hbar, kappa, fluxonium, resonator, hilbertspace\n",
    "\n",
    "    fluxonium.flux = flx\n",
    "    # hilbertspace.generate_lookup()\n",
    "\n",
    "    # calculate the transition rate of 0-1 caused by percell effect\n",
    "    Nmax = N // 6  # truncate the resonator space\n",
    "    ns = np.arange(0, Nmax)\n",
    "    g_idxs = np.array([hilbertspace.dressed_index((0, n)) for n in ns])\n",
    "    e_idxs = np.array([hilbertspace.dressed_index((1, n)) for n in ns])\n",
    "    Egs, Ees = evals[g_idxs], evals[e_idxs]  # (ns,)\n",
    "    Vgs, Ves = evecs[g_idxs], evecs[e_idxs]  # (ns, N)\n",
    "\n",
    "    P_res_ns = P_res(ns)\n",
    "    E_1n0n = Egs[:, None] - Ees[None, :]  # (ns, ns), from |1, n> to |0, n>\n",
    "\n",
    "    # calculate the transition rate of 0-1 caused by up percell effect\n",
    "    ad_op = scq.identity_wrap(\n",
    "        resonator.creation_operator(), resonator, [fluxonium, resonator]\n",
    "    )\n",
    "    up_mask = E_1n0n > 0\n",
    "    E_1n0n_up = E_1n0n.copy()\n",
    "    E_1n0n_up[~up_mask] = np.inf\n",
    "    n_ths = n_th(E_1n0n_up)  # (ns, ns)\n",
    "    # calculate <0, n'|a^dag|1, n>\n",
    "    ad_1n0n = np.zeros((Nmax, Nmax), dtype=complex)\n",
    "    for ng in ns:\n",
    "        for ne in ns:\n",
    "            ad_1n0n[ng, ne] = Vgs[ng].dag() * ad_op * Ves[ne]\n",
    "\n",
    "    Percell_up = np.sum(P_res_ns[:, None] * kappa * n_ths * np.abs(ad_1n0n) ** 2).item()\n",
    "\n",
    "    # calculate the transition rate of 0-1 caused by down percell effect\n",
    "    a_op = scq.identity_wrap(\n",
    "        resonator.annihilation_operator(), resonator, [fluxonium, resonator]\n",
    "    )\n",
    "    down_mask = E_1n0n < 0\n",
    "    E_1n0n_down = -E_1n0n.copy()\n",
    "    E_1n0n_down[~down_mask] = np.inf\n",
    "    n_ths = n_th(E_1n0n_down)  # (ns, ns)\n",
    "    # calculate <0, n'|a|1, n>\n",
    "    a_1n0n = np.zeros((Nmax, Nmax), dtype=complex)\n",
    "    for ng in ns:\n",
    "        for ne in ns:\n",
    "            a_1n0n[ng, ne] = Vgs[ng].dag() * a_op * Ves[ne]\n",
    "\n",
    "    Percell_down = np.sum(\n",
    "        P_res_ns[:, None] * kappa * n_ths * np.abs(a_1n0n) ** 2\n",
    "    ).item()\n",
    "\n",
    "    return Percell_up + Percell_down"
   ]
  },
  {
   "cell_type": "code",
   "execution_count": null,
   "metadata": {},
   "outputs": [],
   "source": [
    "flxs = np.linspace(-0.4, 0.6, 101)\n",
    "\n",
    "\n",
    "def update_hilbertspace(flx):\n",
    "    fluxonium.flux = flx\n",
    "\n",
    "\n",
    "sweep = scq.ParameterSweep(\n",
    "    hilbertspace=hilbertspace,\n",
    "    paramvals_by_name={\"flux\": flxs},\n",
    "    update_hilbertspace=update_hilbertspace,\n",
    "    evals_count=N,\n",
    "    subsys_update_info={\"flux\": [fluxonium]},\n",
    ")"
   ]
  },
  {
   "cell_type": "code",
   "execution_count": null,
   "metadata": {},
   "outputs": [],
   "source": [
    "purcells = []\n",
    "hilbertspace.generate_lookup()\n",
    "for flx, evals, evecs in zip(flxs, sweep[\"evals\"], sweep[\"evecs\"]):\n",
    "    purcells.append(percell(flx, evals, evecs))\n",
    "purcells = np.array(purcells)"
   ]
  },
  {
   "cell_type": "code",
   "execution_count": null,
   "metadata": {},
   "outputs": [],
   "source": [
    "import matplotlib.pyplot as plt\n",
    "\n",
    "T1s = 1.0 / purcells * 1e-6\n",
    "plt.plot(flxs, T1s)\n",
    "# plt.xlim(0.4, 0.6)\n",
    "plt.xlabel(\"flux\")\n",
    "plt.ylabel(\"T1 (ms)\")\n",
    "plt.show()"
   ]
  },
  {
   "cell_type": "code",
   "execution_count": null,
   "metadata": {},
   "outputs": [],
   "source": []
  }
 ],
 "metadata": {
  "kernelspec": {
   "display_name": "Python 3",
   "language": "python",
   "name": "python3"
  },
  "language_info": {
   "codemirror_mode": {
    "name": "ipython",
    "version": 3
   },
   "file_extension": ".py",
   "mimetype": "text/x-python",
   "name": "python",
   "nbconvert_exporter": "python",
   "pygments_lexer": "ipython3",
   "version": "3.13.2"
  }
 },
 "nbformat": 4,
 "nbformat_minor": 2
}
