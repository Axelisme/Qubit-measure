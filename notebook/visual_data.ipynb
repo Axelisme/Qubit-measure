{
 "cells": [
  {
   "cell_type": "code",
   "execution_count": null,
   "metadata": {},
   "outputs": [],
   "source": [
    "%load_ext autoreload\n",
    "import os\n",
    "import sys\n",
    "\n",
    "cwd = os.getcwd()\n",
    "sys.path.append(os.path.dirname(cwd))\n",
    "\n",
    "import numpy as np\n",
    "import matplotlib.pyplot as plt\n",
    "\n",
    "from zcu_tools import load_data\n",
    "\n",
    "server_ip = \"100.105.52.95\"\n",
    "server_port = 4999"
   ]
  },
  {
   "cell_type": "markdown",
   "metadata": {},
   "source": [
    "# Onetone"
   ]
  },
  {
   "cell_type": "markdown",
   "metadata": {},
   "source": [
    "## Lookback"
   ]
  },
  {
   "cell_type": "code",
   "execution_count": null,
   "metadata": {},
   "outputs": [],
   "source": [
    "# signals, Ts, _ = load_data('data/res/lookback.hdf5')\n",
    "signals, Ts, _ = load_data('data/res/lookback_q5_i_fid.hdf5', server_ip, server_port)\n",
    "amps = np.abs(signals)\n",
    "g_amps, e_amps = amps[:, 0], amps[:, 1]\n",
    "Ts = Ts * 1e6\n",
    "\n",
    "plt.figure()\n",
    "plt.plot(Ts, g_amps, label='ground')\n",
    "plt.plot(Ts, e_amps, label='excited')\n",
    "# plt.axvline(0.51432, color='r', linestyle='--', label='trig_offset')\n",
    "# plt.axvline(0.51432 + 1.0, color='g', linestyle='--', label='readout end')\n",
    "plt.axvline(0.757-0.4, color='r', linestyle='--', label='trig_offset')\n",
    "plt.axvline(0.757+2.079-0.4, color='g', linestyle='--', label='readout end')\n",
    "plt.xlabel('Time (us)')\n",
    "plt.ylabel('Amplitude (a.u.)')\n",
    "plt.legend()\n",
    "plt.show()"
   ]
  },
  {
   "cell_type": "markdown",
   "metadata": {},
   "source": [
    "## Freq"
   ]
  },
  {
   "cell_type": "code",
   "execution_count": null,
   "metadata": {},
   "outputs": [],
   "source": [
    "signals, fpts, _ = load_data('data/res/res_freq_r5_g300.hdf5')\n",
    "amps = np.abs(signals)\n",
    "fpts = fpts / 1e9\n",
    "\n",
    "# ratio1, ratio2 = 0.47, 0.56\n",
    "# num1 = int(ratio1 * len(fpts))\n",
    "# num2 = int(ratio2 * len(fpts))\n",
    "# fpts = fpts[num1:num2]\n",
    "# amps = amps[num1:num2]\n",
    "\n",
    "plt.figure()\n",
    "plt.plot(fpts, amps, '-o', markersize=1)\n",
    "plt.xlabel('Frequency (GHz)')\n",
    "plt.ylabel('Amplitude (a.u.)')\n",
    "plt.show()"
   ]
  },
  {
   "cell_type": "markdown",
   "metadata": {},
   "source": [
    "## Power dependence"
   ]
  },
  {
   "cell_type": "code",
   "execution_count": null,
   "metadata": {},
   "outputs": [],
   "source": [
    "signals, fpts, pdrs = load_data(\"data/res/res_pdr_dep_r5.hdf5\")\n",
    "amps = np.abs(signals).T\n",
    "amps = amps - np.median(amps, axis=1, keepdims=True)\n",
    "amps = amps / (np.max(amps, axis=1, keepdims=True) - np.min(amps, axis=1, keepdims=True))\n",
    "fpts = fpts / 1e9\n",
    "\n",
    "plt.figure()\n",
    "plt.imshow(amps, aspect=\"auto\", origin=\"lower\", extent=[fpts[0], fpts[-1], pdrs[0], pdrs[-1]])\n",
    "plt.axhline(900, color='r', linestyle='--', label='gain=900')\n",
    "plt.axvline(6.02557, color='g', linestyle='--', label='freq=6025.6MHz')\n",
    "plt.axvline(6.02822, color='g', linestyle='--', label='freq=6028.2MHz')\n",
    "plt.xlabel('Frequency (GHz)')\n",
    "plt.ylabel('Gain (a.u.)')\n",
    "plt.legend(loc=2)\n",
    "plt.show()"
   ]
  },
  {
   "cell_type": "markdown",
   "metadata": {},
   "source": [
    "## Flux dependence"
   ]
  },
  {
   "cell_type": "code",
   "execution_count": null,
   "metadata": {},
   "outputs": [],
   "source": [
    "signals, fpts, flxs = load_data(\"data/res/res_flux_dep_2.hdf5\")\n",
    "amps = np.abs(signals)\n",
    "fpts = fpts / 1e9\n",
    "\n",
    "plt.figure()\n",
    "plt.imshow(amps, aspect='auto', origin='lower', extent=(flxs[0], flxs[-1], fpts[0], fpts[-1]))\n",
    "plt.ylabel('Frequency (GHz)')\n",
    "plt.xlabel('Flux (mA)')\n",
    "plt.ylim(6.00, 6.05)\n",
    "plt.show()"
   ]
  },
  {
   "cell_type": "markdown",
   "metadata": {},
   "source": [
    "## power dependence"
   ]
  },
  {
   "cell_type": "code",
   "execution_count": null,
   "metadata": {},
   "outputs": [],
   "source": [
    "signals, fpts, pdrs = load_data(\"data/res/res_pdr_dep_r5.hdf5\")\n",
    "amps = np.abs(signals).T\n",
    "amps = amps - np.median(amps, axis=1, keepdims=True)\n",
    "amps = amps / (np.max(amps, axis=1, keepdims=True) - np.min(amps, axis=1, keepdims=True))\n",
    "fpts = fpts / 1e9\n",
    "\n",
    "\n",
    "plt.figure()\n",
    "plt.imshow(amps, aspect=\"auto\", origin=\"lower\", extent=[fpts[0], fpts[-1], pdrs[0], pdrs[-1]])\n",
    "plt.axhline(900, color='r', linestyle='--')\n",
    "plt.xlabel('Frequency (GHz)')\n",
    "plt.ylabel('Pump power (a.u.)')\n",
    "plt.show()"
   ]
  },
  {
   "cell_type": "markdown",
   "metadata": {},
   "source": [
    "# Twotone"
   ]
  },
  {
   "cell_type": "markdown",
   "metadata": {},
   "source": [
    "## flux dependence"
   ]
  },
  {
   "cell_type": "markdown",
   "metadata": {},
   "source": [
    "## Freq"
   ]
  },
  {
   "cell_type": "code",
   "execution_count": null,
   "metadata": {},
   "outputs": [],
   "source": [
    "# signals, fpts, _ = load_data(\"data/qub/qub_freq_q5_i_rf.hdf5\")\n",
    "# signals, fpts, _ = load_data(\"data/qub/qub_freq_q5_i_fid.hdf5\")\n",
    "signals, fpts, _ = load_data(\"2024/12/Data_1230/qub_freq_q5_i_9.hdf5\", server_ip)\n",
    "fpts += 6881.280 * 1e6\n",
    "amps = np.abs(signals)\n",
    "fpts = fpts / 1e9\n",
    "\n",
    "plt.figure()\n",
    "plt.plot(fpts, amps, '-o', markersize=3)\n",
    "plt.axvline(7.44693, color='r', linestyle='--', label='freq = 7446.93 MHz')\n",
    "plt.xlabel('Frequency (GHz)')\n",
    "plt.ylabel('Amplitude (a.u.)')\n",
    "plt.legend()\n",
    "plt.show()"
   ]
  },
  {
   "cell_type": "markdown",
   "metadata": {},
   "source": [
    "## power dependence"
   ]
  },
  {
   "cell_type": "code",
   "execution_count": null,
   "metadata": {},
   "outputs": [],
   "source": [
    "# signals, fpts, pdrs = load_data(\"data/qub/qub_pdr_dep_q5_i_rf.hdf5\")\n",
    "signals, fpts, pdrs = load_data(\"data/qub/qub_pdr_dep_q5_i_fid.hdf5\")\n",
    "amps = np.abs(signals).T\n",
    "amps = amps - np.median(amps, axis=1, keepdims=True)\n",
    "fpts = fpts / 1e9\n",
    "\n",
    "plt.figure()\n",
    "plt.imshow(amps, aspect=\"auto\", origin=\"lower\", extent=[fpts[0], fpts[-1], pdrs[0], pdrs[-1]])\n",
    "plt.xlabel('Frequency (GHz)')\n",
    "plt.ylabel('Pump power (a.u.)')\n",
    "plt.show()"
   ]
  },
  {
   "cell_type": "markdown",
   "metadata": {},
   "source": [
    "# Time domain"
   ]
  },
  {
   "cell_type": "code",
   "execution_count": 4,
   "metadata": {},
   "outputs": [],
   "source": [
    "import zcu_tools.analysis.fitting as ft\n",
    "\n",
    "def rabi_analyze(\n",
    "    x: int, signals: float, plot_fit=True, decay=False, max_contrast=False\n",
    "):\n",
    "    \"\"\"\n",
    "    x: 1D array, sweep points\n",
    "    signals: 1D array, signal points\n",
    "    \"\"\"\n",
    "    if max_contrast:\n",
    "        y, _ = convert2max_contrast(signals.real, signals.imag)\n",
    "    else:\n",
    "        y = np.abs(signals)\n",
    "\n",
    "    if decay:\n",
    "        fit_func = ft.fitdecaysin\n",
    "        sin_func = ft.decaysin\n",
    "    else:\n",
    "        fit_func = ft.fitsin\n",
    "        sin_func = ft.sinfunc\n",
    "\n",
    "    pOpt, _ = fit_func(x, y)\n",
    "    curve = sin_func(x, *pOpt)\n",
    "\n",
    "    freq = pOpt[2]\n",
    "    phase = pOpt[3] % 360 - 180\n",
    "    if phase < 0:\n",
    "        pi_x = (0.25 - phase / 360) / freq\n",
    "        pi2_x = -phase / 360 / freq\n",
    "    else:\n",
    "        pi_x = (0.75 - phase / 360) / freq\n",
    "        pi2_x = (0.5 - phase / 360) / freq\n",
    "\n",
    "    plt.figure()\n",
    "    plt.plot(x, y, label=\"meas\", ls=\"-\", marker=\"o\", markersize=3)\n",
    "    if plot_fit:\n",
    "        plt.plot(x, curve, label=\"fit\")\n",
    "        plt.axvline(pi_x, ls=\"--\", c=\"red\", label=f\"pi={pi_x:.2f}\")\n",
    "        plt.axvline(pi2_x, ls=\"--\", c=\"red\", label=f\"pi/2={(pi2_x):.2f}\")\n",
    "    plt.legend(loc=4)\n",
    "    plt.tight_layout()\n",
    "\n",
    "    return pi_x, pi2_x\n",
    "\n",
    "def convert2max_contrast(Is: np.ndarray, Qs: np.ndarray):\n",
    "    \"\"\"\n",
    "    rotate the 2-d input data to maximize on the x-axis\n",
    "    \"\"\"\n",
    "\n",
    "    # calculate the covariance matrix\n",
    "    cov = np.cov(Is, Qs)\n",
    "\n",
    "    # calculate the eigenvalues and eigenvectors\n",
    "    eigenvalues, eigenvectors = np.linalg.eig(cov)\n",
    "\n",
    "    # sort the eigenvectors by decreasing eigenvalues\n",
    "    idx = eigenvalues.argsort()[::-1]\n",
    "    eigenvalues = eigenvalues[idx]\n",
    "    eigenvectors = eigenvectors[:, idx]\n",
    "\n",
    "    # rotate the data\n",
    "    data = np.vstack([Is, Qs])\n",
    "    data_rot = np.dot(eigenvectors.T, data)\n",
    "\n",
    "    return data_rot[0], data_rot[1]\n",
    "\n",
    "\n",
    "def T1_analyze(x: float, y: float, return_err=False, plot=True, max_contrast=False):\n",
    "    if max_contrast:\n",
    "        y, _ = convert2max_contrast(y.real, y.imag)\n",
    "    else:\n",
    "        y = np.abs(y)\n",
    "\n",
    "    pOpt, pCov = ft.fitexp(x, y)\n",
    "    y0, t1 = pOpt[0], pOpt[2]\n",
    "    sim = ft.expfunc(x, *pOpt)\n",
    "    err = np.sqrt(np.diag(pCov))\n",
    "\n",
    "    if plot:\n",
    "        t1_str = f\"{t1:.2f}us +/- {err[2]:.2f}us\"\n",
    "\n",
    "        plt.figure()\n",
    "        plt.plot(x, y, label=\"meas\", ls=\"-\", marker=\"o\", markersize=3)\n",
    "        plt.plot(x, sim, label=\"fit\")\n",
    "        plt.axhline(y0, ls=\"--\", c=\"red\", label=f\"y0={y0:.3f}\")\n",
    "        plt.title(f\"T1 = {t1_str}\")\n",
    "        plt.xlabel(\"Time (us)\")\n",
    "        plt.ylabel(\"Amplitude (a.u.)\")\n",
    "        plt.legend()\n",
    "        plt.tight_layout()\n",
    "\n",
    "    if return_err:\n",
    "        return t1, err[2]\n",
    "    return t1\n",
    "\n",
    "\n",
    "def T2fringe_analyze(\n",
    "    x: float, y: float, return_err=False, plot=True, max_contrast=False\n",
    "):\n",
    "    if max_contrast:\n",
    "        y, _ = convert2max_contrast(y.real, y.imag)\n",
    "    else:\n",
    "        y = np.abs(y)\n",
    "\n",
    "    pOpt, pCov = ft.fitdecaysin(x, y)\n",
    "    y0, t2f, detune = pOpt[0], pOpt[4], pOpt[2]\n",
    "    sim = ft.decaysin(x, *pOpt)\n",
    "    err = np.sqrt(np.diag(pCov))\n",
    "\n",
    "    if plot:\n",
    "        t2f_str = f\"{t2f:.2f}us +/- {err[4]:.2f}us\"\n",
    "        detune_str = f\"{detune:.2f}MHz +/- {err[2]*1e3:.2f}kHz\"\n",
    "\n",
    "        plt.figure()\n",
    "        plt.plot(x, y, label=\"meas\", ls=\"-\", marker=\"o\", markersize=3)\n",
    "        plt.plot(x, sim, label=\"fit\")\n",
    "        plt.axhline(y0, ls=\"--\", c=\"red\", label=f\"y0={y0:.3f}\")\n",
    "        plt.title(f\"T2 ramsey = {t2f_str}, detune = {detune_str}\")\n",
    "        plt.xlabel(\"Time (us)\")\n",
    "        plt.ylabel(\"Amplitude (a.u.)\")\n",
    "        plt.legend()\n",
    "        plt.tight_layout()\n",
    "\n",
    "    if return_err:\n",
    "        return t2f, detune, err[4], err[2]\n",
    "    return t2f, detune\n",
    "\n",
    "\n",
    "def T2decay_analyze(\n",
    "    x: float, y: float, return_err=False, plot=True, max_contrast=False\n",
    "):\n",
    "    if max_contrast:\n",
    "        y, _ = convert2max_contrast(y.real, y.imag)\n",
    "    else:\n",
    "        y = np.abs(y)\n",
    "\n",
    "    pOpt, pCov = ft.fitexp(x, y)\n",
    "    y0, t2e = pOpt[0], pOpt[2]\n",
    "    err = np.sqrt(np.diag(pCov))\n",
    "\n",
    "    if plot:\n",
    "        t2e_str = f\"{t2e:.2f}us +/- {err[2]:.2f}us\"\n",
    "\n",
    "        plt.figure()\n",
    "        plt.plot(x, y, label=\"meas\", ls=\"-\", marker=\"o\", markersize=3)\n",
    "        plt.plot(x, ft.expfunc(x, *pOpt), label=\"fit\")\n",
    "        plt.axhline(y0, ls=\"--\", c=\"red\", label=f\"y0={y0:.3f}\")\n",
    "        plt.title(f\"T2 echo = {t2e_str}\")\n",
    "        plt.xlabel(\"Time (us)\")\n",
    "        plt.ylabel(\"Amplitude (a.u.)\")\n",
    "        plt.legend()\n",
    "        plt.tight_layout()\n",
    "\n",
    "    if return_err:\n",
    "        return t2e, err[2]\n",
    "    return t2e"
   ]
  },
  {
   "cell_type": "markdown",
   "metadata": {},
   "source": [
    "## Length Rabi"
   ]
  },
  {
   "cell_type": "code",
   "execution_count": null,
   "metadata": {},
   "outputs": [],
   "source": [
    "# signals, Ts, _ = load_data(\"data/qub/len_rabi_q5_i_rf.hdf5\")\n",
    "signals, Ts, _ = load_data(\"data/qub/len_rabi_q5_i_fid.hdf5\")\n",
    "Ts = Ts * 1e6\n",
    "\n",
    "rabi_analyze(Ts, signals, plot_fit=True, decay=True, max_contrast=False)\n",
    "# plt.axhline(0.545, color='b', label=\"ground\")\n",
    "# plt.axhline(0.339, color='y', label='excited')\n",
    "plt.axhline(2.055, color='b', label=\"ground\")\n",
    "plt.axhline(2.845, color='y', label=\"excited\")\n",
    "plt.xlabel('Time (us)')\n",
    "plt.ylabel('Amplitude (a.u.)')\n",
    "plt.show()"
   ]
  },
  {
   "cell_type": "markdown",
   "metadata": {},
   "source": [
    "## Amp Rabi"
   ]
  },
  {
   "cell_type": "code",
   "execution_count": null,
   "metadata": {},
   "outputs": [],
   "source": [
    "# signals, pdrs, _ = load_data(\"data/qub/amp_rabi_q5_i_rf.hdf5\")\n",
    "signals, pdrs, _ = load_data(\"data/qub/amp_rabi_q5_i_fid.hdf5\")\n",
    "\n",
    "rabi_analyze(pdrs, signals, plot_fit=True, decay=False, max_contrast=False)\n",
    "# plt.axhline(0.545, color='b', label=\"ground\")\n",
    "# plt.axhline(0.339, color='y', label='excited')\n",
    "plt.axhline(2.055, color='b', label=\"ground\")\n",
    "plt.axhline(2.845, color='y', label=\"excited\")\n",
    "plt.xlabel('Gain (a.u.)')\n",
    "plt.ylabel('Amplitude (a.u.)')\n",
    "plt.legend()\n",
    "plt.show()"
   ]
  },
  {
   "cell_type": "markdown",
   "metadata": {},
   "source": [
    "## T2 ramsey"
   ]
  },
  {
   "cell_type": "code",
   "execution_count": null,
   "metadata": {},
   "outputs": [],
   "source": [
    "# signals, Ts, _ = load_data(\"data/qub/t2ramsey_q5_i_rf.hdf5\")\n",
    "signals, Ts, _ = load_data(\"data/qub/t2ramsey_q5_i_fid.hdf5\")\n",
    "Ts = Ts * 1e6\n",
    "\n",
    "T2fringe_analyze(Ts, signals, plot=True, max_contrast=False)\n",
    "# plt.axhline(0.545, color='b', label=\"ground\")\n",
    "# plt.axhline(0.339, color='y', label='excited')\n",
    "plt.axhline(2.055, color='b', label=\"ground\")\n",
    "plt.axhline(2.845, color='y', label=\"excited\")\n",
    "plt.xlabel('Time (us)')\n",
    "plt.ylabel('Amplitude (a.u.)')\n",
    "plt.legend()\n",
    "plt.show()"
   ]
  },
  {
   "cell_type": "markdown",
   "metadata": {},
   "source": [
    "## T2 decay"
   ]
  },
  {
   "cell_type": "code",
   "execution_count": null,
   "metadata": {},
   "outputs": [],
   "source": [
    "signals, Ts, _ = load_data(\"data/qub/t2decay_q5_i_rf.hdf5\")\n",
    "# signals, Ts, _ = load_data(\"data/qub/t2decay_q5_i_fid.hdf5\")\n",
    "Ts = Ts * 1e6\n",
    "\n",
    "plt.figure()\n",
    "T2decay_analyze(Ts, signals, plot=True, max_contrast=False)\n",
    "plt.axhline(0.545, color='b', label=\"ground\")\n",
    "plt.axhline(0.339, color='y', label='excited')\n",
    "# plt.axhline(2.055, color='b', label=\"ground\")\n",
    "# plt.axhline(2.845, color='y', label=\"excited\")\n",
    "plt.legend()\n",
    "plt.show()"
   ]
  },
  {
   "cell_type": "markdown",
   "metadata": {},
   "source": [
    "## T1"
   ]
  },
  {
   "cell_type": "code",
   "execution_count": null,
   "metadata": {},
   "outputs": [],
   "source": [
    "# signals, Ts, _ = load_data(\"data/qub/t1_q5_i_rf.hdf5\")\n",
    "signals, Ts, _ = load_data(\"data/qub/t1_q5_i_fid.hdf5\")\n",
    "Ts = Ts * 1e6\n",
    "\n",
    "T1_analyze(Ts, signals, plot=True, max_contrast=False)\n",
    "# plt.axhline(0.545, color='b', label='ground')\n",
    "# plt.axhline(0.339, color='y', label='excited')\n",
    "plt.axhline(2.055, color='b', label=\"ground\")\n",
    "plt.axhline(2.845, color='y', label=\"excited\")\n",
    "plt.legend()\n",
    "plt.show()"
   ]
  },
  {
   "cell_type": "markdown",
   "metadata": {},
   "source": [
    "## T2 echo"
   ]
  },
  {
   "cell_type": "code",
   "execution_count": null,
   "metadata": {},
   "outputs": [],
   "source": [
    "# signals, Ts, _ = load_data(\"data/qub/t2echo_q5_i_rf.hdf5\")\n",
    "signals, Ts, _ = load_data(\"data/qub/t2echo_q5_i_fid.hdf5\")\n",
    "Ts = Ts * 1e6\n",
    "\n",
    "T2decay_analyze(Ts, signals, plot=True, max_contrast=False)\n",
    "# plt.axhline(0.545, color='b', label=\"ground\")\n",
    "# plt.axhline(0.339, color='y', label='excited')\n",
    "plt.axhline(2.055, color='b', label=\"ground\")\n",
    "plt.axhline(2.845, color='y', label=\"excited\")\n",
    "plt.legend()\n",
    "plt.show()"
   ]
  },
  {
   "cell_type": "markdown",
   "metadata": {},
   "source": [
    "## dispersive shift"
   ]
  },
  {
   "cell_type": "code",
   "execution_count": 10,
   "metadata": {},
   "outputs": [],
   "source": [
    "def dispersive_analyze2(fpts, signals_g, signals_e):\n",
    "    y_g = np.abs(signals_g)\n",
    "    y_e = np.abs(signals_e)\n",
    "    y_d = np.abs(signals_g - signals_e)\n",
    "\n",
    "    # plot signals\n",
    "    fig, ax = plt.subplots(2, 1)\n",
    "    ax[0].plot(fpts, y_g, label=\"e\", marker=\"o\", markersize=3)\n",
    "    ax[0].plot(fpts, y_e, label=\"g\", marker=\"o\", markersize=3)\n",
    "    ax[0].legend()\n",
    "\n",
    "    # plot difference and max/min points\n",
    "    diff_curve = y_g - y_e\n",
    "    max_fpt = fpts[np.argmax(diff_curve)]\n",
    "    min_fpt = fpts[np.argmin(diff_curve)]\n",
    "    abs_fpt = fpts[np.argmax(y_d)]\n",
    "    ax[1].plot(fpts, diff_curve, label=\"abs\", marker=\"o\", markersize=3)\n",
    "    ax[1].plot(fpts, y_d, label=\"iq\", marker=\"o\", markersize=3)\n",
    "    ax[1].axvline(max_fpt, color=\"r\", ls=\"--\", label=f\"max SNR1 = {max_fpt:.3f}\")\n",
    "    ax[1].axvline(min_fpt, color=\"g\", ls=\"--\", label=f\"max SNR2 = {min_fpt:.3f}\")\n",
    "    ax[1].axvline(abs_fpt, color=\"b\", ls=\"--\", label=f\"max IQ = {abs_fpt:.3f}\")\n",
    "\n",
    "    plt.legend(loc=2)\n",
    "    plt.tight_layout()\n",
    "\n",
    "    return fig, ax"
   ]
  },
  {
   "cell_type": "code",
   "execution_count": null,
   "metadata": {},
   "outputs": [],
   "source": [
    "signals, fpts, _ = load_data(\"data/qub/disper_shift_q5_i_rf.hdf5\")\n",
    "# signals, fpts, _ = load_data(\"data/qub/disper_shift_q5_i_fid.hdf5\")\n",
    "fpts = fpts / 1e9\n",
    "g_signals, e_signals = signals[:, 0], signals[:, 1]\n",
    "\n",
    "fig, ax = dispersive_analyze2(fpts, g_signals, e_signals)\n",
    "ax[0].set_ylabel(\"Amplitude (a.u.)\")\n",
    "ax[1].set_ylabel(\"Amplitude (a.u.)\")\n",
    "ax[1].set_xlabel(\"Frequency (GHz)\")\n",
    "plt.show()"
   ]
  },
  {
   "cell_type": "markdown",
   "metadata": {},
   "source": [
    "# Single shot"
   ]
  },
  {
   "cell_type": "code",
   "execution_count": 13,
   "metadata": {},
   "outputs": [],
   "source": [
    "# use plot in measure code"
   ]
  }
 ],
 "metadata": {
  "jupytext": {
   "formats": "ipynb,py:percent"
  },
  "kernelspec": {
   "display_name": "Python 3",
   "language": "python",
   "name": "python3"
  },
  "language_info": {
   "codemirror_mode": {
    "name": "ipython",
    "version": 3
   },
   "file_extension": ".py",
   "mimetype": "text/x-python",
   "name": "python",
   "nbconvert_exporter": "python",
   "pygments_lexer": "ipython3",
   "version": "3.12.9"
  }
 },
 "nbformat": 4,
 "nbformat_minor": 2
}
