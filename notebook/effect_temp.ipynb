{
 "cells": [
  {
   "cell_type": "code",
   "execution_count": null,
   "metadata": {},
   "outputs": [],
   "source": [
    "%matplotlib widget\n",
    "import matplotlib.pyplot as plt\n",
    "import numpy as np\n",
    "import scipy.optimize as opt\n",
    "import scipy.special as sp\n",
    "import scipy.constants as sc"
   ]
  },
  {
   "cell_type": "code",
   "execution_count": null,
   "metadata": {},
   "outputs": [],
   "source": [
    "s_f = 7.48675e9 # GHz\n",
    "R = 50  # attenuator impedence\n",
    "log_fpts = np.linspace(6, 12.5, 1000)\n",
    "fpts = np.power(10, log_fpts)\n",
    "\n",
    "lineLoss_4K = 12.8 * np.sqrt(6 / 5)\n",
    "lineLoss_100mK = 12.8 * np.sqrt(6 / 5)\n",
    "lineLoss_20mK = 12.8 * np.sqrt(6 / 5)\n",
    "\n",
    "line1 = lineLoss_4K * (0.465)  # dB\n",
    "line2 = lineLoss_100mK * (0.258 - 0.162 + 0.240)\n",
    "line3 = lineLoss_20mK * (0.162)\n",
    "\n",
    "A_300K = line1 + line2 + line3 + 20 + 20 + 20  #\n",
    "A_4K = line2 + line3 + 20 + 20\n",
    "A_100mK = line3 + 20\n",
    "A_20mK = 0"
   ]
  },
  {
   "cell_type": "code",
   "execution_count": null,
   "metadata": {},
   "outputs": [],
   "source": [
    "def log_expm1(x): # avoid overflow in expm1 for very large x\n",
    "    result = np.copy(x)\n",
    "\n",
    "    mask = x < 20\n",
    "    result[mask] = np.log(np.expm1(x[mask]))\n",
    "    result[~mask] += np.log1p(-np.exp(-x[~mask]))\n",
    "\n",
    "    return result\n",
    "\n",
    "# PSD = 4kTR * (hf / kT) / expm1(hf / kT)\n",
    "def logPSD(log_fpt, R, T):\n",
    "    log_n = np.log10(sc.h / (sc.k * T)) + log_fpt\n",
    "    return np.log10(4*sc.k*T*R) + log_n - log_expm1(10**log_n)/np.log(10)\n",
    "\n",
    "def find_eff_T(fpt, R, fpts, logSvv_total):\n",
    "    # first use interpolation to find the effective PSD at the given frequency\n",
    "    # then use opt.bisect to find the effective temperature\n",
    "    logSvv = np.interp(fpt, fpts, logSvv_total)\n",
    "    return opt.bisect(lambda T: logPSD(np.log10(fpt), R, T) - logSvv, 1e-6, 1e3)\n",
    "\n",
    "def photonNum(T, f):\n",
    "    return 1 / (np.exp((sc.h * f) / (sc.k * T)) - 1)"
   ]
  },
  {
   "cell_type": "code",
   "execution_count": null,
   "metadata": {},
   "outputs": [],
   "source": [
    "fig, ax = plt.subplots(figsize=(9, 6))\n",
    "\n",
    "logSvv_300K = logPSD(log_fpts, R, 300)\n",
    "logSvv_4K = logPSD(log_fpts, R, 4)\n",
    "logSvv_100mK = logPSD(log_fpts, R, 0.1)\n",
    "logSvv_20mK = logPSD(log_fpts, R, 0.02)\n",
    "\n",
    "logSvv_300K_attn = logSvv_300K - A_300K / 10\n",
    "logSvv_4K_attn = logSvv_4K - A_4K / 10\n",
    "logSvv_100mK_attn = logSvv_100mK - A_100mK / 10\n",
    "logSvv_20mK_attn = logSvv_20mK - A_20mK / 10\n",
    "logSvv_total = sp.logsumexp([logSvv_300K_attn, logSvv_4K_attn, logSvv_100mK_attn, logSvv_20mK_attn], axis=0)\n",
    "\n",
    "ax.plot(fpts, logSvv_300K, label='300K')\n",
    "ax.plot(fpts, logSvv_4K, label='4K')\n",
    "ax.plot(fpts, logSvv_100mK, label='100mK')\n",
    "ax.plot(fpts, logSvv_20mK, label='20mK')\n",
    "ax.plot(fpts, logSvv_total, label='Effective')\n",
    "\n",
    "if s_f is not None:\n",
    "    eff_T = find_eff_T(s_f, R, fpts, logSvv_total)\n",
    "\n",
    "    logSvv_eff = logPSD(log_fpts, R, eff_T)\n",
    "    ax.vlines(s_f, -50, -10, colors='k', linestyles='dashed', label=f'freq = {s_f*1e-9:.1f}GHz')\n",
    "    ax.plot(fpts, logSvv_eff, label=f'T_eff = {eff_T*1e3:.1f}mK', linestyle='dashed')\n",
    "\n",
    "    photonN = photonNum(eff_T, s_f)\n",
    "    ax.set_title(f'T_eff = {eff_T*1e3:.1f}mK, n_photon = {photonN:.1g}')\n",
    "\n",
    "\n",
    "\n",
    "ax.set_xlabel('Frequency [Hz]')\n",
    "ax.set_ylabel('PSD [V^2/Hz]')\n",
    "ax.set_xscale('log')\n",
    "ax.set_xlim(fpts[0], fpts[-1])\n",
    "ax.set_ylim(-30.5, -17.5)\n",
    "fig.legend(bbox_to_anchor=(1.00, 0.7))\n",
    "fig.tight_layout()\n",
    "fig.subplots_adjust(right=0.75)\n",
    "\n",
    "fig.savefig(f\"../result/Eff_T/{s_f*1e-9:.3f}GHz_01.png\")\n",
    "\n",
    "plt.show()"
   ]
  },
  {
   "cell_type": "code",
   "execution_count": null,
   "metadata": {},
   "outputs": [],
   "source": [
    "s_fpts = np.linspace(10e6, 10e9, 1000)\n",
    "\n",
    "T_effs = np.array([find_eff_T(f, R, fpts, logSvv_total) for f in s_fpts])\n",
    "\n",
    "fig, ax = plt.subplots()\n",
    "ax.plot(s_fpts, T_effs*1e3)\n",
    "\n",
    "ax.set_xscale('log')\n",
    "ax.grid()\n",
    "\n",
    "ax.set_title('Effective Temperature vs Frequency')\n",
    "ax.set_xlabel('Frequency [Hz]')\n",
    "ax.set_ylabel('Effective Temp [mK]')\n",
    "\n",
    "fig.savefig(f\"../result/Eff_T/Eff_T_vs_Freq.png\")\n",
    "\n",
    "plt.show()"
   ]
  },
  {
   "cell_type": "code",
   "execution_count": null,
   "metadata": {},
   "outputs": [],
   "source": []
  }
 ],
 "metadata": {
  "kernelspec": {
   "display_name": "Python 3",
   "language": "python",
   "name": "python3"
  },
  "language_info": {
   "codemirror_mode": {
    "name": "ipython",
    "version": 3
   },
   "file_extension": ".py",
   "mimetype": "text/x-python",
   "name": "python",
   "nbconvert_exporter": "python",
   "pygments_lexer": "ipython3",
   "version": "3.13.2"
  }
 },
 "nbformat": 4,
 "nbformat_minor": 2
}
