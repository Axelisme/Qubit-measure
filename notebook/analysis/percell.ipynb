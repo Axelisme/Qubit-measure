{
 "cells": [
  {
   "cell_type": "code",
   "execution_count": 1,
   "metadata": {},
   "outputs": [],
   "source": [
    "import scqubits as scq\n",
    "import numpy as np\n",
    "import matplotlib.pyplot as plt\n",
    "import scipy.constants as sc\n",
    "\n",
    "from zcu_tools.notebook.persistance import load_result"
   ]
  },
  {
   "cell_type": "code",
   "execution_count": 2,
   "metadata": {},
   "outputs": [],
   "source": [
    "qub_name = \"Test049\"\n",
    "\n",
    "server_ip = \"005-writeboard\"\n",
    "port = 4999"
   ]
  },
  {
   "cell_type": "code",
   "execution_count": 3,
   "metadata": {},
   "outputs": [],
   "source": [
    "_, params, *_, results = load_result(f\"../../result/{qub_name}/params.json\")\n",
    "\n",
    "\n",
    "r_f = results[\"dispersive\"][\"r_f\"]\n",
    "g = results[\"dispersive\"][\"g\"]"
   ]
  },
  {
   "cell_type": "code",
   "execution_count": null,
   "metadata": {},
   "outputs": [],
   "source": [
    "Nf = 20\n",
    "Nr = 20\n",
    "\n",
    "flxs = np.linspace(0.0, 0.51, 101)\n",
    "\n",
    "fluxonium = scq.Fluxonium(*params, flux=0.0, cutoff=40, truncated_dim=Nf)\n",
    "resonator = scq.Oscillator(E_osc=r_f, truncated_dim=Nr)\n",
    "hilbertspace = scq.HilbertSpace([fluxonium, resonator])\n",
    "hilbertspace.add_interaction(\n",
    "    g=g, op1=fluxonium.n_operator, op2=resonator.creation_operator, add_hc=True\n",
    ")\n",
    "\n",
    "\n",
    "def update_hilbertspace(flx):\n",
    "    fluxonium.flux = flx\n",
    "\n",
    "\n",
    "sweep = scq.ParameterSweep(\n",
    "    hilbertspace=hilbertspace,\n",
    "    paramvals_by_name={\"flux\": flxs},\n",
    "    update_hilbertspace=update_hilbertspace,\n",
    "    evals_count=Nf * Nr,\n",
    "    subsys_update_info={\"flux\": [fluxonium]},\n",
    ")"
   ]
  },
  {
   "cell_type": "markdown",
   "metadata": {},
   "source": [
    "$$\n",
    "P_{res} (n) = (1 - exp(-\\beta \\hbar \\omega_r)) exp(-n \\beta \\hbar \\omega_r) \\\\\n",
    "n_{th}(\\omega_j) = \\frac{1}{exp(\\beta \\hbar \\omega_j) - 1} \\\\\n",
    "\\Gamma^{up}_{l->l'} = \\sum_{n,n'} P_{res}(n)\\kappa n_{th} (\\omega_{l',n'} - \\omega_{l,n})\\left|\\langle l',n'\\left|a^\\dagger\\right|l,n \\rangle\\right|^2 \\\\\n",
    "\\Gamma^{down}_{l->l'} = \\sum_{n,n'} P_{res}(n)\\kappa (n_{th} (-\\omega_{l',n'} + \\omega_{l,n}) + 1)\\left|\\langle l',n'\\left|a\\right|l,n \\rangle\\right|^2 \\\\\n",
    "$$"
   ]
  },
  {
   "cell_type": "code",
   "execution_count": 5,
   "metadata": {},
   "outputs": [],
   "source": [
    "T = 113e-3  # K\n",
    "kappa = 2e-3  # GHz\n",
    "\n",
    "beta_hbar = sc.hbar / (sc.k * T) * 1e9\n",
    "\n",
    "\n",
    "def P_res(n):\n",
    "    return (1 - np.exp(-beta_hbar * r_f)) * np.exp(-n * beta_hbar * r_f)\n",
    "\n",
    "\n",
    "def n_th(w_j):\n",
    "    return 1 / (np.exp(beta_hbar * w_j) - 1)\n",
    "\n",
    "\n",
    "Nmax = 10  # truncate the resonator space\n",
    "ns = np.arange(0, Nmax)\n",
    "P_res_ns = P_res(ns)\n",
    "\n",
    "\n",
    "def percell(paramsweep: scq.ParameterSweep, paramindex_tuple: tuple, **kwargs):\n",
    "    global kappa, ns, P_res_ns\n",
    "\n",
    "    fluxonium: scq.Fluxonium = paramsweep.get_subsys(0)\n",
    "    resonator: scq.Oscillator = paramsweep.get_subsys(1)\n",
    "    evals = paramsweep[\"evals\"][paramindex_tuple]\n",
    "    evecs = paramsweep[\"evecs\"][paramindex_tuple]\n",
    "    bare_evecs = paramsweep[\"bare_evecs\"][\"subsys\":1][paramindex_tuple]\n",
    "\n",
    "    # calculate the transition rate of 0-1 caused by percell effect\n",
    "    g_idxs = [paramsweep.dressed_index((0, n), paramindex_tuple) for n in ns]\n",
    "    e_idxs = [paramsweep.dressed_index((1, n), paramindex_tuple) for n in ns]\n",
    "    Egs, Ees = evals[g_idxs], evals[e_idxs]  # (ns,)\n",
    "    Vgs, Ves = evecs[g_idxs], evecs[e_idxs]  # (ns, N)\n",
    "\n",
    "    E_1n0n = Egs[:, None] - Ees[None, :]  # (ns, ns), from |1, n> to |0, n>\n",
    "\n",
    "    # calculate the transition rate of 0-1 caused by up percell effect\n",
    "\n",
    "    up_mask = E_1n0n > 0\n",
    "    E_1n0n_up = E_1n0n.copy()\n",
    "    E_1n0n_up[~up_mask] = np.inf\n",
    "    n_ths = n_th(E_1n0n_up)  # (ns, ns)\n",
    "    # calculate <0, n'|a^dag|1, n>\n",
    "    ad_op = scq.identity_wrap(\n",
    "        resonator.creation_operator, resonator, [fluxonium, resonator], evecs=bare_evecs\n",
    "    )\n",
    "    ad_1n0n = np.zeros((len(ns), len(ns)), dtype=complex)\n",
    "    for ng in ns:\n",
    "        for ne in ns:\n",
    "            ad_1n0n[ng, ne] = Vgs[ng].dag() * ad_op * Ves[ne]\n",
    "\n",
    "    Percell_up = np.sum(P_res_ns[None, :] * kappa * n_ths * np.abs(ad_1n0n) ** 2)\n",
    "\n",
    "    # calculate the transition rate of 0-1 caused by down percell effect\n",
    "\n",
    "    down_mask = E_1n0n < 0\n",
    "    E_1n0n_down = -E_1n0n.copy()\n",
    "    E_1n0n_down[~down_mask] = np.inf\n",
    "    n_ths = n_th(E_1n0n_down)  # (ns, ns)\n",
    "    # calculate <0, n'|a|1, n>\n",
    "    a_op = scq.identity_wrap(\n",
    "        resonator.annihilation_operator,\n",
    "        resonator,\n",
    "        [fluxonium, resonator],\n",
    "        evecs=bare_evecs,\n",
    "    )\n",
    "    a_1n0n = np.zeros((len(ns), len(ns)), dtype=complex)\n",
    "    for ng in ns:\n",
    "        for ne in ns:\n",
    "            a_1n0n[ng, ne] = Vgs[ng].dag() * a_op * Ves[ne]\n",
    "\n",
    "    Percell_down = np.sum(P_res_ns[None, :] * kappa * n_ths * np.abs(a_1n0n) ** 2)\n",
    "\n",
    "    return 1 / (Percell_up + Percell_down)"
   ]
  },
  {
   "cell_type": "code",
   "execution_count": null,
   "metadata": {},
   "outputs": [],
   "source": [
    "sweep.add_sweep(percell, \"percell\")"
   ]
  },
  {
   "cell_type": "code",
   "execution_count": null,
   "metadata": {},
   "outputs": [],
   "source": [
    "plt.plot(flxs, sweep[\"percell\"])\n",
    "plt.yscale(\"log\")\n",
    "plt.ylim(1e3, 1e7)\n",
    "plt.xlabel(\"flux\")\n",
    "plt.ylabel(\"T1 (us)\")\n",
    "plt.show()"
   ]
  },
  {
   "cell_type": "code",
   "execution_count": null,
   "metadata": {},
   "outputs": [],
   "source": []
  }
 ],
 "metadata": {
  "kernelspec": {
   "display_name": "Python 3",
   "language": "python",
   "name": "python3"
  },
  "language_info": {
   "codemirror_mode": {
    "name": "ipython",
    "version": 3
   },
   "file_extension": ".py",
   "mimetype": "text/x-python",
   "name": "python",
   "nbconvert_exporter": "python",
   "pygments_lexer": "ipython3",
   "version": "3.13.2"
  }
 },
 "nbformat": 4,
 "nbformat_minor": 2
}
