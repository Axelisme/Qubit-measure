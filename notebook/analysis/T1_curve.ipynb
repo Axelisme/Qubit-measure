{
 "cells": [
  {
   "cell_type": "code",
   "execution_count": null,
   "metadata": {},
   "outputs": [],
   "source": [
    "%load_ext autoreload\n",
    "import numpy as np\n",
    "import pandas as pd\n",
    "import matplotlib.pyplot as plt\n",
    "import scqubits as scq\n",
    "\n",
    "%autoreload 2\n",
    "from zcu_tools.notebook.persistance import load_result\n",
    "from zcu_tools.notebook.analysis.t1_curve import (\n",
    "    plot_t1_vs_flx,\n",
    "    get_eff_t1,\n",
    "    plot_sample_t1,\n",
    ")\n",
    "from zcu_tools.simulate import flx2mA, mA2flx"
   ]
  },
  {
   "cell_type": "code",
   "execution_count": 19,
   "metadata": {},
   "outputs": [],
   "source": [
    "qub_name = \"Test049\""
   ]
  },
  {
   "cell_type": "markdown",
   "metadata": {},
   "source": [
    "# Load data"
   ]
  },
  {
   "cell_type": "markdown",
   "metadata": {},
   "source": [
    "## Parameters"
   ]
  },
  {
   "cell_type": "code",
   "execution_count": null,
   "metadata": {},
   "outputs": [],
   "source": [
    "loadpath = f\"../../result/{qub_name}/params.json\"\n",
    "_, params, mA_c, period, allows, _ = load_result(loadpath)\n",
    "EJ, EC, EL = params\n",
    "\n",
    "# mA_c = 4.46\n",
    "\n",
    "print(allows)\n",
    "\n",
    "if \"r_f\" in allows:\n",
    "    r_f = allows[\"r_f\"]\n",
    "\n",
    "if \"sample_f\" in allows:\n",
    "    sample_f = allows[\"sample_f\"]\n",
    "\n",
    "\n",
    "flxs = np.linspace(0.0, 1.5, 1000)\n",
    "mAs = flx2mA(flxs, mA_c, period)"
   ]
  },
  {
   "cell_type": "markdown",
   "metadata": {},
   "source": [
    "## Load Sample Points"
   ]
  },
  {
   "cell_type": "code",
   "execution_count": null,
   "metadata": {},
   "outputs": [],
   "source": [
    "# loading points\n",
    "loadpath = f\"../../result/{qub_name}/sample.csv\"\n",
    "\n",
    "freqs_df = pd.read_csv(loadpath)\n",
    "freqs_df = freqs_df[~np.isnan(freqs_df[\"T1 (us)\"])]\n",
    "s_mAs = freqs_df[\"calibrated mA\"].values  # mA\n",
    "s_fpts = freqs_df[\"Freq (MHz)\"].values * 1e-3  # GHz\n",
    "s_T1s = freqs_df[\"T1 (us)\"].values\n",
    "s_T1errs = freqs_df[\"T1err (us)\"].values\n",
    "\n",
    "# sort by flux\n",
    "s_mAs, s_fpts, s_T1s, s_T1errs = tuple(\n",
    "    np.array(a) for a in zip(*sorted(zip(s_mAs, s_fpts, s_T1s, s_T1errs)))\n",
    ")\n",
    "s_flxs = mA2flx(s_mAs, mA_c, period)\n",
    "\n",
    "freqs_df.head(10)"
   ]
  },
  {
   "cell_type": "markdown",
   "metadata": {},
   "source": [
    "# Simulation"
   ]
  },
  {
   "cell_type": "code",
   "execution_count": null,
   "metadata": {},
   "outputs": [],
   "source": [
    "fluxonium = scq.Fluxonium(*params, flux=0.5, cutoff=40, truncated_dim=6)\n",
    "spectrumData = fluxonium.get_matelements_vs_paramvals(\n",
    "    operator=\"n_operator\", param_name=\"flux\", param_vals=flxs, evals_count=40\n",
    ")\n",
    "evals, evecs = spectrumData.energy_table, spectrumData.state_table"
   ]
  },
  {
   "cell_type": "markdown",
   "metadata": {},
   "source": [
    "# T1 curve"
   ]
  },
  {
   "cell_type": "code",
   "execution_count": null,
   "metadata": {},
   "outputs": [],
   "source": [
    "fig, _ = plot_sample_t1(s_mAs, s_T1s, s_T1errs, mA_c, period)\n",
    "fig.savefig(f\"../../result/{qub_name}/image/T1s.png\")\n",
    "plt.show()"
   ]
  },
  {
   "cell_type": "code",
   "execution_count": 24,
   "metadata": {},
   "outputs": [],
   "source": [
    "Temp = 113e-3\n",
    "# Temp = 200e-3"
   ]
  },
  {
   "cell_type": "code",
   "execution_count": 25,
   "metadata": {},
   "outputs": [],
   "source": [
    "plot_args = (s_mAs, s_flxs, s_T1s, s_T1errs, mA_c, period, fluxonium)\n",
    "plot_kwargs = dict(Temp=Temp, t_mAs=mAs, t_flxs=flxs, esys=(evals, evecs))"
   ]
  },
  {
   "cell_type": "code",
   "execution_count": null,
   "metadata": {},
   "outputs": [],
   "source": [
    "Q_cap = 7e4\n",
    "\n",
    "fig, _ = plot_t1_vs_flx(\n",
    "    *plot_args,\n",
    "    name=\"Q_cap\",\n",
    "    noise_name=\"t1_capacitive\",\n",
    "    values=[Q_cap / 2, Q_cap, Q_cap * 2],\n",
    "    **plot_kwargs,\n",
    ")\n",
    "\n",
    "fig.savefig(f\"../../result/{qub_name}/image/T1s_fit_Qcap.png\")\n",
    "plt.show()"
   ]
  },
  {
   "cell_type": "code",
   "execution_count": null,
   "metadata": {},
   "outputs": [],
   "source": [
    "x_qp = 1.0e-5\n",
    "\n",
    "fig, _ = plot_t1_vs_flx(\n",
    "    *plot_args,\n",
    "    name=\"x_qp\",\n",
    "    noise_name=\"t1_quasiparticle_tunneling\",\n",
    "    values=[x_qp / 2, x_qp, x_qp * 2],\n",
    "    **plot_kwargs,\n",
    ")\n",
    "\n",
    "\n",
    "fig.savefig(f\"../../result/{qub_name}/image/T1s_fit_xqp.png\")\n",
    "plt.show()"
   ]
  },
  {
   "cell_type": "code",
   "execution_count": null,
   "metadata": {},
   "outputs": [],
   "source": [
    "Q_ind = 1e6\n",
    "\n",
    "fig, ax = plot_t1_vs_flx(\n",
    "    *plot_args,\n",
    "    name=\"Q_ind\",\n",
    "    noise_name=\"t1_inductive\",\n",
    "    values=[Q_ind / 2, Q_ind, Q_ind * 2],\n",
    "    **plot_kwargs,\n",
    ")\n",
    "# ax.set_xlim(-5, -4)\n",
    "\n",
    "fig.savefig(f\"../../result/{qub_name}/image/T1s_fit_Q_ind.png\")\n",
    "plt.show()"
   ]
  },
  {
   "cell_type": "code",
   "execution_count": null,
   "metadata": {},
   "outputs": [],
   "source": [
    "fig, ax = fluxonium.plot_t1_effective_vs_paramvals(\n",
    "    param_name=\"flux\",\n",
    "    param_vals=flxs,\n",
    "    noise_channels=[\n",
    "        (\"t1_capacitive\", dict(Q_cap=Q_cap)),\n",
    "        # (\"t1_quasiparticle_tunneling\", dict(x_qp=x_qp)),\n",
    "        # (\"t1_inductive\", dict(Q_ind=Q_ind)),\n",
    "    ],\n",
    "    common_noise_options=dict(i=1, j=0, T=Temp),\n",
    "    spectrum_data=spectrumData,\n",
    ")\n",
    "ax.set_xlim(s_flxs.min() - 0.1, s_flxs.max() + 0.1)\n",
    "ax.plot(s_flxs, 1e3 * s_T1s, \".-\", label=\"T1 data\")\n",
    "plt.show(fig)"
   ]
  },
  {
   "cell_type": "code",
   "execution_count": null,
   "metadata": {},
   "outputs": [],
   "source": [
    "1e-3 * get_eff_t1(\n",
    "    0.5, fluxonium, noise_channels=[(\"t1_capacitive\", {\"Q_cap\": Q_cap})], Temp=Temp\n",
    ")"
   ]
  },
  {
   "cell_type": "code",
   "execution_count": null,
   "metadata": {},
   "outputs": [],
   "source": []
  },
  {
   "cell_type": "code",
   "execution_count": null,
   "metadata": {},
   "outputs": [],
   "source": []
  }
 ],
 "metadata": {
  "kernelspec": {
   "display_name": "Python 3",
   "language": "python",
   "name": "python3"
  },
  "language_info": {
   "codemirror_mode": {
    "name": "ipython",
    "version": 3
   },
   "file_extension": ".py",
   "mimetype": "text/x-python",
   "name": "python",
   "nbconvert_exporter": "python",
   "pygments_lexer": "ipython3",
   "version": "3.13.2"
  }
 },
 "nbformat": 4,
 "nbformat_minor": 2
}
