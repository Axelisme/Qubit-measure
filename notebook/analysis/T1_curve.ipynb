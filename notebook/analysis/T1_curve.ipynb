{
 "cells": [
  {
   "cell_type": "code",
   "execution_count": null,
   "metadata": {},
   "outputs": [],
   "source": [
    "%load_ext autoreload\n",
    "import numpy as np\n",
    "import pandas as pd\n",
    "import matplotlib.pyplot as plt\n",
    "import scqubits as scq\n",
    "import plotly.graph_objects as go\n",
    "from functools import partial\n",
    "\n",
    "%autoreload 2\n",
    "from zcu_tools.analysis.notebook.tools import load_result, flx2mA, mA2flx\n",
    "from zcu_tools.analysis.notebook.t1_curve import plot_eff_t1"
   ]
  },
  {
   "cell_type": "code",
   "execution_count": null,
   "metadata": {},
   "outputs": [],
   "source": [
    "qub_name = \"Q12_2D/Q4\""
   ]
  },
  {
   "cell_type": "markdown",
   "metadata": {},
   "source": [
    "# Load data"
   ]
  },
  {
   "cell_type": "markdown",
   "metadata": {},
   "source": [
    "## Parameters"
   ]
  },
  {
   "cell_type": "code",
   "execution_count": null,
   "metadata": {},
   "outputs": [],
   "source": [
    "loadpath = f\"../../result/{qub_name}/params.json\"\n",
    "_, params, mA_c, period, allows = load_result(loadpath)\n",
    "EJ, EC, EL = params\n",
    "\n",
    "mA_c = 4.46\n",
    "\n",
    "print(allows)\n",
    "\n",
    "if \"r_f\" in allows:\n",
    "    r_f = allows[\"r_f\"]\n",
    "\n",
    "if \"sample_f\" in allows:\n",
    "    sample_f = allows[\"sample_f\"]\n",
    "\n",
    "\n",
    "flxs = np.linspace(0.0, 0.6, 1000)\n",
    "mAs = flx2mA(flxs, mA_c, period)"
   ]
  },
  {
   "cell_type": "code",
   "execution_count": null,
   "metadata": {},
   "outputs": [],
   "source": [
    "fluxonium = scq.Fluxonium(*params, flux=0.5, cutoff=40, truncated_dim=6)"
   ]
  },
  {
   "cell_type": "markdown",
   "metadata": {},
   "source": [
    "## Load Sample Points"
   ]
  },
  {
   "cell_type": "code",
   "execution_count": null,
   "metadata": {},
   "outputs": [],
   "source": [
    "# loading points\n",
    "loadpath = f\"../../result/{qub_name}/freqs.csv\"\n",
    "\n",
    "freqs_df = pd.read_csv(loadpath)\n",
    "s_mAs = freqs_df[\"Current (mA)\"].values  # mA\n",
    "s_fpts = freqs_df[\"Freq (MHz)\"].values * 1e-3  # GHz\n",
    "s_T1s = freqs_df[\"T1 (μs)\"].values\n",
    "s_T1errs = freqs_df[\"T1err (μs)\"].values\n",
    "\n",
    "# sort by flux\n",
    "s_mAs, s_fpts, s_T1s, s_T1errs = tuple(\n",
    "    np.array(a) for a in zip(*sorted(zip(s_mAs, s_fpts, s_T1s, s_T1errs)))\n",
    ")\n",
    "\n",
    "\n",
    "freqs_df.head(10)"
   ]
  },
  {
   "cell_type": "code",
   "execution_count": null,
   "metadata": {},
   "outputs": [],
   "source": [
    "s_flxs = mA2flx(s_mAs, mA_c, period)"
   ]
  },
  {
   "cell_type": "code",
   "execution_count": null,
   "metadata": {},
   "outputs": [],
   "source": [
    "spectrumData = fluxonium.get_matelements_vs_paramvals(\n",
    "    operator=\"n_operator\", param_name=\"flux\", param_vals=flxs, evals_count=40\n",
    ")"
   ]
  },
  {
   "cell_type": "code",
   "execution_count": null,
   "metadata": {},
   "outputs": [],
   "source": [
    "evals, estates = spectrumData.energy_table, spectrumData.state_table"
   ]
  },
  {
   "cell_type": "markdown",
   "metadata": {},
   "source": [
    "# Matrix elements"
   ]
  },
  {
   "cell_type": "code",
   "execution_count": null,
   "metadata": {},
   "outputs": [],
   "source": [
    "show_idxs = [(i, j) for i in range(2) for j in range(5) if j > i]\n",
    "\n",
    "fig = go.Figure()\n",
    "for i, (from_, to_) in enumerate(show_idxs):\n",
    "    fig.add_trace(\n",
    "        go.Scatter(\n",
    "            x=flxs,\n",
    "            y=np.abs(spectrumData.matrixelem_table[:, from_, to_]),\n",
    "            mode=\"lines\",\n",
    "            name=f\"{from_}-{to_}\",\n",
    "            line=dict(width=2),\n",
    "        )\n",
    "    )\n",
    "fig.update_layout(\n",
    "    title=f\"EJ/EC/EL = {EJ:.3f}/{EC:.3f}/{EL:.3f}\",\n",
    "    title_x=0.5,\n",
    "    xaxis_title=r\"$\\phi_{ext}/\\phi_0$\",\n",
    "    yaxis_title=\"Matrix elements\",\n",
    ")\n",
    "\n",
    "fig.show()"
   ]
  },
  {
   "cell_type": "code",
   "execution_count": null,
   "metadata": {},
   "outputs": [],
   "source": [
    "fig.write_html(f\"../../result/{qub_name}/web/matrixelem.html\", include_plotlyjs=\"cdn\")\n",
    "fig.write_image(f\"../../result/{qub_name}/image/matrixelem.png\", format=\"png\")"
   ]
  },
  {
   "cell_type": "markdown",
   "metadata": {},
   "source": [
    "# T1 curve"
   ]
  },
  {
   "cell_type": "code",
   "execution_count": null,
   "metadata": {},
   "outputs": [],
   "source": [
    "fig, ax1 = plt.subplots(constrained_layout=True, figsize=(8, 4))\n",
    "\n",
    "ax1.errorbar(s_mAs, s_T1s, yerr=s_T1errs, fmt=\".-\", label=\"Current\")\n",
    "ax1.grid()\n",
    "ax1.set_xlabel(r\"Current (mA)\")\n",
    "\n",
    "ax1.set_ylabel(r\"$T_1$ ($\\mu s$)\")\n",
    "ax2 = ax1.secondary_xaxis(\n",
    "    \"top\",\n",
    "    functions=(\n",
    "        partial(mA2flx, mA_c=mA_c, period=period),\n",
    "        partial(flx2mA, mA_c=mA_c, period=period),\n",
    "    ),\n",
    ")\n",
    "ax2.set_xlabel(r\"$\\phi_{ext}/\\phi_0$\")\n",
    "\n",
    "fig.savefig(f\"../../result/{qub_name}/image/T1s.png\")\n",
    "plt.show()"
   ]
  },
  {
   "cell_type": "code",
   "execution_count": null,
   "metadata": {},
   "outputs": [],
   "source": [
    "Temp = 54.2e-3"
   ]
  },
  {
   "cell_type": "code",
   "execution_count": null,
   "metadata": {},
   "outputs": [],
   "source": [
    "r_f = 5.7958"
   ]
  },
  {
   "cell_type": "code",
   "execution_count": null,
   "metadata": {},
   "outputs": [],
   "source": [
    "loadpath = \"../../result/Eff_T/Eff_T_vs_Freq.npz\"\n",
    "with np.load(loadpath) as data:\n",
    "    _fpts = data[\"fpts\"] * 1e-9  # GHz\n",
    "    _Temp_effs = data[\"T_effs\"]  # K\n",
    "Temp = np.interp(evals[:, 1] - evals[:, 0], _fpts, _Temp_effs)\n",
    "temp_rf = np.interp(r_f, _fpts, _Temp_effs)\n",
    "\n",
    "plt.plot(flxs, 1e3 * Temp, \".\", markersize=1, label=\"qubit 0-1\")\n",
    "plt.hlines(temp_rf * 1e3, flxs[0], flxs[-1], color=\"red\", label=\"cavity\")\n",
    "plt.xlabel(r\"$\\phi_{ext}/\\phi_0$\")\n",
    "plt.ylabel(r\"$T_{eff}$ (mK)\")\n",
    "plt.legend()\n",
    "plt.savefig(f\"../../result/{qub_name}/image/T_eff.png\")\n",
    "plt.show()"
   ]
  },
  {
   "cell_type": "code",
   "execution_count": null,
   "metadata": {},
   "outputs": [],
   "source": [
    "Q_cap = 3e5\n",
    "\n",
    "fig, _ = plot_eff_t1(\n",
    "    s_mAs,\n",
    "    s_flxs,\n",
    "    s_T1s,\n",
    "    s_T1errs,\n",
    "    mA_c,\n",
    "    period,\n",
    "    fluxonium,\n",
    "    name=\"Q_cap\",\n",
    "    noise_name=\"t1_capacitive\",\n",
    "    values=[Q_cap / 2, Q_cap, Q_cap * 2],\n",
    "    Temp=Temp,\n",
    "    t_mAs=mAs,\n",
    "    t_flxs=flxs,\n",
    "    esys=(evals, estates),\n",
    ")\n",
    "\n",
    "\n",
    "fig.savefig(f\"../../result/{qub_name}/image/T1s_fit_Qcap.png\")\n",
    "plt.show()"
   ]
  },
  {
   "cell_type": "code",
   "execution_count": null,
   "metadata": {},
   "outputs": [],
   "source": [
    "x_qp = 2e-6\n",
    "\n",
    "fig, _ = plot_eff_t1(\n",
    "    s_mAs,\n",
    "    s_flxs,\n",
    "    s_T1s,\n",
    "    s_T1errs,\n",
    "    mA_c,\n",
    "    period,\n",
    "    fluxonium,\n",
    "    name=\"x_qp\",\n",
    "    noise_name=\"t1_quasiparticle_tunneling\",\n",
    "    values=[x_qp / 2, x_qp, x_qp * 2],\n",
    "    Temp=Temp,\n",
    "    t_mAs=mAs,\n",
    "    t_flxs=flxs,\n",
    ")\n",
    "\n",
    "\n",
    "fig.savefig(f\"../../result/{qub_name}/image/T1s_fit_xqp.png\")\n",
    "plt.show()"
   ]
  },
  {
   "cell_type": "code",
   "execution_count": null,
   "metadata": {},
   "outputs": [],
   "source": [
    "Q_ind = 8e6\n",
    "\n",
    "fig, _ = plot_eff_t1(\n",
    "    s_mAs,\n",
    "    s_flxs,\n",
    "    s_T1s,\n",
    "    s_T1errs,\n",
    "    mA_c,\n",
    "    period,\n",
    "    fluxonium,\n",
    "    name=\"Q_ind\",\n",
    "    noise_name=\"t1_inductive\",\n",
    "    values=[Q_ind / 2, Q_ind, Q_ind * 2],\n",
    "    Temp=Temp,\n",
    "    t_mAs=mAs,\n",
    "    t_flxs=flxs,\n",
    ")\n",
    "\n",
    "\n",
    "fig.savefig(f\"../../result/{qub_name}/image/T1s_fit_Q_ind.png\")\n",
    "plt.show()"
   ]
  },
  {
   "cell_type": "code",
   "execution_count": null,
   "metadata": {},
   "outputs": [],
   "source": []
  }
 ],
 "metadata": {
  "kernelspec": {
   "display_name": "Python 3",
   "language": "python",
   "name": "python3"
  },
  "language_info": {
   "codemirror_mode": {
    "name": "ipython",
    "version": 3
   },
   "file_extension": ".py",
   "mimetype": "text/x-python",
   "name": "python",
   "nbconvert_exporter": "python",
   "pygments_lexer": "ipython3",
   "version": "3.13.2"
  }
 },
 "nbformat": 4,
 "nbformat_minor": 2
}
