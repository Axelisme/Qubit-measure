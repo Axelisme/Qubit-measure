{
 "cells": [
  {
   "cell_type": "code",
   "execution_count": 1,
   "metadata": {},
   "outputs": [],
   "source": [
    "%load_ext autoreload\n",
    "import numpy as np\n",
    "import plotly.graph_objects as go\n",
    "\n",
    "%autoreload 2\n",
    "from zcu_tools.notebook.persistance import load_result\n",
    "from zcu_tools.simulate.fluxonium import (\n",
    "    calculate_system_n_oper_vs_flx,\n",
    "    calculate_n_oper_vs_flx,\n",
    "    calculate_energy_vs_flx,\n",
    ")"
   ]
  },
  {
   "cell_type": "code",
   "execution_count": 2,
   "metadata": {},
   "outputs": [],
   "source": [
    "qub_name = \"Test049\"\n",
    "\n",
    "server_ip = \"005-writeboard\"\n",
    "port = 4999"
   ]
  },
  {
   "cell_type": "markdown",
   "metadata": {},
   "source": [
    "# Load data"
   ]
  },
  {
   "cell_type": "markdown",
   "metadata": {},
   "source": [
    "## Parameters"
   ]
  },
  {
   "cell_type": "code",
   "execution_count": 3,
   "metadata": {},
   "outputs": [],
   "source": [
    "loadpath = f\"../../result/{qub_name}/params.json\"\n",
    "_, params, _, _, _, result = load_result(loadpath)\n",
    "\n",
    "r_f = result[\"dispersive\"][\"r_f\"]\n",
    "g = result[\"dispersive\"][\"g\"]"
   ]
  },
  {
   "cell_type": "markdown",
   "metadata": {},
   "source": [
    "# Matrix elements"
   ]
  },
  {
   "cell_type": "code",
   "execution_count": 4,
   "metadata": {},
   "outputs": [],
   "source": [
    "sweep = None\n",
    "spectrum_data = None\n",
    "\n",
    "return_dim = 4\n",
    "flxs = np.linspace(0.0, 0.5, 200)"
   ]
  },
  {
   "cell_type": "code",
   "execution_count": null,
   "metadata": {},
   "outputs": [],
   "source": [
    "spectrum_data, energies = calculate_energy_vs_flx(\n",
    "    params, flxs, spectrum_data=spectrum_data\n",
    ")"
   ]
  },
  {
   "cell_type": "code",
   "execution_count": null,
   "metadata": {},
   "outputs": [],
   "source": [
    "spectrum_data, elements = calculate_n_oper_vs_flx(\n",
    "    params, flxs, return_dim=return_dim, spectrum_data=spectrum_data\n",
    ")"
   ]
  },
  {
   "cell_type": "code",
   "execution_count": null,
   "metadata": {},
   "outputs": [],
   "source": [
    "sweep, side_elements = calculate_system_n_oper_vs_flx(\n",
    "    params, flxs, r_f, g=g, return_dim=return_dim, sweep=sweep\n",
    ")"
   ]
  },
  {
   "cell_type": "code",
   "execution_count": 8,
   "metadata": {},
   "outputs": [],
   "source": [
    "bypass_levels = [None, 2, 3]"
   ]
  },
  {
   "cell_type": "code",
   "execution_count": null,
   "metadata": {},
   "outputs": [],
   "source": [
    "fig = go.Figure()\n",
    "\n",
    "for f, t in [(0, 1), (1, 0)]:\n",
    "    for bypass_level in bypass_levels:\n",
    "        if bypass_level is None:\n",
    "            m = np.abs(side_elements[:, f, t])\n",
    "            label = f\"{f}->{t}\"\n",
    "            energy = energies[:, t] - energies[:, f]\n",
    "            m[energy > r_f] = 0\n",
    "        else:\n",
    "            m1 = np.abs(elements[:, f, bypass_level])\n",
    "            m2 = np.abs(side_elements[:, bypass_level, t])\n",
    "            m = np.sqrt(m1 * m2)\n",
    "            label = f\"{f}->{bypass_level}->{t}\"\n",
    "            energy1 = energies[:, bypass_level] - energies[:, f]\n",
    "            energy2 = energies[:, t] - energies[:, bypass_level]\n",
    "            m[np.logical_or(energy1 < 0, energy2 > r_f)] = 0\n",
    "        fig.add_trace(go.Scatter(x=flxs, y=m, mode=\"lines\", name=label))\n",
    "\n",
    "fig.update_layout(\n",
    "    yaxis_range=[0, 0.2],\n",
    "    xaxis_title=\"Flux\",\n",
    "    yaxis_title=\"Matrix Elements\",\n",
    "    showlegend=True,\n",
    ")\n",
    "fig.show()"
   ]
  },
  {
   "cell_type": "code",
   "execution_count": 10,
   "metadata": {},
   "outputs": [],
   "source": [
    "prefix = f\"../../result/{qub_name}\"\n",
    "fig.write_html(f\"{prefix}/web/reset_element.html\", include_plotlyjs=\"cdn\")\n",
    "fig.write_image(\n",
    "    f\"{prefix}/image/reset_element.png\", format=\"png\", width=800, height=400\n",
    ")"
   ]
  },
  {
   "cell_type": "code",
   "execution_count": null,
   "metadata": {},
   "outputs": [],
   "source": []
  }
 ],
 "metadata": {
  "kernelspec": {
   "display_name": "Python 3",
   "language": "python",
   "name": "python3"
  },
  "language_info": {
   "codemirror_mode": {
    "name": "ipython",
    "version": 3
   },
   "file_extension": ".py",
   "mimetype": "text/x-python",
   "name": "python",
   "nbconvert_exporter": "python",
   "pygments_lexer": "ipython3",
   "version": "3.13.2"
  }
 },
 "nbformat": 4,
 "nbformat_minor": 2
}
