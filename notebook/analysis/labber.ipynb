{
 "cells": [
  {
   "cell_type": "code",
   "execution_count": 1,
   "metadata": {},
   "outputs": [],
   "source": [
    "%load_ext autoreload\n",
    "import numpy as np\n",
    "import matplotlib.pyplot as plt\n",
    "\n",
    "import zcu_tools.notebook.single_qubit as zf\n",
    "\n",
    "%autoreload 2\n",
    "from zcu_tools.datasaver import load_data"
   ]
  },
  {
   "cell_type": "code",
   "execution_count": 2,
   "metadata": {},
   "outputs": [],
   "source": [
    "host = \"005-writeboard\"\n",
    "port = 4999"
   ]
  },
  {
   "cell_type": "markdown",
   "metadata": {},
   "source": [
    "# GE contrast"
   ]
  },
  {
   "cell_type": "code",
   "execution_count": null,
   "metadata": {},
   "outputs": [],
   "source": [
    "g_path = \"../Database/S001/2025/03/Data_0316/S001_GE_G_021@1.106mA.hdf5\"\n",
    "e_path = \"../Database/S001/2025/03/Data_0316/S001_GE_E_021@1.106mA.hdf5\"\n",
    "g_signals, fpts, pdrs = load_data(g_path, host, port)\n",
    "e_signals, fpts, pdrs = load_data(e_path, host, port)\n",
    "\n",
    "fpts /= 1e9  # GHz\n",
    "\n",
    "snr = np.abs(g_signals - e_signals)\n",
    "plt.imshow(\n",
    "    snr.T,\n",
    "    aspect=\"auto\",\n",
    "    extent=[fpts[-1], fpts[0], pdrs[-1], pdrs[0]],\n",
    ")\n",
    "\n",
    "max_fpt = fpts[np.argmax(np.max(snr, axis=1))].item()\n",
    "max_pdr = pdrs[np.argmax(np.max(snr, axis=0))].item()\n",
    "max_fpt, max_pdr"
   ]
  },
  {
   "cell_type": "markdown",
   "metadata": {},
   "source": [
    "# T1"
   ]
  },
  {
   "cell_type": "code",
   "execution_count": null,
   "metadata": {},
   "outputs": [],
   "source": [
    "T1_path = \"../Database/S001/2025/03/Data_0331/Test096_TwoTone_T1_035@-0.37mA.hdf5\"\n",
    "# D:\\Labber_Data\\Axel\\S001\\2025\\03\\Data_0331\\Test096_TwoTone_T1_035@-0.37mA.hdf5\n",
    "\n",
    "signals, Ts, _ = load_data(T1_path, host, port)\n",
    "\n",
    "Ts *= 1e6  # us\n",
    "\n",
    "t1 = zf.T1_analyze(Ts, signals, max_contrast=True, dual_exp=False)"
   ]
  },
  {
   "cell_type": "markdown",
   "metadata": {},
   "source": [
    "# SingleShot"
   ]
  },
  {
   "cell_type": "markdown",
   "metadata": {},
   "source": [
    "## Gound & Excited"
   ]
  },
  {
   "cell_type": "code",
   "execution_count": null,
   "metadata": {},
   "outputs": [],
   "source": [
    "load_path = \"../../Database/Test096/2025/04/Data_0406/single_shot_ge_q_0.200mA_2.hdf5\"\n",
    "\n",
    "signals, _, _ = load_data(load_path, host, port)\n",
    "signals = signals.T\n",
    "\n",
    "signals.shape"
   ]
  },
  {
   "cell_type": "code",
   "execution_count": null,
   "metadata": {},
   "outputs": [],
   "source": [
    "_ = zf.singleshot_ge_analysis(signals, plot=True, backend=\"center\")"
   ]
  },
  {
   "cell_type": "markdown",
   "metadata": {},
   "source": [
    "## SingleShot Rabi"
   ]
  },
  {
   "cell_type": "code",
   "execution_count": null,
   "metadata": {},
   "outputs": [],
   "source": [
    "load_path = \"../../Database/Test096/2025/04/Data_0406/single_shot_rabi_q_0.200mA_3.hdf5\"\n",
    "\n",
    "signals, _, pdrs = load_data(load_path, host, port)\n",
    "signals = signals.T\n",
    "\n",
    "signals.shape, pdrs.shape"
   ]
  },
  {
   "cell_type": "code",
   "execution_count": null,
   "metadata": {},
   "outputs": [],
   "source": [
    "n_g, n_e, list_params = zf.single_shot.singleshot_rabi_analysis(\n",
    "    pdrs, signals, pure_peak=True\n",
    ")"
   ]
  },
  {
   "cell_type": "code",
   "execution_count": null,
   "metadata": {},
   "outputs": [],
   "source": [
    "%matplotlib widget\n",
    "stop_fn = zf.single_shot.visualize_singleshot_rabi(pdrs, signals, list_params)"
   ]
  },
  {
   "cell_type": "code",
   "execution_count": 10,
   "metadata": {},
   "outputs": [],
   "source": [
    "stop_fn()"
   ]
  },
  {
   "cell_type": "code",
   "execution_count": null,
   "metadata": {},
   "outputs": [],
   "source": []
  }
 ],
 "metadata": {
  "kernelspec": {
   "display_name": "Python 3",
   "language": "python",
   "name": "python3"
  },
  "language_info": {
   "codemirror_mode": {
    "name": "ipython",
    "version": 3
   },
   "file_extension": ".py",
   "mimetype": "text/x-python",
   "name": "python",
   "nbconvert_exporter": "python",
   "pygments_lexer": "ipython3",
   "version": "3.13.2"
  }
 },
 "nbformat": 4,
 "nbformat_minor": 2
}
