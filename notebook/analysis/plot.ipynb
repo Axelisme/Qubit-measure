{
 "cells": [
  {
   "cell_type": "code",
   "execution_count": null,
   "metadata": {},
   "outputs": [],
   "source": [
    "%load_ext autoreload\n",
    "import numpy as np\n",
    "import pandas as pd\n",
    "\n",
    "%autoreload 2\n",
    "import zcu_tools.notebook.analysis.plot as zp\n",
    "from zcu_tools.notebook.persistance import load_result\n",
    "from zcu_tools.simulate import flx2mA, mA2flx\n",
    "from zcu_tools.simulate.fluxonium import calculate_energy_vs_flx"
   ]
  },
  {
   "cell_type": "code",
   "execution_count": 2,
   "metadata": {},
   "outputs": [],
   "source": [
    "qub_name = \"Q12_2D[2]/Q4\"\n",
    "\n",
    "server_ip = \"021-zcu216\"\n",
    "port = 4999"
   ]
  },
  {
   "cell_type": "markdown",
   "metadata": {},
   "source": [
    "# Load data"
   ]
  },
  {
   "cell_type": "markdown",
   "metadata": {},
   "source": [
    "## Parameters"
   ]
  },
  {
   "cell_type": "code",
   "execution_count": null,
   "metadata": {},
   "outputs": [],
   "source": [
    "loadpath = f\"../../result/{qub_name}/params.json\"\n",
    "_, params, mA_c, period, allows, _ = load_result(loadpath)\n",
    "EJ, EC, EL = params\n",
    "\n",
    "print(allows)\n",
    "\n",
    "if \"r_f\" in allows:\n",
    "    r_f = allows[\"r_f\"]\n",
    "\n",
    "if \"sample_f\" in allows:\n",
    "    sample_f = allows[\"sample_f\"]\n",
    "\n",
    "\n",
    "flxs = np.linspace(0.0, 1.0, 1000)\n",
    "mAs = flx2mA(flxs, mA_c, period)"
   ]
  },
  {
   "cell_type": "code",
   "execution_count": 4,
   "metadata": {},
   "outputs": [],
   "source": [
    "spectrum_data = None"
   ]
  },
  {
   "cell_type": "markdown",
   "metadata": {},
   "source": [
    "## Load Sample Points"
   ]
  },
  {
   "cell_type": "code",
   "execution_count": null,
   "metadata": {},
   "outputs": [],
   "source": [
    "# loading points\n",
    "loadpath = f\"../../result/{qub_name}/freqs.csv\"\n",
    "\n",
    "freqs_df = pd.read_csv(loadpath)\n",
    "s_mAs = freqs_df[\"Current (mA)\"].values  # mA\n",
    "s_fpts = freqs_df[\"Freq (MHz)\"].values * 1e-3  # GHz\n",
    "s_T1s = freqs_df[\"T1 (μs)\"].values\n",
    "s_T1errs = freqs_df[\"T1err (μs)\"].values\n",
    "\n",
    "# sort by flux\n",
    "s_mAs, s_fpts, s_T1s, s_T1errs = tuple(\n",
    "    np.array(a) for a in zip(*sorted(zip(s_mAs, s_fpts, s_T1s, s_T1errs)))\n",
    ")\n",
    "s_flxs = mA2flx(s_mAs, mA_c, period)\n",
    "\n",
    "freqs_df.head(10)"
   ]
  },
  {
   "cell_type": "markdown",
   "metadata": {},
   "source": [
    "# Matrix elements"
   ]
  },
  {
   "cell_type": "code",
   "execution_count": null,
   "metadata": {},
   "outputs": [],
   "source": [
    "show_idxs = [(i, j) for i in range(2) for j in range(5) if j > i]\n",
    "\n",
    "fig, _ = zp.plot_matrix_elements(params, flxs, show_idxs, spectrum_data=spectrum_data)\n",
    "fig.show()"
   ]
  },
  {
   "cell_type": "code",
   "execution_count": 6,
   "metadata": {},
   "outputs": [],
   "source": [
    "fig.write_html(f\"../../result/{qub_name}/web/matrixelem.html\", include_plotlyjs=\"cdn\")\n",
    "fig.write_image(f\"../../result/{qub_name}/image/matrixelem.png\", format=\"png\")"
   ]
  },
  {
   "cell_type": "markdown",
   "metadata": {},
   "source": [
    "# Flux dependence"
   ]
  },
  {
   "cell_type": "code",
   "execution_count": null,
   "metadata": {},
   "outputs": [],
   "source": [
    "_, energies = calculate_energy_vs_flx(params, flxs, spectrum_data=spectrum_data)"
   ]
  },
  {
   "cell_type": "code",
   "execution_count": null,
   "metadata": {},
   "outputs": [],
   "source": [
    "v_allows = {\n",
    "    **allows,\n",
    "    \"transitions\": [(i, j) for i in (0, 1, 2, 3) for j in range(i + 1, 15)],\n",
    "    \"red side\": [(i, j) for i in (0, 1, 2, 3) for j in range(i + 1, 15)],\n",
    "    \"mirror\": [(i, j) for i in (0, 1, 2) for j in range(i + 1, 15)],\n",
    "    \"mirror red\": [(i, j) for i in (0, 1, 2, 3) for j in range(i + 1, 15)],\n",
    "    \"r_f\": 5.7965,\n",
    "    \"sample_f\": 6.881280 / 2,\n",
    "}\n",
    "\n",
    "import plotly.graph_objects as go\n",
    "from zcu_tools.notebook.analysis.fluxdep import energy2transition\n",
    "\n",
    "fig = go.Figure()\n",
    "freqs, names = energy2transition(energies, v_allows)\n",
    "for i in range(len(names)):\n",
    "    fig.add_trace(go.Scatter(x=mAs, y=freqs[:, i], mode=\"lines\", name=names[i]))\n",
    "    # fig.add_trace(go.Scatter(x=flxs, y=freqs[:, i], mode=\"lines\", name=names[i]))\n",
    "\n",
    "fig.add_hline(y=v_allows[\"r_f\"], line_dash=\"dash\", line_color=\"black\", line_width=2)\n",
    "fig.add_hline(\n",
    "    y=v_allows[\"sample_f\"], line_dash=\"dash\", line_color=\"black\", line_width=2\n",
    ")\n",
    "fig.add_hline(\n",
    "    y=2 * v_allows[\"sample_f\"] - v_allows[\"r_f\"],\n",
    "    line_dash=\"dash\",\n",
    "    line_color=\"black\",\n",
    "    line_width=2,\n",
    ")\n",
    "\n",
    "fig.update_layout(\n",
    "    title=f\"EJ/EC/EL = ({params[0]:.2f}, {params[1]:.2f}, {params[2]:.2f})\",\n",
    "    title_x=0.501,\n",
    ")\n",
    "fig.update_yaxes(range=[0.0, 8.0])\n",
    "fig.update_layout(height=1000)\n",
    "fig.show()"
   ]
  },
  {
   "cell_type": "code",
   "execution_count": null,
   "metadata": {},
   "outputs": [],
   "source": []
  },
  {
   "cell_type": "code",
   "execution_count": null,
   "metadata": {},
   "outputs": [],
   "source": []
  }
 ],
 "metadata": {
  "kernelspec": {
   "display_name": "Python 3",
   "language": "python",
   "name": "python3"
  },
  "language_info": {
   "codemirror_mode": {
    "name": "ipython",
    "version": 3
   },
   "file_extension": ".py",
   "mimetype": "text/x-python",
   "name": "python",
   "nbconvert_exporter": "python",
   "pygments_lexer": "ipython3",
   "version": "3.13.2"
  }
 },
 "nbformat": 4,
 "nbformat_minor": 2
}
