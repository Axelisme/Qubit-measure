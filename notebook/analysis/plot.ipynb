{
 "cells": [
  {
   "cell_type": "code",
   "execution_count": 1,
   "metadata": {},
   "outputs": [],
   "source": [
    "%load_ext autoreload\n",
    "import numpy as np\n",
    "import pandas as pd\n",
    "\n",
    "%autoreload 2\n",
    "import zcu_tools.notebook.analysis.plot as zp\n",
    "from zcu_tools.notebook.persistance import load_result\n",
    "from zcu_tools.simulate import flx2mA, mA2flx"
   ]
  },
  {
   "cell_type": "code",
   "execution_count": 2,
   "metadata": {},
   "outputs": [],
   "source": [
    "qub_name = \"2DQ9/Q5\""
   ]
  },
  {
   "cell_type": "markdown",
   "metadata": {},
   "source": [
    "# Load data"
   ]
  },
  {
   "cell_type": "markdown",
   "metadata": {},
   "source": [
    "## Parameters"
   ]
  },
  {
   "cell_type": "code",
   "execution_count": null,
   "metadata": {},
   "outputs": [],
   "source": [
    "loadpath = f\"../../result/{qub_name}/params.json\"\n",
    "_, params, mA_c, period, allows = load_result(loadpath)\n",
    "EJ, EC, EL = params\n",
    "\n",
    "# mA_c = 4.46\n",
    "\n",
    "print(allows)\n",
    "\n",
    "if \"r_f\" in allows:\n",
    "    r_f = allows[\"r_f\"]\n",
    "\n",
    "if \"sample_f\" in allows:\n",
    "    sample_f = allows[\"sample_f\"]\n",
    "\n",
    "\n",
    "flxs = np.linspace(0.0, 1.0, 1000)\n",
    "mAs = flx2mA(flxs, mA_c, period)"
   ]
  },
  {
   "cell_type": "markdown",
   "metadata": {},
   "source": [
    "## Load Sample Points"
   ]
  },
  {
   "cell_type": "code",
   "execution_count": null,
   "metadata": {},
   "outputs": [],
   "source": [
    "# loading points\n",
    "loadpath = f\"../../result/{qub_name}/freqs.csv\"\n",
    "\n",
    "freqs_df = pd.read_csv(loadpath)\n",
    "s_mAs = freqs_df[\"Current (mA)\"].values  # mA\n",
    "s_fpts = freqs_df[\"Freq (MHz)\"].values * 1e-3  # GHz\n",
    "s_T1s = freqs_df[\"T1 (μs)\"].values\n",
    "s_T1errs = freqs_df[\"T1err (μs)\"].values\n",
    "\n",
    "# sort by flux\n",
    "s_mAs, s_fpts, s_T1s, s_T1errs = tuple(\n",
    "    np.array(a) for a in zip(*sorted(zip(s_mAs, s_fpts, s_T1s, s_T1errs)))\n",
    ")\n",
    "s_flxs = mA2flx(s_mAs, mA_c, period)\n",
    "\n",
    "freqs_df.head(10)"
   ]
  },
  {
   "cell_type": "markdown",
   "metadata": {},
   "source": [
    "# Matrix elements"
   ]
  },
  {
   "cell_type": "code",
   "execution_count": null,
   "metadata": {},
   "outputs": [],
   "source": [
    "show_idxs = [(i, j) for i in range(2) for j in range(5) if j > i]\n",
    "\n",
    "fig = zp.plot_matrix_elements(params, flxs, show_idxs)\n",
    "fig.show()"
   ]
  },
  {
   "cell_type": "code",
   "execution_count": 6,
   "metadata": {},
   "outputs": [],
   "source": [
    "fig.write_html(f\"../../result/{qub_name}/web/matrixelem.html\", include_plotlyjs=\"cdn\")\n",
    "fig.write_image(f\"../../result/{qub_name}/image/matrixelem.png\", format=\"png\")"
   ]
  },
  {
   "cell_type": "code",
   "execution_count": null,
   "metadata": {},
   "outputs": [],
   "source": []
  }
 ],
 "metadata": {
  "kernelspec": {
   "display_name": "Python 3",
   "language": "python",
   "name": "python3"
  },
  "language_info": {
   "codemirror_mode": {
    "name": "ipython",
    "version": 3
   },
   "file_extension": ".py",
   "mimetype": "text/x-python",
   "name": "python",
   "nbconvert_exporter": "python",
   "pygments_lexer": "ipython3",
   "version": "3.13.2"
  }
 },
 "nbformat": 4,
 "nbformat_minor": 2
}
