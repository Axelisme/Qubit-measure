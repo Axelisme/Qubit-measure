{
 "cells": [
  {
   "cell_type": "code",
   "execution_count": 1,
   "metadata": {},
   "outputs": [],
   "source": [
    "%load_ext autoreload\n",
    "import numpy as np\n",
    "import pandas as pd\n",
    "\n",
    "%autoreload 2\n",
    "import zcu_tools.notebook.analysis.plot as zp\n",
    "from zcu_tools.notebook.analysis.fluxdep import VisualizeSpet\n",
    "from zcu_tools.notebook.persistance import load_result, load_spects\n",
    "from zcu_tools.simulate import flx2mA, mA2flx\n",
    "from zcu_tools.simulate.fluxonium import calculate_energy_vs_flx"
   ]
  },
  {
   "cell_type": "code",
   "execution_count": 2,
   "metadata": {},
   "outputs": [],
   "source": [
    "qub_name = \"Test049\"\n",
    "\n",
    "server_ip = \"005-writeboard\"\n",
    "port = 4999"
   ]
  },
  {
   "cell_type": "markdown",
   "metadata": {},
   "source": [
    "# Load data"
   ]
  },
  {
   "cell_type": "markdown",
   "metadata": {},
   "source": [
    "## Parameters"
   ]
  },
  {
   "cell_type": "code",
   "execution_count": null,
   "metadata": {},
   "outputs": [],
   "source": [
    "loadpath = f\"../../result/{qub_name}/params.json\"\n",
    "_, params, mA_c, period, allows, _ = load_result(loadpath)\n",
    "EJ, EC, EL = params\n",
    "\n",
    "# mA_c = 4.46\n",
    "\n",
    "print(allows)\n",
    "\n",
    "if \"r_f\" in allows:\n",
    "    r_f = allows[\"r_f\"]\n",
    "\n",
    "if \"sample_f\" in allows:\n",
    "    sample_f = allows[\"sample_f\"]\n",
    "\n",
    "\n",
    "flxs = np.linspace(0.0, 1.0, 1000)\n",
    "mAs = flx2mA(flxs, mA_c, period)"
   ]
  },
  {
   "cell_type": "markdown",
   "metadata": {},
   "source": [
    "## Load Sample Points"
   ]
  },
  {
   "cell_type": "code",
   "execution_count": null,
   "metadata": {},
   "outputs": [],
   "source": [
    "# loading points\n",
    "loadpath = f\"../../result/{qub_name}/freqs.csv\"\n",
    "\n",
    "freqs_df = pd.read_csv(loadpath)\n",
    "s_mAs = freqs_df[\"Current (mA)\"].values  # mA\n",
    "s_fpts = freqs_df[\"Freq (MHz)\"].values * 1e-3  # GHz\n",
    "s_T1s = freqs_df[\"T1 (μs)\"].values\n",
    "s_T1errs = freqs_df[\"T1err (μs)\"].values\n",
    "\n",
    "# sort by flux\n",
    "s_mAs, s_fpts, s_T1s, s_T1errs = tuple(\n",
    "    np.array(a) for a in zip(*sorted(zip(s_mAs, s_fpts, s_T1s, s_T1errs)))\n",
    ")\n",
    "s_flxs = mA2flx(s_mAs, mA_c, period)\n",
    "\n",
    "freqs_df.head(10)"
   ]
  },
  {
   "cell_type": "markdown",
   "metadata": {},
   "source": [
    "# Matrix elements"
   ]
  },
  {
   "cell_type": "code",
   "execution_count": null,
   "metadata": {},
   "outputs": [],
   "source": [
    "show_idxs = [(i, j) for i in range(2) for j in range(5) if j > i]\n",
    "\n",
    "fig = zp.plot_matrix_elements(params, flxs, show_idxs)\n",
    "fig.show()"
   ]
  },
  {
   "cell_type": "code",
   "execution_count": 6,
   "metadata": {},
   "outputs": [],
   "source": [
    "fig.write_html(f\"../../result/{qub_name}/web/matrixelem.html\", include_plotlyjs=\"cdn\")\n",
    "fig.write_image(f\"../../result/{qub_name}/image/matrixelem.png\", format=\"png\")"
   ]
  },
  {
   "cell_type": "markdown",
   "metadata": {},
   "source": [
    "# Flux dependence"
   ]
  },
  {
   "cell_type": "code",
   "execution_count": null,
   "metadata": {},
   "outputs": [],
   "source": [
    "processed_spect_path = f\"../../result/{qub_name}/spect.hdf5\"\n",
    "s_spects = load_spects(processed_spect_path)\n",
    "s_spects.keys()"
   ]
  },
  {
   "cell_type": "code",
   "execution_count": 5,
   "metadata": {},
   "outputs": [],
   "source": [
    "mA_c = list(s_spects.values())[-1][\"mA_c\"]\n",
    "period = list(s_spects.values())[-1][\"period\"]\n",
    "for spect in s_spects.values():\n",
    "    shift = mA_c - spect[\"mA_c\"]\n",
    "    spect[\"mA_c\"] += shift\n",
    "    spect[\"spectrum\"][\"mAs\"] += shift\n",
    "    spect[\"points\"][\"mAs\"] += shift"
   ]
  },
  {
   "cell_type": "code",
   "execution_count": 6,
   "metadata": {},
   "outputs": [],
   "source": [
    "mA_bound = (\n",
    "    np.nanmin([np.nanmin(s[\"spectrum\"][\"mAs\"]) for s in s_spects.values()]),\n",
    "    np.nanmax([np.nanmax(s[\"spectrum\"][\"mAs\"]) for s in s_spects.values()]),\n",
    ")\n",
    "fpt_bound = (\n",
    "    np.nanmin([np.nanmin(s[\"points\"][\"fpts\"]) for s in s_spects.values()]),\n",
    "    np.nanmax([np.nanmax(s[\"points\"][\"fpts\"]) for s in s_spects.values()]),\n",
    ")\n",
    "s_selected = None\n",
    "t_mAs = np.linspace(mA_bound[0], mA_bound[1], 1000)\n",
    "t_fpts = np.linspace(fpt_bound[0], fpt_bound[1], 1000)\n",
    "t_flxs = mA2flx(t_mAs, mA_c, period)"
   ]
  },
  {
   "cell_type": "code",
   "execution_count": null,
   "metadata": {},
   "outputs": [],
   "source": [
    "_, energies = calculate_energy_vs_flx(params, t_flxs, cutoff=40, evals_count=15)"
   ]
  },
  {
   "cell_type": "code",
   "execution_count": null,
   "metadata": {},
   "outputs": [],
   "source": [
    "v_allows = {\n",
    "    **allows,\n",
    "    # \"transitions\": [(i, j) for i in (0, 1, 2) for j in range(i + 1, 15)],\n",
    "    # \"red side\": [(i, j) for i in [0, 1, 2] for j in range(i + 1, 15)],\n",
    "    # \"mirror\": [(i, j) for i in (0, 1) for j in range(i + 1, 15)],\n",
    "    # \"mirror red\": [(i, j) for i in (0, 1) for j in range(i + 1, 15)],\n",
    "    \"red side\": [(0, 2)],\n",
    "}\n",
    "\n",
    "vs = VisualizeSpet(\n",
    "    s_spects, np.array([]), np.array([]), t_mAs, energies, v_allows, auto_hide=False\n",
    ")\n",
    "fig = vs.create_figure()\n",
    "_ = fig.update_layout(\n",
    "    title=f\"EJ/EC/EL = ({params[0]:.2f}, {params[1]:.2f}, {params[2]:.2f})\",\n",
    "    title_x=0.501,\n",
    ")\n",
    "# fig.update_yaxes(range=[allows[\"r_f\"] - 0.01, allows[\"r_f\"] + 0.01])\n",
    "# fig.update_layout(height=1000)\n",
    "fig.show()"
   ]
  },
  {
   "cell_type": "code",
   "execution_count": null,
   "metadata": {},
   "outputs": [],
   "source": []
  }
 ],
 "metadata": {
  "kernelspec": {
   "display_name": "Python 3",
   "language": "python",
   "name": "python3"
  },
  "language_info": {
   "codemirror_mode": {
    "name": "ipython",
    "version": 3
   },
   "file_extension": ".py",
   "mimetype": "text/x-python",
   "name": "python",
   "nbconvert_exporter": "python",
   "pygments_lexer": "ipython3",
   "version": "3.13.2"
  }
 },
 "nbformat": 4,
 "nbformat_minor": 2
}
