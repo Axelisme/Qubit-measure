{
 "cells": [
  {
   "cell_type": "code",
   "execution_count": null,
   "metadata": {},
   "outputs": [],
   "source": [
    "%load_ext autoreload\n",
    "import numpy as np\n",
    "\n",
    "%autoreload 2\n",
    "from zcu_tools.analysis.fluxdep import load_result, mA2flx, flx2mA\n",
    "from zcu_tools.datasaver import load_data\n",
    "from zcu_tools.analysis.dispersive.interactive_fit import (\n",
    "    calculate_dispersive,\n",
    "    plot_dispersive_with_onetone,\n",
    "    search_proper_g,\n",
    ")"
   ]
  },
  {
   "cell_type": "code",
   "execution_count": null,
   "metadata": {},
   "outputs": [],
   "source": [
    "qub_name = \"S001\""
   ]
  },
  {
   "cell_type": "code",
   "execution_count": null,
   "metadata": {},
   "outputs": [],
   "source": [
    "loadpath = f\"../../result/{qub_name}/params.json\"\n",
    "_, params, mA_c, period, allows = load_result(loadpath)\n",
    "\n",
    "if \"r_f\" in allows:\n",
    "    r_f = allows[\"r_f\"]\n",
    "    print(f\"r_f = {r_f}\")"
   ]
  },
  {
   "cell_type": "markdown",
   "metadata": {},
   "source": [
    "# Plot with Onetone"
   ]
  },
  {
   "cell_type": "code",
   "execution_count": null,
   "metadata": {},
   "outputs": [],
   "source": [
    "onetone_path = \"../../Database/S001/2025/03/Data_0311/S001_OneTone_flux_003.hdf5\"\n",
    "\n",
    "signals, sp_fpts, sp_mAs = load_data(\n",
    "    onetone_path, server_ip=\"005-writeboard\", port=4999\n",
    ")\n",
    "sp_fpts = sp_fpts * 1e-9  # to GHz\n",
    "sp_mAs = sp_mAs * 1e3  # to mA\n",
    "signals = signals.T  # (sp_mAs, sp_fpts)"
   ]
  },
  {
   "cell_type": "code",
   "execution_count": null,
   "metadata": {},
   "outputs": [],
   "source": [
    "r_f = 7.485\n",
    "sp_flxs = mA2flx(sp_mAs, mA_c, period)"
   ]
  },
  {
   "cell_type": "code",
   "execution_count": null,
   "metadata": {},
   "outputs": [],
   "source": [
    "flxs = np.linspace(sp_flxs.min(), sp_flxs.max(), 501)\n",
    "mAs = flx2mA(flxs, mA_c, period)"
   ]
  },
  {
   "cell_type": "code",
   "execution_count": null,
   "metadata": {},
   "outputs": [],
   "source": [
    "%matplotlib widget\n",
    "finish_fn = search_proper_g(params, r_f, sp_flxs, sp_fpts, signals, g_bound=(0, 0.2))"
   ]
  },
  {
   "cell_type": "code",
   "execution_count": null,
   "metadata": {},
   "outputs": [],
   "source": [
    "best_g = finish_fn()\n",
    "best_g"
   ]
  },
  {
   "cell_type": "code",
   "execution_count": null,
   "metadata": {},
   "outputs": [],
   "source": [
    "rf_0, rf_1 = calculate_dispersive(params, r_f, best_g, flxs)"
   ]
  },
  {
   "cell_type": "code",
   "execution_count": null,
   "metadata": {},
   "outputs": [],
   "source": [
    "fig = plot_dispersive_with_onetone(\n",
    "    r_f, best_g, mAs, flxs, rf_0, rf_1, sp_mAs, sp_flxs, sp_fpts, signals\n",
    ")\n",
    "fig.show()"
   ]
  },
  {
   "cell_type": "code",
   "execution_count": null,
   "metadata": {},
   "outputs": [],
   "source": [
    "fig.write_html(f\"../../result/{qub_name}/web/dispersive.html\", include_plotlyjs=\"cdn\")\n",
    "fig.write_image(\n",
    "    f\"../../result/{qub_name}/image/dispersive.png\", format=\"png\", width=800, height=400\n",
    ")"
   ]
  },
  {
   "cell_type": "code",
   "execution_count": null,
   "metadata": {},
   "outputs": [],
   "source": []
  }
 ],
 "metadata": {
  "kernelspec": {
   "display_name": "Python 3",
   "language": "python",
   "name": "python3"
  },
  "language_info": {
   "codemirror_mode": {
    "name": "ipython",
    "version": 3
   },
   "file_extension": ".py",
   "mimetype": "text/x-python",
   "name": "python",
   "nbconvert_exporter": "python",
   "pygments_lexer": "ipython3",
   "version": "3.13.2"
  },
  "orig_nbformat": 4
 },
 "nbformat": 4,
 "nbformat_minor": 2
}
