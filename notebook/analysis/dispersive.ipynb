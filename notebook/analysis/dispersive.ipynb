{
 "cells": [
  {
   "cell_type": "code",
   "execution_count": 1,
   "metadata": {},
   "outputs": [],
   "source": [
    "%load_ext autoreload\n",
    "import numpy as np\n",
    "\n",
    "%autoreload 2\n",
    "from zcu_tools.datasaver import load_data\n",
    "import zcu_tools.analysis.notebook.tools as znt\n",
    "import zcu_tools.analysis.notebook.dispersive as znd"
   ]
  },
  {
   "cell_type": "code",
   "execution_count": 2,
   "metadata": {},
   "outputs": [],
   "source": [
    "qub_name = \"Test096\""
   ]
  },
  {
   "cell_type": "code",
   "execution_count": null,
   "metadata": {},
   "outputs": [],
   "source": [
    "loadpath = f\"../../result/{qub_name}/params.json\"\n",
    "_, params, mA_c, period, allows = znt.load_result(loadpath)\n",
    "\n",
    "if \"r_f\" in allows:\n",
    "    r_f = allows[\"r_f\"]\n",
    "    print(f\"r_f = {r_f}\")"
   ]
  },
  {
   "cell_type": "markdown",
   "metadata": {},
   "source": [
    "# Plot with Onetone"
   ]
  },
  {
   "cell_type": "code",
   "execution_count": 4,
   "metadata": {},
   "outputs": [],
   "source": [
    "onetone_path = \"../../Database/S001/2025/03/Data_0327/Test096_OneTone_flux_020.hdf5\"\n",
    "\n",
    "signals, sp_fpts, sp_mAs = load_data(\n",
    "    onetone_path, server_ip=\"005-writeboard\", port=4999\n",
    ")\n",
    "sp_mAs, sp_fpts, signals = znt.format_rawdata(sp_mAs, sp_fpts, signals)\n",
    "signals = signals.T  # (sp_mAs, sp_fpts)\n",
    "\n",
    "sp_flxs = znt.mA2flx(sp_mAs, mA_c, period)"
   ]
  },
  {
   "cell_type": "code",
   "execution_count": 5,
   "metadata": {},
   "outputs": [],
   "source": [
    "# r_f = 7.196\n",
    "best_g = 0.1"
   ]
  },
  {
   "cell_type": "code",
   "execution_count": null,
   "metadata": {},
   "outputs": [],
   "source": [
    "best_g = znd.auto_fit_dispersive(\n",
    "    params, r_f, sp_flxs, sp_fpts, signals, g_bound=(0.0, 0.2), g_init=best_g\n",
    ")\n",
    "best_g"
   ]
  },
  {
   "cell_type": "code",
   "execution_count": null,
   "metadata": {},
   "outputs": [],
   "source": [
    "%matplotlib widget\n",
    "finish_fn = znd.search_proper_g(\n",
    "    params, r_f, sp_flxs, sp_fpts, signals, g_bound=(0.04, 0.15), g_init=best_g\n",
    ")"
   ]
  },
  {
   "cell_type": "code",
   "execution_count": null,
   "metadata": {},
   "outputs": [],
   "source": [
    "best_g = finish_fn()\n",
    "best_g"
   ]
  },
  {
   "cell_type": "code",
   "execution_count": 9,
   "metadata": {},
   "outputs": [],
   "source": [
    "flxs = np.linspace(sp_flxs.min(), sp_flxs.max(), 501)\n",
    "mAs = znt.flx2mA(flxs, mA_c, period)"
   ]
  },
  {
   "cell_type": "code",
   "execution_count": null,
   "metadata": {},
   "outputs": [],
   "source": [
    "rf_0, rf_1 = znd.calculate_dispersive(params, r_f, best_g, flxs)"
   ]
  },
  {
   "cell_type": "code",
   "execution_count": null,
   "metadata": {},
   "outputs": [],
   "source": [
    "fig = znd.plot_dispersive_with_onetone(\n",
    "    r_f, best_g, mAs, flxs, rf_0, rf_1, sp_mAs, sp_flxs, sp_fpts, signals\n",
    ")\n",
    "fig.show()"
   ]
  },
  {
   "cell_type": "code",
   "execution_count": null,
   "metadata": {},
   "outputs": [],
   "source": [
    "fig.write_html(f\"../../result/{qub_name}/web/dispersive.html\", include_plotlyjs=\"cdn\")\n",
    "fig.write_image(\n",
    "    f\"../../result/{qub_name}/image/dispersive.png\", format=\"png\", width=800, height=400\n",
    ")"
   ]
  },
  {
   "cell_type": "code",
   "execution_count": null,
   "metadata": {},
   "outputs": [],
   "source": []
  }
 ],
 "metadata": {
  "kernelspec": {
   "display_name": "Python 3",
   "language": "python",
   "name": "python3"
  },
  "language_info": {
   "codemirror_mode": {
    "name": "ipython",
    "version": 3
   },
   "file_extension": ".py",
   "mimetype": "text/x-python",
   "name": "python",
   "nbconvert_exporter": "python",
   "pygments_lexer": "ipython3",
   "version": "3.13.2"
  },
  "orig_nbformat": 4
 },
 "nbformat": 4,
 "nbformat_minor": 2
}
