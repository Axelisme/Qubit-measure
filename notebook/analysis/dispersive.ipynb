{
 "cells": [
  {
   "cell_type": "code",
   "execution_count": 1,
   "metadata": {},
   "outputs": [],
   "source": [
    "%load_ext autoreload\n",
    "import numpy as np\n",
    "\n",
    "%autoreload 2\n",
    "from zcu_tools.datasaver import load_data\n",
    "import zcu_tools.notebook.persistance as zp\n",
    "import zcu_tools.notebook.analysis.dispersive as zd\n",
    "from zcu_tools.simulate import mA2flx, flx2mA\n",
    "from zcu_tools.simulate.fluxonium import calculate_dispersive_vs_flx"
   ]
  },
  {
   "cell_type": "code",
   "execution_count": 2,
   "metadata": {},
   "outputs": [],
   "source": [
    "qub_name = \"Test049\""
   ]
  },
  {
   "cell_type": "code",
   "execution_count": null,
   "metadata": {},
   "outputs": [],
   "source": [
    "loadpath = f\"../../result/{qub_name}/params.json\"\n",
    "_, params, mA_c, period, allows, _ = zp.load_result(loadpath)\n",
    "\n",
    "# mA_c = 4.46\n",
    "# mA_c, _, period = (4.395142504148789, -0.3432768475307726, 9.476838703359125)\n",
    "\n",
    "if \"r_f\" in allows:\n",
    "    r_f = allows[\"r_f\"]\n",
    "    print(f\"r_f = {r_f}\")"
   ]
  },
  {
   "cell_type": "code",
   "execution_count": null,
   "metadata": {},
   "outputs": [],
   "source": [
    "mA_c, period"
   ]
  },
  {
   "cell_type": "markdown",
   "metadata": {},
   "source": [
    "# Plot with Onetone"
   ]
  },
  {
   "cell_type": "code",
   "execution_count": 5,
   "metadata": {},
   "outputs": [],
   "source": [
    "onetone_path = \"../../Database/Test049/2025/05/Data_0522/3D_7.5GHz_flux_2.hdf5\"\n",
    "\n",
    "signals, sp_fpts, sp_mAs = load_data(\n",
    "    onetone_path, server_ip=\"005-writeboard\", port=4999\n",
    ")\n",
    "sp_mAs, sp_fpts, signals = zp.format_rawdata(sp_mAs, sp_fpts, signals)\n",
    "signals = signals.T  # (sp_mAs, sp_fpts)\n",
    "\n",
    "sp_flxs = mA2flx(sp_mAs, mA_c, period)"
   ]
  },
  {
   "cell_type": "code",
   "execution_count": 6,
   "metadata": {},
   "outputs": [],
   "source": [
    "r_f = 7.52062\n",
    "best_g = 0.09"
   ]
  },
  {
   "cell_type": "code",
   "execution_count": null,
   "metadata": {},
   "outputs": [],
   "source": [
    "best_g, best_rf = zd.auto_fit_dispersive(\n",
    "    params,\n",
    "    r_f,\n",
    "    sp_flxs,\n",
    "    sp_fpts,\n",
    "    signals,\n",
    "    g_bound=(0.02, 0.15),\n",
    "    g_init=best_g,\n",
    "    # fit_rf=True,\n",
    ")\n",
    "if best_rf is not None:\n",
    "    r_f = best_rf\n",
    "best_g, r_f"
   ]
  },
  {
   "cell_type": "code",
   "execution_count": null,
   "metadata": {},
   "outputs": [],
   "source": [
    "%matplotlib widget\n",
    "finish_fn = zd.search_proper_g(\n",
    "    params, r_f, sp_flxs, sp_fpts, signals, g_bound=(0.0, 0.2), g_init=best_g\n",
    ")"
   ]
  },
  {
   "cell_type": "code",
   "execution_count": null,
   "metadata": {},
   "outputs": [],
   "source": [
    "best_g = finish_fn()\n",
    "best_g"
   ]
  },
  {
   "cell_type": "code",
   "execution_count": 10,
   "metadata": {},
   "outputs": [],
   "source": [
    "flxs = np.linspace(sp_flxs.min(), sp_flxs.max(), 501)\n",
    "mAs = flx2mA(flxs, mA_c, period)"
   ]
  },
  {
   "cell_type": "code",
   "execution_count": null,
   "metadata": {},
   "outputs": [],
   "source": [
    "rf_list = calculate_dispersive_vs_flx(params, flxs, r_f=r_f, g=best_g, return_dim=2)\n",
    "fig = zd.plot_dispersive_with_onetone(\n",
    "    r_f, best_g, mAs, flxs, rf_list, sp_mAs, sp_flxs, sp_fpts, signals\n",
    ")\n",
    "fig.show()"
   ]
  },
  {
   "cell_type": "code",
   "execution_count": 16,
   "metadata": {},
   "outputs": [],
   "source": [
    "fig.write_html(f\"../../result/{qub_name}/web/dispersive.html\", include_plotlyjs=\"cdn\")\n",
    "fig.write_image(\n",
    "    f\"../../result/{qub_name}/image/dispersive.png\", format=\"png\", width=800, height=400\n",
    ")"
   ]
  },
  {
   "cell_type": "markdown",
   "metadata": {},
   "source": [
    "# Write back g to result"
   ]
  },
  {
   "cell_type": "code",
   "execution_count": 17,
   "metadata": {},
   "outputs": [],
   "source": [
    "zp.update_result(loadpath, dict(dispersive=dict(g=best_g, r_f=r_f)))"
   ]
  },
  {
   "cell_type": "code",
   "execution_count": null,
   "metadata": {},
   "outputs": [],
   "source": []
  }
 ],
 "metadata": {
  "kernelspec": {
   "display_name": "Python 3",
   "language": "python",
   "name": "python3"
  },
  "language_info": {
   "codemirror_mode": {
    "name": "ipython",
    "version": 3
   },
   "file_extension": ".py",
   "mimetype": "text/x-python",
   "name": "python",
   "nbconvert_exporter": "python",
   "pygments_lexer": "ipython3",
   "version": "3.13.2"
  },
  "orig_nbformat": 4
 },
 "nbformat": 4,
 "nbformat_minor": 2
}
