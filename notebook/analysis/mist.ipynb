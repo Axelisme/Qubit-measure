{
 "cells": [
  {
   "cell_type": "code",
   "execution_count": 1,
   "metadata": {},
   "outputs": [],
   "source": [
    "%load_ext autoreload\n",
    "\n",
    "%autoreload 2\n",
    "from zcu_tools.datasaver import load_data\n",
    "\n",
    "import zcu_tools.notebook.single_qubit as zf\n",
    "from zcu_tools.notebook.persistance import load_result\n",
    "from zcu_tools.simulate import mA2flx"
   ]
  },
  {
   "cell_type": "code",
   "execution_count": null,
   "metadata": {},
   "outputs": [],
   "source": [
    "loadpath = \"../../result/Q12_2D[2]/Q4/params.json\"\n",
    "_, params, mA_c, period, allows, _ = load_result(loadpath)\n",
    "EJ, EC, EL = params\n",
    "\n",
    "print(allows)\n",
    "\n",
    "if \"r_f\" in allows:\n",
    "    r_f = allows[\"r_f\"]\n",
    "\n",
    "if \"sample_f\" in allows:\n",
    "    sample_f = allows[\"sample_f\"]"
   ]
  },
  {
   "cell_type": "markdown",
   "metadata": {},
   "source": [
    "# Reset"
   ]
  },
  {
   "cell_type": "code",
   "execution_count": 3,
   "metadata": {},
   "outputs": [],
   "source": [
    "xname = r\"$|1, 0\\rangle -> |2, 0\\rangle$\"\n",
    "yname = r\"$|2, 0\\rangle -> |0, 1\\rangle$\""
   ]
  },
  {
   "cell_type": "code",
   "execution_count": 4,
   "metadata": {},
   "outputs": [],
   "source": [
    "filepath = (\n",
    "    \"../../Database/Q12_2D[2]/Q4/2025/06/Data_0609/Q4_mux_reset_freq@-0.417mA_9.hdf5\"\n",
    ")\n",
    "signals, fpts1, fpts2 = load_data(filepath)\n",
    "\n",
    "fpts1 /= 1e6\n",
    "fpts2 /= 1e6"
   ]
  },
  {
   "cell_type": "code",
   "execution_count": null,
   "metadata": {},
   "outputs": [],
   "source": [
    "zf.mux_reset_fpt_analyze(fpts1, fpts2, signals, xname=xname, yname=yname)"
   ]
  },
  {
   "cell_type": "markdown",
   "metadata": {},
   "source": [
    "## reset gain"
   ]
  },
  {
   "cell_type": "code",
   "execution_count": 6,
   "metadata": {},
   "outputs": [],
   "source": [
    "filepath = (\n",
    "    \"../../Database/Q12_2D[2]/Q4/2025/06/Data_0609/Q4_mux_reset_gain@-0.417mA_3.hdf5\"\n",
    ")\n",
    "signals, pdrs1, pdrs2 = load_data(filepath)"
   ]
  },
  {
   "cell_type": "code",
   "execution_count": null,
   "metadata": {},
   "outputs": [],
   "source": [
    "zf.mux_reset_pdr_analyze(pdrs1, pdrs2, signals, xname=xname, yname=yname)"
   ]
  },
  {
   "cell_type": "markdown",
   "metadata": {},
   "source": [
    "## reset time"
   ]
  },
  {
   "cell_type": "code",
   "execution_count": 8,
   "metadata": {},
   "outputs": [],
   "source": [
    "filepath = (\n",
    "    \"../../Database/Q12_2D[2]/Q4/2025/06/Data_0609/Q4_mux_reset_time@-0.417mA_4.hdf5\"\n",
    ")\n",
    "signals, Ts, _ = load_data(filepath)\n",
    "\n",
    "Ts *= 1e6"
   ]
  },
  {
   "cell_type": "code",
   "execution_count": null,
   "metadata": {},
   "outputs": [],
   "source": [
    "zf.mux_reset_time_analyze(Ts, signals)"
   ]
  },
  {
   "cell_type": "markdown",
   "metadata": {},
   "source": [
    "# Dispersive shift"
   ]
  },
  {
   "cell_type": "code",
   "execution_count": 10,
   "metadata": {},
   "outputs": [],
   "source": [
    "filepath = \"../../Database/Q12_2D[2]/Q4/2025/06/Data_0609/R4_dispersive@-0.417mA_2.hdf5\"\n",
    "signals, fpts, _ = load_data(filepath)\n",
    "signals = signals.T\n",
    "\n",
    "fpts /= 1e6"
   ]
  },
  {
   "cell_type": "code",
   "execution_count": null,
   "metadata": {},
   "outputs": [],
   "source": [
    "chi, kappa = zf.analyze_dispersive(fpts, signals, asym=True)"
   ]
  },
  {
   "cell_type": "markdown",
   "metadata": {},
   "source": [
    "# AC stark shift"
   ]
  },
  {
   "cell_type": "code",
   "execution_count": 12,
   "metadata": {},
   "outputs": [],
   "source": [
    "filepath = \"../../Database/Q12_2D[2]/Q4/2025/06/Data_0609/Q4_ac_stark@-0.417mA_2.hdf5\"\n",
    "signals, pdrs, fpts = load_data(filepath)\n",
    "signals = signals.T\n",
    "fpts /= 1e6"
   ]
  },
  {
   "cell_type": "code",
   "execution_count": null,
   "metadata": {},
   "outputs": [],
   "source": [
    "import matplotlib.pyplot as plt\n",
    "import numpy as np\n",
    "\n",
    "plt.imshow(\n",
    "    np.abs(signals.T),\n",
    "    origin=\"lower\",\n",
    "    extent=[pdrs[0], pdrs[-1], fpts[0], fpts[-1]],\n",
    "    aspect=\"auto\",\n",
    ")\n",
    "plt.show()"
   ]
  },
  {
   "cell_type": "code",
   "execution_count": null,
   "metadata": {},
   "outputs": [],
   "source": [
    "ac_coeff = zf.analyze_ac_stark_shift(pdrs, fpts, signals, chi=chi, kappa=kappa)"
   ]
  },
  {
   "cell_type": "markdown",
   "metadata": {},
   "source": [
    "# Power dep"
   ]
  },
  {
   "cell_type": "code",
   "execution_count": 17,
   "metadata": {},
   "outputs": [],
   "source": [
    "filepath = (\n",
    "    # \"../../Database/Q12_2D[2]/Q4/2025/06/Data_0609/Q4_abnormal_pdr@-0.417mA_1.hdf5\"\n",
    "    \"../../Database/Q12_2D[2]/Q4/2025/06/Data_0609/Q4_abnormal_pdr@-0.417mA_2.hdf5\"\n",
    ")\n",
    "signals, pdrs, _ = load_data(filepath)\n",
    "signals = signals.T"
   ]
  },
  {
   "cell_type": "code",
   "execution_count": null,
   "metadata": {},
   "outputs": [],
   "source": [
    "zf.analyze_mist_pdr_dep(\n",
    "    pdrs,\n",
    "    signals[0, :],\n",
    "    # g0=e0,\n",
    "    # e0=g0,\n",
    "    ac_coeff=ac_coeff,\n",
    ")"
   ]
  },
  {
   "cell_type": "markdown",
   "metadata": {},
   "source": [
    "## overnight"
   ]
  },
  {
   "cell_type": "code",
   "execution_count": 19,
   "metadata": {},
   "outputs": [],
   "source": [
    "filepath = \"../../Database/Q12_2D[2]/Q4/2025/06/Data_0609/Q4_mist_pdr_overnight@-0.417mA_2.hdf5\"\n",
    "g_signals, pdrs, iters = load_data(filepath)\n",
    "g_signals = g_signals.T"
   ]
  },
  {
   "cell_type": "code",
   "execution_count": null,
   "metadata": {},
   "outputs": [],
   "source": [
    "g0 = zf.analyze_mist_pdr_overnight(\n",
    "    pdrs,\n",
    "    g_signals,\n",
    "    # pi_signal=e0,\n",
    "    ac_coeff=ac_coeff,\n",
    ")"
   ]
  },
  {
   "cell_type": "code",
   "execution_count": 21,
   "metadata": {},
   "outputs": [],
   "source": [
    "filepath = \"../../Database/Q12_2D[2]/Q4/2025/06/Data_0609/Q4_mist_pdr_overnight@-0.417mA_3.hdf5\"\n",
    "e_signals, pdrs, iters = load_data(filepath)\n",
    "e_signals = e_signals.T"
   ]
  },
  {
   "cell_type": "code",
   "execution_count": null,
   "metadata": {},
   "outputs": [],
   "source": [
    "e0 = zf.analyze_mist_pdr_overnight(pdrs, e_signals, pi_signal=g0, ac_coeff=ac_coeff)"
   ]
  },
  {
   "cell_type": "markdown",
   "metadata": {},
   "source": [
    "# Abnormal"
   ]
  },
  {
   "cell_type": "code",
   "execution_count": 25,
   "metadata": {},
   "outputs": [],
   "source": [
    "filepath = (\n",
    "    # \"../../Database/Q12_2D[2]/Q4/2025/06/Data_0609/Q4_abnormal_pdr@-0.417mA_1.hdf5\"\n",
    "    # \"../../Database/Q12_2D[2]/Q4/2025/06/Data_0609/Q4_abnormal_pdr@-0.417mA_2.hdf5\"\n",
    "    \"../../Database/Q12_2D[2]/Q4/2025/06/Data_0609/Q4_abnormal_pdr_mux_reset@-0.417mA_1.hdf5\"\n",
    "    # \"../../Database/Q12_2D[2]/Q4/2025/06/Data_0609/Q4_abnormal_pdr_mux_reset@-0.417mA_2.hdf5\"\n",
    ")\n",
    "signals, pdrs, _ = load_data(filepath)\n",
    "signals = signals.T"
   ]
  },
  {
   "cell_type": "code",
   "execution_count": null,
   "metadata": {},
   "outputs": [],
   "source": [
    "zf.analyze_abnormal_pdr_dep(\n",
    "    pdrs,\n",
    "    signals,\n",
    "    g0=g0,\n",
    "    e0=e0,\n",
    "    ac_coeff=ac_coeff,\n",
    ")"
   ]
  },
  {
   "cell_type": "markdown",
   "metadata": {},
   "source": [
    "# Power dep over flux"
   ]
  },
  {
   "cell_type": "code",
   "execution_count": 11,
   "metadata": {},
   "outputs": [],
   "source": [
    "filepath = (\n",
    "    \"../../Database/Q12_2D[2]/Q4/2025/06/Data_0609/Q4_mist_flx_pdr@-0.417mA_2.hdf5\"\n",
    ")\n",
    "signals, mAs, pdrs = load_data(filepath)\n",
    "\n",
    "mAs *= 1e3\n",
    "flxs = mA2flx(mAs, mA_c, period)"
   ]
  },
  {
   "cell_type": "code",
   "execution_count": null,
   "metadata": {},
   "outputs": [],
   "source": [
    "fig, ax = zf.analyze_mist_flx_pdr(\n",
    "    flxs,\n",
    "    pdrs,\n",
    "    signals,\n",
    "    # ac_coeff=ac_coeff,\n",
    ")\n",
    "# ax.set_xlim(0.4, 0.6)\n",
    "plt.show()"
   ]
  },
  {
   "cell_type": "code",
   "execution_count": null,
   "metadata": {},
   "outputs": [],
   "source": []
  }
 ],
 "metadata": {
  "kernelspec": {
   "display_name": "Python 3",
   "language": "python",
   "name": "python3"
  },
  "language_info": {
   "codemirror_mode": {
    "name": "ipython",
    "version": 3
   },
   "file_extension": ".py",
   "mimetype": "text/x-python",
   "name": "python",
   "nbconvert_exporter": "python",
   "pygments_lexer": "ipython3",
   "version": "3.13.2"
  }
 },
 "nbformat": 4,
 "nbformat_minor": 2
}
