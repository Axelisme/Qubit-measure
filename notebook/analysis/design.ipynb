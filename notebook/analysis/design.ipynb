{
 "cells": [
  {
   "cell_type": "code",
   "execution_count": 1,
   "metadata": {},
   "outputs": [],
   "source": [
    "%load_ext autoreload\n",
    "import os\n",
    "\n",
    "import numpy as np\n",
    "\n",
    "%autoreload 2\n",
    "import zcu_tools.notebook.analysis.design as zd\n",
    "import zcu_tools.notebook.analysis.plot as zp"
   ]
  },
  {
   "cell_type": "code",
   "execution_count": 2,
   "metadata": {},
   "outputs": [],
   "source": [
    "qub_name = \"Design1\"\n",
    "\n",
    "os.makedirs(f\"../../result/{qub_name}/image\", exist_ok=True)\n",
    "os.makedirs(f\"../../result/{qub_name}/web\", exist_ok=True)"
   ]
  },
  {
   "cell_type": "markdown",
   "metadata": {},
   "source": [
    "# Scan params"
   ]
  },
  {
   "cell_type": "code",
   "execution_count": 3,
   "metadata": {},
   "outputs": [],
   "source": [
    "EJb = (2.0, 7.5)\n",
    "EC = 0.8\n",
    "# EC = 1.4\n",
    "ELb = (0.35, 1.0)\n",
    "\n",
    "flx = 0.5\n",
    "# r_f = 7.2\n",
    "r_f = 7.52994\n",
    "g = 0.1"
   ]
  },
  {
   "cell_type": "code",
   "execution_count": 42,
   "metadata": {},
   "outputs": [],
   "source": [
    "Temp = 113e-3\n",
    "Q_cap = 4.0e5\n",
    "Q_ind = 1.7e7\n",
    "x_qp = 1.5e-6\n",
    "\n",
    "noise_channels = [\n",
    "    (\"t1_capacitive\", dict(Q_cap=Q_cap)),\n",
    "    (\"t1_inductive\", dict(Q_ind=Q_ind)),\n",
    "    (\"t1_quasiparticle_tunneling\", dict(x_qp=x_qp)),\n",
    "]\n",
    "\n",
    "avoid_freqs = [r_f, 2 * r_f]\n",
    "\n",
    "\n",
    "params_table = zd.generate_params_table(EJb, EC, ELb, flx)"
   ]
  },
  {
   "cell_type": "code",
   "execution_count": null,
   "metadata": {},
   "outputs": [],
   "source": [
    "zd.calculate_esys(params_table)\n",
    "zd.calculate_f01(params_table)\n",
    "zd.calculate_m01(params_table)\n",
    "zd.calculate_t1(params_table, noise_channels, Temp)\n",
    "zd.calculate_dipersive_shift(params_table, g=g, r_f=r_f)\n",
    "zd.avoid_collision(params_table, avoid_freqs, threshold=0.2)\n",
    "zd.avoid_low_f01(params_table, f01_threshold=0.1)\n",
    "zd.avoid_low_m01(params_table, m01_threshold=0.05)\n",
    "params_table.drop(\"esys\", axis=1)"
   ]
  },
  {
   "cell_type": "code",
   "execution_count": null,
   "metadata": {},
   "outputs": [],
   "source": [
    "fig = zd.plot_scan_results(params_table)\n",
    "fig.update_layout(\n",
    "    title=\", \".join(\n",
    "        \", \".join(f\"{name} = {value:.1e}\" for name, value in p_dict.items())\n",
    "        for _, p_dict in noise_channels\n",
    "    ),\n",
    "    title_x=0.51,\n",
    ")\n",
    "\n",
    "best_params = zd.annotate_best_point(fig, params_table)\n",
    "# zd.add_real_sample(fig, \"Q12_2D/Q4\", noise_channels=noise_channels, Temp=Temp, flx=flx)\n",
    "\n",
    "fig.show()"
   ]
  },
  {
   "cell_type": "code",
   "execution_count": 39,
   "metadata": {},
   "outputs": [],
   "source": [
    "save_name = f\"t1vsM01_EC{EC:.2f}_rf{r_f:.2f}\"\n",
    "fig.write_html(f\"../../result/{qub_name}/web/{save_name}.html\", include_plotlyjs=\"cdn\")\n",
    "fig.write_image(f\"../../result/{qub_name}/image/{save_name}.png\", format=\"png\")"
   ]
  },
  {
   "cell_type": "code",
   "execution_count": null,
   "metadata": {},
   "outputs": [],
   "source": [
    "# best_params = 5.95, 0.8, 0.95\n",
    "\n",
    "flxs = np.linspace(0.0, 1.0, 1000)\n",
    "best_params"
   ]
  },
  {
   "cell_type": "code",
   "execution_count": null,
   "metadata": {},
   "outputs": [],
   "source": [
    "show_idxs = [(i, j) for i in range(2) for j in range(10) if j > i]\n",
    "\n",
    "fig = zp.plot_transitions(best_params, flxs, show_idxs, ref_freqs=avoid_freqs)\n",
    "fig.update_yaxes(range=(0.0, 15.0))\n",
    "fig.show()"
   ]
  },
  {
   "cell_type": "code",
   "execution_count": 10,
   "metadata": {},
   "outputs": [],
   "source": [
    "save_name = f\"f01_EC{EC:.2f}_rf{r_f:.2f}\"\n",
    "fig.write_html(f\"../../result/{qub_name}/web/{save_name}.html\", include_plotlyjs=\"cdn\")\n",
    "fig.write_image(f\"../../result/{qub_name}/image/{save_name}.png\", format=\"png\")"
   ]
  },
  {
   "cell_type": "code",
   "execution_count": null,
   "metadata": {},
   "outputs": [],
   "source": [
    "show_idxs = [(i, j) for i in range(2) for j in range(3) if j > i]\n",
    "\n",
    "fig = zp.plot_matrix_elements(best_params, flxs, show_idxs)\n",
    "fig.show()"
   ]
  },
  {
   "cell_type": "code",
   "execution_count": 12,
   "metadata": {},
   "outputs": [],
   "source": [
    "save_name = f\"Matrix_EC{EC:.2f}_rf{r_f:.2f}\"\n",
    "fig.write_html(f\"../../result/{qub_name}/web/{save_name}.html\", include_plotlyjs=\"cdn\")\n",
    "fig.write_image(f\"../../result/{qub_name}/image/{save_name}.png\", format=\"png\")"
   ]
  },
  {
   "cell_type": "code",
   "execution_count": null,
   "metadata": {},
   "outputs": [],
   "source": [
    "fig = zp.plot_dispersive_shift(best_params, flxs, r_f=r_f, g=g)\n",
    "fig.update_yaxes(range=(r_f - 0.01, r_f + 0.01))\n",
    "fig.show()"
   ]
  },
  {
   "cell_type": "code",
   "execution_count": 14,
   "metadata": {},
   "outputs": [],
   "source": [
    "save_name = f\"Chi_EC{EC:.2f}_rf{r_f:.2f}\"\n",
    "fig.write_html(f\"../../result/{qub_name}/web/{save_name}.html\", include_plotlyjs=\"cdn\")\n",
    "fig.write_image(f\"../../result/{qub_name}/image/{save_name}.png\", format=\"png\")"
   ]
  },
  {
   "cell_type": "code",
   "execution_count": null,
   "metadata": {},
   "outputs": [],
   "source": [
    "# Temp = 60e-3\n",
    "# Q_cap = 1.0e5\n",
    "# Q_ind = 1.0e7\n",
    "# x_qp = 1.0e-8\n",
    "\n",
    "fig = zp.plot_t1s(\n",
    "    best_params,\n",
    "    flxs,\n",
    "    noise_channels=[\n",
    "        (\"t1_capacitive\", dict(Q_cap=Q_cap)),\n",
    "        # (\"t1_inductive\", dict(Q_ind=Q_ind)),\n",
    "        # (\"t1_quasiparticle_tunneling\", dict(x_qp=x_qp)),\n",
    "    ],\n",
    "    Temp=Temp,\n",
    ")\n",
    "title1 = f\"EJ/EC/EL = {best_params[0]:.3f}/{best_params[1]:.3f}/{best_params[2]:.3f}\"\n",
    "title2 = \", \".join(\n",
    "    \", \".join(f\"{name} = {value:.1e}\" for name, value in p_dict.items())\n",
    "    for _, p_dict in noise_channels\n",
    ")\n",
    "fig.update_layout(\n",
    "    title=title1 + \"<br>\" + title2,\n",
    "    title_x=0.515,\n",
    ")\n",
    "fig.show()"
   ]
  },
  {
   "cell_type": "code",
   "execution_count": 41,
   "metadata": {},
   "outputs": [],
   "source": [
    "save_name = f\"T1_EC{EC:.2f}_rf{r_f:.2f}\"\n",
    "fig.write_html(f\"../../result/{qub_name}/web/{save_name}.html\", include_plotlyjs=\"cdn\")\n",
    "fig.write_image(f\"../../result/{qub_name}/image/{save_name}.png\", format=\"png\")"
   ]
  },
  {
   "cell_type": "code",
   "execution_count": null,
   "metadata": {},
   "outputs": [],
   "source": []
  }
 ],
 "metadata": {
  "kernelspec": {
   "display_name": "Python 3",
   "language": "python",
   "name": "python3"
  },
  "language_info": {
   "codemirror_mode": {
    "name": "ipython",
    "version": 3
   },
   "file_extension": ".py",
   "mimetype": "text/x-python",
   "name": "python",
   "nbconvert_exporter": "python",
   "pygments_lexer": "ipython3",
   "version": "3.13.2"
  }
 },
 "nbformat": 4,
 "nbformat_minor": 2
}
