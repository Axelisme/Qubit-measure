{
 "cells": [
  {
   "cell_type": "code",
   "execution_count": null,
   "metadata": {},
   "outputs": [],
   "source": [
    "import os\n",
    "\n",
    "import numpy as np\n",
    "import scqubits as scq\n",
    "import plotly.graph_objects as go"
   ]
  },
  {
   "cell_type": "code",
   "execution_count": null,
   "metadata": {},
   "outputs": [],
   "source": [
    "qub_name = \"Design1\"\n",
    "\n",
    "os.makedirs(f\"../../result/{qub_name}/image\", exist_ok=True)\n",
    "os.makedirs(f\"../../result/{qub_name}/web\", exist_ok=True)"
   ]
  },
  {
   "cell_type": "markdown",
   "metadata": {},
   "source": [
    "# Scan params"
   ]
  },
  {
   "cell_type": "code",
   "execution_count": null,
   "metadata": {},
   "outputs": [],
   "source": [
    "EJb = (3.0, 7.0)\n",
    "EC = 0.8\n",
    "ELb = (0.35, 0.5)\n",
    "avoid_freqs = [7.2, 5.9]\n",
    "# avoid_freqs = []"
   ]
  },
  {
   "cell_type": "code",
   "execution_count": null,
   "metadata": {},
   "outputs": [],
   "source": [
    "Temp = 60e-3\n",
    "Q_cap = 1.0e5\n",
    "Q_ind = 1.0e7\n",
    "x_qp = 1.0e-3\n",
    "\n",
    "t1s = []\n",
    "e01s = []\n",
    "paramss = []\n",
    "\n",
    "scq.settings.T1_DEFAULT_WARNING = False\n",
    "fluxonium = scq.Fluxonium(EJb[0], EC, ELb[0], flux=0.5, cutoff=40, truncated_dim=15)\n",
    "for EJ in np.arange(EJb[0], EJb[1], 0.1):\n",
    "    for EL in np.arange(ELb[0], ELb[1], 0.01):\n",
    "        fluxonium.EJ = EJ\n",
    "        fluxonium.EC = EC\n",
    "        fluxonium.EL = EL\n",
    "\n",
    "        spectData = fluxonium.eigensys(evals_count=15, return_spectrumdata=True)\n",
    "        eval_eng, eval_sys = spectData.energy_table, spectData.state_table\n",
    "        transitions0 = eval_eng[1:] - eval_eng[0]\n",
    "        transitions1 = eval_eng[2:] - eval_eng[1]\n",
    "\n",
    "        if len(avoid_freqs) > 0:\n",
    "            all_collision = True\n",
    "            for freqs in avoid_freqs:\n",
    "                if np.any(np.abs(transitions0 - freqs) < 0.3):\n",
    "                    break\n",
    "                if np.any(np.abs(transitions1 - freqs) < 0.3):\n",
    "                    break\n",
    "            else:\n",
    "                all_collision = False\n",
    "        else:\n",
    "            all_collision = False\n",
    "\n",
    "        if all_collision:\n",
    "            continue\n",
    "\n",
    "        elements = fluxonium.n_operator(energy_esys=(eval_eng, eval_sys))\n",
    "        t1_eff = fluxonium.t1_effective(\n",
    "            esys=(eval_eng, eval_sys),\n",
    "            noise_channels=[\n",
    "                (\"t1_capacitive\", dict(Q_cap=Q_cap)),\n",
    "                (\"t1_inductive\", dict(Q_ind=Q_ind)),\n",
    "                (\"t1_quasiparticle_tunneling\", dict(x_qp=x_qp)),\n",
    "            ],\n",
    "            common_noise_options=dict(i=1, j=0, T=Temp),\n",
    "        )\n",
    "\n",
    "        e01 = elements[0, 1]\n",
    "\n",
    "        t1s.append(t1_eff)\n",
    "        e01s.append(e01)\n",
    "        paramss.append((EJ, EC, EL))"
   ]
  },
  {
   "cell_type": "code",
   "execution_count": null,
   "metadata": {},
   "outputs": [],
   "source": [
    "import pandas as pd\n",
    "\n",
    "import plotly.express as px\n",
    "\n",
    "# 將數據轉換為DataFrame\n",
    "data = pd.DataFrame(\n",
    "    {\n",
    "        \"Matrix Element 0-1\": np.abs(e01s),\n",
    "        \"T1 (us)\": t1s,\n",
    "        \"EJ\": [params[0] for params in paramss],\n",
    "        \"EC\": [params[1] for params in paramss],\n",
    "        \"EL\": [params[2] for params in paramss],\n",
    "    }\n",
    ")\n",
    "\n",
    "# 添加標籤\n",
    "data[\"Label\"] = data.apply(\n",
    "    lambda row: f\"EJ={row['EJ']:.2f}, EC={row['EC']:.3f}, EL={row['EL']:.3f}\", axis=1\n",
    ")\n",
    "\n",
    "# 繪製散點圖\n",
    "fig = px.scatter(\n",
    "    data,\n",
    "    x=\"Matrix Element 0-1\",\n",
    "    y=\"T1 (us)\",\n",
    "    log_x=True,\n",
    "    log_y=True,\n",
    "    hover_name=\"Label\",\n",
    "    title=f\"T1 vs Matrix Element 0-1 (Q_cap={Q_cap:.1e}, Q_ind={Q_ind:.1e}, x_qp={x_qp:.1e})\",\n",
    "    labels={\"Matrix Element 0-1\": \"Matrix Element 0-1\", \"T1 (us)\": \"T1 (us)\"},\n",
    ")\n",
    "\n",
    "max_id = np.argmax(t1s)\n",
    "\n",
    "# Add annotation for the max_id point\n",
    "max_point = data.iloc[max_id]\n",
    "fig.add_annotation(\n",
    "    x=np.log10(max_point[\"Matrix Element 0-1\"]),  # Use log scale coordinates\n",
    "    y=np.log10(max_point[\"T1 (us)\"]),  # Use log scale coordinates\n",
    "    text=max_point[\"Label\"],\n",
    "    showarrow=True,\n",
    "    arrowhead=1,\n",
    "    ax=0,\n",
    "    ay=-40,\n",
    "    # Specify axes in terms of log scale\n",
    "    xref=\"x\",\n",
    "    yref=\"y\",\n",
    ")\n",
    "\n",
    "fig.update_layout(\n",
    "    xaxis_title=\"Matrix Element 0-1\",\n",
    "    yaxis_title=\"T1 (us)\",\n",
    "    xaxis=dict(tickformat=\".1e\", type=\"log\"),  # Ensure axis type is log\n",
    "    yaxis=dict(tickformat=\".1e\", type=\"log\"),  # Ensure axis type is log\n",
    "    title_x=0.501,\n",
    "    template=\"plotly_white\",\n",
    "    showlegend=True,\n",
    "    width=900,\n",
    "    height=750,\n",
    ")\n",
    "\n",
    "fig.show()"
   ]
  },
  {
   "cell_type": "code",
   "execution_count": null,
   "metadata": {},
   "outputs": [],
   "source": [
    "fig.write_html(\n",
    "    f\"../../result/{qub_name}/web/t1vsM01_{max_id}.html\", include_plotlyjs=\"cdn\"\n",
    ")\n",
    "fig.write_image(f\"../../result/{qub_name}/image/t1vsM01_{max_id}.png\", format=\"png\")"
   ]
  },
  {
   "cell_type": "code",
   "execution_count": null,
   "metadata": {},
   "outputs": [],
   "source": [
    "EJ, EC, EL = paramss[max_id]\n",
    "EJ, EC, EL"
   ]
  },
  {
   "cell_type": "code",
   "execution_count": null,
   "metadata": {},
   "outputs": [],
   "source": [
    "params = (EJ, EC, EL)\n",
    "\n",
    "flxs = np.linspace(0.0, 1.0, 300)"
   ]
  },
  {
   "cell_type": "code",
   "execution_count": null,
   "metadata": {},
   "outputs": [],
   "source": [
    "fluxonium = scq.Fluxonium(*params, flux=0.5, cutoff=40, truncated_dim=10)\n",
    "spectrumData = fluxonium.get_matelements_vs_paramvals(\n",
    "    operator=\"n_operator\", param_name=\"flux\", param_vals=flxs, evals_count=10\n",
    ")"
   ]
  },
  {
   "cell_type": "code",
   "execution_count": null,
   "metadata": {},
   "outputs": [],
   "source": [
    "show_idxs = [(i, j) for i in range(2) for j in range(10) if j > i]\n",
    "\n",
    "eval_eng = spectrumData.energy_table\n",
    "\n",
    "fig = go.Figure()\n",
    "for i, j in show_idxs:\n",
    "    fig.add_trace(\n",
    "        go.Scatter(\n",
    "            x=flxs,\n",
    "            y=eval_eng[:, j] - eval_eng[:, i],\n",
    "            mode=\"lines\",\n",
    "            name=f\"{i} - {j}\",\n",
    "            line=dict(width=2),\n",
    "        )\n",
    "    )\n",
    "fig.add_hline(y=7.2, line_color=\"black\", line_width=2, line_dash=\"dash\")\n",
    "fig.add_hline(y=5.9, line_color=\"black\", line_width=2, line_dash=\"dash\")\n",
    "fig.update_yaxes(range=[0.0, 8.0])\n",
    "\n",
    "fig.show()"
   ]
  },
  {
   "cell_type": "code",
   "execution_count": null,
   "metadata": {},
   "outputs": [],
   "source": [
    "show_idxs = [(i, j) for i in range(2) for j in range(3) if j > i]\n",
    "\n",
    "matrixelements = spectrumData.matrixelem_table\n",
    "\n",
    "fig = go.Figure()\n",
    "for i, j in show_idxs:\n",
    "    fig.add_trace(\n",
    "        go.Scatter(\n",
    "            x=flxs,\n",
    "            y=np.abs(matrixelements[:, i, j]),\n",
    "            mode=\"lines\",\n",
    "            name=f\"{i}-{j}\",\n",
    "            line=dict(width=2),\n",
    "        )\n",
    "    )\n",
    "fig.update_layout(\n",
    "    title=f\"EJ/EC/EL = {EJ:.3f}/{EC:.3f}/{EL:.3f}\",\n",
    "    title_x=0.5,\n",
    "    xaxis_title=r\"$\\phi_{ext}/\\phi_0$\",\n",
    "    yaxis_title=\"Matrix elements\",\n",
    ")\n",
    "\n",
    "fig.show()"
   ]
  },
  {
   "cell_type": "code",
   "execution_count": null,
   "metadata": {},
   "outputs": [],
   "source": [
    "# Temp = 60e-3\n",
    "# Q_cap = 1.0e5\n",
    "# Q_ind = 1.0e7\n",
    "# x_qp = 1.0e-8\n",
    "\n",
    "scq.settings.T1_DEFAULT_WARNING = False\n",
    "fluxonium = scq.Fluxonium(*params, flux=0.5, cutoff=30, truncated_dim=5)\n",
    "T1_eff_fig, T1_eff_ax = fluxonium.plot_t1_effective_vs_paramvals(\n",
    "    param_name=\"flux\",\n",
    "    param_vals=flxs,\n",
    "    xlim=([flxs.min(), flxs.max()]),\n",
    "    common_noise_options=dict(i=1, j=0, T=Temp),\n",
    "    noise_channels=[\n",
    "        (\"t1_capacitive\", dict(Q_cap=Q_cap)),\n",
    "        (\"t1_inductive\", dict(Q_ind=Q_ind)),\n",
    "        (\"t1_quasiparticle_tunneling\", dict(x_qp=x_qp)),\n",
    "    ],\n",
    ")\n",
    "_ = T1_eff_ax.set_ylim(None, 1e6)"
   ]
  },
  {
   "cell_type": "code",
   "execution_count": null,
   "metadata": {},
   "outputs": [],
   "source": []
  }
 ],
 "metadata": {
  "kernelspec": {
   "display_name": "Python 3",
   "language": "python",
   "name": "python3"
  },
  "language_info": {
   "codemirror_mode": {
    "name": "ipython",
    "version": 3
   },
   "file_extension": ".py",
   "mimetype": "text/x-python",
   "name": "python",
   "nbconvert_exporter": "python",
   "pygments_lexer": "ipython3",
   "version": "3.13.2"
  }
 },
 "nbformat": 4,
 "nbformat_minor": 2
}
