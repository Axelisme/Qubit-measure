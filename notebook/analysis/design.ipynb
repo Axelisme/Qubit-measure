{
 "cells": [
  {
   "cell_type": "code",
   "execution_count": null,
   "metadata": {},
   "outputs": [],
   "source": [
    "import numpy as np\n",
    "import scqubits as scq\n",
    "import plotly.graph_objects as go"
   ]
  },
  {
   "cell_type": "code",
   "execution_count": null,
   "metadata": {},
   "outputs": [],
   "source": [
    "EJ = 5.5\n",
    "EC = 0.8\n",
    "EL = 0.4\n",
    "params = (EJ, EC, EL)\n",
    "\n",
    "flxs = np.linspace(0.0, 1.0, 300)"
   ]
  },
  {
   "cell_type": "code",
   "execution_count": null,
   "metadata": {},
   "outputs": [],
   "source": [
    "fluxonium = scq.Fluxonium(*params, flux=0.5, cutoff=40, truncated_dim=6)\n",
    "spectrumData = fluxonium.get_matelements_vs_paramvals(\n",
    "    operator=\"n_operator\", param_name=\"flux\", param_vals=flxs, evals_count=10\n",
    ")"
   ]
  },
  {
   "cell_type": "code",
   "execution_count": null,
   "metadata": {},
   "outputs": [],
   "source": [
    "show_idxs = [(i, j) for i in range(2) for j in range(5) if j > i]\n",
    "\n",
    "energies = spectrumData.energy_table\n",
    "\n",
    "fig = go.Figure()\n",
    "for i, j in show_idxs:\n",
    "    fig.add_trace(\n",
    "        go.Scatter(\n",
    "            x=flxs,\n",
    "            y=energies[:, j] - energies[:, i],\n",
    "            mode=\"lines\",\n",
    "            name=f\"{i} - {j}\",\n",
    "            line=dict(width=2),\n",
    "        )\n",
    "    )\n",
    "fig.add_hline(y=7.2, line_color=\"black\", line_width=2, line_dash=\"dash\")\n",
    "fig.add_hline(y=5.9, line_color=\"black\", line_width=2, line_dash=\"dash\")\n",
    "fig.update_yaxes(range=[0.0, 8.0])\n",
    "\n",
    "fig.show()"
   ]
  },
  {
   "cell_type": "code",
   "execution_count": null,
   "metadata": {},
   "outputs": [],
   "source": [
    "show_idxs = [(i, j) for i in range(2) for j in range(3) if j > i]\n",
    "\n",
    "matrixelements = spectrumData.matrixelem_table\n",
    "\n",
    "fig = go.Figure()\n",
    "for i, j in show_idxs:\n",
    "    fig.add_trace(\n",
    "        go.Scatter(\n",
    "            x=flxs,\n",
    "            y=np.abs(matrixelements[:, i, j]),\n",
    "            mode=\"lines\",\n",
    "            name=f\"{i}-{j}\",\n",
    "            line=dict(width=2),\n",
    "        )\n",
    "    )\n",
    "fig.update_layout(\n",
    "    title=f\"EJ/EC/EL = {EJ:.3f}/{EC:.3f}/{EL:.3f}\",\n",
    "    title_x=0.5,\n",
    "    xaxis_title=r\"$\\phi_{ext}/\\phi_0$\",\n",
    "    yaxis_title=\"Matrix elements\",\n",
    ")\n",
    "\n",
    "fig.show()"
   ]
  },
  {
   "cell_type": "code",
   "execution_count": null,
   "metadata": {},
   "outputs": [],
   "source": [
    "Temp = 54.2e-3\n",
    "Q_cap = 1.0e5\n",
    "Q_ind = 7.0e7\n",
    "x_qp = 1.0e-5\n",
    "\n",
    "scq.settings.T1_DEFAULT_WARNING = False\n",
    "fluxonium = scq.Fluxonium(*params, flux=0.5, cutoff=30, truncated_dim=5)\n",
    "T1_eff_fig, T1_eff_ax = fluxonium.plot_t1_effective_vs_paramvals(\n",
    "    param_name=\"flux\",\n",
    "    param_vals=flxs,\n",
    "    xlim=([flxs.min(), flxs.max()]),\n",
    "    common_noise_options=dict(i=1, j=0, T=Temp),\n",
    "    noise_channels=[\n",
    "        (\"t1_capacitive\", dict(Q_cap=Q_cap)),\n",
    "        (\"t1_inductive\", dict(Q_ind=Q_ind)),\n",
    "        (\"t1_quasiparticle_tunneling\", dict(x_qp=x_qp)),\n",
    "    ],\n",
    ")\n",
    "T1_eff_ax.set_ylim(None, 1e6)"
   ]
  },
  {
   "cell_type": "code",
   "execution_count": null,
   "metadata": {},
   "outputs": [],
   "source": []
  }
 ],
 "metadata": {
  "kernelspec": {
   "display_name": "Python 3",
   "language": "python",
   "name": "python3"
  },
  "language_info": {
   "codemirror_mode": {
    "name": "ipython",
    "version": 3
   },
   "file_extension": ".py",
   "mimetype": "text/x-python",
   "name": "python",
   "nbconvert_exporter": "python",
   "pygments_lexer": "ipython3",
   "version": "3.13.2"
  }
 },
 "nbformat": 4,
 "nbformat_minor": 2
}
