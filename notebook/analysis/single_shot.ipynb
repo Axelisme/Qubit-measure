{
 "cells": [
  {
   "cell_type": "code",
   "execution_count": null,
   "id": "03dff61d",
   "metadata": {},
   "outputs": [],
   "source": [
    "%load_ext autoreload\n",
    "%autoreload 2\n",
    "import zcu_tools.analysis as zf  # noqa: E402\n",
    "\n",
    "from zcu_tools import load_data"
   ]
  },
  {
   "cell_type": "code",
   "execution_count": null,
   "id": "58284fb4",
   "metadata": {},
   "outputs": [],
   "source": [
    "host_ip = None\n",
    "# host_ip = \"005-writeboard\"\n",
    "host_port = 4999"
   ]
  },
  {
   "cell_type": "markdown",
   "id": "1ea4cade",
   "metadata": {},
   "source": [
    "# Ground state & Excited state"
   ]
  },
  {
   "cell_type": "code",
   "execution_count": null,
   "id": "6d7e58aa",
   "metadata": {},
   "outputs": [],
   "source": [
    "loadpath = r\"..\\..\\Database\\Q12_2D\\Q4\\2025\\04\\Data_0425\\Q4_singleshot_ge@4.000mA_1.hdf5\"\n",
    "# loadpath = r\"C:\\Users\\QEL\\Desktop\\2DQ12\\Q1Track\\2025\\05\\Data_0505\\q2 single shot 99.9_1.hdf5\"\n",
    "signals, _, labels = load_data(loadpath, host_ip, host_port)\n",
    "\n",
    "if signals.shape[0] != 2:\n",
    "    signals = signals.T\n",
    "\n",
    "signals.shape"
   ]
  },
  {
   "cell_type": "code",
   "execution_count": null,
   "id": "a1117d33",
   "metadata": {},
   "outputs": [],
   "source": [
    "%matplotlib inline\n",
    "params = zf.single_shot.fit_singleshot2d(signals, num_gauss=2, method=\"bayesian\")"
   ]
  },
  {
   "cell_type": "code",
   "execution_count": null,
   "id": "335dd245",
   "metadata": {},
   "outputs": [],
   "source": [
    "%matplotlib inline\n",
    "fid, threshold, angle = zf.singleshot_ge_analysis(signals, plot=True, backend=\"center\")\n",
    "print(f\"Optimal fidelity after rotation = {fid:.1%}\")"
   ]
  },
  {
   "cell_type": "markdown",
   "id": "ab15d6bc",
   "metadata": {},
   "source": [
    "# Amplitude Rabi Single shot"
   ]
  },
  {
   "cell_type": "code",
   "execution_count": null,
   "id": "4134d22b",
   "metadata": {},
   "outputs": [],
   "source": [
    "loadpath = (\n",
    "    r\"../../Database\\Q12_2D\\Q4\\2025\\04\\Data_0425\\Q4_singleshot_rabi@3.000mA_1.hdf5\"\n",
    ")\n",
    "signals, _, pdrs = load_data(loadpath, host_ip, host_port)\n",
    "\n",
    "if signals.shape[0] != len(pdrs):\n",
    "    signals = signals.T\n",
    "\n",
    "signals.shape"
   ]
  },
  {
   "cell_type": "code",
   "execution_count": null,
   "id": "5c4ba0e5",
   "metadata": {},
   "outputs": [],
   "source": [
    "%matplotlib inline\n",
    "n_g, n_e, _ = zf.single_shot.singleshot_rabi_analysis(pdrs, signals)"
   ]
  },
  {
   "cell_type": "code",
   "execution_count": null,
   "id": "76481e06",
   "metadata": {},
   "outputs": [],
   "source": []
  }
 ],
 "metadata": {
  "kernelspec": {
   "display_name": "Python 3",
   "language": "python",
   "name": "python3"
  },
  "language_info": {
   "codemirror_mode": {
    "name": "ipython",
    "version": 3
   },
   "file_extension": ".py",
   "mimetype": "text/x-python",
   "name": "python",
   "nbconvert_exporter": "python",
   "pygments_lexer": "ipython3",
   "version": "3.13.2"
  }
 },
 "nbformat": 4,
 "nbformat_minor": 5
}
