{
 "cells": [
  {
   "cell_type": "code",
   "execution_count": null,
   "id": "03dff61d",
   "metadata": {},
   "outputs": [],
   "source": [
    "%load_ext autoreload\n",
    "%autoreload 2\n",
    "import zcu_tools.analysis as zf  # noqa: E402\n",
    "\n",
    "\n",
    "from zcu_tools import load_data\n",
    "\n",
    "host_ip = \"005-writeboard\"\n",
    "host_port = 4999"
   ]
  },
  {
   "cell_type": "code",
   "execution_count": null,
   "id": "6d7e58aa",
   "metadata": {},
   "outputs": [],
   "source": [
    "loadpath = \"../../Database/Test096/2025/04/Data_0403/single_shot_rf_q_-2.080mA_1.hdf5\"\n",
    "signals, _, labels = load_data(loadpath, host_ip, host_port)\n",
    "\n",
    "if signals.shape[0] != 2:\n",
    "    signals = signals.T\n",
    "\n",
    "signals.shape"
   ]
  },
  {
   "cell_type": "code",
   "execution_count": null,
   "id": "990c2932",
   "metadata": {},
   "outputs": [],
   "source": [
    "_ = zf.singleshot_visualize(signals)"
   ]
  },
  {
   "cell_type": "code",
   "execution_count": null,
   "id": "335dd245",
   "metadata": {},
   "outputs": [],
   "source": [
    "fid, threshold, angle = zf.singleshot_ge_analysis(signals, plot=True, backend=\"center\")\n",
    "print(f\"Optimal fidelity after rotation = {fid:.1%}\")"
   ]
  },
  {
   "cell_type": "code",
   "execution_count": null,
   "id": "5c4ba0e5",
   "metadata": {},
   "outputs": [],
   "source": []
  }
 ],
 "metadata": {
  "kernelspec": {
   "display_name": "Python 3",
   "language": "python",
   "name": "python3"
  },
  "language_info": {
   "codemirror_mode": {
    "name": "ipython",
    "version": 3
   },
   "file_extension": ".py",
   "mimetype": "text/x-python",
   "name": "python",
   "nbconvert_exporter": "python",
   "pygments_lexer": "ipython3",
   "version": "3.13.2"
  }
 },
 "nbformat": 4,
 "nbformat_minor": 5
}
