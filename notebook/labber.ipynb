{
 "cells": [
  {
   "cell_type": "code",
   "execution_count": null,
   "metadata": {},
   "outputs": [],
   "source": [
    "%load_ext autoreload\n",
    "import numpy as np\n",
    "import matplotlib.pyplot as plt\n",
    "\n",
    "import zcu_tools.analysis as zf\n",
    "\n",
    "%autoreload 2\n",
    "from zcu_tools.datasaver import load_data"
   ]
  },
  {
   "cell_type": "code",
   "execution_count": null,
   "metadata": {},
   "outputs": [],
   "source": [
    "host = \"005-writeboard\"\n",
    "port = 4999"
   ]
  },
  {
   "cell_type": "markdown",
   "metadata": {},
   "source": [
    "# GE contrast"
   ]
  },
  {
   "cell_type": "code",
   "execution_count": null,
   "metadata": {},
   "outputs": [],
   "source": [
    "g_path = \"../Database/S001/2025/03/Data_0316/S001_GE_G_021@1.106mA.hdf5\"\n",
    "e_path = \"../Database/S001/2025/03/Data_0316/S001_GE_E_021@1.106mA.hdf5\"\n",
    "g_signals, fpts, pdrs = load_data(g_path, host, port)\n",
    "e_signals, fpts, pdrs = load_data(e_path, host, port)\n",
    "\n",
    "fpts /= 1e9  # GHz\n",
    "\n",
    "snr = np.abs(g_signals - e_signals)\n",
    "plt.imshow(\n",
    "    snr.T,\n",
    "    aspect=\"auto\",\n",
    "    extent=[fpts[-1], fpts[0], pdrs[-1], pdrs[0]],\n",
    ")\n",
    "\n",
    "max_fpt = fpts[np.argmax(np.max(snr, axis=1))].item()\n",
    "max_pdr = pdrs[np.argmax(np.max(snr, axis=0))].item()\n",
    "max_fpt, max_pdr"
   ]
  },
  {
   "cell_type": "markdown",
   "metadata": {},
   "source": [
    "# T1"
   ]
  },
  {
   "cell_type": "code",
   "execution_count": null,
   "metadata": {},
   "outputs": [],
   "source": [
    "T1_path = \"../Database/S001/2025/03/Data_0317/S001_TwoTone_T1_020@0.91mA.hdf5\"\n",
    "\n",
    "signals, Ts, _ = load_data(T1_path, host, port)\n",
    "\n",
    "Ts *= 1e6  # us\n",
    "\n",
    "t1 = zf.T1_analyze(Ts, signals, max_contrast=True, dual_exp=False)"
   ]
  },
  {
   "cell_type": "code",
   "execution_count": null,
   "metadata": {},
   "outputs": [],
   "source": []
  }
 ],
 "metadata": {
  "kernelspec": {
   "display_name": "Python 3",
   "language": "python",
   "name": "python3"
  },
  "language_info": {
   "codemirror_mode": {
    "name": "ipython",
    "version": 3
   },
   "file_extension": ".py",
   "mimetype": "text/x-python",
   "name": "python",
   "nbconvert_exporter": "python",
   "pygments_lexer": "ipython3",
   "version": "3.13.2"
  }
 },
 "nbformat": 4,
 "nbformat_minor": 2
}
