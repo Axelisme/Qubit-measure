{
 "cells": [
  {
   "cell_type": "code",
   "execution_count": null,
   "metadata": {},
   "outputs": [],
   "source": [
    "import matplotlib.pyplot as plt\n",
    "import numpy as np\n",
    "import scqubits as scq\n",
    "# from quantiphy import Quantity\n",
    "import pandas as pd\n",
    "scq.settings.T1_DEFAULT_WARNING=False"
   ]
  },
  {
   "cell_type": "code",
   "execution_count": null,
   "metadata": {},
   "outputs": [],
   "source": [
    "def I2flux(current, *flux_params):\n",
    "    phi_zero, phi_half = flux_params\n",
    "    phi = 2*np.abs(phi_half - phi_zero)\n",
    "    if phi_zero > phi_half:\n",
    "        phi_zero -= phi\n",
    "    return (current-phi_zero)/phi"
   ]
  },
  {
   "cell_type": "code",
   "execution_count": null,
   "metadata": {},
   "outputs": [],
   "source": [
    "df_csv = pd.read_csv(\"freqs.csv\", usecols=['Current (mA)', 'Freq (MHz)', 'T1 (μs)'])\n",
    "x = df_csv['Current (mA)']\n",
    "fs = df_csv['Freq (MHz)']\n",
    "y = df_csv['T1 (μs)']\n",
    "\n",
    "# sort by current\n",
    "x, fs, y = zip(*sorted(zip(x, fs, y), reverse=True))\n",
    "x = np.array(x)\n",
    "fs = np.array(fs)\n",
    "y = np.array(y)\n",
    "x_I = I2flux(x, 6.41926, -4.5606)"
   ]
  },
  {
   "cell_type": "code",
   "execution_count": null,
   "metadata": {},
   "outputs": [],
   "source": [
    "fig, ax = plt.subplots(2,1,constrained_layout = True)\n",
    "ax[0].set_title(r'$T_1$ as function of current')\n",
    "ax[0].set_xlabel(r'Current (mA)')\n",
    "ax[0].set_ylabel(r'$T_1$ ($\\mu s$)')\n",
    "ax[0].plot(x, y, '.-')\n",
    "\n",
    "ax[1].set_title(r'$T_1$ as function of flux')\n",
    "ax[1].set_xlabel(r'flux quanta $\\phi_{ext}/\\phi_0$')\n",
    "ax[1].set_ylabel(r'$T_1$ ($\\mu s$)')\n",
    "ax[1].plot(x_I, y, '.-')\n",
    "plt.show()"
   ]
  },
  {
   "cell_type": "code",
   "execution_count": null,
   "metadata": {},
   "outputs": [],
   "source": [
    "fluxonium =  scq.Fluxonium(8.51, 0.91, 1.07, flux = 0.5, cutoff = 30, truncated_dim=5)\n",
    "hilbertspace = scq.HilbertSpace([fluxonium])"
   ]
  },
  {
   "cell_type": "code",
   "execution_count": null,
   "metadata": {},
   "outputs": [],
   "source": [
    "fig,ax = fluxonium.plot_coherence_vs_paramvals(\n",
    "    param_name='flux',\n",
    "    param_vals=np.linspace(0.5, 1.0, 501),\n",
    "    common_noise_options=dict(i=1,j=0,T = 0.15),\n",
    "    noise_channels = [('t1_capacitive', dict(Q_cap = 4e6))]\n",
    ")\n",
    "# ax.plot(x_I, y*1e3)"
   ]
  },
  {
   "cell_type": "code",
   "execution_count": null,
   "metadata": {},
   "outputs": [],
   "source": [
    "Temp = 0.06\n",
    "Q_ind = 7e7\n",
    "Q_cap = 1e5\n",
    "x_qp = 5e-5\n",
    "flxs = np.linspace(0.5, 1.0, 501)\n",
    "T1_eff_fig, T1_eff_ax = fluxonium.plot_t1_effective_vs_paramvals(\n",
    "    param_name='flux',\n",
    "    param_vals=flxs,\n",
    "    xlim=([0.49, 1.01]),\n",
    "    common_noise_options=dict(i=1, j=0, T = Temp),\n",
    "    noise_channels = [\n",
    "                      # ('t1_inductive', dict(Q_ind = Q_ind)),\n",
    "                      ('t1_quasiparticle_tunneling', dict(x_qp=x_qp)),\n",
    "                      # ('t1_capacitive', dict(Q_cap = Q_cap))\n",
    "                    ]\n",
    ")\n",
    "T1_eff_ax.plot(x_I, y*1e3, '.-')\n",
    "T1_eff_ax.set_ylim([y.min()*5e2, y.max()*2e3])\n",
    "_, T1_eff = T1_eff_ax.lines[0].get_data()\n",
    "plt.show()\n",
    "# T1up, Qcup = T1_eff, Q_cap\n",
    "# T1down, Qcdown = T1_eff, Q_cap\n",
    "# T1up, xqpup = T1_eff, x_qp\n",
    "T1down, xqpdown = T1_eff, x_qp"
   ]
  },
  {
   "cell_type": "code",
   "execution_count": null,
   "metadata": {},
   "outputs": [],
   "source": [
    "fig, ax = plt.subplots()\n",
    "ax.set_yscale('log')\n",
    "# ax.plot(flxs, T1up*1e-9, label = f'Qc = {Qcup:.1e}')\n",
    "# ax.plot(flxs, T1down*1e-9, label = f'Qc = {Qcdown:.1e}')\n",
    "ax.plot(flxs, T1up*1e-9, label = f'xqp = {xqpup:.1e}')\n",
    "ax.plot(flxs, T1down*1e-9, label = f'xqp = {xqpdown:.1e}')\n",
    "ax.plot(x_I, y*1e-6, '.-', label = 'Data', color = 'purple')\n",
    "ax.set_ylim([y.min()*5e-7, y.max()*2e-5])\n",
    "ax.legend()\n",
    "plt.show()"
   ]
  },
  {
   "cell_type": "code",
   "execution_count": null,
   "metadata": {},
   "outputs": [],
   "source": [
    "flux_val = np.linspace(0.5, 1.0, 501)\n",
    "T1_cap = []\n",
    "T1_ind = []\n",
    "T1_qp = []\n",
    "for flux in flux_val:\n",
    "    fluxonium.flux = flux\n",
    "    T1_cap.append(fluxonium.t1_capacitive(T = Temp, Q_cap=Q_cap)*1e-9)\n",
    "    T1_ind.append(fluxonium.t1_inductive(T = Temp, Q_ind=Q_ind)*1e-9)\n",
    "    T1_qp.append(fluxonium.t1_quasiparticle_tunneling(T = Temp, x_qp=x_qp)*1e-9)"
   ]
  },
  {
   "cell_type": "code",
   "execution_count": null,
   "metadata": {},
   "outputs": [],
   "source": [
    "fig, ax = plt.subplots()\n",
    "ax.set_yscale('log')\n",
    "ax.plot(flux_val, T1_cap, label = 'Capacitive')\n",
    "ax.plot(flux_val, T1_ind, label = 'Inductive')\n",
    "ax.plot(flux_val, T1_qp, label = 'Quasi particle')\n",
    "ax.plot(flux_val, T1_eff*1e-9, label = 'Effective')\n",
    "ax.plot(x_I, y*1e-6, '.-', label = 'Data', color = 'purple')\n",
    "ax.set_ylim([y.min()*5e-7, y.max()*2e-5])\n",
    "ax.set_title(f'Q_cap = {Q_cap:.1e}, Q_ind = {Q_ind:.1e}, x_qp = {x_qp:.1e}')\n",
    "ax.legend()\n",
    "plt.show()"
   ]
  },
  {
   "cell_type": "code",
   "execution_count": null,
   "metadata": {},
   "outputs": [],
   "source": []
  }
 ],
 "metadata": {
  "kernelspec": {
   "display_name": "Python 3",
   "language": "python",
   "name": "python3"
  },
  "language_info": {
   "codemirror_mode": {
    "name": "ipython",
    "version": 3
   },
   "file_extension": ".py",
   "mimetype": "text/x-python",
   "name": "python",
   "nbconvert_exporter": "python",
   "pygments_lexer": "ipython3",
   "version": "3.12.8"
  },
  "orig_nbformat": 4
 },
 "nbformat": 4,
 "nbformat_minor": 2
}
