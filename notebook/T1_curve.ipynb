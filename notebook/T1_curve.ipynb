{
 "cells": [
  {
   "cell_type": "code",
   "execution_count": null,
   "metadata": {},
   "outputs": [],
   "source": [
    "import matplotlib.pyplot as plt\n",
    "import numpy as np\n",
    "import scqubits as scq\n",
    "import pandas as pd"
   ]
  },
  {
   "cell_type": "code",
   "execution_count": null,
   "metadata": {},
   "outputs": [],
   "source": [
    "qub_name = \"S001\"\n",
    "\n",
    "loadpath = f\"../result/{qub_name}/params.csv\"\n",
    "params_df = pd.read_csv(loadpath)\n",
    "\n",
    "cflx, period = params_df.loc[0, [\"Half flux\", \"Period\"]]\n",
    "params = params_df.loc[0, [\"EJ\", \"EC\", \"EL\"]].values\n",
    "\n",
    "\n",
    "def phi2mA(ratio):\n",
    "    return (period * (ratio - 0.5) + cflx) * 1e3\n",
    "\n",
    "\n",
    "def mA2phi(current):\n",
    "    return (current / 1e3 - cflx) / period + 0.5\n",
    "\n",
    "\n",
    "params_df.head()"
   ]
  },
  {
   "cell_type": "code",
   "execution_count": null,
   "metadata": {},
   "outputs": [],
   "source": [
    "freqs_path = f\"../result/{qub_name}/freqs.csv\"\n",
    "freqs_df = pd.read_csv(freqs_path)\n",
    "\n",
    "s_mAs = freqs_df[\"Current (mA)\"]\n",
    "s_fpts = freqs_df[\"Freq (MHz)\"]\n",
    "s_T1s = freqs_df[\"T1 (μs)\"]\n",
    "s_T1errs = freqs_df[\"T1err (μs)\"]\n",
    "\n",
    "freqs_df.head()"
   ]
  },
  {
   "cell_type": "code",
   "execution_count": null,
   "metadata": {},
   "outputs": [],
   "source": [
    "# sort by current\n",
    "s_mAs, s_fpts, s_T1s, s_T1errs = zip(\n",
    "    *sorted(zip(s_mAs, s_fpts, s_T1s, s_T1errs), reverse=True)\n",
    ")\n",
    "s_mAs, s_fpts, s_T1s, s_T1errs = (\n",
    "    np.array(s_mAs),\n",
    "    np.array(s_fpts),\n",
    "    np.array(s_T1s),\n",
    "    np.array(s_T1errs),\n",
    ")\n",
    "s_flxs = mA2phi(s_mAs)"
   ]
  },
  {
   "cell_type": "code",
   "execution_count": null,
   "metadata": {},
   "outputs": [],
   "source": [
    "fig, ax = plt.subplots(2, 1, constrained_layout=True)\n",
    "ax[0].set_title(r\"$T_1$ as function of current\")\n",
    "ax[0].set_xlabel(r\"Current (mA)\")\n",
    "ax[0].set_ylabel(r\"$T_1$ ($\\mu s$)\")\n",
    "ax[0].errorbar(s_mAs, s_T1s, yerr=s_T1errs, fmt=\".-\")\n",
    "ax[0].grid()\n",
    "\n",
    "ax[1].set_title(r\"$T_1$ as function of flux\")\n",
    "ax[1].set_xlabel(r\"flux quanta $\\phi_{ext}/\\phi_0$\")\n",
    "ax[1].set_ylabel(r\"$T_1$ ($\\mu s$)\")\n",
    "ax[1].errorbar(s_flxs, s_T1s, yerr=s_T1errs, fmt=\".-\")\n",
    "ax[1].grid()\n",
    "fig.savefig(f\"../result/{qub_name}/T1s.png\")\n",
    "plt.show()"
   ]
  },
  {
   "cell_type": "code",
   "execution_count": null,
   "metadata": {},
   "outputs": [],
   "source": [
    "scq.settings.T1_DEFAULT_WARNING = False\n",
    "fluxonium = scq.Fluxonium(*params, flux=0.5, cutoff=30, truncated_dim=5)\n",
    "hilbertspace = scq.HilbertSpace([fluxonium])"
   ]
  },
  {
   "cell_type": "code",
   "execution_count": null,
   "metadata": {},
   "outputs": [],
   "source": [
    "fig, ax = fluxonium.plot_coherence_vs_paramvals(\n",
    "    param_name=\"flux\",\n",
    "    param_vals=np.linspace(0.0, 0.5, 501),\n",
    "    common_noise_options=dict(i=1, j=0, T=0.15),\n",
    "    noise_channels=[(\"t1_capacitive\", dict(Q_cap=4e6))],\n",
    ")"
   ]
  },
  {
   "cell_type": "code",
   "execution_count": null,
   "metadata": {},
   "outputs": [],
   "source": [
    "Temp = 0.25\n",
    "Q_ind = 2.5e6\n",
    "Q_cap = 1.5e5\n",
    "x_qp = 8e-6\n",
    "\n",
    "flxs = np.linspace(0.0, 0.5, 501)\n",
    "T1_eff_fig, T1_eff_ax = fluxonium.plot_t1_effective_vs_paramvals(\n",
    "    param_name=\"flux\",\n",
    "    param_vals=flxs,\n",
    "    xlim=([flxs.min(), flxs.max()]),\n",
    "    common_noise_options=dict(i=1, j=0, T=Temp),\n",
    "    noise_channels=[\n",
    "        (\"t1_inductive\", dict(Q_ind=Q_ind)),\n",
    "        (\"t1_quasiparticle_tunneling\", dict(x_qp=x_qp)),\n",
    "        (\"t1_capacitive\", dict(Q_cap=Q_cap)),\n",
    "    ],\n",
    ")\n",
    "T1_eff_ax.errorbar(s_flxs, s_T1s * 1e3, yerr=s_T1errs * 1e3, fmt=\".-\")\n",
    "T1_eff_ax.set_ylim([s_T1s.min() * 5e2, s_T1s.max() * 2e3])\n",
    "_, T1_eff = T1_eff_ax.lines[0].get_data()\n",
    "plt.show()"
   ]
  },
  {
   "cell_type": "code",
   "execution_count": null,
   "metadata": {},
   "outputs": [],
   "source": [
    "T1_cap = []\n",
    "T1_ind = []\n",
    "T1_qp = []\n",
    "for flux in flxs:\n",
    "    fluxonium.flux = flux\n",
    "    T1_cap.append(fluxonium.t1_capacitive(T=Temp, Q_cap=Q_cap) * 1e-9)\n",
    "    T1_ind.append(fluxonium.t1_inductive(T=Temp, Q_ind=Q_ind) * 1e-9)\n",
    "    T1_qp.append(fluxonium.t1_quasiparticle_tunneling(T=Temp, x_qp=x_qp) * 1e-9)"
   ]
  },
  {
   "cell_type": "code",
   "execution_count": null,
   "metadata": {},
   "outputs": [],
   "source": [
    "fig, ax = plt.subplots()\n",
    "ax.set_yscale(\"log\")\n",
    "ax.plot(flxs, T1_cap, label=\"Capacitive\")\n",
    "ax.plot(flxs, T1_ind, label=\"Inductive\")\n",
    "ax.plot(flxs, T1_qp, label=\"Quasi particle\")\n",
    "ax.plot(flxs, T1_eff * 1e-9, label=\"Effective\")\n",
    "ax.errorbar(\n",
    "    s_flxs, s_T1s * 1e-6, yerr=s_T1errs * 1e-6, fmt=\".-\", label=\"Data\", color=\"purple\"\n",
    ")\n",
    "ax.set_ylim([s_T1s.min() * 5e-7, s_T1s.max() * 2e-5])\n",
    "ax.set_title(f\"Q_cap = {Q_cap:.1e}, Q_ind = {Q_ind:.1e}, x_qp = {x_qp:.1e}\")\n",
    "ax.grid()\n",
    "ax.legend()\n",
    "fig.savefig(f\"../result/{qub_name}/T1_fit.png\")\n",
    "plt.show()"
   ]
  },
  {
   "cell_type": "code",
   "execution_count": null,
   "metadata": {},
   "outputs": [],
   "source": []
  }
 ],
 "metadata": {
  "kernelspec": {
   "display_name": "Python 3",
   "language": "python",
   "name": "python3"
  },
  "language_info": {
   "codemirror_mode": {
    "name": "ipython",
    "version": 3
   },
   "file_extension": ".py",
   "mimetype": "text/x-python",
   "name": "python",
   "nbconvert_exporter": "python",
   "pygments_lexer": "ipython3",
   "version": "3.13.2"
  },
  "orig_nbformat": 4
 },
 "nbformat": 4,
 "nbformat_minor": 2
}
