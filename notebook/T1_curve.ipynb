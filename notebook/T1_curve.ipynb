{
 "cells": [
  {
   "cell_type": "code",
   "execution_count": null,
   "metadata": {},
   "outputs": [],
   "source": [
    "%load_ext autoreload\n",
    "import numpy as np\n",
    "import h5py as h5\n",
    "import pandas as pd\n",
    "import matplotlib.pyplot as plt\n",
    "import scqubits as scq\n",
    "import plotly.graph_objects as go\n",
    "\n",
    "%autoreload 2\n",
    "from zcu_tools.analysis.fluxdep import calculate_energy, VisualizeSpet, load_result"
   ]
  },
  {
   "cell_type": "code",
   "execution_count": null,
   "metadata": {},
   "outputs": [],
   "source": [
    "qub_name = \"Test096\""
   ]
  },
  {
   "cell_type": "markdown",
   "metadata": {},
   "source": [
    "# Load data"
   ]
  },
  {
   "cell_type": "markdown",
   "metadata": {},
   "source": [
    "## Parameters"
   ]
  },
  {
   "cell_type": "code",
   "execution_count": null,
   "metadata": {},
   "outputs": [],
   "source": [
    "loadpath = f\"../result/{qub_name}/params.json\"\n",
    "_, params, cflx, period, allows = load_result(loadpath)\n",
    "EJ, EC, EL = params\n",
    "\n",
    "if \"r_f\" in allows:\n",
    "    r_f = allows[\"r_f\"]\n",
    "\n",
    "\n",
    "def phi2mA(ratio):\n",
    "    return (period * (ratio - 0.5) + cflx) * 1e3\n",
    "\n",
    "\n",
    "def mA2phi(current):\n",
    "    return (current / 1e3 - cflx) / period + 0.5\n",
    "\n",
    "\n",
    "flxs = np.linspace(0.0, 1.0, 10000)\n",
    "mAs = phi2mA(flxs)"
   ]
  },
  {
   "cell_type": "markdown",
   "metadata": {},
   "source": [
    "## Sample Points"
   ]
  },
  {
   "cell_type": "code",
   "execution_count": null,
   "metadata": {},
   "outputs": [],
   "source": [
    "# loading points\n",
    "loadpath = f\"../result/{qub_name}/freqs.csv\"\n",
    "\n",
    "freqs_df = pd.read_csv(loadpath)\n",
    "s_mAs = freqs_df[\"Current (mA)\"].values  # mA\n",
    "s_fpts = freqs_df[\"Freq (MHz)\"].values * 1e-3  # GHz\n",
    "s_T1s = freqs_df[\"T1 (μs)\"].values\n",
    "s_T1errs = freqs_df[\"T1err (μs)\"].values\n",
    "\n",
    "# sort by flux\n",
    "s_mAs, s_fpts, s_T1s, s_T1errs = tuple(\n",
    "    np.array(a) for a in zip(*sorted(zip(s_mAs, s_fpts, s_T1s, s_T1errs)))\n",
    ")\n",
    "\n",
    "s_flxs = mA2phi(s_mAs)\n",
    "\n",
    "freqs_df.head(30)"
   ]
  },
  {
   "cell_type": "markdown",
   "metadata": {},
   "source": [
    "## TwoTone Spectrum"
   ]
  },
  {
   "cell_type": "code",
   "execution_count": null,
   "metadata": {},
   "outputs": [],
   "source": [
    "load_path = f\"../result/{qub_name}/spect.hdf5\"\n",
    "\n",
    "s_spects = {}\n",
    "with h5.File(load_path, \"r\") as f:\n",
    "    for key in f.keys():\n",
    "        grp = f[key]\n",
    "        spectrum = (\n",
    "            grp[\"spectrum\"][\"mAs\"][()],\n",
    "            grp[\"spectrum\"][\"fpts\"][()],\n",
    "            grp[\"spectrum\"][\"data\"][()],\n",
    "        )\n",
    "        points = (grp[\"points\"][\"mAs\"][()], grp[\"points\"][\"fpts\"][()])\n",
    "        s_spects.update(\n",
    "            {\n",
    "                key: {\n",
    "                    \"mA_c\": grp[\"mA_c\"][()] * 1e3,\n",
    "                    \"spectrum\": spectrum,\n",
    "                    \"points\": points,\n",
    "                }\n",
    "            }\n",
    "        )\n",
    "s_spects.keys()"
   ]
  },
  {
   "cell_type": "markdown",
   "metadata": {},
   "source": [
    "### Align cflx"
   ]
  },
  {
   "cell_type": "code",
   "execution_count": null,
   "metadata": {},
   "outputs": [],
   "source": [
    "mA_c = list(s_spects.values())[-1][\"mA_c\"]\n",
    "for spect in s_spects.values():\n",
    "    shift = mA_c - spect[\"mA_c\"]\n",
    "    spect[\"mA_c\"] += shift\n",
    "    spect[\"spectrum\"] = (phi2mA(spect[\"spectrum\"][0] + shift), *spect[\"spectrum\"][1:])\n",
    "    spect[\"points\"] = (phi2mA(spect[\"points\"][0] + shift), *spect[\"points\"][1:])"
   ]
  },
  {
   "cell_type": "markdown",
   "metadata": {},
   "source": [
    "# Plot Map"
   ]
  },
  {
   "cell_type": "code",
   "execution_count": null,
   "metadata": {},
   "outputs": [],
   "source": [
    "r_f = 7.48742\n",
    "allows = {\n",
    "    **allows,\n",
    "    # \"transitions\": [(0, 1)],\n",
    "    # \"transitions\": [(0, 1), (0, 2), (0, 3), (1, 2), (1, 3)],\n",
    "    # \"red side\": [(0, 4), (0, 3), (1, 5)],\n",
    "    # \"r_f\": r_f,\n",
    "}"
   ]
  },
  {
   "cell_type": "code",
   "execution_count": null,
   "metadata": {},
   "outputs": [],
   "source": [
    "energies = calculate_energy(flxs, *params, 50, 15)"
   ]
  },
  {
   "cell_type": "code",
   "execution_count": null,
   "metadata": {},
   "outputs": [],
   "source": [
    "vs = VisualizeSpet(s_spects, s_mAs, s_fpts, mAs, energies, allows)\n",
    "vs.set_scatter_style(10, color=s_T1s)\n",
    "fig = vs.create_figure()\n",
    "fig.add_hline(y=r_f, line_dash=\"dash\", line_color=\"black\", name=\"Cavity freq\")\n",
    "fig.add_vline(x=cflx * 1e3, line_dash=\"dash\", line_color=\"black\", name=\"Cavity freq\")\n",
    "fig.update_layout(\n",
    "    title_text=f\"EJ/EC/EL = {EJ:.2f}/{EC:.2f}/{EL:.2f}\",\n",
    "    showlegend=True,\n",
    ")\n",
    "\n",
    "fig.show()"
   ]
  },
  {
   "cell_type": "markdown",
   "metadata": {},
   "source": [
    "## save to html"
   ]
  },
  {
   "cell_type": "code",
   "execution_count": null,
   "metadata": {},
   "outputs": [],
   "source": [
    "fig.write_html(f\"../result/{qub_name}/web/map.html\", include_plotlyjs=\"cdn\")\n",
    "fig.write_image(f\"../result/{qub_name}/image/map.png\", format=\"png\")"
   ]
  },
  {
   "cell_type": "markdown",
   "metadata": {},
   "source": [
    "# T1 curve"
   ]
  },
  {
   "cell_type": "code",
   "execution_count": null,
   "metadata": {},
   "outputs": [],
   "source": [
    "fig, ax1 = plt.subplots(constrained_layout=True)\n",
    "\n",
    "ax1.errorbar(s_mAs, s_T1s, yerr=s_T1errs, fmt=\".-\", label=\"Current\")\n",
    "ax1.grid()\n",
    "ax1.set_xlabel(r\"Current (mA)\")\n",
    "ax1.set_ylabel(r\"$T_1$ ($\\mu s$)\")\n",
    "ax2 = ax1.secondary_xaxis(\"top\", functions=(mA2phi, phi2mA))\n",
    "ax2.set_xlabel(r\"$\\phi_{ext}/\\phi_0$\")\n",
    "\n",
    "fig.savefig(f\"../result/{qub_name}/image/T1s.png\")\n",
    "plt.show()"
   ]
  },
  {
   "cell_type": "code",
   "execution_count": null,
   "metadata": {},
   "outputs": [],
   "source": [
    "Temp = 54.2e-3\n",
    "Q_ind = 6.5e5\n",
    "Q_cap = 7e4\n",
    "x_qp = 9e-6\n",
    "flxs = np.linspace(s_flxs.min(), s_flxs.max(), 501)\n",
    "\n",
    "scq.settings.T1_DEFAULT_WARNING = False\n",
    "fluxonium = scq.Fluxonium(*params, flux=0.5, cutoff=30, truncated_dim=5)\n",
    "T1_eff_fig, T1_eff_ax = fluxonium.plot_t1_effective_vs_paramvals(\n",
    "    param_name=\"flux\",\n",
    "    param_vals=flxs,\n",
    "    xlim=([flxs.min(), flxs.max()]),\n",
    "    common_noise_options=dict(i=1, j=0, T=Temp),\n",
    "    noise_channels=[\n",
    "        (\"t1_inductive\", dict(Q_ind=Q_ind)),\n",
    "        (\"t1_quasiparticle_tunneling\", dict(x_qp=x_qp)),\n",
    "        (\"t1_capacitive\", dict(Q_cap=Q_cap)),\n",
    "    ],\n",
    ")\n",
    "\n",
    "T1_eff_ax.errorbar(s_flxs, s_T1s * 1e3, yerr=s_T1errs * 1e3, fmt=\".-\")\n",
    "T1_eff_ax.set_ylim([s_T1s.min() * 5e2, s_T1s.max() * 2e3])\n",
    "_, T1_eff = T1_eff_ax.lines[0].get_data()\n",
    "plt.show()"
   ]
  },
  {
   "cell_type": "code",
   "execution_count": null,
   "metadata": {},
   "outputs": [],
   "source": [
    "T1_cap = []\n",
    "T1_ind = []\n",
    "T1_qp = []\n",
    "for flux in flxs:\n",
    "    fluxonium.flux = flux\n",
    "    T1_cap.append(fluxonium.t1_capacitive(T=Temp, Q_cap=Q_cap) * 1e-9)\n",
    "    T1_ind.append(fluxonium.t1_inductive(T=Temp, Q_ind=Q_ind) * 1e-9)\n",
    "    T1_qp.append(fluxonium.t1_quasiparticle_tunneling(T=Temp, x_qp=x_qp) * 1e-9)"
   ]
  },
  {
   "cell_type": "code",
   "execution_count": null,
   "metadata": {},
   "outputs": [],
   "source": [
    "fig, ax = plt.subplots()\n",
    "ax.set_yscale(\"log\")\n",
    "ax.plot(flxs, T1_cap, label=\"Capacitive\")\n",
    "ax.plot(flxs, T1_ind, label=\"Inductive\")\n",
    "ax.plot(flxs, T1_qp, label=\"Quasi particle\")\n",
    "ax.plot(flxs, T1_eff * 1e-9, label=\"Effective\")\n",
    "ax.errorbar(\n",
    "    s_flxs, s_T1s * 1e-6, yerr=s_T1errs * 1e-6, fmt=\".-\", label=\"Data\", color=\"purple\"\n",
    ")\n",
    "ax.set_xlabel(r\"$\\phi_{ext}/\\phi_0$\")\n",
    "ax.set_ylabel(r\"$T_1$ (s)\")\n",
    "ax.set_ylim([s_T1s.min() * 5e-7, s_T1s.max() * 2e-5])\n",
    "ax.set_title(f\"Q_cap = {Q_cap:.1e}, Q_ind = {Q_ind:.1e}, x_qp = {x_qp:.1e}\")\n",
    "ax.grid()\n",
    "ax.legend()\n",
    "plt.tight_layout()\n",
    "fig.savefig(f\"../result/{qub_name}/image/T1_fit.png\")\n",
    "plt.show()"
   ]
  },
  {
   "cell_type": "markdown",
   "metadata": {},
   "source": [
    "# Matrix elements"
   ]
  },
  {
   "cell_type": "code",
   "execution_count": null,
   "metadata": {},
   "outputs": [],
   "source": [
    "fluxonium = scq.Fluxonium(*params, flux=0.5, cutoff=50, truncated_dim=15)\n",
    "spectrumData = fluxonium.get_matelements_vs_paramvals(\n",
    "    operator=\"n_operator\", param_name=\"flux\", param_vals=flxs, evals_count=10\n",
    ")\n",
    "matrixelements = spectrumData.matrixelem_table"
   ]
  },
  {
   "cell_type": "code",
   "execution_count": null,
   "metadata": {},
   "outputs": [],
   "source": [
    "show_idxs = [(i, j) for i in range(2) for j in range(5) if j > i]\n",
    "\n",
    "fig = go.Figure()\n",
    "for i, (from_, to_) in enumerate(show_idxs):\n",
    "    fig.add_trace(\n",
    "        go.Scatter(\n",
    "            x=flxs,\n",
    "            y=np.abs(matrixelements[:, from_, to_]),\n",
    "            mode=\"lines\",\n",
    "            name=f\"{from_}-{to_}\",\n",
    "            line=dict(width=2),\n",
    "        )\n",
    "    )\n",
    "fig.update_layout(\n",
    "    title=f\"EJ/EC/EL = {EJ:.3f}/{EC:.3f}/{EL:.3f}\",\n",
    "    title_x=0.5,\n",
    "    xaxis_title=r\"$\\phi_{ext}/\\phi_0$\",\n",
    "    yaxis_title=\"Matrix elements\",\n",
    ")\n",
    "\n",
    "fig.show()"
   ]
  },
  {
   "cell_type": "code",
   "execution_count": null,
   "metadata": {},
   "outputs": [],
   "source": [
    "fig.write_html(f\"../result/{qub_name}/web/matrixelem.html\", include_plotlyjs=\"cdn\")\n",
    "fig.write_image(f\"../result/{qub_name}/image/matrixelem.png\", format=\"png\")"
   ]
  },
  {
   "cell_type": "code",
   "execution_count": null,
   "metadata": {},
   "outputs": [],
   "source": []
  }
 ],
 "metadata": {
  "kernelspec": {
   "display_name": "Python 3",
   "language": "python",
   "name": "python3"
  },
  "language_info": {
   "codemirror_mode": {
    "name": "ipython",
    "version": 3
   },
   "file_extension": ".py",
   "mimetype": "text/x-python",
   "name": "python",
   "nbconvert_exporter": "python",
   "pygments_lexer": "ipython3",
   "version": "3.13.2"
  }
 },
 "nbformat": 4,
 "nbformat_minor": 2
}
