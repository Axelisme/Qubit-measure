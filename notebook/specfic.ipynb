{
 "cells": [
  {
   "cell_type": "code",
   "execution_count": null,
   "id": "922bea92-cb16-46d8-ba5a-d3b4c9a9a106",
   "metadata": {},
   "outputs": [],
   "source": [
    "%load_ext autoreload\n",
    "import os\n",
    "\n",
    "import numpy as np\n",
    "from tqdm.auto import tqdm\n",
    "import matplotlib.pyplot as plt\n",
    "\n",
    "%autoreload 2\n",
    "import zcu_tools.notebook.single_qubit as zf  # noqa: E402\n",
    "import zcu_tools.notebook.schedule.v2 as zs  # noqa: E402\n",
    "\n",
    "# ruff: noqa: I001\n",
    "from zcu_tools import (  # noqa: E402\n",
    "    DefaultCfg,\n",
    "    create_datafolder,\n",
    "    make_cfg,\n",
    "    make_sweep,\n",
    "    save_data,\n",
    "    make_comment,\n",
    ")"
   ]
  },
  {
   "cell_type": "code",
   "execution_count": null,
   "id": "106b7405",
   "metadata": {},
   "outputs": [],
   "source": [
    "import zcu_tools.config as zc\n",
    "\n",
    "# zc.config.DATA_DRY_RUN = True\n",
    "# zc.config.YOKO_DRY_RUN = True"
   ]
  },
  {
   "cell_type": "markdown",
   "id": "ab8f5776-60a6-462e-b60a-b4c585f77b9d",
   "metadata": {},
   "source": [
    "# Create data folder"
   ]
  },
  {
   "cell_type": "code",
   "execution_count": null,
   "id": "33d40508-6c8c-43a1-a341-8202faebb6ea",
   "metadata": {},
   "outputs": [],
   "source": [
    "chip_name = r\"Q12_2D[2]\\Q4\"\n",
    "\n",
    "# data_host = \"192.168.10.232\"  # cmd-> ipconfig -> ipv4 #controling computer\n",
    "data_host = None\n",
    "\n",
    "database_path = create_datafolder(os.path.join(os.getcwd(), \"..\"), prefix=chip_name)"
   ]
  },
  {
   "cell_type": "markdown",
   "id": "5f90915c-e53f-4371-8b07-5e12fadc756f",
   "metadata": {
    "lines_to_next_cell": 0
   },
   "source": [
    "# Connect to zcu216"
   ]
  },
  {
   "cell_type": "code",
   "execution_count": null,
   "id": "daf00e35-74bf-469f-aab6-f56266c84b4a",
   "metadata": {
    "lines_to_next_cell": 2
   },
   "outputs": [],
   "source": [
    "from zcu_tools.remote import make_proxy\n",
    "from zcu_tools.program.base import MyProgram  # noqa: F401\n",
    "from zcu_tools.tools import get_ip_address  # noqa: F401\n",
    "\n",
    "# zc.config.LOCAL_IP = get_ip_address(\"tailscale0\")\n",
    "zc.config.LOCAL_IP = \"192.168.10.232\"\n",
    "zc.config.LOCAL_PORT = 8887\n",
    "\n",
    "soc, soccfg, rm_prog = make_proxy(\"192.168.10.113\", 8887, proxy_prog=True)\n",
    "MyProgram.init_proxy(rm_prog, test=True)\n",
    "print(soccfg)"
   ]
  },
  {
   "cell_type": "code",
   "execution_count": null,
   "id": "ff548af3-d517-4f89-a3e2-ce46263286db",
   "metadata": {},
   "outputs": [],
   "source": [
    "# from qick import QickSoc  # noqa: E402\n",
    "\n",
    "# soc = QickSoc()\n",
    "# soccfg = soc\n",
    "# print(soc)"
   ]
  },
  {
   "cell_type": "markdown",
   "id": "340194f3-2dca-46f5-a3b8-d359afc72907",
   "metadata": {},
   "source": [
    "# Predefine parameters"
   ]
  },
  {
   "cell_type": "code",
   "execution_count": null,
   "id": "421b6ceb-9a8e-4e28-9d25-eb78300f7d44",
   "metadata": {},
   "outputs": [],
   "source": [
    "res_ch = 0\n",
    "qub_ch = 11\n",
    "reset_ch = 5\n",
    "reset_ch2 = 2\n",
    "\n",
    "DefaultCfg.set_adc(ro_chs=[0])\n",
    "# DefaultCfg.set_dev(flux_dev=\"none\", flux=0.0)"
   ]
  },
  {
   "cell_type": "code",
   "execution_count": null,
   "id": "29702850-c586-42d4-be0b-e76ed5a12271",
   "metadata": {},
   "outputs": [],
   "source": [
    "DefaultCfg.load(\"Q12_2D[2]-Q4_default_cfg_-0.42mA_0613.yaml\")"
   ]
  },
  {
   "cell_type": "markdown",
   "id": "c279f891-c778-4ed4-811f-3ad637e43c1d",
   "metadata": {},
   "source": [
    "## Initialize the flux"
   ]
  },
  {
   "cell_type": "code",
   "execution_count": null,
   "id": "19d0e589-da99-4d95-b109-2f50afd0525d",
   "metadata": {},
   "outputs": [],
   "source": [
    "from zcu_tools.device import YokoDevControl  # noqa: E402\n",
    "\n",
    "YokoDevControl.connect_server(\n",
    "    {\n",
    "        \"host_ip\": data_host,\n",
    "        # \"host_ip\": \"127.0.0.1\",\n",
    "        \"dComCfg\": {\"address\": \"0x0B21::0x0039::91T810992\", \"interface\": \"USB\"},\n",
    "        \"outputCfg\": {\"Current - Sweep rate\": 10e-6},\n",
    "    },\n",
    "    reinit=True,\n",
    ")\n",
    "DefaultCfg.set_dev(flux_dev=\"yoko\")\n",
    "cur_A = YokoDevControl.get_current()\n",
    "cur_A"
   ]
  },
  {
   "cell_type": "code",
   "execution_count": null,
   "id": "ccf190d2-7331-4281-87d5-ae4dde1bac74",
   "metadata": {
    "lines_to_next_cell": 2
   },
   "outputs": [],
   "source": [
    "# cur_A = 0.0e-3\n",
    "YokoDevControl.set_current(cur_A)\n",
    "DefaultCfg.set_dev(flux=cur_A)"
   ]
  },
  {
   "cell_type": "markdown",
   "id": "c7da4e44",
   "metadata": {},
   "source": [
    "# MIST"
   ]
  },
  {
   "cell_type": "code",
   "execution_count": null,
   "id": "6e1d0bff",
   "metadata": {},
   "outputs": [],
   "source": [
    "qub_name = \"Q4\""
   ]
  },
  {
   "cell_type": "markdown",
   "id": "049874eb",
   "metadata": {},
   "source": [
    "## Power depedence"
   ]
  },
  {
   "cell_type": "code",
   "execution_count": null,
   "id": "03d62b27",
   "metadata": {},
   "outputs": [],
   "source": [
    "# DefaultCfg.set_pulse(readout_rf = {**DefaultCfg.get_pulse(\"readout_rf\"), \"gain\": 0.1})"
   ]
  },
  {
   "cell_type": "code",
   "execution_count": null,
   "id": "a9fa6f3b",
   "metadata": {},
   "outputs": [],
   "source": [
    "exp_cfg = {\n",
    "    \"dac\": {\n",
    "        \"res_pulse\": \"readout_rf\",\n",
    "        # \"res_pulse\": \"readout_dpm\",\n",
    "        \"qub_pulse\": {\n",
    "            **DefaultCfg.get_pulse(\"readout_rf\"),\n",
    "            \"post_delay\": 0.5,\n",
    "            \"freq\": 5796,\n",
    "        },\n",
    "        # \"reset\": \"pulse\",\n",
    "        # \"reset_pulse\": \"reset_red\",\n",
    "        \"reset\": \"two_pulse\",\n",
    "        \"reset_pulse1\": \"mux_reset1\",\n",
    "        \"reset_pulse2\": \"mux_reset2\",\n",
    "        \"reset_pi_pulse\": \"pi_amp\",\n",
    "    },\n",
    "    \"adc\": {\n",
    "        \"relax_delay\": 0.0,  # us\n",
    "    },\n",
    "}"
   ]
  },
  {
   "cell_type": "code",
   "execution_count": null,
   "id": "43f0aa4b",
   "metadata": {},
   "outputs": [],
   "source": [
    "exp_cfg[\"sweep\"] =  make_sweep(0.0, 1.0, 101)\n",
    "cfg = make_cfg(exp_cfg, reps=1000, rounds=10)\n",
    "\n",
    "# zs.mist.visualize_mist_pdr_dep(soccfg, cfg, time_fly=0.6)\n",
    "pdrs, signals = zs.mist.measure_mist_pdr_dep(soc, soccfg, cfg)"
   ]
  },
  {
   "cell_type": "code",
   "execution_count": null,
   "id": "bfcdf3ce",
   "metadata": {},
   "outputs": [],
   "source": [
    "filename = f\"{qub_name}_mist_pdr@{cur_A * 1e3:.3f}mA\"\n",
    "save_data(\n",
    "    filepath=os.path.join(database_path, filename),\n",
    "    x_info={\"name\": \"Drive Power (a.u.)\", \"unit\": \"a.u.\", \"values\": pdrs},\n",
    "    z_info={\"name\": \"Signal\", \"unit\": \"a.u.\", \"values\": signals},\n",
    "    comment=make_comment(cfg),\n",
    "    tag=\"MIST/pdr/single\",\n",
    "    server_ip=data_host,\n",
    ")"
   ]
  },
  {
   "cell_type": "markdown",
   "id": "783dcf1c",
   "metadata": {},
   "source": [
    "### Abnormal"
   ]
  },
  {
   "cell_type": "code",
   "execution_count": null,
   "id": "0b3a0449",
   "metadata": {},
   "outputs": [],
   "source": [
    "exp_cfg = {\n",
    "    \"dac\": {\n",
    "        \"res_pulse\": {\n",
    "            **DefaultCfg.get_pulse(\"readout_rf\"),\n",
    "            \"freq\": 5796,\n",
    "        },\n",
    "        # \"res_pulse\": \"readout_dpm\",\n",
    "        \"qub_pulse\": {\n",
    "            **DefaultCfg.get_pulse(\"readout_rf\"),\n",
    "            # **DefaultCfg.get_pulse(\"pi_amp\"),\n",
    "            # \"length\": 0.1,\n",
    "            \"post_delay\": 0.5,\n",
    "        },\n",
    "\n",
    "        # \"reset\": \"pulse\",\n",
    "        # \"reset_pulse\": \"reset_red\",\n",
    "        \"reset\": \"two_pulse\",\n",
    "        \"reset_pulse1\": {\n",
    "            **DefaultCfg.get_pulse(\"mux_reset1\"),\n",
    "            # \"gain\": 0.0,\n",
    "        },\n",
    "        \"reset_pulse2\": \"mux_reset2\",\n",
    "        # \"reset_pi_pulse\": \"pi_amp\",\n",
    "\n",
    "        \"readout\": \"two_pulse\",\n",
    "        \"pre_res_pulse\": \"pi_amp\",\n",
    "    },\n",
    "    \"adc\": {\n",
    "        \"relax_delay\": 1.0,  # us\n",
    "    },\n",
    "}"
   ]
  },
  {
   "cell_type": "code",
   "execution_count": null,
   "id": "7a6391f3",
   "metadata": {},
   "outputs": [],
   "source": [
    "exp_cfg[\"sweep\"] =  make_sweep(0.0, 1.0, 101)\n",
    "cfg = make_cfg(exp_cfg, reps=1000, rounds=100)\n",
    "\n",
    "# zs.mist.visualize_abnormal_pdr_dep(soccfg, cfg, time_fly=0.6)\n",
    "pdrs, signals = zs.mist.measure_abnormal_pdr_dep(soc, soccfg, cfg)"
   ]
  },
  {
   "cell_type": "code",
   "execution_count": null,
   "id": "2dee2406",
   "metadata": {},
   "outputs": [],
   "source": [
    "zf.mist.analyze_abnormal_pdr_dep(pdrs, signals)"
   ]
  },
  {
   "cell_type": "code",
   "execution_count": null,
   "id": "23829100",
   "metadata": {},
   "outputs": [],
   "source": [
    "filename = f\"{qub_name}_abnormal_pdr@{cur_A * 1e3:.3f}mA\"\n",
    "save_data(\n",
    "    filepath=os.path.join(database_path, filename),\n",
    "    x_info={\"name\": \"Drive Power (a.u.)\", \"unit\": \"a.u.\", \"values\": pdrs},\n",
    "    y_info={\"name\": \"GE\", \"unit\": \"None\", \"values\": np.array([0,1])},\n",
    "    z_info={\"name\": \"Signal\", \"unit\": \"a.u.\", \"values\": signals},\n",
    "    comment=make_comment(cfg),\n",
    "    tag=\"MIST/pdr/abnormal\",\n",
    "    server_ip=data_host,\n",
    ")"
   ]
  },
  {
   "cell_type": "markdown",
   "id": "d9029d2c",
   "metadata": {},
   "source": [
    "### Overnight"
   ]
  },
  {
   "cell_type": "code",
   "execution_count": null,
   "id": "47719cf8",
   "metadata": {},
   "outputs": [],
   "source": [
    "from IPython.display import display, clear_output\n",
    "import time\n",
    "\n",
    "exp_cfg = {\n",
    "    \"dac\": {\n",
    "        \"res_pulse\": \"readout_rf\",\n",
    "        # \"res_pulse\": \"readout_dpm\",\n",
    "        \"qub_pulse\": {\n",
    "            **DefaultCfg.get_pulse(\"readout_rf\"),\n",
    "            \"post_delay\": 0.5,\n",
    "        },\n",
    "        # \"reset\": \"pulse\",\n",
    "        # \"reset_pulse\": \"reset_red\",\n",
    "        \"reset\": \"two_pulse\",\n",
    "        \"reset_pulse1\": \"mux_reset1\",\n",
    "        \"reset_pulse2\": \"mux_reset2\",\n",
    "        \"reset_pi_pulse\": \"pi_amp\",\n",
    "    },\n",
    "    \"adc\": {\n",
    "        \"relax_delay\": 0.0,  # us\n",
    "    },\n",
    "}\n",
    "exp_cfg[\"sweep\"] =  make_sweep(0.0, 1.0, 51)\n",
    "cfg = make_cfg(exp_cfg, reps=500, rounds=10)\n",
    "\n",
    "# Create two subplots: one for current scan, one for historical scans\n",
    "%matplotlib inline\n",
    "fig, (ax_left, ax_right) = plt.subplots(1, 2, figsize=(16, 6))\n",
    "plt.tight_layout()\n",
    "\n",
    "dh = display(fig, display_id=True)\n",
    "\n",
    "total_time = 1 * 60 * 60  # 1 hours in seconds\n",
    "interval = 5 * 60  # 5 minutes in seconds\n",
    "\n",
    "overnight_signals = []\n",
    "try:\n",
    "    for i in tqdm(range(total_time // interval), desc=\"Overnight Scans\", unit=\"iteration\"):\n",
    "        start_t = time.time()\n",
    "\n",
    "        pdrs, signals = zs.measure_mist_pdr_dep(soc, soccfg, cfg, backend_mode=True)\n",
    "        overnight_signals.append(signals)\n",
    "\n",
    "        signals_array = np.array(overnight_signals)\n",
    "        g0 = np.mean(signals_array[:, 0])\n",
    "\n",
    "        # Left plot: Current scan\n",
    "        ax_left.clear()\n",
    "        ax_left.plot(pdrs, np.abs(signals - g0), linestyle=\"-\", marker=\".\")\n",
    "        ax_left.set_xlabel(\"Drive Power (a.u.)\")\n",
    "        ax_left.set_ylabel(\"Signal (a.u.)\")\n",
    "        ax_left.set_title(f\"Current Scan (Iteration {i+1})\")\n",
    "\n",
    "        # Right plot: Historical scans\n",
    "        ax_right.clear()\n",
    "        ax_right.plot(pdrs, np.abs(signals_array- g0).T, linestyle=\"--\")\n",
    "        ax_right.set_xlabel(\"Drive Power (a.u.)\")\n",
    "        ax_right.set_ylabel(\"Signal (a.u.)\")\n",
    "        ax_right.set_title(\"Historical Scans\")\n",
    "\n",
    "        dh.update(fig)\n",
    "\n",
    "        while time.time() - start_t < interval:\n",
    "            plt.pause(0.5)  # Pause to allow the plot to update\n",
    "    plt.close(fig)\n",
    "    clear_output(wait=True)\n",
    "\n",
    "\n",
    "    overnight_signals = np.array(overnight_signals)\n",
    "\n",
    "    g0 = np.mean(overnight_signals[:, 0])\n",
    "\n",
    "    # plot overnight_signals in one plot\n",
    "    fig, ax = plt.subplots(figsize=(8, 4))\n",
    "    ax.plot(pdrs, np.abs(overnight_signals-g0).T, linestyle=\"--\")\n",
    "    ax.set_xlabel(r\"$\\bar n$\")\n",
    "    ax.set_ylabel(\"Signal difference\")\n",
    "    plt.tight_layout()\n",
    "    plt.show()\n",
    "except KeyboardInterrupt:\n",
    "    print(\"Overnight scans interrupted by user.\")\n",
    "except Exception as e:\n",
    "    print(f\"An error occurred: {e}\")\n",
    "\n",
    "\n",
    "filename = f\"{qub_name}_mist_pdr_overnight@{cur_A * 1e3:.3f}mA\"\n",
    "save_data(\n",
    "    filepath=os.path.join(database_path, filename),\n",
    "    x_info={\"name\": \"Drive Power (a.u.)\", \"unit\": \"a.u.\", \"values\": pdrs},\n",
    "    y_info={\"name\": \"Iteration\", \"unit\": \"None\", \"values\": np.arange(len(overnight_signals))},\n",
    "    z_info={\"name\": \"Signal\", \"unit\": \"a.u.\", \"values\": np.array(overnight_signals)},\n",
    "    comment=make_comment(cfg),\n",
    "    tag=\"MIST/pdr/overnight\",\n",
    "    server_ip=data_host,\n",
    ")"
   ]
  },
  {
   "cell_type": "markdown",
   "id": "27f2a4fd",
   "metadata": {},
   "source": [
    "### Two Pulse Reset"
   ]
  },
  {
   "cell_type": "code",
   "execution_count": null,
   "id": "1b477678",
   "metadata": {},
   "outputs": [],
   "source": [
    "exp_cfg = {\n",
    "    \"dac\": {\n",
    "        \"res_pulse\": \"readout_rf\",\n",
    "        # \"res_pulse\": \"readout_dpm\",\n",
    "        \"qub_pulse\": {\n",
    "            **DefaultCfg.get_pulse(\"readout_rf\"),\n",
    "            \"post_delay\": 0.5,\n",
    "        },\n",
    "        \"reset_test_pulse1\": {\n",
    "            **DefaultCfg.get_pulse(\"mux_reset1\"),\n",
    "            # \"length\": 10.0,\n",
    "            # \"gain\": 0.0,\n",
    "        },\n",
    "        \"reset_test_pulse2\": {\n",
    "            **DefaultCfg.get_pulse(\"mux_reset2\"),\n",
    "            # \"length\": 10.0,\n",
    "            # \"gain\": 0.0\n",
    "        },\n",
    "        # \"reset\": \"pulse\",\n",
    "        # \"reset_pulse\": \"reset_red\",\n",
    "        \"reset\": \"two_pulse\",\n",
    "        \"reset_pulse1\": \"mux_reset1\",\n",
    "        \"reset_pulse2\": \"mux_reset2\",\n",
    "        # \"reset_pi_pulse\": \"pi_amp\",\n",
    "    },\n",
    "    \"adc\": {\n",
    "        \"relax_delay\": 0.0,  # us\n",
    "    },\n",
    "}"
   ]
  },
  {
   "cell_type": "code",
   "execution_count": null,
   "id": "13f5e707",
   "metadata": {},
   "outputs": [],
   "source": [
    "exp_cfg[\"sweep\"] =  make_sweep(0.0, 1.0, 101)\n",
    "cfg = make_cfg(exp_cfg, reps=1000, rounds=10)\n",
    "\n",
    "# zs.visualize_mist_pdr_mux_reset(soccfg, cfg, time_fly=0.6)\n",
    "pdrs, signals = zs.measure_mist_pdr_mux_reset(soc, soccfg, cfg)"
   ]
  },
  {
   "cell_type": "code",
   "execution_count": null,
   "id": "96c3a259",
   "metadata": {},
   "outputs": [],
   "source": [
    "filename = f\"{qub_name}_mist_pdr_mux_reset@{cur_A * 1e3:.3f}mA\"\n",
    "save_data(\n",
    "    filepath=os.path.join(database_path, filename),\n",
    "    x_info={\"name\": \"Drive Power (a.u.)\", \"unit\": \"a.u.\", \"values\": pdrs},\n",
    "    y_info={\"name\": \"W/O Reset\", \"unit\": \"None\", \"values\": np.array([0, 1])},\n",
    "    z_info={\"name\": \"Signal\", \"unit\": \"a.u.\", \"values\": signals},\n",
    "    comment=make_comment(cfg),\n",
    "    tag=\"MIST/pdr_reset\",\n",
    "    server_ip=data_host,\n",
    ")"
   ]
  },
  {
   "cell_type": "markdown",
   "id": "50902185",
   "metadata": {},
   "source": [
    "#### Abnormal"
   ]
  },
  {
   "cell_type": "code",
   "execution_count": null,
   "id": "a42601cb",
   "metadata": {},
   "outputs": [],
   "source": [
    "exp_cfg = {\n",
    "    \"dac\": {\n",
    "        \"res_pulse\": \"readout_rf\",\n",
    "        # \"res_pulse\": \"readout_dpm\",\n",
    "        \"qub_pulse\": {\n",
    "            **DefaultCfg.get_pulse(\"readout_rf\"),\n",
    "            \"post_delay\": 0.5,\n",
    "        },\n",
    "        \"reset_test_pulse1\": {\n",
    "            **DefaultCfg.get_pulse(\"mux_reset1\"),\n",
    "            # \"length\": 5.0,\n",
    "            \"gain\": 0.0,\n",
    "        },\n",
    "        \"reset_test_pulse2\": {\n",
    "            **DefaultCfg.get_pulse(\"mux_reset2\"),\n",
    "            # \"length\": 5.0,\n",
    "            # \"gain\": 0.0\n",
    "        },\n",
    "\n",
    "        # \"reset\": \"pulse\",\n",
    "        # \"reset_pulse\": \"reset_red\",\n",
    "        \"reset\": \"two_pulse\",\n",
    "        \"reset_pulse1\": \"mux_reset1\",\n",
    "        \"reset_pulse2\": \"mux_reset2\",\n",
    "        # \"reset_pi_pulse\": \"pi_amp\",\n",
    "\n",
    "        \"readout\": \"two_pulse\",\n",
    "        \"pre_res_pulse\": \"pi_amp\",\n",
    "    },\n",
    "    \"adc\": {\n",
    "        \"relax_delay\": 0.0,  # us\n",
    "    },\n",
    "}"
   ]
  },
  {
   "cell_type": "code",
   "execution_count": null,
   "id": "ddb74374",
   "metadata": {},
   "outputs": [],
   "source": [
    "exp_cfg[\"sweep\"] =  make_sweep(0.0, 1.0, 61)\n",
    "cfg = make_cfg(exp_cfg, reps=1000, rounds=100)\n",
    "\n",
    "zs.mist.visualize_abnormal_pdr_mux_reset(soccfg, cfg, time_fly=0.6)\n",
    "# pdrs, signals = zs.mist.measure_abnormal_pdr_mux_reset(soc, soccfg, cfg)"
   ]
  },
  {
   "cell_type": "code",
   "execution_count": null,
   "id": "56ece2e8",
   "metadata": {},
   "outputs": [],
   "source": [
    "zf.mist.analyze_abnormal_pdr_dep(pdrs, signals)"
   ]
  },
  {
   "cell_type": "code",
   "execution_count": null,
   "id": "8d84a7b1",
   "metadata": {},
   "outputs": [],
   "source": [
    "filename = f\"{qub_name}_abnormal_pdr_mux_reset@{cur_A * 1e3:.3f}mA\"\n",
    "save_data(\n",
    "    filepath=os.path.join(database_path, filename),\n",
    "    x_info={\"name\": \"Drive Power (a.u.)\", \"unit\": \"a.u.\", \"values\": pdrs},\n",
    "    y_info={\"name\": \"GE\", \"unit\": \"None\", \"values\": np.array([0,1])},\n",
    "    z_info={\"name\": \"Signal\", \"unit\": \"a.u.\", \"values\": signals},\n",
    "    comment=make_comment(cfg),\n",
    "    tag=\"MIST/pdr_reset_abnormal\",\n",
    "    server_ip=data_host,\n",
    ")"
   ]
  },
  {
   "cell_type": "markdown",
   "id": "23c8dbcd",
   "metadata": {},
   "source": [
    "## Flux Power depedence"
   ]
  },
  {
   "cell_type": "code",
   "execution_count": null,
   "id": "3ee37308",
   "metadata": {},
   "outputs": [],
   "source": [
    "exp_cfg = {\n",
    "    \"dac\": {\n",
    "        \"res_pulse\": \"readout_rf\",\n",
    "        \"qub_pulse\": {\n",
    "            **DefaultCfg.get_pulse(\"readout_rf\"),\n",
    "            \"post_delay\": 0.5,\n",
    "        },\n",
    "    },\n",
    "    \"adc\": {\n",
    "        \"relax_delay\": 5.0,  # us\n",
    "    },\n",
    "}"
   ]
  },
  {
   "cell_type": "code",
   "execution_count": null,
   "id": "36fc9c62",
   "metadata": {},
   "outputs": [],
   "source": [
    "exp_cfg[\"sweep\"] = {\n",
    "    \"flux\": make_sweep(-0.25e-3, -0.55e-3, 101),\n",
    "    \"gain\": make_sweep(0.0, 1.0, 51),\n",
    "}\n",
    "cfg = make_cfg(exp_cfg, reps=1000, rounds=100)\n",
    "\n",
    "flxs, pdrs, signals2D = zs.measure_mist_flx_pdr_dep2D(soc, soccfg, cfg)"
   ]
  },
  {
   "cell_type": "code",
   "execution_count": null,
   "id": "cfb37854",
   "metadata": {},
   "outputs": [],
   "source": [
    "filename = f\"{qub_name}_mist_flx_pdr@{cur_A * 1e3:.3f}mA\"\n",
    "save_data(\n",
    "    filepath=os.path.join(database_path, filename),\n",
    "    x_info={\"name\": \"Flux\", \"unit\": \"A\", \"values\": flxs},\n",
    "    y_info={\"name\": \"Drive Power (a.u.)\", \"unit\": \"a.u.\", \"values\": pdrs},\n",
    "    z_info={\"name\": \"Signal\", \"unit\": \"a.u.\", \"values\": signals2D.T},\n",
    "    comment=make_comment(cfg),\n",
    "    tag=\"MIST/flx_pdr\",\n",
    "    server_ip=data_host,\n",
    ")"
   ]
  },
  {
   "cell_type": "markdown",
   "id": "13ba08bc-aa01-4377-9ac0-dfa7f87e59bf",
   "metadata": {},
   "source": [
    "# Lookback2D"
   ]
  },
  {
   "cell_type": "code",
   "execution_count": null,
   "id": "cd2a07ee-6e98-4b43-a2a3-000dac4d5bae",
   "metadata": {
    "lines_to_next_cell": 2
   },
   "outputs": [],
   "source": [
    "exp_cfg = {\n",
    "    \"dac\": {\n",
    "        \"res_pulse\": {\n",
    "            \"style\": \"const\",\n",
    "            # \"style\": \"cosine\",\n",
    "            # \"style\": \"gauss\",\n",
    "            # \"sigma\": 9.5/4,  # us\n",
    "            # \"style\": \"flat_top\",\n",
    "            # \"raise_pulse\": {\"style\": \"gauss\", \"length\": 5.0, \"sigma\": 0.2},\n",
    "            # \"raise_pulse\": {\"style\": \"cosine\", \"length\": 3.0},\n",
    "            \"freq\": 6028,  # MHz\n",
    "            \"gain\": 30000,\n",
    "            \"length\": 1.0,  # us\n",
    "        },\n",
    "    },\n",
    "    \"adc\": {\n",
    "        \"ro_length\": 2.0,  # us\n",
    "        \"trig_offset\": 0.48,  # us\n",
    "    },\n",
    "    \"relax_delay\": 0.0,  # us\n",
    "}"
   ]
  },
  {
   "cell_type": "code",
   "execution_count": null,
   "id": "3100ea37-1a93-44f7-946b-d471e01a4d0d",
   "metadata": {},
   "outputs": [],
   "source": [
    "cfg = make_cfg(exp_cfg, rounds=1000)\n",
    "\n",
    "Ts, signals = zs.measure_lookback(soc, soccfg, cfg)"
   ]
  },
  {
   "cell_type": "code",
   "execution_count": null,
   "id": "e8179623-b744-44b2-b1c9-b39fecb26f3d",
   "metadata": {
    "lines_to_next_cell": 2
   },
   "outputs": [],
   "source": [
    "_ = zf.lookback_show(\n",
    "    Ts,\n",
    "    signals,\n",
    "    ratio=0.15,\n",
    "    plot_fit=True,\n",
    "    smooth=1.0,\n",
    "    pulse_cfg=cfg[\"dac\"][\"res_pulse\"],\n",
    ")"
   ]
  },
  {
   "cell_type": "code",
   "execution_count": null,
   "id": "48c461ed-702a-4126-9a20-887c7daf093b",
   "metadata": {},
   "outputs": [],
   "source": [
    "cfg = make_cfg(exp_cfg, rounds=1000)\n",
    "\n",
    "freqs = np.linspace(6020, 6030, 501)\n",
    "signals2D = []\n",
    "for f in tqdm(freqs):\n",
    "    cfg[\"dac\"][\"res_pulse\"][\"freq\"] = f\n",
    "    Ts, signals = zs.measure_lookback(soc, soccfg, cfg, progress=False)\n",
    "    signals2D.append(signals)\n",
    "signals2D = np.array(signals2D)"
   ]
  },
  {
   "cell_type": "code",
   "execution_count": null,
   "id": "c703b491-9620-493b-bce9-6aadc5d1390a",
   "metadata": {},
   "outputs": [],
   "source": [
    "cfg = make_cfg(exp_cfg, rounds=10000)\n",
    "cfg[\"dac\"][\"res_pulse\"][\"freq\"] = 6020\n",
    "\n",
    "pdrs = np.arange(3000, 30000, 1000)\n",
    "signals = []\n",
    "for p in tqdm(pdrs):\n",
    "    cfg[\"dac\"][\"res_pulse\"][\"gain\"] = p.item()\n",
    "    Ts, Is, Qs = zs.measure_lookback(soc, soccfg, cfg, progress=False)\n",
    "    signals.append(Is + 1j * Qs)\n",
    "signals = np.array(signals)"
   ]
  },
  {
   "cell_type": "code",
   "execution_count": null,
   "id": "ddcab123-e649-41c7-958f-57e3c14343d4",
   "metadata": {},
   "outputs": [],
   "source": [
    "filename = \"lookback2D\"\n",
    "save_data(\n",
    "    filepath=os.path.join(database_path, filename),\n",
    "    x_info={\"name\": \"Time\", \"unit\": \"s\", \"values\": Ts * 1e-6},\n",
    "    z_info={\"name\": \"Signal\", \"unit\": \"a.u.\", \"values\": signals},\n",
    "    y_info={\"name\": \"freq\", \"unit\": \"\", \"values\": freqs},\n",
    "    comment=make_comment(cfg),\n",
    "    tag=\"Lookback\",\n",
    "    server_ip=data_host,\n",
    ")"
   ]
  },
  {
   "cell_type": "markdown",
   "id": "3a27187f-7115-4d03-ace3-57fabf0737a5",
   "metadata": {},
   "source": [
    "# Circle fit"
   ]
  },
  {
   "cell_type": "code",
   "execution_count": null,
   "id": "c833408b",
   "metadata": {},
   "outputs": [],
   "source": [
    "res_name = \"Resonator_test\""
   ]
  },
  {
   "cell_type": "code",
   "execution_count": null,
   "id": "c5057fee-37dc-4aeb-92b3-85e799a5fa83",
   "metadata": {},
   "outputs": [],
   "source": [
    "exp_cfg = {\n",
    "    \"dac\": {\n",
    "        \"res_pulse\": {\n",
    "            \"style\": \"flat_top\",\n",
    "            \"raise_pulse\": {\"style\": \"gauss\", \"length\": 0.6, \"sigma\": 0.1},\n",
    "            \"gain\": 300,\n",
    "            \"nqz\": 2,\n",
    "            \"length\": 5.0,  # us\n",
    "            \"trig_offset\": 2.5,\n",
    "            \"ro_length\": 2.5,\n",
    "        },\n",
    "    },\n",
    "    \"relax_delay\": 0.0,  # us\n",
    "}"
   ]
  },
  {
   "cell_type": "code",
   "execution_count": null,
   "id": "2f929da2-b6fd-4a31-ac9b-ea5e9f11ce7d",
   "metadata": {},
   "outputs": [],
   "source": [
    "exp_cfg[\"sweep\"] = make_sweep(5900, 6100, 101)\n",
    "cfg = make_cfg(exp_cfg, reps=100, rounds=10)\n",
    "\n",
    "fpts, signals = zs.measure_res_freq(soc, soccfg, cfg)"
   ]
  },
  {
   "cell_type": "code",
   "execution_count": null,
   "id": "501463ca-6fb1-49c3-ac8d-0493fc368b85",
   "metadata": {},
   "outputs": [],
   "source": [
    "num1, num2 = 5, 5\n",
    "slope1, _ = zf.phase_analyze(fpts[:num1], signals[:num1])\n",
    "slope2, _ = zf.phase_analyze(fpts[-num2:], signals[-num2:])\n",
    "slope = (slope1 + slope2) / 2"
   ]
  },
  {
   "cell_type": "code",
   "execution_count": null,
   "id": "2282de9f-8bad-4a04-af31-8aa343d0a530",
   "metadata": {},
   "outputs": [],
   "source": [
    "c_signals = zf.rotate_phase(fpts, signals, -slope)\n",
    "plt.plot(c_signals.real, c_signals.imag, marker=\"o\")"
   ]
  },
  {
   "cell_type": "code",
   "execution_count": null,
   "id": "d2726df7-d45c-4f7c-abf3-b1f6d88341a6",
   "metadata": {},
   "outputs": [],
   "source": [
    "r_f = zf.freq_analyze(fpts, c_signals, asym=True, max_contrast=True)\n",
    "r_f"
   ]
  },
  {
   "cell_type": "code",
   "execution_count": null,
   "id": "9f2315b2-6c56-4305-b537-4b1cf09fa139",
   "metadata": {},
   "outputs": [],
   "source": [
    "filename = f\"{res_name}_freq@{cur_A * 1e3:.3f}mA\"\n",
    "save_data(\n",
    "    filepath=os.path.join(database_path, filename),\n",
    "    x_info={\"name\": \"Frequency\", \"unit\": \"Hz\", \"values\": fpts * 1e6},\n",
    "    z_info={\"name\": \"Signal\", \"unit\": \"a.u.\", \"values\": signals},\n",
    "    comment=make_comment(cfg, f\"resonator frequency = {r_f}MHz\"),\n",
    "    # comment=make_comment(cfg),\n",
    "    tag=\"OneTone/single\",\n",
    "    server_ip=data_host,\n",
    ")"
   ]
  }
 ],
 "metadata": {
  "kernelspec": {
   "display_name": "axelenv",
   "language": "python",
   "name": "python3"
  },
  "language_info": {
   "codemirror_mode": {
    "name": "ipython",
    "version": 3
   },
   "file_extension": ".py",
   "mimetype": "text/x-python",
   "name": "python",
   "nbconvert_exporter": "python",
   "pygments_lexer": "ipython3",
   "version": "3.8.20"
  }
 },
 "nbformat": 4,
 "nbformat_minor": 5
}
