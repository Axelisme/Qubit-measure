{
 "cells": [
  {
   "cell_type": "code",
   "execution_count": null,
   "id": "8839561e",
   "metadata": {},
   "outputs": [],
   "source": [
    "%load_ext autoreload\n",
    "import os\n",
    "import sys\n",
    "import h5py as h5\n",
    "import numpy as np\n",
    "import pandas as pd\n",
    "import plotly.graph_objects as go\n",
    "\n",
    "cwd = os.getcwd()\n",
    "sys.path.append(os.path.dirname(cwd))\n",
    "\n",
    "%autoreload 2\n",
    "from zcu_tools import load_data  # noqa: E402\n",
    "from zcu_tools.analysis.fluxdep import (  # noqa: E402\n",
    "    InteractiveLines,\n",
    "    InteractiveSelector,\n",
    "    calculate_energy,\n",
    "    energy2transition,\n",
    "    preprocess_data,\n",
    "    search_in_database,\n",
    "    spectrum_analyze,\n",
    "    fit_spectrum\n",
    ")"
   ]
  },
  {
   "cell_type": "code",
   "execution_count": null,
   "id": "d834a1e8",
   "metadata": {},
   "outputs": [],
   "source": [
    "qub_name = \"S001\"\n",
    "\n",
    "cflx = None\n",
    "eflx = None\n",
    "s_points = {}"
   ]
  },
  {
   "cell_type": "code",
   "execution_count": null,
   "id": "1a604ecb",
   "metadata": {},
   "outputs": [],
   "source": [
    "# load_path = \"result/2DQ9/params.csv\"\n",
    "# spect = pd.read_csv(load_path)\n",
    "# spect = spect[spect[\"qubit\"] == qub_name]\n",
    "\n",
    "# cflx = spect[\"cflx\"].values[0]\n",
    "# eflx = cflx + spect[\"Period\"].values[0] / 2\n",
    "# sp_params = (spect[\"EJ\"].values[0], spect[\"EC\"].values[0], spect[\"EL\"].values[0])\n",
    "# cflx, eflx, sp_params"
   ]
  },
  {
   "cell_type": "markdown",
   "id": "caf72611",
   "metadata": {},
   "source": [
    "# Load Spectrum"
   ]
  },
  {
   "cell_type": "code",
   "execution_count": null,
   "id": "04e0afc8",
   "metadata": {},
   "outputs": [],
   "source": [
    "spect_path = \"../Database/S001/2025/02/Data_0222/S001_TwoTone_Flux_001.hdf5\"\n",
    "spectrum, fpts, flxs = load_data(spect_path, server_ip=\"100.105.52.95\", port=4999)\n",
    "flxs, fpts, spectrum = preprocess_data(flxs, fpts, spectrum)\n",
    "\n",
    "s_spectrum = np.abs(spectrum - np.mean(spectrum, axis=0, keepdims=True))\n",
    "s_spectrum /= np.std(s_spectrum, axis=0, keepdims=True)"
   ]
  },
  {
   "cell_type": "code",
   "execution_count": null,
   "id": "3b04823d",
   "metadata": {},
   "outputs": [],
   "source": [
    "%matplotlib widget\n",
    "actLine = InteractiveLines(s_spectrum**2, flxs, fpts, cflx, eflx)"
   ]
  },
  {
   "cell_type": "code",
   "execution_count": null,
   "id": "240c6e16",
   "metadata": {},
   "outputs": [],
   "source": [
    "cflx, eflx = actLine.get_positions()\n",
    "halfp = eflx - cflx\n",
    "cflx, eflx, halfp"
   ]
  },
  {
   "cell_type": "code",
   "execution_count": null,
   "id": "53de9ad6",
   "metadata": {},
   "outputs": [],
   "source": [
    "flxs = (flxs - cflx) / (2 * halfp) + 0.5"
   ]
  },
  {
   "cell_type": "code",
   "execution_count": null,
   "id": "37b37cca",
   "metadata": {},
   "outputs": [],
   "source": [
    "%matplotlib widget\n",
    "s_flxs, s_fpts = spectrum_analyze(flxs, fpts, spectrum, 8.0)\n",
    "\n",
    "actSel = InteractiveSelector(s_spectrum, flxs, fpts, s_flxs, s_fpts)"
   ]
  },
  {
   "cell_type": "code",
   "execution_count": null,
   "id": "110fab80",
   "metadata": {},
   "outputs": [],
   "source": [
    "s_flxs, s_fpts, _ = actSel.get_selected_points()"
   ]
  },
  {
   "cell_type": "code",
   "execution_count": null,
   "id": "191a53cc",
   "metadata": {},
   "outputs": [],
   "source": [
    "name = spect_path.split(\"/\")[-1]\n",
    "s_points.update({name: {\n",
    "    \"cflx\": cflx,\n",
    "    \"spectrum\": (flxs, fpts, spectrum),\n",
    "    \"points\": (s_flxs, s_fpts)\n",
    "}})\n",
    "s_points.keys()"
   ]
  },
  {
   "cell_type": "code",
   "execution_count": null,
   "id": "963d19f9",
   "metadata": {},
   "outputs": [],
   "source": [
    "save_path = \"../result/S001/spect.hdf5\"\n",
    "os.makedirs(os.path.dirname(save_path), exist_ok=True)\n",
    "with h5.File(save_path, \"w\") as f:\n",
    "    for path, val in s_points.items():\n",
    "        grp = f.create_group(path)\n",
    "        grp.create_dataset(\"cflx\", data=val[\"cflx\"])\n",
    "        spect_grp = grp.create_group(\"spectrum\")\n",
    "        spect_grp.create_dataset(\"flxs\", data=val[\"spectrum\"][0])\n",
    "        spect_grp.create_dataset(\"fpts\", data=val[\"spectrum\"][1])\n",
    "        spect_grp.create_dataset(\"data\", data=val[\"spectrum\"][2])\n",
    "        points_grp = grp.create_group(\"points\")\n",
    "        points_grp.create_dataset(\"flxs\", data=val[\"points\"][0])\n",
    "        points_grp.create_dataset(\"fpts\", data=val[\"points\"][1])"
   ]
  },
  {
   "cell_type": "code",
   "execution_count": null,
   "id": "9ac3e2f6",
   "metadata": {},
   "outputs": [],
   "source": [
    "load_path = \"../result/S001/spect.hdf5\"\n",
    "s_points = {}\n",
    "with h5.File(load_path, \"r\") as f:\n",
    "    for key in f.keys():\n",
    "        grp = f[key]\n",
    "        cflx = grp[\"cflx\"][()]\n",
    "        spectrum = (\n",
    "            grp[\"spectrum\"][\"flxs\"][()],\n",
    "            grp[\"spectrum\"][\"fpts\"][()],\n",
    "            grp[\"spectrum\"][\"data\"][()]\n",
    "        )\n",
    "        points = (\n",
    "            grp[\"points\"][\"flxs\"][()],\n",
    "            grp[\"points\"][\"fpts\"][()]\n",
    "        )\n",
    "        s_points.update({key: {\n",
    "            \"cflx\": cflx,\n",
    "            \"spectrum\": spectrum,\n",
    "            \"points\": points\n",
    "        }})\n",
    "s_points.keys()"
   ]
  },
  {
   "cell_type": "markdown",
   "id": "b9538bfb",
   "metadata": {},
   "source": [
    "# Align cflx"
   ]
  },
  {
   "cell_type": "code",
   "execution_count": null,
   "id": "3fe72783",
   "metadata": {},
   "outputs": [],
   "source": [
    "target_cflx = list(s_points.values())[-1][\"cflx\"]\n",
    "for spect in s_points.values():\n",
    "    shift = target_cflx - spect[\"cflx\"]\n",
    "    spect[\"cflx\"] += shift\n",
    "    spect[\"spectrum\"] = (spect[\"spectrum\"][0] + shift, *spect[\"spectrum\"][1:])\n",
    "    spect[\"points\"] = (spect[\"points\"][0] + shift, *spect[\"points\"][1:])"
   ]
  },
  {
   "cell_type": "markdown",
   "id": "95966671",
   "metadata": {},
   "source": [
    "# Search in Database"
   ]
  },
  {
   "cell_type": "code",
   "execution_count": null,
   "id": "9d7d5ad7",
   "metadata": {},
   "outputs": [],
   "source": [
    "s_flxs = np.concatenate([s_points[k][\"points\"][0] for k in s_points.keys()])\n",
    "s_fpts = np.concatenate([s_points[k][\"points\"][1] for k in s_points.keys()])\n",
    "flx_bound = (\n",
    "    np.nanmin([np.nanmin(s_points[k][\"spectrum\"][0]) for k in s_points.keys()]),\n",
    "    np.nanmax([np.nanmax(s_points[k][\"spectrum\"][0]) for k in s_points.keys()])\n",
    ")\n",
    "flxs = np.linspace(flx_bound[0], flx_bound[1], 500)\n",
    "fpt_bound = (\n",
    "    np.nanmin([np.nanmin(s_points[k][\"spectrum\"][1]) for k in s_points.keys()]),\n",
    "    np.nanmax([np.nanmax(s_points[k][\"spectrum\"][1]) for k in s_points.keys()])\n",
    ")\n",
    "fpts = np.linspace(fpt_bound[0], fpt_bound[1], 500)"
   ]
  },
  {
   "cell_type": "code",
   "execution_count": null,
   "id": "808570ff",
   "metadata": {},
   "outputs": [],
   "source": [
    "allows = {\n",
    "    \"transitions\": [(0, 1), (0, 2), (0, 3), (1, 2), (1, 3)],\n",
    "    # \"blue side\": [(0, 1), (0, 2), (0, 3), (1, 2), (1, 3)],\n",
    "    # \"red side\": [(0, 3)],\n",
    "    # \"mirror\": [(0, 1), (0, 2), (1, 3)],\n",
    "    # \"transitions2\": [(0, 3), (1, 2), (1, 3)],\n",
    "    # \"blue side2\": [(1, 2)],\n",
    "    # \"red side2\": [(0, 1), (0, 2), (0, 3), (1, 2), (1, 3)],\n",
    "    # \"mirror2\": [(0, 3)],\n",
    "    \"r_f\": 7.4876,\n",
    "    # \"sample_f\": 6.88128,\n",
    "}"
   ]
  },
  {
   "cell_type": "code",
   "execution_count": null,
   "id": "75211d85",
   "metadata": {
    "lines_to_next_cell": 2
   },
   "outputs": [],
   "source": [
    "best_params, _, _ = search_in_database(\n",
    "    s_flxs, s_fpts, \"../database/fluxonium_1.h5\", allows\n",
    ")\n",
    "best_params"
   ]
  },
  {
   "cell_type": "code",
   "execution_count": null,
   "id": "be33fcf8",
   "metadata": {},
   "outputs": [],
   "source": [
    "f_energies = calculate_energy(flxs, *best_params, cutoff=40)"
   ]
  },
  {
   "cell_type": "code",
   "execution_count": null,
   "id": "b10f5c7f",
   "metadata": {},
   "outputs": [],
   "source": [
    "fig = go.Figure()\n",
    "\n",
    "for spect in s_points.values():\n",
    "    # 取得對應數據和範圍\n",
    "    data = spect[\"spectrum\"][2]\n",
    "    flx_mask = np.any(~np.isnan(data), axis=0)\n",
    "    fpt_mask = np.any(~np.isnan(data), axis=1)\n",
    "    data = data[fpt_mask, :][:, flx_mask]\n",
    "    data = np.abs(data - np.mean(data, axis=0, keepdims=True))\n",
    "    data /= np.std(data, axis=0, keepdims=True)\n",
    "\n",
    "    # 使用 imshow 繪製，指定範圍\n",
    "    fig.add_trace(\n",
    "        go.Heatmap(\n",
    "            z=data,\n",
    "            x=spect[\"spectrum\"][0][flx_mask],\n",
    "            y=spect[\"spectrum\"][1][fpt_mask],\n",
    "            colorscale=\"Viridis\",\n",
    "            showscale=False,\n",
    "        )\n",
    "    )\n",
    "\n",
    "s_allows = allows\n",
    "fs, _, labels = energy2transition(f_energies, s_allows)\n",
    "for i, label in enumerate(labels):\n",
    "    fig.add_trace(go.Scatter(x=flxs, y=fs[:, i], mode=\"lines\", name=label))\n",
    "\n",
    "fig.add_trace(go.Scatter(x=s_flxs, y=s_fpts, mode=\"markers\", marker=dict(color=\"red\", size=3)))\n",
    "\n",
    "fig.update_layout(\n",
    "    xaxis=dict(title=\"Flux\"),\n",
    "    yaxis=dict(title=\"Frequency\"),\n",
    "    legend=dict(x=1, y=0.5),\n",
    ")\n",
    "# set x and y axis range\n",
    "fig.update_xaxes(range=[flx_bound[0], flx_bound[1]])\n",
    "fig.update_yaxes(range=[fpt_bound[0], fpt_bound[1]])\n",
    "\n",
    "fig.show()"
   ]
  },
  {
   "cell_type": "markdown",
   "id": "6cc9f5f9",
   "metadata": {},
   "source": [
    "# Scipy"
   ]
  },
  {
   "cell_type": "code",
   "execution_count": null,
   "id": "7893d678",
   "metadata": {},
   "outputs": [],
   "source": [
    "EJb = (2.0, 10.0)\n",
    "ECb = (0.5, 3.0)\n",
    "ELb = (0.1, 2.0)\n",
    "# EJb = (3.0,8.0)\n",
    "# ECb = (0.5, 2.5)\n",
    "# ELb = (0.1, 1.5)\n",
    "\n",
    "# allows = {\n",
    "#     \"transitions\": [(0, 1), (2, 3)],\n",
    "#     # \"transitions\": [(0, 1)],\n",
    "#     \"mirror\": [],\n",
    "#     \"sample_f\": 6.88128,\n",
    "# }"
   ]
  },
  {
   "cell_type": "code",
   "execution_count": null,
   "id": "f361cf6e",
   "metadata": {},
   "outputs": [],
   "source": [
    "# fit the spectrumData\n",
    "sp_params = fit_spectrum(s_flxs, s_fpts, best_params, allows, (EJb, ECb, ELb))\n",
    "# sp_params = fit_spectrum(s_flxs, s_fpts, sp_params, allows, (EJb, ECb, ELb))\n",
    "\n",
    "# print the results\n",
    "print(\"Fitted params:\", *sp_params)"
   ]
  },
  {
   "cell_type": "code",
   "execution_count": null,
   "id": "56f1996c",
   "metadata": {},
   "outputs": [],
   "source": [
    "# sp_params = (8.51795441, 0.9041685, 1.09072694)\n",
    "f_energies = calculate_energy(flxs, *sp_params, 40)\n",
    "# f_energies = calculate_energy(flxs, 8.51, 0.904, 1.09, 60)"
   ]
  },
  {
   "cell_type": "code",
   "execution_count": null,
   "id": "97765bd7",
   "metadata": {},
   "outputs": [],
   "source": [
    "fig = go.Figure()\n",
    "\n",
    "for spect in s_points.values():\n",
    "    # 取得對應數據和範圍\n",
    "    data = spect[\"spectrum\"][2]\n",
    "    flx_mask = np.any(~np.isnan(data), axis=0)\n",
    "    fpt_mask = np.any(~np.isnan(data), axis=1)\n",
    "    data = data[fpt_mask, :][:, flx_mask]\n",
    "    data = np.abs(data - np.mean(data, axis=0, keepdims=True))\n",
    "    data /= np.std(data, axis=0, keepdims=True)\n",
    "\n",
    "    # 使用 imshow 繪製，指定範圍\n",
    "    fig.add_trace(\n",
    "        go.Heatmap(\n",
    "            z=data,\n",
    "            x=spect[\"spectrum\"][0][flx_mask],\n",
    "            y=spect[\"spectrum\"][1][fpt_mask],\n",
    "            colorscale=\"Viridis\",\n",
    "            showscale=False,\n",
    "        )\n",
    "    )\n",
    "\n",
    "s_allows = allows\n",
    "fs, _, labels = energy2transition(f_energies, s_allows)\n",
    "for i, label in enumerate(labels):\n",
    "    fig.add_trace(go.Scatter(x=flxs, y=fs[:, i], mode=\"lines\", name=label))\n",
    "\n",
    "fig.add_trace(go.Scatter(x=s_flxs, y=s_fpts, mode=\"markers\", marker=dict(color=\"red\", size=3)))\n",
    "\n",
    "fig.update_layout(\n",
    "    title=f\"EJ/EC/EL = ({sp_params[0]:.2f}, {sp_params[1]:.2f}, {sp_params[2]:.2f})\",\n",
    "    title_x=0.5,\n",
    "    xaxis=dict(title=\"Flux\"),\n",
    "    yaxis=dict(title=\"Frequency\"),\n",
    "    legend=dict(x=1, y=0.5),\n",
    ")\n",
    "\n",
    "# set x and y axis range\n",
    "fig.update_xaxes(range=[flx_bound[0], flx_bound[1]])\n",
    "fig.update_yaxes(range=[fpt_bound[0], fpt_bound[1]])\n",
    "\n",
    "fig.show()"
   ]
  },
  {
   "cell_type": "code",
   "execution_count": null,
   "id": "d124f845",
   "metadata": {},
   "outputs": [],
   "source": [
    "# dump the data\n",
    "savepath = \"../result/S001/params.csv\"\n",
    "\n",
    "df = pd.DataFrame(\n",
    "    {\n",
    "        \"Qubit\": [qub_name],\n",
    "        \"Half flux\": [cflx],\n",
    "        \"Period\": [2*(eflx - cflx)],\n",
    "        \"EJ\": [sp_params[0]],\n",
    "        \"EC\": [sp_params[1]],\n",
    "        \"EL\": [sp_params[2]],\n",
    "    }\n",
    ")\n",
    "\n",
    "if os.path.exists(savepath):\n",
    "    old = pd.read_csv(savepath)\n",
    "    old = old[old[\"Qubit\"] != qub_name]\n",
    "    df = pd.concat([old, df], ignore_index=True)\n",
    "df.to_csv(savepath, header=True, index=False)"
   ]
  },
  {
   "cell_type": "code",
   "execution_count": null,
   "id": "236fe1c4",
   "metadata": {},
   "outputs": [],
   "source": []
  }
 ],
 "metadata": {
  "jupytext": {
   "cell_metadata_filter": "-all",
   "formats": "ipynb,py:percent"
  },
  "kernelspec": {
   "display_name": "Python 3",
   "language": "python",
   "name": "python3"
  },
  "language_info": {
   "codemirror_mode": {
    "name": "ipython",
    "version": 3
   },
   "file_extension": ".py",
   "mimetype": "text/x-python",
   "name": "python",
   "nbconvert_exporter": "python",
   "pygments_lexer": "ipython3",
   "version": "3.12.9"
  }
 },
 "nbformat": 4,
 "nbformat_minor": 5
}
