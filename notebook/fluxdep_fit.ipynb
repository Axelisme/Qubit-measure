{
 "cells": [
  {
   "cell_type": "code",
   "execution_count": null,
   "id": "8839561e",
   "metadata": {},
   "outputs": [],
   "source": [
    "%load_ext autoreload\n",
    "import os\n",
    "import h5py as h5\n",
    "import numpy as np\n",
    "import pandas as pd\n",
    "\n",
    "%autoreload 2\n",
    "from zcu_tools import load_data  # noqa: E402\n",
    "from zcu_tools.analysis.fluxdep import (  # noqa: E402\n",
    "    InteractiveLines,\n",
    "    InteractiveSelector,\n",
    "    VisualizeSpet,\n",
    "    calculate_energy,\n",
    "    preprocess_data,\n",
    "    search_in_database,\n",
    "    fit_spectrum,\n",
    ")"
   ]
  },
  {
   "cell_type": "code",
   "execution_count": null,
   "id": "d834a1e8",
   "metadata": {},
   "outputs": [],
   "source": [
    "qub_name = \"S001\"\n",
    "\n",
    "cflx = None\n",
    "eflx = None\n",
    "s_spects = {}"
   ]
  },
  {
   "cell_type": "code",
   "execution_count": null,
   "id": "1a604ecb",
   "metadata": {},
   "outputs": [],
   "source": [
    "# load_path = \"result/2DQ9/params.csv\"\n",
    "# spect = pd.read_csv(load_path)\n",
    "# spect = spect[spect[\"qubit\"] == qub_name]\n",
    "\n",
    "# cflx = spect[\"cflx\"].values[0]\n",
    "# eflx = cflx + spect[\"Period\"].values[0] / 2\n",
    "# sp_params = (spect[\"EJ\"].values[0], spect[\"EC\"].values[0], spect[\"EL\"].values[0])\n",
    "# cflx, eflx, sp_params"
   ]
  },
  {
   "cell_type": "markdown",
   "id": "caf72611",
   "metadata": {},
   "source": [
    "# Load Spectrum"
   ]
  },
  {
   "cell_type": "code",
   "execution_count": null,
   "id": "04e0afc8",
   "metadata": {},
   "outputs": [],
   "source": [
    "# spect_path = \"../Database/DT006/2025/03/Data_0325/DT006_TwoTone_flux_007.hdf5\"\n",
    "spect_path = \"../Database/S001/2025/02/Data_0222/S001_TwoTone_Flux_001.hdf5\"\n",
    "spectrum, fpts, flxs = load_data(spect_path, server_ip=\"100.105.52.95\", port=4999)\n",
    "flxs, fpts, spectrum = preprocess_data(flxs, fpts, spectrum)\n",
    "\n",
    "s_spectrum = np.abs(spectrum - np.mean(spectrum, axis=0, keepdims=True))\n",
    "s_spectrum /= np.std(s_spectrum, axis=0, keepdims=True)"
   ]
  },
  {
   "cell_type": "code",
   "execution_count": null,
   "id": "3b04823d",
   "metadata": {},
   "outputs": [],
   "source": [
    "%matplotlib widget\n",
    "actLine = InteractiveLines(s_spectrum, flxs, fpts, cflx, eflx)"
   ]
  },
  {
   "cell_type": "code",
   "execution_count": null,
   "id": "240c6e16",
   "metadata": {},
   "outputs": [],
   "source": [
    "cflx, eflx = actLine.get_positions()\n",
    "halfp = abs(eflx - cflx)\n",
    "cflx, eflx, halfp"
   ]
  },
  {
   "cell_type": "code",
   "execution_count": null,
   "id": "53de9ad6",
   "metadata": {},
   "outputs": [],
   "source": [
    "flxs = (flxs - cflx) / (2 * halfp) + 0.5"
   ]
  },
  {
   "cell_type": "code",
   "execution_count": null,
   "id": "37b37cca",
   "metadata": {},
   "outputs": [],
   "source": [
    "%matplotlib widget\n",
    "actSel = InteractiveSelector(spectrum, flxs, fpts, threshold=5.0)"
   ]
  },
  {
   "cell_type": "code",
   "execution_count": null,
   "id": "110fab80",
   "metadata": {},
   "outputs": [],
   "source": [
    "s_flxs, s_fpts = actSel.get_positions()"
   ]
  },
  {
   "cell_type": "code",
   "execution_count": null,
   "id": "191a53cc",
   "metadata": {},
   "outputs": [],
   "source": [
    "name = spect_path.split(\"/\")[-1]\n",
    "s_spects.update(\n",
    "    {\n",
    "        name: {\n",
    "            \"cflx\": cflx,\n",
    "            \"spectrum\": (flxs, fpts, spectrum),\n",
    "            \"points\": (s_flxs, s_fpts),\n",
    "        }\n",
    "    }\n",
    ")\n",
    "s_spects.keys()"
   ]
  },
  {
   "cell_type": "markdown",
   "id": "ad499474",
   "metadata": {},
   "source": [
    "# Save & Load"
   ]
  },
  {
   "cell_type": "code",
   "execution_count": null,
   "id": "963d19f9",
   "metadata": {},
   "outputs": [],
   "source": [
    "save_path = f\"../result/{qub_name}/spect.hdf5\"\n",
    "os.makedirs(os.path.dirname(save_path), exist_ok=True)\n",
    "with h5.File(save_path, \"x\") as f:\n",
    "    for path, val in s_spects.items():\n",
    "        grp = f.create_group(path)\n",
    "        grp.create_dataset(\"cflx\", data=val[\"cflx\"])\n",
    "        spect_grp = grp.create_group(\"spectrum\")\n",
    "        spect_grp.create_dataset(\"flxs\", data=val[\"spectrum\"][0])\n",
    "        spect_grp.create_dataset(\"fpts\", data=val[\"spectrum\"][1])\n",
    "        spect_grp.create_dataset(\"data\", data=val[\"spectrum\"][2])\n",
    "        points_grp = grp.create_group(\"points\")\n",
    "        points_grp.create_dataset(\"flxs\", data=val[\"points\"][0])\n",
    "        points_grp.create_dataset(\"fpts\", data=val[\"points\"][1])"
   ]
  },
  {
   "cell_type": "code",
   "execution_count": null,
   "id": "9ac3e2f6",
   "metadata": {},
   "outputs": [],
   "source": [
    "load_path = f\"../result/{qub_name}/spect.hdf5\"\n",
    "s_spects = {}\n",
    "with h5.File(load_path, \"r\") as f:\n",
    "    for key in f.keys():\n",
    "        grp = f[key]\n",
    "        cflx = grp[\"cflx\"][()]\n",
    "        spectrum = (\n",
    "            grp[\"spectrum\"][\"flxs\"][()],\n",
    "            grp[\"spectrum\"][\"fpts\"][()],\n",
    "            grp[\"spectrum\"][\"data\"][()],\n",
    "        )\n",
    "        points = (grp[\"points\"][\"flxs\"][()], grp[\"points\"][\"fpts\"][()])\n",
    "        s_spects.update({key: {\"cflx\": cflx, \"spectrum\": spectrum, \"points\": points}})\n",
    "s_spects.keys()"
   ]
  },
  {
   "cell_type": "markdown",
   "id": "b9538bfb",
   "metadata": {},
   "source": [
    "# Align cflx"
   ]
  },
  {
   "cell_type": "code",
   "execution_count": null,
   "id": "3fe72783",
   "metadata": {},
   "outputs": [],
   "source": [
    "t_cflx = list(s_spects.values())[-1][\"cflx\"]\n",
    "for spect in s_spects.values():\n",
    "    shift = t_cflx - spect[\"cflx\"]\n",
    "    spect[\"cflx\"] += shift\n",
    "    spect[\"spectrum\"] = (spect[\"spectrum\"][0] + shift, *spect[\"spectrum\"][1:])\n",
    "    spect[\"points\"] = (spect[\"points\"][0] + shift, *spect[\"points\"][1:])"
   ]
  },
  {
   "cell_type": "code",
   "execution_count": null,
   "id": "9d7d5ad7",
   "metadata": {},
   "outputs": [],
   "source": [
    "s_flxs = np.concatenate([s_spects[k][\"points\"][0] for k in s_spects.keys()])\n",
    "s_fpts = np.concatenate([s_spects[k][\"points\"][1] for k in s_spects.keys()])\n",
    "flx_bound = (\n",
    "    np.nanmin([np.nanmin(s_spects[k][\"spectrum\"][0]) for k in s_spects.keys()]),\n",
    "    np.nanmax([np.nanmax(s_spects[k][\"spectrum\"][0]) for k in s_spects.keys()]),\n",
    ")\n",
    "flxs = np.linspace(flx_bound[0], flx_bound[1], 500)\n",
    "fpt_bound = (\n",
    "    np.nanmin([np.nanmin(s_spects[k][\"spectrum\"][1]) for k in s_spects.keys()]),\n",
    "    np.nanmax([np.nanmax(s_spects[k][\"spectrum\"][1]) for k in s_spects.keys()]),\n",
    ")\n",
    "fpts = np.linspace(fpt_bound[0], fpt_bound[1], 500)"
   ]
  },
  {
   "cell_type": "markdown",
   "id": "95966671",
   "metadata": {},
   "source": [
    "# Search in Database"
   ]
  },
  {
   "cell_type": "code",
   "execution_count": null,
   "id": "808570ff",
   "metadata": {},
   "outputs": [],
   "source": [
    "# allows = { # DT006\n",
    "#     # \"transitions\": [\n",
    "#     #     (0, 2),\n",
    "#     #     (0, 3),\n",
    "#     #     (0, 4),\n",
    "#     #     (0, 5),\n",
    "#     #     (1, 3),\n",
    "#     #     (1, 8),\n",
    "#     #     (2, 3),\n",
    "#     #     (2, 8),\n",
    "#     # ],\n",
    "#     # \"blue side\": [(0, 1), (0, 2), (0, 3), (1, 2), (1, 3)],\n",
    "#     # \"red side\": [(0, 2), (1, 12), (2, 12)],\n",
    "#     # \"transitions2\": [(2, 11)],\n",
    "#     # \"blue side2\": [(2, 7)],\n",
    "#     # \"red side2\": [(1, 2)],\n",
    "#     \"r_f\": 7.19913,\n",
    "# }\n",
    "allows = {  # S001\n",
    "    \"transitions\": [(0, 1), (0, 2), (0, 3), (1, 2), (1, 3)],\n",
    "    \"red side\": [(0, 4), (0, 3), (1, 5)],\n",
    "    \"r_f\": 7.48742,\n",
    "}"
   ]
  },
  {
   "cell_type": "code",
   "execution_count": null,
   "id": "75211d85",
   "metadata": {
    "lines_to_next_cell": 2
   },
   "outputs": [],
   "source": [
    "best_params = search_in_database(\n",
    "    s_flxs, s_fpts, \"../simulation_data/fluxonium_1.h5\", allows\n",
    ")\n",
    "best_params"
   ]
  },
  {
   "cell_type": "code",
   "execution_count": null,
   "id": "be33fcf8",
   "metadata": {},
   "outputs": [],
   "source": [
    "energies = calculate_energy(flxs, *best_params, cutoff=40, evals_count=15)"
   ]
  },
  {
   "cell_type": "code",
   "execution_count": null,
   "id": "e91251af",
   "metadata": {},
   "outputs": [],
   "source": [
    "v_allows = {\n",
    "    **allows,\n",
    "    # \"transitions\": [(i, j) for i in [0, 1, 2] for j in range(i + 1, 15)],\n",
    "    # \"transitions2\": [(i, j) for i in [0, 1, 2] for j in range(i + 1, 15)],\n",
    "    # \"blue side\": [(i, j) for i in [0, 1, 2] for j in range(i + 1, 15)],\n",
    "    # \"red side\": [(i, j) for i in [0, 1, 2] for j in range(i + 1, 15)],\n",
    "    # \"blue side2\": [(i, j) for i in [0, 1, 2] for j in range(i + 1, 15)],\n",
    "    # \"red side2\": [(i, j) for i in [0, 1, 2] for j in range(i + 1, 15)],\n",
    "    # \"r_f\": 7.48742,\n",
    "}"
   ]
  },
  {
   "cell_type": "code",
   "execution_count": null,
   "id": "6dd66e1c",
   "metadata": {},
   "outputs": [],
   "source": [
    "vs = VisualizeSpet(s_spects, s_flxs, s_fpts, flxs, energies, v_allows)\n",
    "fig = vs.create_figure()\n",
    "fig.update_layout(\n",
    "    title=f\"EJ/EC/EL = ({best_params[0]:.2f}, {best_params[1]:.2f}, {best_params[2]:.2f})\",\n",
    "    title_x=0.5,\n",
    ")\n",
    "fig.show()"
   ]
  },
  {
   "cell_type": "markdown",
   "id": "6cc9f5f9",
   "metadata": {},
   "source": [
    "# Scipy"
   ]
  },
  {
   "cell_type": "code",
   "execution_count": null,
   "id": "7893d678",
   "metadata": {},
   "outputs": [],
   "source": [
    "# EJb = (2.0, 6.0)\n",
    "# ECb = (0.8, 2.0)\n",
    "# ELb = (0.01, 0.2)\n",
    "EJb = (3.0, 15.0)\n",
    "ECb = (0.2, 2.0)\n",
    "ELb = (0.5, 2.0)"
   ]
  },
  {
   "cell_type": "code",
   "execution_count": null,
   "id": "f361cf6e",
   "metadata": {},
   "outputs": [],
   "source": [
    "# fit the spectrumData\n",
    "sp_params = fit_spectrum(s_flxs, s_fpts, best_params, allows, (EJb, ECb, ELb))\n",
    "# sp_params = fit_spectrum(s_flxs, s_fpts, sp_params, allows, (EJb, ECb, ELb))\n",
    "\n",
    "# print the results\n",
    "print(\"Fitted params:\", *sp_params)"
   ]
  },
  {
   "cell_type": "code",
   "execution_count": null,
   "id": "56f1996c",
   "metadata": {},
   "outputs": [],
   "source": [
    "energies = calculate_energy(flxs, *sp_params, 40, 15)"
   ]
  },
  {
   "cell_type": "code",
   "execution_count": null,
   "id": "a89652ed",
   "metadata": {},
   "outputs": [],
   "source": [
    "v_allows = {\n",
    "    **allows,\n",
    "    # \"transitions\": [(i, j) for i in [0, 1, 2] for j in range(i + 1, 15)],\n",
    "    # \"transitions2\": [(i, j) for i in [0, 1, 2] for j in range(i + 1, 15)],\n",
    "    # \"blue side\": [(i, j) for i in [0, 1, 2] for j in range(i + 1, 15)],\n",
    "    # \"red side\": [(i, j) for i in [0, 1, 2] for j in range(i + 1, 15)],\n",
    "}"
   ]
  },
  {
   "cell_type": "code",
   "execution_count": null,
   "id": "2dbaada9",
   "metadata": {},
   "outputs": [],
   "source": [
    "vs = VisualizeSpet(s_spects, s_flxs, s_fpts, flxs, energies, allows)\n",
    "fig = vs.create_figure()\n",
    "fig.update_layout(\n",
    "    title=f\"EJ/EC/EL = ({sp_params[0]:.2f}, {sp_params[1]:.2f}, {sp_params[2]:.2f})\",\n",
    "    title_x=0.501,\n",
    ")\n",
    "fig.show()"
   ]
  },
  {
   "cell_type": "code",
   "execution_count": null,
   "id": "ef833d43",
   "metadata": {},
   "outputs": [],
   "source": [
    "fig.write_html(f\"../result/{qub_name}/web/spect_fit.html\")"
   ]
  },
  {
   "cell_type": "markdown",
   "id": "710c3d7b",
   "metadata": {},
   "source": [
    "# Save Parameters"
   ]
  },
  {
   "cell_type": "code",
   "execution_count": null,
   "id": "d124f845",
   "metadata": {},
   "outputs": [],
   "source": [
    "# dump the data\n",
    "savepath = f\"../result/{qub_name}/params.csv\"\n",
    "\n",
    "df = pd.DataFrame(\n",
    "    {\n",
    "        \"Qubit\": [qub_name],\n",
    "        \"Half flux\": [cflx],\n",
    "        \"Period\": [2 * abs(eflx - cflx)],\n",
    "        \"EJ\": [sp_params[0]],\n",
    "        \"EC\": [sp_params[1]],\n",
    "        \"EL\": [sp_params[2]],\n",
    "    }\n",
    ")\n",
    "\n",
    "if os.path.exists(savepath):\n",
    "    old = pd.read_csv(savepath)\n",
    "    old = old[old[\"Qubit\"] != qub_name]\n",
    "    df = pd.concat([old, df], ignore_index=True)\n",
    "df.to_csv(savepath, header=True, index=False)"
   ]
  },
  {
   "cell_type": "code",
   "execution_count": null,
   "id": "236fe1c4",
   "metadata": {},
   "outputs": [],
   "source": []
  }
 ],
 "metadata": {
  "jupytext": {
   "cell_metadata_filter": "-all",
   "formats": "ipynb,py:percent"
  },
  "kernelspec": {
   "display_name": "Python 3",
   "language": "python",
   "name": "python3"
  },
  "language_info": {
   "codemirror_mode": {
    "name": "ipython",
    "version": 3
   },
   "file_extension": ".py",
   "mimetype": "text/x-python",
   "name": "python",
   "nbconvert_exporter": "python",
   "pygments_lexer": "ipython3",
   "version": "3.13.2"
  }
 },
 "nbformat": 4,
 "nbformat_minor": 5
}
