{
 "cells": [
  {
   "cell_type": "code",
   "execution_count": null,
   "id": "8839561e",
   "metadata": {},
   "outputs": [],
   "source": [
    "%load_ext autoreload\n",
    "import os\n",
    "import h5py as h5\n",
    "import numpy as np\n",
    "import matplotlib.pyplot as plt\n",
    "\n",
    "%autoreload 2\n",
    "from zcu_tools import load_data\n",
    "from zcu_tools.analysis.fluxdep import (\n",
    "    InteractiveLines,\n",
    "    InteractiveFindPoints,\n",
    "    InteractiveSelector,\n",
    "    VisualizeSpet,\n",
    "    calculate_energy,\n",
    "    remove_close_points,\n",
    "    preprocess_data,\n",
    "    search_in_database,\n",
    "    fit_spectrum,\n",
    "    dump_result,\n",
    "    load_result,\n",
    ")"
   ]
  },
  {
   "cell_type": "code",
   "execution_count": null,
   "id": "d834a1e8",
   "metadata": {},
   "outputs": [],
   "source": [
    "qub_name = \"Sapphire150\"\n",
    "\n",
    "mA_c = None\n",
    "mA_e = None\n",
    "period = None\n",
    "s_spects = {}\n",
    "\n",
    "os.makedirs(f\"../result/{qub_name}/image\", exist_ok=True)\n",
    "os.makedirs(f\"../result/{qub_name}/web\", exist_ok=True)"
   ]
  },
  {
   "cell_type": "code",
   "execution_count": null,
   "id": "dc44677d",
   "metadata": {},
   "outputs": [],
   "source": [
    "loadpath = f\"../result/{qub_name}/params.json\"\n",
    "_, sp_params, mA_c, period, allows = load_result(loadpath)\n",
    "\n",
    "mA_e = mA_c + 0.5 * period"
   ]
  },
  {
   "cell_type": "markdown",
   "id": "caf72611",
   "metadata": {},
   "source": [
    "# Load Spectrum"
   ]
  },
  {
   "cell_type": "code",
   "execution_count": null,
   "id": "04e0afc8",
   "metadata": {},
   "outputs": [],
   "source": [
    "spect_path = \"../Database/Sapphire150/Sapphire150_TwoTone_flux_007.hdf5\"\n",
    "spectrum, fpts, mAs = load_data(spect_path, server_ip=\"100.105.52.95\", port=4999)\n",
    "mAs, fpts, spectrum = preprocess_data(mAs, fpts, spectrum)\n",
    "\n",
    "s_spectrum = np.abs(spectrum - np.mean(spectrum, axis=0, keepdims=True))\n",
    "s_spectrum /= np.std(s_spectrum, axis=0, keepdims=True)"
   ]
  },
  {
   "cell_type": "code",
   "execution_count": null,
   "id": "3b04823d",
   "metadata": {},
   "outputs": [],
   "source": [
    "%matplotlib widget\n",
    "actLine = InteractiveLines(s_spectrum, mAs, fpts, mA_c, mA_e)"
   ]
  },
  {
   "cell_type": "code",
   "execution_count": null,
   "id": "240c6e16",
   "metadata": {},
   "outputs": [],
   "source": [
    "mA_c, mA_e = actLine.get_positions()\n",
    "period = 2 * abs(mA_e - mA_c)\n",
    "\n",
    "mA_c, mA_e, period"
   ]
  },
  {
   "cell_type": "code",
   "execution_count": null,
   "id": "37b37cca",
   "metadata": {},
   "outputs": [],
   "source": [
    "%matplotlib widget\n",
    "actSel = InteractiveFindPoints(spectrum, mAs, fpts, threshold=5.0)"
   ]
  },
  {
   "cell_type": "code",
   "execution_count": null,
   "id": "3b452a78",
   "metadata": {},
   "outputs": [],
   "source": [
    "ss_mAs, ss_fpts = actSel.get_positions()"
   ]
  },
  {
   "cell_type": "code",
   "execution_count": null,
   "id": "191a53cc",
   "metadata": {},
   "outputs": [],
   "source": [
    "name = spect_path.split(\"/\")[-1]\n",
    "s_spects.update(\n",
    "    {\n",
    "        name: {\n",
    "            \"mA_c\": mA_c,\n",
    "            \"period\": period,\n",
    "            \"spectrum\": {\n",
    "                \"mAs\": mAs,\n",
    "                \"fpts\": fpts,\n",
    "                \"data\": spectrum,\n",
    "            },\n",
    "            \"points\": {\n",
    "                \"mAs\": ss_mAs,\n",
    "                \"fpts\": ss_fpts,\n",
    "            },\n",
    "        }\n",
    "    }\n",
    ")\n",
    "s_spects.keys()"
   ]
  },
  {
   "cell_type": "markdown",
   "id": "ad499474",
   "metadata": {},
   "source": [
    "# Save & Load"
   ]
  },
  {
   "cell_type": "code",
   "execution_count": null,
   "id": "de7d3769",
   "metadata": {},
   "outputs": [],
   "source": [
    "# for val in s_spects.values():  # swap mA_c and mA_e\n",
    "#     val[\"mA_c\"] = mA_c + 0.5 * period"
   ]
  },
  {
   "cell_type": "code",
   "execution_count": null,
   "id": "963d19f9",
   "metadata": {},
   "outputs": [],
   "source": [
    "save_path = f\"../result/{qub_name}/spect.hdf5\"\n",
    "os.makedirs(os.path.dirname(save_path), exist_ok=True)\n",
    "with h5.File(save_path, \"x\") as f:\n",
    "    for path, val in s_spects.items():\n",
    "        grp = f.create_group(path)\n",
    "        grp.create_dataset(\"mA_c\", data=val[\"mA_c\"])\n",
    "        grp.create_dataset(\"period\", data=val[\"period\"])\n",
    "        spect_grp = grp.create_group(\"spectrum\")\n",
    "        spect_grp.create_dataset(\"mAs\", data=val[\"spectrum\"][\"mAs\"])\n",
    "        spect_grp.create_dataset(\"fpts\", data=val[\"spectrum\"][\"fpts\"])\n",
    "        spect_grp.create_dataset(\"data\", data=val[\"spectrum\"][\"data\"])\n",
    "        points_grp = grp.create_group(\"points\")\n",
    "        points_grp.create_dataset(\"mAs\", data=val[\"points\"][\"mAs\"])\n",
    "        points_grp.create_dataset(\"fpts\", data=val[\"points\"][\"fpts\"])"
   ]
  },
  {
   "cell_type": "code",
   "execution_count": null,
   "id": "9ac3e2f6",
   "metadata": {},
   "outputs": [],
   "source": [
    "load_path = f\"../result/{qub_name}/spect.hdf5\"\n",
    "s_spects = {}\n",
    "with h5.File(load_path, \"r\") as f:\n",
    "    for key in f.keys():\n",
    "        grp = f[key]\n",
    "        _mA_c = grp[\"mA_c\"][()]\n",
    "        _period = grp[\"period\"][()]\n",
    "        s_spects.update(\n",
    "            {\n",
    "                key: {\n",
    "                    \"mA_c\": _mA_c,\n",
    "                    \"period\": _period,\n",
    "                    \"spectrum\": {\n",
    "                        \"mAs\": grp[\"spectrum\"][\"mAs\"][()],\n",
    "                        \"fpts\": grp[\"spectrum\"][\"fpts\"][()],\n",
    "                        \"data\": grp[\"spectrum\"][\"data\"][()],\n",
    "                    },\n",
    "                    \"points\": {\n",
    "                        \"mAs\": grp[\"points\"][\"mAs\"][()],\n",
    "                        \"fpts\": grp[\"points\"][\"fpts\"][()],\n",
    "                    },\n",
    "                }\n",
    "            }\n",
    "        )\n",
    "s_spects.keys()"
   ]
  },
  {
   "cell_type": "markdown",
   "id": "b9538bfb",
   "metadata": {},
   "source": [
    "# Align half flux"
   ]
  },
  {
   "cell_type": "code",
   "execution_count": null,
   "id": "3fe72783",
   "metadata": {},
   "outputs": [],
   "source": [
    "mA_c = list(s_spects.values())[-1][\"mA_c\"]\n",
    "period = list(s_spects.values())[-1][\"period\"]\n",
    "for spect in s_spects.values():\n",
    "    shift = mA_c - spect[\"mA_c\"]\n",
    "    spect[\"mA_c\"] += shift\n",
    "    spect[\"spectrum\"][\"mAs\"] += shift\n",
    "    spect[\"points\"][\"mAs\"] += shift"
   ]
  },
  {
   "cell_type": "code",
   "execution_count": null,
   "id": "9d7d5ad7",
   "metadata": {},
   "outputs": [],
   "source": [
    "mA_bound = (\n",
    "    np.nanmin([np.nanmin(s[\"spectrum\"][\"mAs\"]) for s in s_spects.values()]),\n",
    "    np.nanmax([np.nanmax(s[\"spectrum\"][\"mAs\"]) for s in s_spects.values()]),\n",
    ")\n",
    "fpt_bound = (\n",
    "    np.nanmin([np.nanmin(s[\"spectrum\"][\"fpts\"]) for s in s_spects.values()]),\n",
    "    np.nanmax([np.nanmax(s[\"spectrum\"][\"fpts\"]) for s in s_spects.values()]),\n",
    ")\n",
    "sp_selected = None\n",
    "t_mAs = np.linspace(mA_bound[0], mA_bound[1], 1000)\n",
    "t_fpts = np.linspace(fpt_bound[0], fpt_bound[1], 1000)\n",
    "t_flxs = (t_mAs - mA_c) / period"
   ]
  },
  {
   "cell_type": "markdown",
   "id": "0fde44da",
   "metadata": {},
   "source": [
    "# Manual Remove Points"
   ]
  },
  {
   "cell_type": "code",
   "execution_count": null,
   "id": "14c604bb",
   "metadata": {},
   "outputs": [],
   "source": [
    "%matplotlib widget\n",
    "intSel = InteractiveSelector(s_spects, selected=sp_selected)"
   ]
  },
  {
   "cell_type": "code",
   "execution_count": null,
   "id": "28b4f31f",
   "metadata": {},
   "outputs": [],
   "source": [
    "sp_flxs, sp_fpts, sp_selected = intSel.get_positions()"
   ]
  },
  {
   "cell_type": "code",
   "execution_count": null,
   "id": "90dddbb6",
   "metadata": {},
   "outputs": [],
   "source": [
    "# # load selected data\n",
    "# loadpath = f\"../result/{qub_name}/selected.npz\"\n",
    "# with np.load(loadpath) as data:\n",
    "#     sp_flxs = data[\"flxs\"]\n",
    "#     sp_fpts = data[\"fpts\"]\n",
    "#     sp_selected = data[\"selected\"]"
   ]
  },
  {
   "cell_type": "code",
   "execution_count": null,
   "id": "63ab45d9",
   "metadata": {},
   "outputs": [],
   "source": [
    "s_flxs, s_fpts = remove_close_points(sp_flxs, sp_fpts, min_fpt_dist=10e-3)\n",
    "\n",
    "print(s_flxs.shape, sp_fpts.shape)\n",
    "\n",
    "fig, ax = plt.subplots()\n",
    "ax.scatter(s_flxs, s_fpts, s=1)\n",
    "plt.show()"
   ]
  },
  {
   "cell_type": "markdown",
   "id": "0438429a",
   "metadata": {},
   "source": [
    "# Fitting range"
   ]
  },
  {
   "cell_type": "code",
   "execution_count": null,
   "id": "45b6e804",
   "metadata": {},
   "outputs": [],
   "source": [
    "# EJb = (1.0, 6.0)\n",
    "# ECb = (0.8, 2.0)\n",
    "# ELb = (0.01, 0.2)\n",
    "# EJb = (3.0, 15.0)\n",
    "# ECb = (0.2, 2.0)\n",
    "# ELb = (0.5, 2.0)\n",
    "EJb = (1.0, 20.0)\n",
    "ECb = (0.1, 4.0)\n",
    "ELb = (0.01, 3.0)"
   ]
  },
  {
   "cell_type": "markdown",
   "id": "95966671",
   "metadata": {},
   "source": [
    "# Search in Database"
   ]
  },
  {
   "cell_type": "code",
   "execution_count": null,
   "id": "808570ff",
   "metadata": {},
   "outputs": [],
   "source": [
    "allows = {\n",
    "    \"transitions\": [(0, 2), (0, 3), (0, 4), (1, 4), (1, 5), (1, 6), (2, 7)],\n",
    "}\n",
    "allows = {\n",
    "    **allows,\n",
    "    # \"transitions\": [(i, j) for i in (0, 1, 2) for j in range(5) if i < j],\n",
    "    # \"red side\": [(i, j) for i in (0, 1, 2) for j in range(8) if i < j],\n",
    "    # \"blue side\": [(i, j) for i in (0, 1, 2) for j in range(8) if i < j],\n",
    "    # \"mirror\": [(i, j) for i in (0, 1, 2) for j in range(8) if i < j],\n",
    "    # \"transitions2\": [(i, j) for i in (0, 1, 2) for j in range(5) if i < j],\n",
    "    # \"red side2\": [(i, j) for i in (0, 1, 2) for j in range(8) if i < j],\n",
    "    # \"blue side2\": [(i, j) for i in (0, 1, 2) for j in range(8) if i < j],\n",
    "    # \"mirror2\": [(i, j) for i in (0, 1, 2) for j in range(8) if i < j],\n",
    "}"
   ]
  },
  {
   "cell_type": "code",
   "execution_count": null,
   "id": "75211d85",
   "metadata": {
    "lines_to_next_cell": 2
   },
   "outputs": [],
   "source": [
    "best_params, fig = search_in_database(\n",
    "    s_flxs, s_fpts, \"../Database/simulation/fluxonium_all.h5\", allows, EJb, ECb, ELb\n",
    ")\n",
    "fig.savefig(f\"../result/{qub_name}/image/search_result.png\")"
   ]
  },
  {
   "cell_type": "code",
   "execution_count": null,
   "id": "be33fcf8",
   "metadata": {},
   "outputs": [],
   "source": [
    "energies = calculate_energy(t_flxs, *best_params, cutoff=40, evals_count=15)"
   ]
  },
  {
   "cell_type": "code",
   "execution_count": null,
   "id": "6dd66e1c",
   "metadata": {},
   "outputs": [],
   "source": [
    "v_allows = {\n",
    "    **allows,\n",
    "    \"transitions\": [(i, j) for i in (0, 1, 2) for j in range(i + 1, 15)],\n",
    "    \"transitions2\": [(i, j) for i in [0, 1, 2] for j in range(i + 1, 15)],\n",
    "    # \"blue side\": [(i, j) for i in [0, 1, 2] for j in range(i + 1, 15)],\n",
    "    # \"blue side2\": [(i, j) for i in [0, 1, 2] for j in range(i + 1, 15)],\n",
    "    # \"red side\": [(i, j) for i in [0, 1, 2] for j in range(i + 1, 15)],\n",
    "    # \"red side2\": [(i, j) for i in [0, 1, 2] for j in range(i + 1, 15)],\n",
    "}\n",
    "\n",
    "vs = VisualizeSpet(\n",
    "    s_spects, s_flxs, s_fpts, t_flxs, energies, v_allows, auto_hide=False\n",
    ")\n",
    "fig = vs.create_figure()\n",
    "fig.update_layout(\n",
    "    title=f\"EJ/EC/EL = ({best_params[0]:.2f}, {best_params[1]:.2f}, {best_params[2]:.2f})\",\n",
    "    title_x=0.5,\n",
    ")\n",
    "fig.show()"
   ]
  },
  {
   "cell_type": "markdown",
   "id": "6cc9f5f9",
   "metadata": {},
   "source": [
    "# Scipy Optimization"
   ]
  },
  {
   "cell_type": "code",
   "execution_count": null,
   "id": "f361cf6e",
   "metadata": {},
   "outputs": [],
   "source": [
    "# fit the spectrumData\n",
    "sp_params = fit_spectrum(s_flxs, s_fpts, best_params, allows, (EJb, ECb, ELb))\n",
    "\n",
    "# print the results\n",
    "print(\"Fitted params:\", *sp_params)"
   ]
  },
  {
   "cell_type": "code",
   "execution_count": null,
   "id": "56f1996c",
   "metadata": {},
   "outputs": [],
   "source": [
    "energies = calculate_energy(t_flxs, *sp_params, 40, 15)"
   ]
  },
  {
   "cell_type": "code",
   "execution_count": null,
   "id": "2dbaada9",
   "metadata": {},
   "outputs": [],
   "source": [
    "v_allows = {\n",
    "    **allows,\n",
    "    \"transitions\": [(i, j) for i in [0, 1, 2] for j in range(i + 1, 15)],\n",
    "    \"transitions2\": [(i, j) for i in [0, 1, 2] for j in range(i + 1, 15)],\n",
    "    # \"blue side\": [(i, j) for i in [0, 1, 2] for j in range(i + 1, 15)],\n",
    "    # \"red side\": [(i, j) for i in [0, 1, 2] for j in range(i + 1, 15)],\n",
    "}\n",
    "\n",
    "vs = VisualizeSpet(s_spects, s_flxs, s_fpts, t_flxs, energies, v_allows, auto_hide=True)\n",
    "fig = vs.create_figure()\n",
    "fig.update_layout(\n",
    "    title=f\"EJ/EC/EL = ({sp_params[0]:.4f}, {sp_params[1]:.4f}, {sp_params[2]:.4f})\",\n",
    "    title_x=0.501,\n",
    ")\n",
    "fig.show()"
   ]
  },
  {
   "cell_type": "markdown",
   "id": "710c3d7b",
   "metadata": {},
   "source": [
    "# Save Parameters"
   ]
  },
  {
   "cell_type": "code",
   "execution_count": null,
   "id": "ef833d43",
   "metadata": {},
   "outputs": [],
   "source": [
    "fig.write_html(f\"../result/{qub_name}/web/spect_fit.html\", include_plotlyjs=\"cdn\")\n",
    "fig.write_image(f\"../result/{qub_name}/image/spect_fit.png\", format=\"png\")"
   ]
  },
  {
   "cell_type": "code",
   "execution_count": null,
   "id": "d124f845",
   "metadata": {},
   "outputs": [],
   "source": [
    "# dump the data\n",
    "savepath = f\"../result/{qub_name}/params.json\"\n",
    "\n",
    "dump_result(savepath, qub_name, sp_params, mA_c, period, allows)"
   ]
  },
  {
   "cell_type": "code",
   "execution_count": null,
   "id": "44d39474",
   "metadata": {},
   "outputs": [],
   "source": [
    "savepath = f\"../result/{qub_name}/selected.npz\"\n",
    "\n",
    "np.savez(savepath, flxs=sp_flxs, fpts=sp_fpts, selected=sp_selected)"
   ]
  },
  {
   "cell_type": "code",
   "execution_count": null,
   "id": "407d0eab",
   "metadata": {},
   "outputs": [],
   "source": []
  }
 ],
 "metadata": {
  "jupytext": {
   "cell_metadata_filter": "-all",
   "formats": "ipynb,py:percent"
  },
  "kernelspec": {
   "display_name": "Python 3",
   "language": "python",
   "name": "python3"
  },
  "language_info": {
   "codemirror_mode": {
    "name": "ipython",
    "version": 3
   },
   "file_extension": ".py",
   "mimetype": "text/x-python",
   "name": "python",
   "nbconvert_exporter": "python",
   "pygments_lexer": "ipython3",
   "version": "3.13.2"
  }
 },
 "nbformat": 4,
 "nbformat_minor": 5
}
