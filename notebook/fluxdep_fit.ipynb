{
 "cells": [
  {
   "cell_type": "code",
   "execution_count": null,
   "id": "8839561e",
   "metadata": {},
   "outputs": [],
   "source": [
    "%load_ext autoreload\n",
    "import os\n",
    "import h5py as h5\n",
    "import numpy as np\n",
    "\n",
    "%autoreload 2\n",
    "from zcu_tools import load_data  # noqa: E402\n",
    "from zcu_tools.analysis.fluxdep import (  # noqa: E402\n",
    "    InteractiveLines,\n",
    "    InteractiveSelector,\n",
    "    VisualizeSpet,\n",
    "    calculate_energy,\n",
    "    preprocess_data,\n",
    "    search_in_database,\n",
    "    fit_spectrum,\n",
    "    dump_result,\n",
    "    load_result,\n",
    ")"
   ]
  },
  {
   "cell_type": "code",
   "execution_count": null,
   "id": "d834a1e8",
   "metadata": {},
   "outputs": [],
   "source": [
    "qub_name = \"2DQ9/Q5\"\n",
    "\n",
    "cflx = None\n",
    "eflx = None\n",
    "period = None\n",
    "s_spects = {}\n",
    "\n",
    "os.makedirs(f\"../result/{qub_name}/image\", exist_ok=True)\n",
    "os.makedirs(f\"../result/{qub_name}/web\", exist_ok=True)"
   ]
  },
  {
   "cell_type": "code",
   "execution_count": null,
   "id": "dc44677d",
   "metadata": {},
   "outputs": [],
   "source": [
    "loadpath = f\"../result/{qub_name}/params.json\"\n",
    "_, sp_params, cflx, period, allows = load_result(loadpath)\n",
    "\n",
    "eflx = cflx + 0.5 * period"
   ]
  },
  {
   "cell_type": "markdown",
   "id": "caf72611",
   "metadata": {},
   "source": [
    "# Load Spectrum"
   ]
  },
  {
   "cell_type": "code",
   "execution_count": null,
   "id": "04e0afc8",
   "metadata": {},
   "outputs": [],
   "source": [
    "spect_path = \"../Database/DT008/2025/03/Data_0318/DT008_TwoTone_flux_002.hdf5\"\n",
    "spectrum, fpts, mAs = load_data(spect_path, server_ip=\"100.105.52.95\", port=4999)\n",
    "mAs, fpts, spectrum = preprocess_data(mAs, fpts, spectrum)\n",
    "\n",
    "s_spectrum = np.abs(spectrum - np.mean(spectrum, axis=0, keepdims=True))\n",
    "s_spectrum /= np.std(s_spectrum, axis=0, keepdims=True)"
   ]
  },
  {
   "cell_type": "code",
   "execution_count": null,
   "id": "3b04823d",
   "metadata": {},
   "outputs": [],
   "source": [
    "%matplotlib widget\n",
    "actLine = InteractiveLines(s_spectrum, mAs, fpts, cflx, eflx)"
   ]
  },
  {
   "cell_type": "code",
   "execution_count": null,
   "id": "240c6e16",
   "metadata": {},
   "outputs": [],
   "source": [
    "cflx, eflx = actLine.get_positions()\n",
    "period = 2 * abs(eflx - cflx)\n",
    "flxs = (mAs - cflx) / period + 0.5\n",
    "\n",
    "cflx, eflx, period"
   ]
  },
  {
   "cell_type": "code",
   "execution_count": null,
   "id": "37b37cca",
   "metadata": {},
   "outputs": [],
   "source": [
    "%matplotlib widget\n",
    "actSel = InteractiveSelector(spectrum, flxs, fpts, threshold=5.0)"
   ]
  },
  {
   "cell_type": "code",
   "execution_count": null,
   "id": "110fab80",
   "metadata": {},
   "outputs": [],
   "source": [
    "s_flxs, s_fpts = actSel.get_positions()"
   ]
  },
  {
   "cell_type": "code",
   "execution_count": null,
   "id": "191a53cc",
   "metadata": {},
   "outputs": [],
   "source": [
    "name = spect_path.split(\"/\")[-1]\n",
    "s_spects.update(\n",
    "    {\n",
    "        name: {\n",
    "            \"cflx\": cflx,\n",
    "            \"spectrum\": (flxs, fpts, spectrum),\n",
    "            \"points\": (s_flxs, s_fpts),\n",
    "        }\n",
    "    }\n",
    ")\n",
    "s_spects.keys()"
   ]
  },
  {
   "cell_type": "markdown",
   "id": "ad499474",
   "metadata": {},
   "source": [
    "# Save & Load"
   ]
  },
  {
   "cell_type": "code",
   "execution_count": null,
   "id": "963d19f9",
   "metadata": {},
   "outputs": [],
   "source": [
    "save_path = f\"../result/{qub_name}/spect.hdf5\"\n",
    "os.makedirs(os.path.dirname(save_path), exist_ok=True)\n",
    "with h5.File(save_path, \"x\") as f:\n",
    "    for path, val in s_spects.items():\n",
    "        grp = f.create_group(path)\n",
    "        grp.create_dataset(\"cflx\", data=val[\"cflx\"])\n",
    "        spect_grp = grp.create_group(\"spectrum\")\n",
    "        spect_grp.create_dataset(\"flxs\", data=val[\"spectrum\"][0])\n",
    "        spect_grp.create_dataset(\"fpts\", data=val[\"spectrum\"][1])\n",
    "        spect_grp.create_dataset(\"data\", data=val[\"spectrum\"][2])\n",
    "        points_grp = grp.create_group(\"points\")\n",
    "        points_grp.create_dataset(\"flxs\", data=val[\"points\"][0])\n",
    "        points_grp.create_dataset(\"fpts\", data=val[\"points\"][1])"
   ]
  },
  {
   "cell_type": "code",
   "execution_count": null,
   "id": "9ac3e2f6",
   "metadata": {},
   "outputs": [],
   "source": [
    "load_path = f\"../result/{qub_name}/spect.hdf5\"\n",
    "s_spects = {}\n",
    "with h5.File(load_path, \"r\") as f:\n",
    "    for key in f.keys():\n",
    "        grp = f[key]\n",
    "        cflx = grp[\"cflx\"][()]\n",
    "        spectrum = (\n",
    "            grp[\"spectrum\"][\"flxs\"][()],\n",
    "            grp[\"spectrum\"][\"fpts\"][()],\n",
    "            grp[\"spectrum\"][\"data\"][()],\n",
    "        )\n",
    "        points = (grp[\"points\"][\"flxs\"][()], grp[\"points\"][\"fpts\"][()])\n",
    "        s_spects.update({key: {\"cflx\": cflx, \"spectrum\": spectrum, \"points\": points}})\n",
    "s_spects.keys()"
   ]
  },
  {
   "cell_type": "markdown",
   "id": "b9538bfb",
   "metadata": {},
   "source": [
    "# Align cflx"
   ]
  },
  {
   "cell_type": "code",
   "execution_count": null,
   "id": "3fe72783",
   "metadata": {},
   "outputs": [],
   "source": [
    "t_cflx = list(s_spects.values())[-1][\"cflx\"]\n",
    "for spect in s_spects.values():\n",
    "    shift = t_cflx - spect[\"cflx\"]\n",
    "    spect[\"cflx\"] += shift\n",
    "    spect[\"spectrum\"] = (spect[\"spectrum\"][0] + shift, *spect[\"spectrum\"][1:])\n",
    "    spect[\"points\"] = (spect[\"points\"][0] + shift, *spect[\"points\"][1:])"
   ]
  },
  {
   "cell_type": "code",
   "execution_count": null,
   "id": "9d7d5ad7",
   "metadata": {},
   "outputs": [],
   "source": [
    "s_flxs = np.concatenate([s_spects[k][\"points\"][0] for k in s_spects.keys()])\n",
    "s_fpts = np.concatenate([s_spects[k][\"points\"][1] for k in s_spects.keys()])\n",
    "flx_bound = (\n",
    "    np.nanmin([np.nanmin(s_spects[k][\"spectrum\"][0]) for k in s_spects.keys()]),\n",
    "    np.nanmax([np.nanmax(s_spects[k][\"spectrum\"][0]) for k in s_spects.keys()]),\n",
    ")\n",
    "flxs = np.linspace(flx_bound[0], flx_bound[1], 500)\n",
    "fpt_bound = (\n",
    "    np.nanmin([np.nanmin(s_spects[k][\"spectrum\"][1]) for k in s_spects.keys()]),\n",
    "    np.nanmax([np.nanmax(s_spects[k][\"spectrum\"][1]) for k in s_spects.keys()]),\n",
    ")\n",
    "fpts = np.linspace(fpt_bound[0], fpt_bound[1], 500)"
   ]
  },
  {
   "cell_type": "markdown",
   "id": "0438429a",
   "metadata": {},
   "source": [
    "# Fitting range"
   ]
  },
  {
   "cell_type": "code",
   "execution_count": null,
   "id": "45b6e804",
   "metadata": {},
   "outputs": [],
   "source": [
    "# EJb = (1.0, 6.0)\n",
    "# ECb = (0.8, 2.0)\n",
    "# ELb = (0.01, 0.2)\n",
    "EJb = (3.0, 15.0)\n",
    "ECb = (0.2, 2.0)\n",
    "ELb = (0.5, 2.0)"
   ]
  },
  {
   "cell_type": "markdown",
   "id": "95966671",
   "metadata": {},
   "source": [
    "# Search in Database"
   ]
  },
  {
   "cell_type": "code",
   "execution_count": null,
   "id": "808570ff",
   "metadata": {},
   "outputs": [],
   "source": [
    "allows = {}\n",
    "allows = {\n",
    "    **allows,\n",
    "    # \"transitions\": [(i, j) for i in (0, 1, 2) for j in range(8) if i < j],\n",
    "    # \"red side\": [(i, j) for i in (0, 1, 2) for j in range(8) if i < j],\n",
    "    # \"blue side\": [(i, j) for i in (0, 1, 2) for j in range(8) if i < j],\n",
    "    # \"mirror\": [(i, j) for i in (0, 1, 2) for j in range(8) if i < j],\n",
    "    # \"transitions2\": [(i, j) for i in (0, 1, 2) for j in range(8) if i < j],\n",
    "    # \"red side2\": [(i, j) for i in (0, 1, 2) for j in range(8) if i < j],\n",
    "    # \"blue side2\": [(i, j) for i in (0, 1, 2) for j in range(8) if i < j],\n",
    "    # \"mirror2\": [(i, j) for i in (0, 1, 2) for j in range(8) if i < j],\n",
    "}"
   ]
  },
  {
   "cell_type": "code",
   "execution_count": null,
   "id": "75211d85",
   "metadata": {
    "lines_to_next_cell": 2
   },
   "outputs": [],
   "source": [
    "best_params, fig = search_in_database(\n",
    "    s_flxs, s_fpts, \"../Database/simulation/fluxonium_1.h5\", allows, EJb, ECb, ELb\n",
    ")\n",
    "fig.savefig(f\"../result/{qub_name}/image/search_result.png\")"
   ]
  },
  {
   "cell_type": "code",
   "execution_count": null,
   "id": "be33fcf8",
   "metadata": {},
   "outputs": [],
   "source": [
    "energies = calculate_energy(flxs, *best_params, cutoff=40, evals_count=15)"
   ]
  },
  {
   "cell_type": "code",
   "execution_count": null,
   "id": "6dd66e1c",
   "metadata": {},
   "outputs": [],
   "source": [
    "v_allows = {\n",
    "    **allows,\n",
    "    # \"transitions\": [(0, 3), (0, 2), (0, 4), (1, 2), (1, 3), (1, 5), (2, 5)],\n",
    "    # \"red side\": [(2, 3), (1, 3)],\n",
    "    # \"transitions\": [(i, j) for i in (0, 1, 2) for j in range(i + 1, 15)],\n",
    "    # \"transitions2\": [(i, j) for i in [0, 1, 2] for j in range(i + 1, 15)],\n",
    "    # \"blue side\": [(i, j) for i in [0, 1, 2] for j in range(i + 1, 15)],\n",
    "    # \"blue side2\": [(i, j) for i in [0, 1, 2] for j in range(i + 1, 15)],\n",
    "    # \"red side\": [(i, j) for i in [0, 1, 2] for j in range(i + 1, 15)],\n",
    "    # \"red side2\": [(i, j) for i in [0, 1, 2] for j in range(i + 1, 15)],\n",
    "}\n",
    "\n",
    "vs = VisualizeSpet(s_spects, s_flxs, s_fpts, flxs, energies, v_allows, auto_hide=True)\n",
    "fig = vs.create_figure()\n",
    "fig.update_layout(\n",
    "    title=f\"EJ/EC/EL = ({best_params[0]:.2f}, {best_params[1]:.2f}, {best_params[2]:.2f})\",\n",
    "    title_x=0.5,\n",
    ")\n",
    "fig.show()"
   ]
  },
  {
   "cell_type": "markdown",
   "id": "6cc9f5f9",
   "metadata": {},
   "source": [
    "# Scipy Optimization"
   ]
  },
  {
   "cell_type": "code",
   "execution_count": null,
   "id": "f361cf6e",
   "metadata": {},
   "outputs": [],
   "source": [
    "# fit the spectrumData\n",
    "sp_params = fit_spectrum(s_flxs, s_fpts, best_params, allows, (EJb, ECb, ELb))\n",
    "\n",
    "# print the results\n",
    "print(\"Fitted params:\", *sp_params)"
   ]
  },
  {
   "cell_type": "code",
   "execution_count": null,
   "id": "56f1996c",
   "metadata": {},
   "outputs": [],
   "source": [
    "energies = calculate_energy(flxs, *sp_params, 40, 15)"
   ]
  },
  {
   "cell_type": "code",
   "execution_count": null,
   "id": "2dbaada9",
   "metadata": {},
   "outputs": [],
   "source": [
    "v_allows = {\n",
    "    **allows,\n",
    "    # \"transitions\": [(i, j) for i in [0, 1, 2] for j in range(i + 1, 15)],\n",
    "    # \"transitions2\": [(i, j) for i in [0, 1, 2] for j in range(i + 1, 15)],\n",
    "    # \"blue side\": [(i, j) for i in [0, 1, 2] for j in range(i + 1, 15)],\n",
    "    # \"red side\": [(i, j) for i in [0, 1, 2] for j in range(i + 1, 15)],\n",
    "}\n",
    "\n",
    "vs = VisualizeSpet(s_spects, s_flxs, s_fpts, flxs, energies, v_allows, auto_hide=True)\n",
    "fig = vs.create_figure()\n",
    "fig.update_layout(\n",
    "    title=f\"EJ/EC/EL = ({sp_params[0]:.2f}, {sp_params[1]:.2f}, {sp_params[2]:.2f})\",\n",
    "    title_x=0.501,\n",
    ")\n",
    "fig.show()"
   ]
  },
  {
   "cell_type": "markdown",
   "id": "710c3d7b",
   "metadata": {},
   "source": [
    "# Save Parameters"
   ]
  },
  {
   "cell_type": "code",
   "execution_count": null,
   "id": "ef833d43",
   "metadata": {},
   "outputs": [],
   "source": [
    "fig.write_html(f\"../result/{qub_name}/web/spect_fit.html\", include_plotlyjs=\"cdn\")\n",
    "fig.write_image(f\"../result/{qub_name}/image/spect_fit.png\", format=\"png\")"
   ]
  },
  {
   "cell_type": "code",
   "execution_count": null,
   "id": "d124f845",
   "metadata": {},
   "outputs": [],
   "source": [
    "# dump the data\n",
    "savepath = f\"../result/{qub_name}/params.json\"\n",
    "\n",
    "dump_result(savepath, qub_name, sp_params, cflx, period, allows)"
   ]
  },
  {
   "cell_type": "code",
   "execution_count": null,
   "id": "44d39474",
   "metadata": {},
   "outputs": [],
   "source": []
  }
 ],
 "metadata": {
  "jupytext": {
   "cell_metadata_filter": "-all",
   "formats": "ipynb,py:percent"
  },
  "kernelspec": {
   "display_name": "Python 3",
   "language": "python",
   "name": "python3"
  },
  "language_info": {
   "codemirror_mode": {
    "name": "ipython",
    "version": 3
   },
   "file_extension": ".py",
   "mimetype": "text/x-python",
   "name": "python",
   "nbconvert_exporter": "python",
   "pygments_lexer": "ipython3",
   "version": "3.13.2"
  }
 },
 "nbformat": 4,
 "nbformat_minor": 5
}
