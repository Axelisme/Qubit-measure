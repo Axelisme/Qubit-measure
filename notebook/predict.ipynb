{
 "cells": [
  {
   "cell_type": "code",
   "execution_count": null,
   "metadata": {},
   "outputs": [],
   "source": [
    "%matplotlib widget\n",
    "import scqubits as scq\n",
    "import numpy as np"
   ]
  },
  {
   "cell_type": "code",
   "execution_count": null,
   "metadata": {},
   "outputs": [],
   "source": [
    "fluxonium =  scq.Fluxonium(4.67, 0.78, 1.26, flux = 0.5, cutoff = 30, truncated_dim=5)\n",
    "resonator = scq.Oscillator(5.8825,truncated_dim=5)\n",
    "hilbertspace = scq.HilbertSpace([fluxonium,resonator])\n",
    "hilbertspace.add_interaction(\n",
    "    g = 0.034,\n",
    "    op1 = fluxonium.n_operator,\n",
    "    op2 = resonator.creation_operator,\n",
    "    add_hc = True\n",
    ")"
   ]
  },
  {
   "cell_type": "code",
   "execution_count": null,
   "metadata": {},
   "outputs": [],
   "source": [
    "param_name = r'$Φ_{ext}/Φ_0$'\n",
    "param_vals = np.linspace(0,0.6,1001)\n",
    "\n",
    "def update_hilbertspace(flux):\n",
    "    fluxonium.flux = flux\n",
    "\n",
    "sweep = scq.ParameterSweep(\n",
    "    hilbertspace,\n",
    "    {param_name: param_vals},\n",
    "    update_hilbertspace= update_hilbertspace,\n",
    "    evals_count = 20,\n",
    "    subsys_update_info={param_name:[fluxonium]}\n",
    ")"
   ]
  },
  {
   "cell_type": "code",
   "execution_count": null,
   "metadata": {},
   "outputs": [],
   "source": [
    "figure = (sweep[\"chi\"][\"subsys1\":0, \"subsys2\":1][:, 1]*1e3).plot(xlim=([0.0,0.55]), ylabel=r'$χ_{01}$ (MHz)')"
   ]
  },
  {
   "cell_type": "code",
   "execution_count": null,
   "metadata": {},
   "outputs": [],
   "source": [
    "fluxonium.flux = 0.5\n",
    "scq.settings.T1_DEFAULT_WARNING = False\n",
    "T1_eff = fluxonium.t1_effective(i=0,j=1)*1e-9\n",
    "print(f\"{T1_eff:.3e} s\")"
   ]
  },
  {
   "cell_type": "code",
   "execution_count": null,
   "metadata": {},
   "outputs": [],
   "source": [
    "T1_eff_fig, T1_eff_ax = fluxonium.plot_t1_effective_vs_paramvals(\n",
    "    param_name='flux',\n",
    "    param_vals=np.linspace(0, 1, 501),\n",
    "    xlim=([0, 1]),\n",
    "    common_noise_options=dict(i=1, j=0, T = 0.07)\n",
    ")\n",
    "T1_eff_fig.show()"
   ]
  },
  {
   "cell_type": "code",
   "execution_count": null,
   "metadata": {},
   "outputs": [],
   "source": [
    "_ = fluxonium.plot_coherence_vs_paramvals(\n",
    "    param_name='flux',\n",
    "    param_vals=np.linspace(0, 1, 501),\n",
    "    common_noise_options=dict(i=1,j=0,T = 0.015)\n",
    ")"
   ]
  },
  {
   "cell_type": "code",
   "execution_count": null,
   "metadata": {},
   "outputs": [],
   "source": []
  }
 ],
 "metadata": {
  "kernelspec": {
   "display_name": "Python 3",
   "language": "python",
   "name": "python3"
  },
  "language_info": {
   "codemirror_mode": {
    "name": "ipython",
    "version": 3
   },
   "file_extension": ".py",
   "mimetype": "text/x-python",
   "name": "python",
   "nbconvert_exporter": "python",
   "pygments_lexer": "ipython3",
   "version": "3.13.2"
  },
  "orig_nbformat": 4
 },
 "nbformat": 4,
 "nbformat_minor": 2
}
