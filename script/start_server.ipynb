{
 "cells": [
  {
   "cell_type": "code",
   "execution_count": null,
   "id": "0732127f",
   "metadata": {},
   "outputs": [],
   "source": [
    "import os\n",
    "import sys\n",
    "import threading\n",
    "import time\n",
    "\n",
    "# sys.path.append(\"../qick/qick_lib/\")\n",
    "\n",
    "from zcu_tools.remote.pyro import start_nameserver, start_server  # noqa\n",
    "\n",
    "ns_t = threading.Thread(target=start_nameserver, kwargs=dict(ns_port=8887), daemon=True)\n",
    "ns_t.start()\n",
    "time.sleep(2)  # wait for the nameserver to start up\n",
    "\n",
    "\n",
    "# start the qick proxy server\n",
    "start_server(port=8080, ns_port=8887, version=\"v2\", iface=\"eth0\")"
   ]
  }
 ],
 "metadata": {
  "language_info": {
   "name": "python"
  }
 },
 "nbformat": 4,
 "nbformat_minor": 5
}
